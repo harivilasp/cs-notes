{
 "cells": [
  {
   "cell_type": "markdown",
   "metadata": {},
   "source": [
    "# Python Collections (Arrays)\n",
    "\n",
    "There are four collection data types in the Python programming language:\n",
    "\n",
    "1. **List** is ordered and changeable. Allows duplicate members.\n",
    "2. **Tuple** is ordered and unchangeable. Allows duplicate members.\n",
    "3. **Set** is unordered and unindexed. No duplicate members.\n",
    "4. **Dictionary** is unordered, changeable and indexed. No duplicate members.\n",
    "\n",
    "| Collection | ordered | changeable | indexed | duplicate members |\n",
    "|------------|---------|------------|---------|-------------------|\n",
    "| List       | **Y**     | **Y**        | **Y**     | **Y**               |\n",
    "| Tuple      | **Y**     | N        | **Y**     | **Y**               |\n",
    "| Set        | N     | **Y**        | N     | N               |\n",
    "| Dictionary | N     | **Y**        | **Y**     | N               |"
   ]
  },
  {
   "cell_type": "code",
   "execution_count": null,
   "metadata": {},
   "outputs": [],
   "source": []
  }
 ],
 "metadata": {
  "kernelspec": {
   "display_name": "Python 3",
   "language": "python",
   "name": "python3"
  },
  "language_info": {
   "codemirror_mode": {
    "name": "ipython",
    "version": 3
   },
   "file_extension": ".py",
   "mimetype": "text/x-python",
   "name": "python",
   "nbconvert_exporter": "python",
   "pygments_lexer": "ipython3",
   "version": "3.7.5"
  }
 },
 "nbformat": 4,
 "nbformat_minor": 2
}

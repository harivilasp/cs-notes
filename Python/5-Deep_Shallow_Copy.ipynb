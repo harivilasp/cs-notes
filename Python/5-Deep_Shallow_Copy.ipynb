{
 "cells": [
  {
   "cell_type": "markdown",
   "metadata": {},
   "source": [
    "# Copy in Python\n",
    "\n",
    "* Assignment statements do not copy objects, they create bindings between a target and an object\n",
    "* `=` only creates a new variable that shares the reference of the original object\n",
    "* But what if we want to work with **mutable** objects *or* create “real copies” or “clones” of these objects?\n",
    "* Basically, modify the copy rather than modifying the original object itself?\n",
    "* Two ways to create a copy:\n",
    "    * Deep Copy\n",
    "    * Shallow Copy\n",
    "    \n",
    "## `copy` module\n",
    "\n",
    "* Can use this module for deep and shallow copies"
   ]
  },
  {
   "cell_type": "code",
   "execution_count": 1,
   "metadata": {},
   "outputs": [],
   "source": [
    "# importing copy module \n",
    "import copy \n",
    "\n",
    "# initializing list 1 \n",
    "li1 = [1, 2, [3,5], 4] \n",
    "\n",
    "\n",
    "# using copy for shallow copy \n",
    "li2 = copy.copy(li1) \n",
    "\n",
    "# using deepcopy for deepcopy \n",
    "li3 = copy.deepcopy(li1) "
   ]
  },
  {
   "cell_type": "markdown",
   "metadata": {},
   "source": [
    "## Deep Copy\n",
    "\n",
    "* implemented using `deepcopy()`\n",
    "\n",
    "<p align=\"center\">\n",
    "<img src=\"https://media.geeksforgeeks.org/wp-content/uploads/deep-copy.jpg\" alt=\"deep_copy\" width=\"600\"/>\n",
    "</p>\n",
    "\n",
    "* copying process occurs recursively - first constructing a new collection object and then recursively populating it with copies of the child objects found in the original\n",
    "* **any changes made** to a copy of object **do not reflect** in the original object"
   ]
  },
  {
   "cell_type": "code",
   "execution_count": 2,
   "metadata": {},
   "outputs": [
    {
     "name": "stdout",
     "output_type": "stream",
     "text": [
      "The original elements before deep copying\n",
      "[1, 2, [3, 5], 4]\n",
      "The new list of elements after deep copying and modifying\n",
      "[1, 2, [7, 5], 4]\n",
      "The original elements after deep copying and modifying\n",
      "[1, 2, [3, 5], 4]\n"
     ]
    }
   ],
   "source": [
    "# importing \"copy\" for copy operations \n",
    "import copy \n",
    "\n",
    "# initializing list 1 \n",
    "li1 = [1, 2, [3,5], 4] \n",
    "\n",
    "# using deepcopy to deep copy \n",
    "li2 = copy.deepcopy(li1) \n",
    "\n",
    "# original elements of list \n",
    "print (\"The original elements before deep copying\")\n",
    "print(li1)\n",
    "\n",
    "# adding and element to new list \n",
    "li2[2][0] = 7\n",
    "\n",
    "# Change is reflected in l2 \n",
    "print (\"The new list of elements after deep copying and modifying\")\n",
    "print(li2)\n",
    "\n",
    "# Change is NOT reflected in original list \n",
    "# as it is a deep copy \n",
    "print (\"The original elements after deep copying and modifying\")\n",
    "print(li1)"
   ]
  },
  {
   "cell_type": "markdown",
   "metadata": {},
   "source": [
    "## Shallow Copy\n",
    "\n",
    "* implemented using `copy()`\n",
    "\n",
    "<p align=\"center\">\n",
    "<img src=\"https://media.geeksforgeeks.org/wp-content/uploads/shallow-copy.jpg\" alt=\"deep_copy\" width=\"450\"/>\n",
    "</p>\n",
    "\n",
    "* constructing a new collection object and then populating it with references to the child objects found in the original \n",
    "* **any changes made** to a copy of object **do reflect** in the original object"
   ]
  },
  {
   "cell_type": "code",
   "execution_count": 3,
   "metadata": {},
   "outputs": [
    {
     "name": "stdout",
     "output_type": "stream",
     "text": [
      "The original elements before shallow copying\n",
      "[1, 2, [3, 5], 4]\n",
      "The original elements after shallow copying and modifying\n",
      "[1, 2, [7, 5], 4]\n"
     ]
    }
   ],
   "source": [
    "# Python code to demonstrate copy operations \n",
    "\n",
    "# importing \"copy\" for copy operations \n",
    "import copy \n",
    "\n",
    "# initializing list 1 \n",
    "li1 = [1, 2, [3,5], 4] \n",
    "\n",
    "# using copy to shallow copy \n",
    "li2 = copy.copy(li1) \n",
    "\n",
    "# original elements of list \n",
    "print (\"The original elements before shallow copying\") \n",
    "print(li1)\n",
    "\n",
    "# adding and element to new list \n",
    "li2[2][0] = 7\n",
    "\n",
    "# checking if change is reflected \n",
    "print (\"The original elements after shallow copying and modifying\") \n",
    "print(li1)"
   ]
  },
  {
   "cell_type": "markdown",
   "metadata": {},
   "source": [
    "## Important points\n",
    "\n",
    "* The difference between shallow and deep copying is only **relevant for compound objects** (objects that contain other objects, like lists or class instances):\n",
    "    * A deep copy constructs a new compound object and then, recursively, inserts copies into it of the objects found in the original.\n",
    "    * A shallow copy constructs a new compound object and then (to the extent possible) inserts references into it to the objects found in the original."
   ]
  },
  {
   "cell_type": "markdown",
   "metadata": {},
   "source": [
    "## References\n",
    "\n",
    "* [GeeksForGeeks - Copy in Python](https://www.geeksforgeeks.org/copy-python-deep-copy-shallow-copy/)"
   ]
  }
 ],
 "metadata": {
  "kernelspec": {
   "display_name": "Python 3",
   "language": "python",
   "name": "python3"
  },
  "language_info": {
   "codemirror_mode": {
    "name": "ipython",
    "version": 3
   },
   "file_extension": ".py",
   "mimetype": "text/x-python",
   "name": "python",
   "nbconvert_exporter": "python",
   "pygments_lexer": "ipython3",
   "version": "3.7.5"
  }
 },
 "nbformat": 4,
 "nbformat_minor": 2
}

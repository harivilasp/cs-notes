{
 "cells": [
  {
   "cell_type": "markdown",
   "metadata": {},
   "source": [
    "# Looping Data Structures\n",
    "\n",
    "## Dictionaries"
   ]
  },
  {
   "cell_type": "code",
   "execution_count": 1,
   "metadata": {},
   "outputs": [
    {
     "name": "stdout",
     "output_type": "stream",
     "text": [
      "the capital of spain is madrid\n",
      "the capital of france is paris\n",
      "the capital of germany is berlin\n",
      "the capital of norway is oslo\n",
      "the capital of italy is rome\n",
      "the capital of poland is warsaw\n",
      "the capital of austria is vienna\n"
     ]
    }
   ],
   "source": [
    "# Definition of dictionary\n",
    "europe = {'spain':'madrid', 'france':'paris', 'germany':'berlin',\n",
    "          'norway':'oslo', 'italy':'rome', 'poland':'warsaw', 'austria':'vienna' }\n",
    "          \n",
    "# Iterate over europe\n",
    "for key, value in europe.items():\n",
    "    print(\"the capital of \" + key + \" is \" + value)"
   ]
  },
  {
   "cell_type": "markdown",
   "metadata": {},
   "source": [
    "## NumPy Arrays"
   ]
  },
  {
   "cell_type": "code",
   "execution_count": 4,
   "metadata": {},
   "outputs": [
    {
     "name": "stdout",
     "output_type": "stream",
     "text": [
      "10 inches 11 inches 12 inches 13 inches \n",
      "10 11 12 13 10 11 12 13 "
     ]
    }
   ],
   "source": [
    "import numpy as np\n",
    "\n",
    "np_height = np.array([10, 11, 12, 13])\n",
    "np_weight = np.array([10, 11, 12, 13])\n",
    "np_baseball = np.array([np_height, np_weight])\n",
    "\n",
    "# For loop over np_height\n",
    "for x in np.nditer(np_height):\n",
    "    print(str(x) + \" inches\", end = \" \")\n",
    "print()\n",
    "\n",
    "# For loop over np_baseball\n",
    "for x in np.nditer(np_baseball):\n",
    "    print(x, end = \" \")"
   ]
  },
  {
   "cell_type": "markdown",
   "metadata": {},
   "source": [
    "## Pandas DataFrame"
   ]
  },
  {
   "cell_type": "markdown",
   "metadata": {},
   "source": [
    "### `iterrows()`"
   ]
  },
  {
   "cell_type": "code",
   "execution_count": 6,
   "metadata": {},
   "outputs": [
    {
     "name": "stdout",
     "output_type": "stream",
     "text": [
      "BR\n",
      "country         Brazil\n",
      "capital       Brasilia\n",
      "area             8.516\n",
      "population       200.4\n",
      "Name: BR, dtype: object\n",
      "RU\n",
      "country       Russia\n",
      "capital       Moscow\n",
      "area            17.1\n",
      "population     143.5\n",
      "Name: RU, dtype: object\n",
      "IN\n",
      "country           India\n",
      "capital       New Delhi\n",
      "area              3.286\n",
      "population         1252\n",
      "Name: IN, dtype: object\n",
      "CH\n",
      "country         China\n",
      "capital       Beijing\n",
      "area            9.597\n",
      "population       1357\n",
      "Name: CH, dtype: object\n",
      "SA\n",
      "country       South Africa\n",
      "capital           Pretoria\n",
      "area                 1.221\n",
      "population           52.98\n",
      "Name: SA, dtype: object\n"
     ]
    }
   ],
   "source": [
    "import pandas as pd\n",
    "\n",
    "brics = pd.read_csv(\"data/brics.csv\", index_col = 0)\n",
    "\n",
    "for lab, row in brics.iterrows():\n",
    "    print(lab)\n",
    "    print(row)"
   ]
  },
  {
   "cell_type": "code",
   "execution_count": 9,
   "metadata": {},
   "outputs": [
    {
     "name": "stdout",
     "output_type": "stream",
     "text": [
      "         country    capital    area  population  name_length\n",
      "BR        Brazil   Brasilia   8.516      200.40          6.0\n",
      "RU        Russia     Moscow  17.100      143.50          6.0\n",
      "IN         India  New Delhi   3.286     1252.00          5.0\n",
      "CH         China    Beijing   9.597     1357.00          5.0\n",
      "SA  South Africa   Pretoria   1.221       52.98         12.0\n"
     ]
    }
   ],
   "source": [
    "# adding length of country name\n",
    "for lab, row in brics.iterrows():\n",
    "    brics.loc[lab, \"name_length\"] = len(row[\"country\"]) # creating series on every iteration\n",
    "print(brics)"
   ]
  },
  {
   "cell_type": "markdown",
   "metadata": {},
   "source": [
    "### `.apply()`"
   ]
  },
  {
   "cell_type": "code",
   "execution_count": 10,
   "metadata": {},
   "outputs": [
    {
     "name": "stdout",
     "output_type": "stream",
     "text": [
      "         country    capital    area  population  name_length\n",
      "BR        Brazil   Brasilia   8.516      200.40            6\n",
      "RU        Russia     Moscow  17.100      143.50            6\n",
      "IN         India  New Delhi   3.286     1252.00            5\n",
      "CH         China    Beijing   9.597     1357.00            5\n",
      "SA  South Africa   Pretoria   1.221       52.98           12\n"
     ]
    }
   ],
   "source": [
    "brics[\"name_length\"] = brics[\"country\"].apply(len)\n",
    "print(brics)"
   ]
  }
 ],
 "metadata": {
  "kernelspec": {
   "display_name": "Python 3",
   "language": "python",
   "name": "python3"
  },
  "language_info": {
   "codemirror_mode": {
    "name": "ipython",
    "version": 3
   },
   "file_extension": ".py",
   "mimetype": "text/x-python",
   "name": "python",
   "nbconvert_exporter": "python",
   "pygments_lexer": "ipython3",
   "version": "3.7.6"
  }
 },
 "nbformat": 4,
 "nbformat_minor": 2
}

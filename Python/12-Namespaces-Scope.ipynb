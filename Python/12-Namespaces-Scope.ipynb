{
 "cells": [
  {
   "cell_type": "markdown",
   "metadata": {},
   "source": [
    "# Namespaces and Scope\n",
    "\n",
    "## Namespace\n",
    "\n",
    "* A __namespace__ is a container where names are mapped to objects, they are used to avoid confusions in cases where same names exist in different namespaces. \n",
    "* They are created by modules, functions, classes etc.\n",
    "\n",
    "## Scopes\n",
    "\n",
    "* A __scope__ defines the hierarchical order in which the namespaces have to be searched in order to obtain the mappings of name-to-object (variables). \n",
    "* It is a context in which variables exist and from which they are referenced. \n",
    "* It defines the accessibility and the lifetime of a variable."
   ]
  },
  {
   "cell_type": "code",
   "execution_count": 1,
   "metadata": {},
   "outputs": [
    {
     "name": "stdout",
     "output_type": "stream",
     "text": [
      "inner pi variable\n",
      "outer pi variable\n"
     ]
    }
   ],
   "source": [
    "pi = 'outer pi variable'\n",
    "\n",
    "def print_pi(): \n",
    "    pi = 'inner pi variable'\n",
    "    print(pi) \n",
    "\n",
    "print_pi() \n",
    "print(pi) "
   ]
  },
  {
   "cell_type": "markdown",
   "metadata": {},
   "source": [
    "* When `print_pi()` gets executed, 'inner pi variable' is printed as that is `pi` value inside the function namespace. \n",
    "* The value 'outer pi variable' is printed when `pi` is referenced in the outer namespace\n",
    "\n",
    "## Scope resolution via LEGB rule\n",
    "\n",
    "* __LEGB rule__ is used to decide the order in which the namespaces are to be searched for scope resolution\n",
    "    1. __Local(L)__: Defined inside function/class\n",
    "    2. __Enclosed(E)__: Defined inside enclosing functions (Nested function concept)\n",
    "    3. __Global(G)__: Defined at the uppermost level\n",
    "    4. __Built-in(B)__: Reserved names in Python builtin modules\n",
    "    \n",
    "<p align=\"center\">\n",
    "<img src=\"resources/types_namespace.png\" alt=\"types_namespace\" width=\"300\"/>\n",
    "</p>\n",
    "\n",
    "### Local Scope\n",
    "\n",
    "* Local scope refers to variables defined in current function.\n",
    "* A function will first look up for a variable name in its local scope. \n",
    "* Only if it does not find it there, the outer scopes are checked."
   ]
  },
  {
   "cell_type": "code",
   "execution_count": 2,
   "metadata": {},
   "outputs": [
    {
     "name": "stdout",
     "output_type": "stream",
     "text": [
      "inner pi variable\n"
     ]
    }
   ],
   "source": [
    "pi = 'global pi variable'\n",
    "def inner(): \n",
    "    pi = 'inner pi variable'\n",
    "    print(pi) \n",
    "\n",
    "inner()"
   ]
  },
  {
   "cell_type": "markdown",
   "metadata": {},
   "source": [
    "### Global Scope\n",
    "\n",
    "* If a variable is not defined in local scope, then, it is checked for in the higher scope, in this case, the global scope."
   ]
  },
  {
   "cell_type": "code",
   "execution_count": 3,
   "metadata": {},
   "outputs": [
    {
     "name": "stdout",
     "output_type": "stream",
     "text": [
      "inner pi variable\n",
      "global pi variable\n"
     ]
    }
   ],
   "source": [
    "pi = 'global pi variable'\n",
    "def inner(): \n",
    "    pi = 'inner pi variable'\n",
    "    print(pi) \n",
    "\n",
    "inner() \n",
    "print(pi)"
   ]
  },
  {
   "cell_type": "markdown",
   "metadata": {},
   "source": [
    "### Enclosed Scope\n",
    "\n",
    "* Define an outer function enclosing the inner function, \n",
    "* comment out the local pi variable of inner function and \n",
    "* refer to pi using the `nonlocal` keyword"
   ]
  },
  {
   "cell_type": "code",
   "execution_count": 4,
   "metadata": {},
   "outputs": [
    {
     "name": "stdout",
     "output_type": "stream",
     "text": [
      "outer pi variable\n",
      "global pi variable\n"
     ]
    }
   ],
   "source": [
    "pi = 'global pi variable'\n",
    "\n",
    "def outer(): \n",
    "    pi = 'outer pi variable'\n",
    "    def inner(): \n",
    "        # pi = 'inner pi variable' \n",
    "        nonlocal pi \n",
    "        print(pi) \n",
    "    inner() \n",
    "\n",
    "outer() \n",
    "print(pi) "
   ]
  },
  {
   "cell_type": "markdown",
   "metadata": {},
   "source": [
    "* The `print(pi)` looks for variable in local scope of inner, but does not find it there. \n",
    "* Since pi is referred with the `nonlocal` keyword, it means that pi needs to be accessed from the outer function (i.e the outer scope).\n",
    "\n",
    "To summarize,\n",
    "\n",
    "* the pi variable is not found in local scope, so the higher scopes are looked up. \n",
    "* It is found in both enclosed and global scopes. \n",
    "* But as per the LEGB hierarchy, the enclosed scope variable is considered even though we have one defined in the global scope.\n",
    "\n",
    "### Built-in Scope"
   ]
  },
  {
   "cell_type": "code",
   "execution_count": 5,
   "metadata": {},
   "outputs": [
    {
     "name": "stdout",
     "output_type": "stream",
     "text": [
      "3.141592653589793\n"
     ]
    }
   ],
   "source": [
    "from math import pi \n",
    "\n",
    "# pi = 'global pi variable' \n",
    "\n",
    "def outer(): \n",
    "    # pi = 'outer pi variable' \n",
    "    def inner(): \n",
    "        # pi = 'inner pi variable' \n",
    "        print(pi) \n",
    "    inner() \n",
    "\n",
    "outer()"
   ]
  },
  {
   "cell_type": "markdown",
   "metadata": {},
   "source": [
    "* Since, pi is not defined in either local, enclosed or global scope, the built-in scope is looked up i.e the pi value imported from math module.\n",
    "\n",
    "## References\n",
    "\n",
    "1. [GFG - Scope Resolution in Python](https://www.geeksforgeeks.org/scope-resolution-in-python-legb-rule/)"
   ]
  }
 ],
 "metadata": {
  "kernelspec": {
   "display_name": "Python 3",
   "language": "python",
   "name": "python3"
  },
  "language_info": {
   "codemirror_mode": {
    "name": "ipython",
    "version": 3
   },
   "file_extension": ".py",
   "mimetype": "text/x-python",
   "name": "python",
   "nbconvert_exporter": "python",
   "pygments_lexer": "ipython3",
   "version": "3.7.6"
  }
 },
 "nbformat": 4,
 "nbformat_minor": 4
}

{
 "cells": [
  {
   "cell_type": "markdown",
   "metadata": {},
   "source": [
    "# Inner Functions\n",
    "\n",
    "\n",
    "## Encapsulation\n",
    "\n",
    "* Use inner functions to protect them from other parts of the program from extensive modification if the design decision is changed\n",
    "* Known as **information hiding** or **encapsulation** \n",
    "* Following program returns an error if we call the inner function:"
   ]
  },
  {
   "cell_type": "code",
   "execution_count": 1,
   "metadata": {},
   "outputs": [
    {
     "ename": "NameError",
     "evalue": "name 'inner_increment' is not defined",
     "output_type": "error",
     "traceback": [
      "\u001b[0;31m---------------------------------------------------------------------------\u001b[0m",
      "\u001b[0;31mNameError\u001b[0m                                 Traceback (most recent call last)",
      "\u001b[0;32m<ipython-input-1-1bd6d8bb7f34>\u001b[0m in \u001b[0;36m<module>\u001b[0;34m\u001b[0m\n\u001b[1;32m      5\u001b[0m     \u001b[0mprint\u001b[0m\u001b[0;34m(\u001b[0m\u001b[0mnum1\u001b[0m\u001b[0;34m,\u001b[0m \u001b[0mnum2\u001b[0m\u001b[0;34m)\u001b[0m\u001b[0;34m\u001b[0m\u001b[0;34m\u001b[0m\u001b[0m\n\u001b[1;32m      6\u001b[0m \u001b[0;34m\u001b[0m\u001b[0m\n\u001b[0;32m----> 7\u001b[0;31m \u001b[0minner_increment\u001b[0m\u001b[0;34m(\u001b[0m\u001b[0;36m10\u001b[0m\u001b[0;34m)\u001b[0m\u001b[0;34m\u001b[0m\u001b[0;34m\u001b[0m\u001b[0m\n\u001b[0m",
      "\u001b[0;31mNameError\u001b[0m: name 'inner_increment' is not defined"
     ]
    }
   ],
   "source": [
    "def outer(num1):\n",
    "    def inner_increment(num1):  # Hidden from outer code\n",
    "        return num1 + 1\n",
    "    num2 = inner_increment(num1)\n",
    "    print(num1, num2)\n",
    "\n",
    "inner_increment(10)"
   ]
  },
  {
   "cell_type": "code",
   "execution_count": 2,
   "metadata": {},
   "outputs": [
    {
     "name": "stdout",
     "output_type": "stream",
     "text": [
      "10 11\n"
     ]
    }
   ],
   "source": [
    "outer(10) # no error"
   ]
  },
  {
   "cell_type": "markdown",
   "metadata": {},
   "source": [
    "* Recursive Example:"
   ]
  },
  {
   "cell_type": "code",
   "execution_count": 3,
   "metadata": {},
   "outputs": [
    {
     "name": "stdout",
     "output_type": "stream",
     "text": [
      "24\n"
     ]
    }
   ],
   "source": [
    "def factorial(number):\n",
    "\n",
    "    # Error handling\n",
    "    if not isinstance(number, int):\n",
    "        raise TypeError(\"Sorry. 'number' must be an integer.\")\n",
    "    if not number >= 0:\n",
    "        raise ValueError(\"Sorry. 'number' must be zero or positive.\")\n",
    "    \n",
    "    # Nested function\n",
    "    def inner_factorial(number):\n",
    "        if number <= 1:\n",
    "            return 1\n",
    "        return number*inner_factorial(number-1)\n",
    "    return inner_factorial(number)\n",
    "\n",
    "# Call the outer function.\n",
    "print(factorial(4))"
   ]
  },
  {
   "cell_type": "markdown",
   "metadata": {},
   "source": [
    "**Advantage of above implementation:**\n",
    "* Perform all argument checking in outer function\n",
    "* Safely skip error checking altogether in the inner function\n",
    "\n",
    "## Keepin' it DRY\n",
    "\n",
    "* DRY = Don't repeat yourself\n",
    "* principle of software development aimed at reducing repetition of software patterns, replacing it with abstractions or using data normalization to avoid redundancy\n",
    "* \"Every piece of knowledge must have a single, unambiguous, authoritative representation within a system\"\n",
    "* E.g. want to know number of wi-fi hotspots in New York:"
   ]
  },
  {
   "cell_type": "code",
   "execution_count": 4,
   "metadata": {},
   "outputs": [
    {
     "data": {
      "text/html": [
       "<div>\n",
       "<style scoped>\n",
       "    .dataframe tbody tr th:only-of-type {\n",
       "        vertical-align: middle;\n",
       "    }\n",
       "\n",
       "    .dataframe tbody tr th {\n",
       "        vertical-align: top;\n",
       "    }\n",
       "\n",
       "    .dataframe thead th {\n",
       "        text-align: right;\n",
       "    }\n",
       "</style>\n",
       "<table border=\"1\" class=\"dataframe\">\n",
       "  <thead>\n",
       "    <tr style=\"text-align: right;\">\n",
       "      <th></th>\n",
       "      <th>OBJECTID</th>\n",
       "      <th>Borough</th>\n",
       "      <th>Type</th>\n",
       "      <th>Provider</th>\n",
       "      <th>Name</th>\n",
       "      <th>Location</th>\n",
       "      <th>Latitude</th>\n",
       "      <th>Longitude</th>\n",
       "      <th>X</th>\n",
       "      <th>Y</th>\n",
       "      <th>...</th>\n",
       "      <th>Neighborhood Tabulation Area (NTA)</th>\n",
       "      <th>Council Distrcit</th>\n",
       "      <th>Postcode</th>\n",
       "      <th>BoroCD</th>\n",
       "      <th>Census Tract</th>\n",
       "      <th>BCTCB2010</th>\n",
       "      <th>BIN</th>\n",
       "      <th>BBL</th>\n",
       "      <th>DOITT_ID</th>\n",
       "      <th>Location (Lat, Long)</th>\n",
       "    </tr>\n",
       "  </thead>\n",
       "  <tbody>\n",
       "    <tr>\n",
       "      <th>700</th>\n",
       "      <td>10053</td>\n",
       "      <td>3</td>\n",
       "      <td>Free</td>\n",
       "      <td>BPL</td>\n",
       "      <td>Leonard - Brooklyn Public Library</td>\n",
       "      <td>81 DEVOE STREET</td>\n",
       "      <td>40.713645</td>\n",
       "      <td>-73.947936</td>\n",
       "      <td>9.986835e+05</td>\n",
       "      <td>199280.871173</td>\n",
       "      <td>...</td>\n",
       "      <td>East Williamsburg</td>\n",
       "      <td>34</td>\n",
       "      <td>11211</td>\n",
       "      <td>301</td>\n",
       "      <td>503</td>\n",
       "      <td>503</td>\n",
       "      <td>3068818</td>\n",
       "      <td>3027620021</td>\n",
       "      <td>475</td>\n",
       "      <td>(40.713644888, -73.9479357128)</td>\n",
       "    </tr>\n",
       "    <tr>\n",
       "      <th>1240</th>\n",
       "      <td>12640</td>\n",
       "      <td>3</td>\n",
       "      <td>Free</td>\n",
       "      <td>LinkNYC - Citybridge</td>\n",
       "      <td>bk-02-126807</td>\n",
       "      <td>56 LAFAYETTE AVENUE</td>\n",
       "      <td>40.686961</td>\n",
       "      <td>-73.976371</td>\n",
       "      <td>9.908032e+05</td>\n",
       "      <td>189555.581241</td>\n",
       "      <td>...</td>\n",
       "      <td>Fort Greene</td>\n",
       "      <td>35</td>\n",
       "      <td>11217</td>\n",
       "      <td>302</td>\n",
       "      <td>35</td>\n",
       "      <td>35</td>\n",
       "      <td>3059247</td>\n",
       "      <td>3021130020</td>\n",
       "      <td>3640</td>\n",
       "      <td>(40.6869605882, -73.9763707911)</td>\n",
       "    </tr>\n",
       "    <tr>\n",
       "      <th>344</th>\n",
       "      <td>12869</td>\n",
       "      <td>1</td>\n",
       "      <td>Free</td>\n",
       "      <td>LinkNYC - Citybridge</td>\n",
       "      <td>mn-08-119830</td>\n",
       "      <td>1675 3 AVENUE</td>\n",
       "      <td>40.783289</td>\n",
       "      <td>-73.950562</td>\n",
       "      <td>9.979411e+05</td>\n",
       "      <td>224653.951004</td>\n",
       "      <td>...</td>\n",
       "      <td>Yorkville</td>\n",
       "      <td>5</td>\n",
       "      <td>10128</td>\n",
       "      <td>108</td>\n",
       "      <td>154</td>\n",
       "      <td>154</td>\n",
       "      <td>1048916</td>\n",
       "      <td>1015397500</td>\n",
       "      <td>3373</td>\n",
       "      <td>(40.7832887698, -73.9505618001)</td>\n",
       "    </tr>\n",
       "    <tr>\n",
       "      <th>517</th>\n",
       "      <td>12506</td>\n",
       "      <td>2</td>\n",
       "      <td>Free</td>\n",
       "      <td>LinkNYC - Citybridge</td>\n",
       "      <td>bx-04-119048</td>\n",
       "      <td>105 EAST 165 STREET</td>\n",
       "      <td>40.831467</td>\n",
       "      <td>-73.921747</td>\n",
       "      <td>1.005905e+06</td>\n",
       "      <td>242212.795152</td>\n",
       "      <td>...</td>\n",
       "      <td>West Concourse</td>\n",
       "      <td>16</td>\n",
       "      <td>10452</td>\n",
       "      <td>204</td>\n",
       "      <td>195</td>\n",
       "      <td>195</td>\n",
       "      <td>2002953</td>\n",
       "      <td>2024780060</td>\n",
       "      <td>3591</td>\n",
       "      <td>(40.8314669998, -73.9217469998)</td>\n",
       "    </tr>\n",
       "    <tr>\n",
       "      <th>2658</th>\n",
       "      <td>11443</td>\n",
       "      <td>1</td>\n",
       "      <td>Free</td>\n",
       "      <td>LinkNYC - Citybridge</td>\n",
       "      <td>mn-05-137863</td>\n",
       "      <td>458 7 AVE</td>\n",
       "      <td>40.751540</td>\n",
       "      <td>-73.990365</td>\n",
       "      <td>9.869194e+05</td>\n",
       "      <td>213082.967257</td>\n",
       "      <td>...</td>\n",
       "      <td>Midtown-Midtown South</td>\n",
       "      <td>3</td>\n",
       "      <td>10001</td>\n",
       "      <td>105</td>\n",
       "      <td>109</td>\n",
       "      <td>109</td>\n",
       "      <td>1014409</td>\n",
       "      <td>1007840050</td>\n",
       "      <td>3939</td>\n",
       "      <td>(40.7515396216, -73.9903653318)</td>\n",
       "    </tr>\n",
       "  </tbody>\n",
       "</table>\n",
       "<p>5 rows × 29 columns</p>\n",
       "</div>"
      ],
      "text/plain": [
       "      OBJECTID  Borough  Type              Provider  \\\n",
       "700      10053        3  Free                   BPL   \n",
       "1240     12640        3  Free  LinkNYC - Citybridge   \n",
       "344      12869        1  Free  LinkNYC - Citybridge   \n",
       "517      12506        2  Free  LinkNYC - Citybridge   \n",
       "2658     11443        1  Free  LinkNYC - Citybridge   \n",
       "\n",
       "                                   Name             Location   Latitude  \\\n",
       "700   Leonard - Brooklyn Public Library      81 DEVOE STREET  40.713645   \n",
       "1240                       bk-02-126807  56 LAFAYETTE AVENUE  40.686961   \n",
       "344                        mn-08-119830        1675 3 AVENUE  40.783289   \n",
       "517                        bx-04-119048  105 EAST 165 STREET  40.831467   \n",
       "2658                       mn-05-137863            458 7 AVE  40.751540   \n",
       "\n",
       "      Longitude             X              Y  ...  \\\n",
       "700  -73.947936  9.986835e+05  199280.871173  ...   \n",
       "1240 -73.976371  9.908032e+05  189555.581241  ...   \n",
       "344  -73.950562  9.979411e+05  224653.951004  ...   \n",
       "517  -73.921747  1.005905e+06  242212.795152  ...   \n",
       "2658 -73.990365  9.869194e+05  213082.967257  ...   \n",
       "\n",
       "     Neighborhood Tabulation Area (NTA) Council Distrcit Postcode BoroCD  \\\n",
       "700                   East Williamsburg               34    11211    301   \n",
       "1240                        Fort Greene               35    11217    302   \n",
       "344                           Yorkville                5    10128    108   \n",
       "517                      West Concourse               16    10452    204   \n",
       "2658              Midtown-Midtown South                3    10001    105   \n",
       "\n",
       "     Census Tract BCTCB2010      BIN         BBL DOITT_ID  \\\n",
       "700           503       503  3068818  3027620021      475   \n",
       "1240           35        35  3059247  3021130020     3640   \n",
       "344           154       154  1048916  1015397500     3373   \n",
       "517           195       195  2002953  2024780060     3591   \n",
       "2658          109       109  1014409  1007840050     3939   \n",
       "\n",
       "                 Location (Lat, Long)  \n",
       "700    (40.713644888, -73.9479357128)  \n",
       "1240  (40.6869605882, -73.9763707911)  \n",
       "344   (40.7832887698, -73.9505618001)  \n",
       "517   (40.8314669998, -73.9217469998)  \n",
       "2658  (40.7515396216, -73.9903653318)  \n",
       "\n",
       "[5 rows x 29 columns]"
      ]
     },
     "execution_count": 4,
     "metadata": {},
     "output_type": "execute_result"
    }
   ],
   "source": [
    "import pandas as pd\n",
    "\n",
    "new_york_wifi = pd.read_csv('data/NYC_Wi-Fi_Hotspot_Locations.csv')\n",
    "new_york_wifi.sample(5)"
   ]
  },
  {
   "cell_type": "code",
   "execution_count": 5,
   "metadata": {},
   "outputs": [],
   "source": [
    "def process(file_name):\n",
    "\n",
    "    def do_stuff(file_process):\n",
    "        wifi_locations = {}\n",
    "\n",
    "        for line in file_process:\n",
    "            values = line.split(',')\n",
    "            # Build the dict and increment values.\n",
    "            try:\n",
    "                wifi_locations[values[1]] = wifi_locations.get(values[1], 0) + 1\n",
    "            except:\n",
    "                continue\n",
    "\n",
    "        max_key = 0\n",
    "        for name, key in wifi_locations.items():\n",
    "            if key > max_key:\n",
    "                max_key = key\n",
    "                business = name\n",
    "        all_locations = sum(wifi_locations.values())\n",
    "\n",
    "        print(f'There are {all_locations} WiFi hotspots in NYC, '\n",
    "              f'and {business} has the most with {max_key}.')\n",
    "\n",
    "    if isinstance(file_name, str):\n",
    "        with open(file_name, 'r') as f:\n",
    "            do_stuff(f)\n",
    "    else:\n",
    "        do_stuff(file_name)"
   ]
  },
  {
   "cell_type": "code",
   "execution_count": 6,
   "metadata": {},
   "outputs": [
    {
     "name": "stdout",
     "output_type": "stream",
     "text": [
      "There are 3321 WiFi hotspots in NYC, and 1 has the most with 1672.\n"
     ]
    }
   ],
   "source": [
    "process('data/NYC_Wi-Fi_Hotspot_Locations.csv')"
   ]
  },
  {
   "cell_type": "markdown",
   "metadata": {},
   "source": [
    "## Closures and Factory Functions\n",
    "\n",
    "* A Closure is a function object that remembers values in enclosing scopes even if they are not present in memory.\n",
    "* It is a record that stores a function together with an environment: \n",
    "    - a mapping associating each free variable of the function (variables that are used locally, but defined in an enclosing scope) \n",
    "    - with the value or reference to which the name was bound when the closure was created.\n",
    "* A closure—unlike a plain function—allows the function to access those captured variables through the closure’s copies of their values or references, even when the function is invoked outside their scope.\n",
    "* Beginners often think that a closure is the inner function, but it’s really caused by the inner function.\n",
    "* The closure “closes” the local variable on the stack, and this stays around after the stack creation has finished executing."
   ]
  },
  {
   "cell_type": "code",
   "execution_count": 7,
   "metadata": {},
   "outputs": [],
   "source": [
    "def generate_power(number):\n",
    "    # Define the inner function ...\n",
    "    def nth_power(power):\n",
    "        return number ** power\n",
    "    # ... that is returned by the factory function.\n",
    "\n",
    "    return nth_power"
   ]
  },
  {
   "cell_type": "code",
   "execution_count": 8,
   "metadata": {},
   "outputs": [
    {
     "name": "stdout",
     "output_type": "stream",
     "text": [
      "128\n",
      "243\n"
     ]
    }
   ],
   "source": [
    "raise_two = generate_power(2)\n",
    "raise_three = generate_power(3)\n",
    "print(raise_two(7))\n",
    "print(raise_three(5))"
   ]
  },
  {
   "cell_type": "markdown",
   "metadata": {},
   "source": [
    "### What’s Happening in the Example\n",
    "\n",
    "1. `generate_power()` is a factory function, which simply means that it creates a new function each time it is called and then returns the newly created function. Thus, `raise_two()` and `raise_three()` are the newly created functions.\n",
    "2. new inner function - takes a single argument, `power`, and returns `number**power`.\n",
    "3. `nth_power()` gets the value of `power` from the outer function, the factory function:\n",
    "    - Call the outer function: `generate_power(2)`\n",
    "    - Build `nth_power()`, which takes a single argument `power`\n",
    "    - Take a snapshot of the state of `nth_power()`, which includes `number=2`\n",
    "    - Pass that snapshot into `generate_power()`\n",
    "    - Return `nth_power()`\n",
    "\n",
    "**In summary**\n",
    "* the closure “initializes” the number bar in `nth_power()` and then returns it.\n",
    "* whenever you call that newly returned function, it will always see its own private snapshot that includes `number=2`"
   ]
  },
  {
   "cell_type": "code",
   "execution_count": 9,
   "metadata": {},
   "outputs": [
    {
     "name": "stdout",
     "output_type": "stream",
     "text": [
      "'Admin' does have access to Admin Area.\n",
      "'Not Admin' does NOT have access to Admin Area.\n"
     ]
    }
   ],
   "source": [
    "def has_permission(page):\n",
    "    def inner(username):\n",
    "        if username == 'Admin':\n",
    "            return \"'{0}' does have access to {1}.\".format(username, page)\n",
    "        else:\n",
    "            return \"'{0}' does NOT have access to {1}.\".format(username, page)\n",
    "    return inner\n",
    "\n",
    "\n",
    "current_user = has_permission('Admin Area')\n",
    "print(current_user('Admin'))\n",
    "\n",
    "random_user = has_permission('Admin Area')\n",
    "print(random_user('Not Admin'))"
   ]
  },
  {
   "cell_type": "markdown",
   "metadata": {},
   "source": [
    "* simplified function to check if a certain user has the correct permissions to access a certain page.\n",
    "* could easily modify this to grab the user in session to check if they have the correct credentials to access a certain route\n",
    "* instead of checking if the user is just equal to 'Admin', could query the database to check the permission and then return the correct view depending on whether the credentials are correct or not.\n",
    "\n",
    "## When and why to use Closures:\n",
    "\n",
    "* As closures are used as callback functions, they provide some sort of data hiding. This helps us to reduce the use of global variables.\n",
    "* When we have few functions in our code, closures prove to be efficient way. But if we need to have many functions, then go for class (OOP)."
   ]
  },
  {
   "cell_type": "markdown",
   "metadata": {},
   "source": [
    "## References\n",
    "\n",
    "1. [Wikipedia - Information Hiding](https://en.wikipedia.org/wiki/Information_hiding)\n",
    "2. [Wikipedia - Don't repeat yourself](https://en.wikipedia.org/wiki/Don't_repeat_yourself)\n",
    "3. [RealPython - Inner functions](https://realpython.com/inner-functions-what-are-they-good-for/)\n",
    "4. [GFG - Python Closure](https://www.geeksforgeeks.org/python-closures/)"
   ]
  }
 ],
 "metadata": {
  "kernelspec": {
   "display_name": "Python 3",
   "language": "python",
   "name": "python3"
  }
 },
 "nbformat": 4,
 "nbformat_minor": 4
}

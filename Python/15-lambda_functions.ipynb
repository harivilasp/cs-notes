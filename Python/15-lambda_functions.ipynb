{
 "cells": [
  {
   "cell_type": "markdown",
   "metadata": {},
   "source": [
    "# Lambda functions (Anonymous Function)\n",
    "\n",
    "* anonymous function means that a function is without a name\n",
    "* syntax: `lambda arguments: expression`\n",
    "* have any number of arguments but only restricted to one expression, which is evaluated and returned\n",
    "* One is free to use lambda functions wherever function objects are required"
   ]
  },
  {
   "cell_type": "code",
   "execution_count": 2,
   "metadata": {},
   "outputs": [
    {
     "name": "stdout",
     "output_type": "stream",
     "text": [
      "125\n",
      "125\n"
     ]
    }
   ],
   "source": [
    "# showing difference between def() and lambda(). \n",
    "def cube(y): \n",
    "    return y*y*y; \n",
    "print(cube(5))\n",
    "\n",
    "g = lambda x: x*x*x \n",
    "print(g(5))"
   ]
  },
  {
   "cell_type": "markdown",
   "metadata": {},
   "source": [
    "* `def`: Needed to define a function with a name cube and needed to pass a value to it. After execution, we also needed to return the result from where the function was called using the `return` keyword\n",
    "* `lambda`: No return statement. Always contains expression which is returned implicitly. We can also put a lambda definition anywhere a function is expected, and we don’t have to assign it to a variable at all. This is the simplicity of lambda functions."
   ]
  },
  {
   "cell_type": "markdown",
   "metadata": {},
   "source": [
    "## `filter()`\n",
    "\n",
    "* takes in a __function and a list as arguments__\n",
    "* offers an elegant way to filter out all the elements of a sequence, for which the function returns `True`\n",
    "* Syntax:\n",
    "\n",
    "`filter(function, sequence)`\n",
    "\n",
    "Parameters:\n",
    "- function: function that tests if each element of a sequence true or not.\n",
    "- sequence: sequence which needs to be filtered, it can be sets, lists, tuples, or containers of any iterators.\n",
    "\n",
    "Returns:\n",
    "- returns an iterator that is already filtered."
   ]
  },
  {
   "cell_type": "code",
   "execution_count": 3,
   "metadata": {},
   "outputs": [
    {
     "name": "stdout",
     "output_type": "stream",
     "text": [
      "[5, 7, 97, 77, 23, 73, 61]\n"
     ]
    }
   ],
   "source": [
    "# filter() with lambda() \n",
    "li = [5, 7, 22, 97, 54, 62, 77, 23, 73, 61] \n",
    "final_list = list(filter(lambda x: (x%2 != 0) , li)) # convert iterator to list\n",
    "print(final_list) # only prints odd numbers"
   ]
  },
  {
   "cell_type": "markdown",
   "metadata": {},
   "source": [
    "## `map()`\n",
    "\n",
    "* The function is called with a lambda function and a list and a new list is returned which contains all the lambda modified items returned by that function for each item.\n",
    "* Syntax:\n",
    "`map(fun, iter)`\n",
    "\n",
    "Parameters:\n",
    "\n",
    "- fun : It is a function to which map passes each element of given iterable.\n",
    "- iter : It is a iterable which is to be mapped. (Can pass more than one)\n",
    "\n",
    "Returns:\n",
    "\n",
    "- Returns a list of the results after applying the given function  to each item of a given iterable (list, tuple etc.) "
   ]
  },
  {
   "cell_type": "code",
   "execution_count": 4,
   "metadata": {},
   "outputs": [
    {
     "name": "stdout",
     "output_type": "stream",
     "text": [
      "[10, 14, 44, 194, 108, 124, 154, 46, 146, 122]\n"
     ]
    }
   ],
   "source": [
    "# map() with lambda() to get double of a list. \n",
    "li = [5, 7, 22, 97, 54, 62, 77, 23, 73, 61] \n",
    "final_list = list(map(lambda x: x*2 , li)) \n",
    "print(final_list) "
   ]
  },
  {
   "cell_type": "markdown",
   "metadata": {},
   "source": [
    "## `reduce()`\n",
    "\n",
    "* The function is called with a lambda function and a list and a new reduced result is returned. \n",
    "* This performs a repetitive operation over the pairs of the list. \n",
    "* This is a part of `functools` module."
   ]
  },
  {
   "cell_type": "code",
   "execution_count": 5,
   "metadata": {},
   "outputs": [
    {
     "name": "stdout",
     "output_type": "stream",
     "text": [
      "193\n"
     ]
    }
   ],
   "source": [
    "# reduce() with lambda() to get sum of a list \n",
    "from functools import reduce\n",
    "li = [5, 8, 10, 20, 50, 100] \n",
    "sum = reduce((lambda x, y: x + y), li) \n",
    "print(sum)"
   ]
  },
  {
   "cell_type": "markdown",
   "metadata": {},
   "source": [
    "### Working:\n",
    "\n",
    "* At first step, first two elements of sequence are picked and the result is obtained.\n",
    "* Next step is to apply the same function to the previously attained result and the number just succeeding the second element and the result is again stored.\n",
    "* This process continues till no more elements are left in the container.\n",
    "* The final returned result is returned and printed on console.\n",
    "* Here the results of previous two elements are added to the next element and this goes on till the end of the list like `(((((5+8)+10)+20)+50)+100)`\n",
    "\n",
    "### Using Operator Functions\n",
    "\n",
    "* `reduce()` can also be combined with operator functions to achieve the similar functionality as with lambda functions and makes the code more readable.\n",
    "* E.g. of operator functions are:\n",
    "    1. `add(a,b)`\n",
    "    2. `sub(a,b)`\n",
    "    3. `mul(a,b)`\n",
    "    4. `pow(a,b)`\n",
    "    5. `mod(a,b)`"
   ]
  },
  {
   "cell_type": "code",
   "execution_count": 6,
   "metadata": {},
   "outputs": [
    {
     "name": "stdout",
     "output_type": "stream",
     "text": [
      "The sum of the list elements is : 17\n",
      "The product of list elements is : 180\n",
      "The concatenated product is : geeksforgeeks\n"
     ]
    }
   ],
   "source": [
    "# python code to demonstrate working of reduce() using operator functions \n",
    "\n",
    "# importing functools for reduce() \n",
    "from functools import reduce\n",
    "\n",
    "# importing operator for operator functions \n",
    "import operator \n",
    "\n",
    "# initializing list \n",
    "lis = [1 , 3, 5, 6, 2]\n",
    "\n",
    "# using reduce to compute sum of list \n",
    "# using operator functions \n",
    "print(\"The sum of the list elements is : \",end=\"\") \n",
    "print(reduce(operator.add,lis)) \n",
    "\n",
    "# using reduce to compute product \n",
    "# using operator functions \n",
    "print(\"The product of list elements is : \",end=\"\") \n",
    "print(reduce(operator.mul,lis)) \n",
    "\n",
    "# using reduce to concatenate string \n",
    "print(\"The concatenated product is : \",end=\"\") \n",
    "print(reduce(operator.add,[\"geeks\",\"for\",\"geeks\"]))"
   ]
  },
  {
   "cell_type": "markdown",
   "metadata": {},
   "source": [
    "### `reduce()` vs `accumulate()` \n",
    "\n",
    "* `reduce()` is defined in `functools` module, `accumulate()` in `itertools` module.\n",
    "* `reduce()` stores the intermediate result and only returns the final summation value. Whereas, `accumulate()` returns a list containing the intermediate results. The last number of the list returned is summation value of the list.\n",
    "* `reduce(fun,seq)` takes function as 1st and sequence as 2nd argument. In contrast `accumulate(seq,fun)` takes sequence as 1st argument and function as 2nd argument."
   ]
  },
  {
   "cell_type": "code",
   "execution_count": 7,
   "metadata": {},
   "outputs": [
    {
     "name": "stdout",
     "output_type": "stream",
     "text": [
      "The summation of list using accumulate is :[1, 4, 8, 18, 22]\n",
      "The summation of list using reduce is :22\n"
     ]
    }
   ],
   "source": [
    "# python code to demonstrate summation \n",
    "# using reduce() and accumulate() \n",
    "\n",
    "# importing itertools for accumulate() \n",
    "from itertools import accumulate\n",
    "\n",
    "# importing functools for reduce() \n",
    "from functools import reduce\n",
    "\n",
    "# initializing list \n",
    "lis = [ 1, 3, 4, 10, 4 ] \n",
    "\n",
    "# priting summation using accumulate() \n",
    "print(\"The summation of list using accumulate is :\",end=\"\") \n",
    "print(list(accumulate(lis,lambda x,y : x+y)))\n",
    "\n",
    "# priting summation using reduce() \n",
    "print(\"The summation of list using reduce is :\",end=\"\") \n",
    "print(reduce(lambda x,y:x+y,lis))"
   ]
  },
  {
   "cell_type": "markdown",
   "metadata": {},
   "source": [
    "## References\n",
    "\n",
    "1. [GFG - Lambda functions](https://www.geeksforgeeks.org/python-lambda-anonymous-functions-filter-map-reduce/)\n",
    "2. [GFG - reduce() in Python](https://www.geeksforgeeks.org/reduce-in-python/)\n",
    "3. [GFG - Operator functions Set 1](https://www.geeksforgeeks.org/operator-functions-in-python-set-1/)"
   ]
  }
 ],
 "metadata": {
  "kernelspec": {
   "display_name": "Python 3",
   "language": "python",
   "name": "python3"
  },
  "language_info": {
   "codemirror_mode": {
    "name": "ipython",
    "version": 3
   },
   "file_extension": ".py",
   "mimetype": "text/x-python",
   "name": "python",
   "nbconvert_exporter": "python",
   "pygments_lexer": "ipython3",
   "version": "3.7.6"
  }
 },
 "nbformat": 4,
 "nbformat_minor": 4
}

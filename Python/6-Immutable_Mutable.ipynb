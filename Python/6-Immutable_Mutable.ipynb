{
 "cells": [
  {
   "cell_type": "markdown",
   "metadata": {},
   "source": [
    "# Mutable Vs. Immutable Objects\n",
    "\n",
    "* Every variable in python holds an instance of an object.\n",
    "* Two types:\n",
    "    1. Mutable\n",
    "    2. Immutable\n",
    "* Whenever an object is instantiated - assigned a unique object id.\n",
    "* Type of the object is defined at the runtime and it can’t be changed afterwards\n",
    "* However, it’s state or content can be changed if it is a mutable object.\n",
    "\n",
    "Summary:\n",
    "\n",
    "* **mutable objects** can change their state or contents\n",
    "* **immutable objects** can’t change their state or content.\n",
    "\n",
    "## Immutable Objects\n",
    "\n",
    "* in-built types like `int`, `float`, `bool`, `string`, `unicode`, `tuple`\n",
    "* can’t be changed after it is created"
   ]
  },
  {
   "cell_type": "code",
   "execution_count": 1,
   "metadata": {},
   "outputs": [
    {
     "ename": "TypeError",
     "evalue": "'tuple' object does not support item assignment",
     "output_type": "error",
     "traceback": [
      "\u001b[0;31m---------------------------------------------------------------------------\u001b[0m",
      "\u001b[0;31mTypeError\u001b[0m                                 Traceback (most recent call last)",
      "\u001b[0;32m<ipython-input-1-b28adbbd6174>\u001b[0m in \u001b[0;36m<module>\u001b[0;34m\u001b[0m\n\u001b[1;32m      2\u001b[0m \u001b[0;34m\u001b[0m\u001b[0m\n\u001b[1;32m      3\u001b[0m \u001b[0mtuple1\u001b[0m \u001b[0;34m=\u001b[0m \u001b[0;34m(\u001b[0m\u001b[0;36m0\u001b[0m\u001b[0;34m,\u001b[0m \u001b[0;36m1\u001b[0m\u001b[0;34m,\u001b[0m \u001b[0;36m2\u001b[0m\u001b[0;34m,\u001b[0m \u001b[0;36m3\u001b[0m\u001b[0;34m)\u001b[0m\u001b[0;34m\u001b[0m\u001b[0;34m\u001b[0m\u001b[0m\n\u001b[0;32m----> 4\u001b[0;31m \u001b[0mtuple1\u001b[0m\u001b[0;34m[\u001b[0m\u001b[0;36m0\u001b[0m\u001b[0;34m]\u001b[0m \u001b[0;34m=\u001b[0m \u001b[0;36m4\u001b[0m\u001b[0;34m\u001b[0m\u001b[0;34m\u001b[0m\u001b[0m\n\u001b[0m\u001b[1;32m      5\u001b[0m \u001b[0mprint\u001b[0m\u001b[0;34m(\u001b[0m\u001b[0mtuple1\u001b[0m\u001b[0;34m)\u001b[0m\u001b[0;34m\u001b[0m\u001b[0;34m\u001b[0m\u001b[0m\n",
      "\u001b[0;31mTypeError\u001b[0m: 'tuple' object does not support item assignment"
     ]
    }
   ],
   "source": [
    "# tuples are immutable \n",
    "\n",
    "tuple1 = (0, 1, 2, 3) \n",
    "tuple1[0] = 4\n",
    "print(tuple1)"
   ]
  },
  {
   "cell_type": "code",
   "execution_count": 2,
   "metadata": {},
   "outputs": [
    {
     "ename": "TypeError",
     "evalue": "'str' object does not support item assignment",
     "output_type": "error",
     "traceback": [
      "\u001b[0;31m---------------------------------------------------------------------------\u001b[0m",
      "\u001b[0;31mTypeError\u001b[0m                                 Traceback (most recent call last)",
      "\u001b[0;32m<ipython-input-2-7e17f0f9fc17>\u001b[0m in \u001b[0;36m<module>\u001b[0;34m\u001b[0m\n\u001b[1;32m      2\u001b[0m \u001b[0;34m\u001b[0m\u001b[0m\n\u001b[1;32m      3\u001b[0m \u001b[0mmessage\u001b[0m \u001b[0;34m=\u001b[0m \u001b[0;34m\"Welcome to GeeksforGeeks\"\u001b[0m\u001b[0;34m\u001b[0m\u001b[0;34m\u001b[0m\u001b[0m\n\u001b[0;32m----> 4\u001b[0;31m \u001b[0mmessage\u001b[0m\u001b[0;34m[\u001b[0m\u001b[0;36m0\u001b[0m\u001b[0;34m]\u001b[0m \u001b[0;34m=\u001b[0m \u001b[0;34m'p'\u001b[0m\u001b[0;34m\u001b[0m\u001b[0;34m\u001b[0m\u001b[0m\n\u001b[0m\u001b[1;32m      5\u001b[0m \u001b[0mprint\u001b[0m\u001b[0;34m(\u001b[0m\u001b[0mmessage\u001b[0m\u001b[0;34m)\u001b[0m\u001b[0;34m\u001b[0m\u001b[0;34m\u001b[0m\u001b[0m\n",
      "\u001b[0;31mTypeError\u001b[0m: 'str' object does not support item assignment"
     ]
    }
   ],
   "source": [
    "# strings are immutable \n",
    "\n",
    "message = \"Welcome to GeeksforGeeks\"\n",
    "message[0] = 'p'\n",
    "print(message)"
   ]
  },
  {
   "cell_type": "markdown",
   "metadata": {},
   "source": [
    "## Mutable Objects\n",
    "\n",
    "* These are of type `list`, `dict`, `set`\n",
    "* Custom classes are generally mutable."
   ]
  },
  {
   "cell_type": "code",
   "execution_count": 3,
   "metadata": {},
   "outputs": [
    {
     "name": "stdout",
     "output_type": "stream",
     "text": [
      "['red', 'blue', 'green']\n",
      "['pink', 'blue', 'orange']\n"
     ]
    }
   ],
   "source": [
    "# lists are mutable \n",
    "color = [\"red\", \"blue\", \"green\"] \n",
    "print(color) \n",
    "\n",
    "color[0] = \"pink\"\n",
    "color[-1] = \"orange\"\n",
    "print(color) "
   ]
  },
  {
   "cell_type": "markdown",
   "metadata": {},
   "source": [
    "## Mutable and immutable objects are handled differently in Python \n",
    "\n",
    "* Immutable:\n",
    "    * quicker to access \n",
    "    * expensive to change because it involves the creation of a copy.\n",
    "    * used when you need to ensure that the object you made will always stay the same\n",
    "* Mutable objects:\n",
    "    * cheaper to change.\n",
    "    * great to use when you need to change the size of the object, example list, dict etc\n",
    "    \n",
    "## Exception in immutability:\n",
    "\n",
    "* Tuple = immutable. \n",
    "* Tuple consists of a sequence of names with unchangeable bindings to objects.\n",
    "* The bindings are unchangeable, not the objects they are bound to.\n",
    "* E.g.:    "
   ]
  },
  {
   "cell_type": "code",
   "execution_count": 4,
   "metadata": {},
   "outputs": [
    {
     "name": "stdout",
     "output_type": "stream",
     "text": [
      "([3, 4, 5], 'myname')\n"
     ]
    }
   ],
   "source": [
    "tup = ([3, 4, 5], 'myname') \n",
    "print(tup)"
   ]
  },
  {
   "cell_type": "markdown",
   "metadata": {},
   "source": [
    "* Strings are immutable so we can’t change its value. But the contents of the list can change:"
   ]
  },
  {
   "cell_type": "code",
   "execution_count": 5,
   "metadata": {},
   "outputs": [
    {
     "name": "stdout",
     "output_type": "stream",
     "text": [
      "([6, 4, 5], 'myname')\n"
     ]
    }
   ],
   "source": [
    "tup[0][0] = 6\n",
    "print(tup)"
   ]
  },
  {
   "cell_type": "markdown",
   "metadata": {},
   "source": [
    "* The tuple itself isn’t mutable but contain items that are mutable.\n",
    "\n",
    "**Note:** As a rule of thumb, Primitive-like types are probably immutable and customized container-like types are mostly mutable."
   ]
  },
  {
   "cell_type": "markdown",
   "metadata": {},
   "source": [
    "## Collections\n",
    "\n",
    "<p align=\"center\">\n",
    "<img src=\"resources/collections_mutable.png\" alt=\"collections_mutable\" width=\"600\"/>\n",
    "</p>\n",
    "\n",
    "## Id and Type\n",
    "\n",
    "### `id()` \n",
    "\n",
    "* returns the identity of an object as an integer\n",
    "* corresponds to the object’s location in memory\n",
    "* this is specific to the Python implementation and the platform being used\n",
    "* `is` operator compares the identity of two objects"
   ]
  },
  {
   "cell_type": "code",
   "execution_count": 6,
   "metadata": {},
   "outputs": [
    {
     "name": "stdout",
     "output_type": "stream",
     "text": [
      "4460892400\n",
      "4460892400\n",
      "True\n"
     ]
    }
   ],
   "source": [
    "x = \"Holberton\"\n",
    "y = \"Holberton\"\n",
    "print(id(x))\n",
    "print(id(y))\n",
    "print(x is y)"
   ]
  },
  {
   "cell_type": "markdown",
   "metadata": {},
   "source": [
    "### `type()`\n",
    "\n",
    "* returns type of object"
   ]
  },
  {
   "cell_type": "code",
   "execution_count": 7,
   "metadata": {},
   "outputs": [
    {
     "name": "stdout",
     "output_type": "stream",
     "text": [
      "<class 'int'>\n",
      "<class 'str'>\n"
     ]
    }
   ],
   "source": [
    "a = 50\n",
    "print(type(a))\n",
    "b = \"Jacob\"\n",
    "print(type(b))"
   ]
  },
  {
   "cell_type": "markdown",
   "metadata": {},
   "source": [
    "## Practical example to find out the mutability of object types\n",
    "\n",
    "### Immutable Objects"
   ]
  },
  {
   "cell_type": "code",
   "execution_count": 8,
   "metadata": {},
   "outputs": [
    {
     "name": "stdout",
     "output_type": "stream",
     "text": [
      "True\n",
      "True\n"
     ]
    }
   ],
   "source": [
    "x = 10\n",
    "y = x\n",
    "\n",
    "print(id(x) == id(y))\n",
    "print(id(y) == id(10))"
   ]
  },
  {
   "cell_type": "markdown",
   "metadata": {},
   "source": [
    "* Same object referenced in memory:\n",
    "\n",
    "<p align=\"center\">\n",
    "<img src=\"resources/immutable_1.png\" alt=\"immutable_1\" width=\"450\"/>\n",
    "</p>"
   ]
  },
  {
   "cell_type": "code",
   "execution_count": 9,
   "metadata": {},
   "outputs": [
    {
     "name": "stdout",
     "output_type": "stream",
     "text": [
      "False\n",
      "False\n"
     ]
    }
   ],
   "source": [
    "x = x + 1\n",
    "print(id(x) == id(y))\n",
    "print(id(x) == id(10))"
   ]
  },
  {
   "cell_type": "markdown",
   "metadata": {},
   "source": [
    "* `int` object not modified\n",
    "* new object created and x points to it\n",
    "\n",
    "<p align=\"center\">\n",
    "<img src=\"resources/immutable_2.png\" alt=\"immutable_2\" width=\"450\"/>\n",
    "</p>"
   ]
  },
  {
   "cell_type": "markdown",
   "metadata": {},
   "source": [
    "* The object in which x was tagged is changed\n",
    "* object 10 was never modified\n",
    "\n",
    "### Immutable Objects"
   ]
  },
  {
   "cell_type": "code",
   "execution_count": 10,
   "metadata": {},
   "outputs": [
    {
     "name": "stdout",
     "output_type": "stream",
     "text": [
      "True\n"
     ]
    }
   ],
   "source": [
    "m = list([1, 2, 3])\n",
    "n = m\n",
    "\n",
    "print(id(m) == id(n))"
   ]
  },
  {
   "cell_type": "markdown",
   "metadata": {},
   "source": [
    "* identifiers m and m tagged to the same list object, which is a collection of 3 immutable int objects.\n",
    "\n",
    "<p align=\"center\">\n",
    "<img src=\"resources/mutable_1.png\" alt=\"mutable_1\" width=\"450\"/>\n",
    "</p>\n",
    "\n",
    "* Popping item from list = changes the object"
   ]
  },
  {
   "cell_type": "code",
   "execution_count": 11,
   "metadata": {},
   "outputs": [
    {
     "data": {
      "text/plain": [
       "3"
      ]
     },
     "execution_count": 11,
     "metadata": {},
     "output_type": "execute_result"
    }
   ],
   "source": [
    "m.pop()"
   ]
  },
  {
   "cell_type": "markdown",
   "metadata": {},
   "source": [
    "* but object id won't change\n",
    "\n",
    "<p align=\"center\">\n",
    "<img src=\"resources/mutable_2.png\" alt=\"mutable_2\" width=\"450\"/>\n",
    "</p>"
   ]
  },
  {
   "cell_type": "code",
   "execution_count": 12,
   "metadata": {},
   "outputs": [
    {
     "name": "stdout",
     "output_type": "stream",
     "text": [
      "True\n"
     ]
    }
   ],
   "source": [
    "print(id(m) == id(n))"
   ]
  },
  {
   "cell_type": "markdown",
   "metadata": {},
   "source": [
    "* m and n will be pointing to the same list object even after the modification. \n",
    "* The list object will now contain [1, 2].\n",
    "\n",
    "## How objects are passed to Functions\n",
    "\n",
    "* Python is **pass-by-object-reference**\n",
    "* This means:\n",
    "    1. For mutable objects:\n",
    "        * it can change the original variable itself\n",
    "        * to avoid this, the original variable needs to be **copied to another variable**\n",
    "    2. Immutable objects can be called by reference because its value cannot be changed anyway"
   ]
  },
  {
   "cell_type": "code",
   "execution_count": 13,
   "metadata": {},
   "outputs": [
    {
     "name": "stdout",
     "output_type": "stream",
     "text": [
      "4442600464\n",
      "[5, 6, 10]\n",
      "4442600464\n"
     ]
    }
   ],
   "source": [
    "def updateList(list1):\n",
    "    list1 += [10]\n",
    "\n",
    "# list is a mutable object\n",
    "n = [5,6]\n",
    "print(id(n))\n",
    "\n",
    "# appending new element to list\n",
    "updateList(n)\n",
    "\n",
    "# n updates\n",
    "print(n)\n",
    "\n",
    "# id of n is the same\n",
    "print(id(n))"
   ]
  },
  {
   "cell_type": "code",
   "execution_count": 14,
   "metadata": {},
   "outputs": [
    {
     "name": "stdout",
     "output_type": "stream",
     "text": [
      "Value of b before updating:  5\n",
      "Id before updating:  4405243792\n",
      "Id after updating:  4405244112\n",
      "Value of b after updating:  5\n"
     ]
    }
   ],
   "source": [
    "def updateNumber(n):\n",
    "    print(\"Id before updating: \", id(n))\n",
    "    n += 10\n",
    "    print(\"Id after updating: \", id(n))\n",
    "\n",
    "# int is immutable\n",
    "b = 5\n",
    "print(\"Value of b before updating: \", b)\n",
    "\n",
    "# adding 10 to 'b' \n",
    "updateNumber(b)\n",
    "\n",
    "# object contents are the same\n",
    "print(\"Value of b after updating: \", b)"
   ]
  },
  {
   "cell_type": "markdown",
   "metadata": {},
   "source": [
    "* value of `b` is initially 5\n",
    "* `n += 10` is actually creating a new object with value 15\n",
    "* Since pass by reference and `int` is immutable, actual value of b doesn't change"
   ]
  },
  {
   "cell_type": "markdown",
   "metadata": {},
   "source": [
    "## References\n",
    "\n",
    "1. [GeeksForGeeks - Mutable vs Immutable Objects in Python](https://www.geeksforgeeks.org/mutable-vs-immutable-objects-in-python/)\n",
    "2. [Medium - Mutable vs Immutable Objects in Python](https://medium.com/@meghamohan/mutable-and-immutable-side-of-python-c2145cf72747)\n",
    "3. [Robert Heaton - Is Python pass-by-reference or pass-by-value?](https://robertheaton.com/2014/02/09/pythons-pass-by-object-reference-as-explained-by-philip-k-dick/)"
   ]
  }
 ],
 "metadata": {
  "kernelspec": {
   "display_name": "Python 3",
   "language": "python",
   "name": "python3"
  },
  "language_info": {
   "codemirror_mode": {
    "name": "ipython",
    "version": 3
   },
   "file_extension": ".py",
   "mimetype": "text/x-python",
   "name": "python",
   "nbconvert_exporter": "python",
   "pygments_lexer": "ipython3",
   "version": "3.7.6"
  }
 },
 "nbformat": 4,
 "nbformat_minor": 2
}

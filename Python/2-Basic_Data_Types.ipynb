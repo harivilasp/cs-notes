{
 "cells": [
  {
   "cell_type": "markdown",
   "metadata": {},
   "source": [
    "# Basic Data Types in Python\n",
    "\n",
    "\n",
    "## Integers\n",
    "\n",
    "* effectively no limit to how long an integer value can be\n",
    "* constrained by the amount of memory your system has\n",
    "* Python interprets a sequence of decimal digits without any prefix to be a decimal number"
   ]
  },
  {
   "cell_type": "code",
   "execution_count": 1,
   "metadata": {},
   "outputs": [
    {
     "name": "stdout",
     "output_type": "stream",
     "text": [
      "123123123123123123123123123123123123123123123124\n"
     ]
    }
   ],
   "source": [
    "print(123123123123123123123123123123123123123123123123 + 1)"
   ]
  },
  {
   "cell_type": "markdown",
   "metadata": {},
   "source": [
    "* The following strings can be prepended to an integer value to indicate a base other than 10:\n",
    "\n",
    "<p align=\"center\">\n",
    "<img src=\"resources/hex_bin_oct.png\" alt=\"hex_bin_oct\" width=\"600\"/>\n",
    "</p>"
   ]
  },
  {
   "cell_type": "code",
   "execution_count": 2,
   "metadata": {},
   "outputs": [
    {
     "name": "stdout",
     "output_type": "stream",
     "text": [
      "2\n",
      "8\n",
      "23\n"
     ]
    }
   ],
   "source": [
    "print(0b10)\n",
    "print(0o10)\n",
    "print(0x17)"
   ]
  },
  {
   "cell_type": "markdown",
   "metadata": {},
   "source": [
    "* The underlying `type()` of a Python integer, irrespective of the base used to specify it, is called `int`:"
   ]
  },
  {
   "cell_type": "code",
   "execution_count": 3,
   "metadata": {},
   "outputs": [
    {
     "name": "stdout",
     "output_type": "stream",
     "text": [
      "<class 'int'>\n",
      "<class 'int'>\n",
      "<class 'int'>\n"
     ]
    }
   ],
   "source": [
    "print(type(0b10))\n",
    "print(type(0o10))\n",
    "print(type(0x17))"
   ]
  },
  {
   "cell_type": "markdown",
   "metadata": {},
   "source": [
    "## Floating-Point Numbers\n",
    "\n",
    "* `float` type in Python designates a floating-point number\n",
    "* Optionally, the character `e` or `E` followed by a positive or negative integer may be appended to specify scientific notation"
   ]
  },
  {
   "cell_type": "code",
   "execution_count": 4,
   "metadata": {},
   "outputs": [
    {
     "name": "stdout",
     "output_type": "stream",
     "text": [
      "<class 'float'>\n",
      "<class 'float'>\n",
      "<class 'float'>\n",
      "4000000.0\n",
      "0.00042\n",
      "<class 'float'>\n"
     ]
    }
   ],
   "source": [
    "print(type(4.2))\n",
    "print(type(.4))\n",
    "print(type(2.))\n",
    "print(.4e7)\n",
    "print(4.2E-4)\n",
    "print(type(4.2E-4))"
   ]
  },
  {
   "cell_type": "markdown",
   "metadata": {},
   "source": [
    "* all platforms represent Python `float` values as 64-bit “double-precision” values, according to the IEEE 754 standard\n",
    "* the maximum value a floating-point number can have is approximately 1.8 ⨉ 10<sup>308</sup>\n",
    "* Python will indicate a number greater than that by the string `inf`:"
   ]
  },
  {
   "cell_type": "code",
   "execution_count": 5,
   "metadata": {},
   "outputs": [
    {
     "name": "stdout",
     "output_type": "stream",
     "text": [
      "1.79e+308\n",
      "inf\n"
     ]
    }
   ],
   "source": [
    "print(1.79e308)\n",
    "print(1.81e308)"
   ]
  },
  {
   "cell_type": "markdown",
   "metadata": {},
   "source": [
    "* The closest a nonzero number can be to zero is approximately 5.0 ⨉ 10<sup>-324</sup>. Anything closer to zero than that is effectively zero:"
   ]
  },
  {
   "cell_type": "code",
   "execution_count": 6,
   "metadata": {},
   "outputs": [
    {
     "name": "stdout",
     "output_type": "stream",
     "text": [
      "5e-324\n",
      "0.0\n"
     ]
    }
   ],
   "source": [
    "print(5e-324)\n",
    "print(1e-325)"
   ]
  },
  {
   "cell_type": "markdown",
   "metadata": {},
   "source": [
    "* Floating point numbers are represented internally as binary (base-2) fractions\n",
    "* Most decimal fractions cannot be represented exactly as binary fractions\n",
    "* So in most cases the internal representation of a floating-point number is an **approximation** of the actual value"
   ]
  },
  {
   "cell_type": "markdown",
   "metadata": {},
   "source": [
    "## Complex Numbers\n",
    "\n",
    "* Complex numbers are specified as `<real part>+<imaginary part>j`"
   ]
  },
  {
   "cell_type": "code",
   "execution_count": 7,
   "metadata": {},
   "outputs": [
    {
     "name": "stdout",
     "output_type": "stream",
     "text": [
      "(2+3j)\n",
      "<class 'complex'>\n"
     ]
    }
   ],
   "source": [
    "print(2+3j)\n",
    "print(type(2+3j))"
   ]
  },
  {
   "cell_type": "markdown",
   "metadata": {},
   "source": [
    "## Strings\n",
    "\n",
    "* Strings are sequences of character data\n",
    "* String literals may be delimited using either single or double quotes\n",
    "* Only limit is your machine’s memory resources"
   ]
  },
  {
   "cell_type": "code",
   "execution_count": 8,
   "metadata": {},
   "outputs": [
    {
     "name": "stdout",
     "output_type": "stream",
     "text": [
      "I am a string.\n",
      "I am too.\n"
     ]
    }
   ],
   "source": [
    "print(\"I am a string.\")\n",
    "print('I am too.')"
   ]
  },
  {
   "cell_type": "markdown",
   "metadata": {},
   "source": [
    "## Escape Sequences in Strings\n",
    "\n",
    "### Suppressing Special Character Meaning\n",
    "\n",
    "The following is a table of escape sequences which cause Python to suppress the usual special interpretation of a character in a string:\n",
    "\n",
    "<p align=\"center\">\n",
    "<img src=\"resources/escape_sequences.png\" alt=\"escape_sequences\" width=\"600\"/>\n",
    "</p>\n",
    "\n",
    "* Ordinarily, a newline character terminates line input.\n",
    "* To break up a string over more than one line, include a backslash before each newline, and the newlines will be ignored:"
   ]
  },
  {
   "cell_type": "code",
   "execution_count": 9,
   "metadata": {},
   "outputs": [
    {
     "name": "stdout",
     "output_type": "stream",
     "text": [
      "abc\n"
     ]
    }
   ],
   "source": [
    "print('a\\\n",
    "b\\\n",
    "c')"
   ]
  },
  {
   "cell_type": "markdown",
   "metadata": {},
   "source": [
    "### Applying Special Meaning to Characters\n",
    "\n",
    "<p align=\"center\">\n",
    "<img src=\"resources/special_characters.png\" alt=\"special_characters\" width=\"600\"/>\n",
    "</p>\n",
    "\n",
    "* Some text editors may allow you to insert a tab character directly into your code. \n",
    "* But many programmers consider that poor practice:\n",
    "    1. The computer can distinguish between a tab character and a sequence of space characters, but **you can’t**. To a human reading the code, tab and space characters are **visually indistinguishable**.\n",
    "    2. Some text editors are configured to **automatically eliminate tab characters** by expanding them to the appropriate number of spaces."
   ]
  },
  {
   "cell_type": "code",
   "execution_count": 10,
   "metadata": {},
   "outputs": [
    {
     "name": "stdout",
     "output_type": "stream",
     "text": [
      "a\tb\n",
      "→ →\n"
     ]
    }
   ],
   "source": [
    "print(\"a\\tb\")\n",
    "print('\\u2192 \\N{rightwards arrow}')"
   ]
  },
  {
   "cell_type": "markdown",
   "metadata": {},
   "source": [
    "### Raw Strings\n",
    "\n",
    "* A raw string literal is preceded by r or R, which specifies that escape sequences in the associated string are not translated. \n",
    "* E.g. The backslash character is left in the string:"
   ]
  },
  {
   "cell_type": "code",
   "execution_count": 11,
   "metadata": {},
   "outputs": [
    {
     "name": "stdout",
     "output_type": "stream",
     "text": [
      "foo\\\\bar\n"
     ]
    }
   ],
   "source": [
    "print(R'foo\\\\bar')"
   ]
  },
  {
   "cell_type": "markdown",
   "metadata": {},
   "source": [
    "### Triple-Quoted Strings\n",
    "\n",
    "* Triple-quoted strings are delimited by matching groups of three single quotes or three double quotes\n",
    "* A **delimiter** is a sequence of one or more characters for specifying the boundary between separate, independent regions in plain text or other data streams.\n",
    "* Because newlines can be included without escaping them, this also allows for multiline strings:"
   ]
  },
  {
   "cell_type": "code",
   "execution_count": 12,
   "metadata": {},
   "outputs": [
    {
     "name": "stdout",
     "output_type": "stream",
     "text": [
      "This is a\n",
      "string that spans\n",
      "across several lines\n"
     ]
    }
   ],
   "source": [
    "print(\"\"\"This is a\n",
    "string that spans\n",
    "across several lines\"\"\")"
   ]
  },
  {
   "cell_type": "markdown",
   "metadata": {},
   "source": [
    "## Boolean"
   ]
  },
  {
   "cell_type": "code",
   "execution_count": 13,
   "metadata": {},
   "outputs": [
    {
     "data": {
      "text/plain": [
       "bool"
      ]
     },
     "execution_count": 13,
     "metadata": {},
     "output_type": "execute_result"
    }
   ],
   "source": [
    "type(True)"
   ]
  },
  {
   "cell_type": "markdown",
   "metadata": {},
   "source": [
    "## Built-in Functions\n",
    "\n",
    "The Python interpreter supports many functions that are built-in: sixty-eight, as of Python 3.6"
   ]
  },
  {
   "cell_type": "markdown",
   "metadata": {},
   "source": [
    "### Math\n",
    "\n",
    "<p align=\"center\">\n",
    "<img src=\"resources/math.png\" alt=\"math\" width=\"600\"/>\n",
    "</p>\n",
    "\n",
    "### Type Conversion\n",
    "\n",
    "<p align=\"center\">\n",
    "<img src=\"resources/type.png\" alt=\"type\" width=\"600\"/>\n",
    "</p>\n",
    "\n",
    "### Iterables and Iterators\n",
    "\n",
    "<p align=\"center\">\n",
    "<img src=\"resources/iterables.png\" alt=\"iterables\" width=\"600\"/>\n",
    "</p>\n",
    "\n",
    "### Composite Data Type\n",
    "\n",
    "<p align=\"center\">\n",
    "<img src=\"resources/composite.png\" alt=\"composite\" width=\"600\"/>\n",
    "</p>\n",
    "\n",
    "### Classes, Attributes, and Inheritance\n",
    "\n",
    "<p align=\"center\">\n",
    "<img src=\"resources/classes.png\" alt=\"classes\" width=\"600\"/>\n",
    "</p>\n",
    "\n",
    "### Input/Output\n",
    "\n",
    "<p align=\"center\">\n",
    "<img src=\"resources/io.png\" alt=\"io\" width=\"600\"/>\n",
    "</p>\n",
    "\n",
    "### Variables, References, and Scope\n",
    "\n",
    "<p align=\"center\">\n",
    "<img src=\"resources/vars.png\" alt=\"vars\" width=\"600\"/>\n",
    "</p>\n",
    "\n",
    "### Miscellaneous\n",
    "\n",
    "<p align=\"center\">\n",
    "<img src=\"resources/miscellaneous.png\" alt=\"miscellaneous\" width=\"600\"/>\n",
    "</p>"
   ]
  },
  {
   "cell_type": "markdown",
   "metadata": {},
   "source": [
    "### References\n",
    "\n",
    "1. [RealPython - Basic Data Types](https://realpython.com/python-data-types/)\n",
    "2. [Wikipedia - delimiter](https://en.wikipedia.org/wiki/Delimiter)"
   ]
  }
 ],
 "metadata": {
  "kernelspec": {
   "display_name": "Python 3",
   "language": "python",
   "name": "python3"
  },
  "language_info": {
   "codemirror_mode": {
    "name": "ipython",
    "version": 3
   },
   "file_extension": ".py",
   "mimetype": "text/x-python",
   "name": "python",
   "nbconvert_exporter": "python",
   "pygments_lexer": "ipython3",
   "version": "3.7.5"
  }
 },
 "nbformat": 4,
 "nbformat_minor": 2
}

{
 "cells": [
  {
   "cell_type": "markdown",
   "metadata": {},
   "source": [
    "# Dictionaries\n",
    "\n",
    "* Dictionary keys have to be an object that can be assigned a hash value\n",
    "* These objects are **immutable**, like tuples or string\n",
    "* Mutable objects like lists, sets and dictionaries cannot be assigned as a key because they can be changed later on *without creating a copy of themselves*"
   ]
  },
  {
   "cell_type": "code",
   "execution_count": 1,
   "metadata": {},
   "outputs": [
    {
     "ename": "TypeError",
     "evalue": "unhashable type: 'list'",
     "output_type": "error",
     "traceback": [
      "\u001b[0;31m---------------------------------------------------------------------------\u001b[0m",
      "\u001b[0;31mTypeError\u001b[0m                                 Traceback (most recent call last)",
      "\u001b[0;32m<ipython-input-1-6f6d2cca9eb7>\u001b[0m in \u001b[0;36m<module>\u001b[0;34m\u001b[0m\n\u001b[1;32m      3\u001b[0m dictionary = {\n\u001b[1;32m      4\u001b[0m     \u001b[0;31m# list1 = [1, 2, 3]\u001b[0m\u001b[0;34m\u001b[0m\u001b[0;34m\u001b[0m\u001b[0;34m\u001b[0m\u001b[0m\n\u001b[0;32m----> 5\u001b[0;31m     \u001b[0mlist1\u001b[0m\u001b[0;34m:\u001b[0m \u001b[0;34m\"a_value\"\u001b[0m\u001b[0;34m,\u001b[0m\u001b[0;34m\u001b[0m\u001b[0;34m\u001b[0m\u001b[0m\n\u001b[0m\u001b[1;32m      6\u001b[0m }\n",
      "\u001b[0;31mTypeError\u001b[0m: unhashable type: 'list'"
     ]
    }
   ],
   "source": [
    "list1 = [1, 2, 3] # mutable object\n",
    "\n",
    "dictionary = {\n",
    "    # list1 = [1, 2, 3]\n",
    "    list1: \"a_value\", \n",
    "}\n",
    "\n",
    "# returns type error"
   ]
  },
  {
   "cell_type": "markdown",
   "metadata": {},
   "source": [
    "## The Traditional (Bad) Way to Access a Dictionary Value\n",
    "\n",
    "* trying to reference a term that doesn’t exist causes a `KeyError`.\n",
    "* can cause major headaches, especially when dealing with unpredictable business data"
   ]
  },
  {
   "cell_type": "code",
   "execution_count": 2,
   "metadata": {},
   "outputs": [
    {
     "name": "stdout",
     "output_type": "stream",
     "text": [
      "jhsu98\n"
     ]
    },
    {
     "ename": "KeyError",
     "evalue": "'middle_initial'",
     "output_type": "error",
     "traceback": [
      "\u001b[0;31m---------------------------------------------------------------------------\u001b[0m",
      "\u001b[0;31mKeyError\u001b[0m                                  Traceback (most recent call last)",
      "\u001b[0;32m<ipython-input-2-a5001418c055>\u001b[0m in \u001b[0;36m<module>\u001b[0;34m\u001b[0m\n\u001b[1;32m      5\u001b[0m }\n\u001b[1;32m      6\u001b[0m \u001b[0mprint\u001b[0m\u001b[0;34m(\u001b[0m\u001b[0mauthor\u001b[0m\u001b[0;34m[\u001b[0m\u001b[0;34m'username'\u001b[0m\u001b[0;34m]\u001b[0m\u001b[0;34m)\u001b[0m \u001b[0;31m# jhsu98\u001b[0m\u001b[0;34m\u001b[0m\u001b[0;34m\u001b[0m\u001b[0m\n\u001b[0;32m----> 7\u001b[0;31m \u001b[0mprint\u001b[0m\u001b[0;34m(\u001b[0m\u001b[0mauthor\u001b[0m\u001b[0;34m[\u001b[0m\u001b[0;34m'middle_initial'\u001b[0m\u001b[0;34m]\u001b[0m\u001b[0;34m)\u001b[0m \u001b[0;31m# KeyError: 'middle_initial'\u001b[0m\u001b[0;34m\u001b[0m\u001b[0;34m\u001b[0m\u001b[0m\n\u001b[0m",
      "\u001b[0;31mKeyError\u001b[0m: 'middle_initial'"
     ]
    }
   ],
   "source": [
    "author = {\n",
    "   \"first_name\": \"Jonathan\",\n",
    "   \"last_name\": \"Hsu\",\n",
    "   \"username\": \"jhsu98\"\n",
    "}\n",
    "print(author['username']) # jhsu98\n",
    "print(author['middle_initial']) # KeyError: 'middle_initial'"
   ]
  },
  {
   "cell_type": "markdown",
   "metadata": {},
   "source": [
    "**Possible solutions**\n",
    "\n",
    "* could wrap our statement in a `try/except` - But effort will pile up"
   ]
  },
  {
   "cell_type": "code",
   "execution_count": 4,
   "metadata": {},
   "outputs": [
    {
     "name": "stdout",
     "output_type": "stream",
     "text": [
      "'username'\n"
     ]
    }
   ],
   "source": [
    "author = {}\n",
    "\n",
    "# using try catch\n",
    "try:\n",
    "   print(author['username'])\n",
    "except KeyError as e:\n",
    "   print(e) # 'username'"
   ]
  },
  {
   "cell_type": "markdown",
   "metadata": {},
   "source": [
    "* or `if` statement - still doesn't work"
   ]
  },
  {
   "cell_type": "code",
   "execution_count": 7,
   "metadata": {
    "scrolled": true
   },
   "outputs": [
    {
     "ename": "KeyError",
     "evalue": "'username'",
     "output_type": "error",
     "traceback": [
      "\u001b[0;31m---------------------------------------------------------------------------\u001b[0m",
      "\u001b[0;31mKeyError\u001b[0m                                  Traceback (most recent call last)",
      "\u001b[0;32m<ipython-input-7-bda85355848c>\u001b[0m in \u001b[0;36m<module>\u001b[0;34m\u001b[0m\n\u001b[0;32m----> 1\u001b[0;31m \u001b[0;32mif\u001b[0m\u001b[0;34m(\u001b[0m\u001b[0mauthor\u001b[0m\u001b[0;34m[\u001b[0m\u001b[0;34m'username'\u001b[0m\u001b[0;34m]\u001b[0m\u001b[0;34m)\u001b[0m\u001b[0;34m:\u001b[0m\u001b[0;34m\u001b[0m\u001b[0;34m\u001b[0m\u001b[0m\n\u001b[0m\u001b[1;32m      2\u001b[0m    \u001b[0mprint\u001b[0m\u001b[0;34m(\u001b[0m\u001b[0mauthor\u001b[0m\u001b[0;34m[\u001b[0m\u001b[0;34m'username'\u001b[0m\u001b[0;34m]\u001b[0m\u001b[0;34m)\u001b[0m\u001b[0;34m\u001b[0m\u001b[0;34m\u001b[0m\u001b[0m\n",
      "\u001b[0;31mKeyError\u001b[0m: 'username'"
     ]
    }
   ],
   "source": [
    "if(author['username']):\n",
    "   print(author['username'])"
   ]
  },
  {
   "cell_type": "markdown",
   "metadata": {},
   "source": [
    "## Using the `.get()` Method\n",
    "\n",
    "* Safe method\n",
    "* `dictionary.get(keyname, value)`:\n",
    "    1. `keyname`(required): This can be a String or a variable, allowing for dynamic term retrieval.\n",
    "    2. `value`(optional): the value to be used as a default if the term doesn’t exist."
   ]
  },
  {
   "cell_type": "code",
   "execution_count": 8,
   "metadata": {},
   "outputs": [
    {
     "name": "stdout",
     "output_type": "stream",
     "text": [
      "jhsu98\n",
      "None\n"
     ]
    }
   ],
   "source": [
    "author = {\n",
    "   \"first_name\": \"Jonathan\",\n",
    "   \"last_name\": \"Hsu\",\n",
    "   \"username\": \"jhsu98\"\n",
    "}\n",
    "print(author.get('username')) # jhsu98\n",
    "print(author.get('middle_initial', None)) # None"
   ]
  },
  {
   "cell_type": "markdown",
   "metadata": {},
   "source": [
    "## Using the `.setdefault()` Method\n",
    "\n",
    "* not only do you want to protect from an undefined term in your dictionary, but you also want your code to **self-correct its data structures**\n",
    "* `.setdefault()` is structured identically to `.get()`\n",
    "* However, when the term is undefined, in addition to returning a default value, the **dictionary’s term will be set to this value as well.**"
   ]
  },
  {
   "cell_type": "code",
   "execution_count": 9,
   "metadata": {},
   "outputs": [
    {
     "name": "stdout",
     "output_type": "stream",
     "text": [
      "jhsu98\n",
      "None\n",
      "{'first_name': 'Jonathan', 'last_name': 'Hsu', 'username': 'jhsu98', 'middle_initial': None}\n"
     ]
    }
   ],
   "source": [
    "author = {\n",
    "   \"first_name\": \"Jonathan\",\n",
    "   \"last_name\": \"Hsu\",\n",
    "   \"username\": \"jhsu98\"\n",
    "}\n",
    "print(author.setdefault('username')) # jhsu98\n",
    "print(author.setdefault('middle_initial', None)) # None\n",
    "print(author)"
   ]
  },
  {
   "cell_type": "markdown",
   "metadata": {},
   "source": [
    "## References\n",
    "\n",
    "1. [Medium - How dictionaries work in Python](https://medium.com/@faith.chikwekwe/how-dictionaries-work-in-python-162c6386c2cf)\n",
    "2. [Medium - Stop Using Square Bracket Notation to Get a Dictionary’s Value in Python](https://medium.com/better-programming/stop-using-square-bracket-notation-to-get-a-dictionarys-value-in-python-c617f6ea15a3)"
   ]
  }
 ],
 "metadata": {
  "kernelspec": {
   "display_name": "Python 3",
   "language": "python",
   "name": "python3"
  },
  "language_info": {
   "codemirror_mode": {
    "name": "ipython",
    "version": 3
   },
   "file_extension": ".py",
   "mimetype": "text/x-python",
   "name": "python",
   "nbconvert_exporter": "python",
   "pygments_lexer": "ipython3",
   "version": "3.7.6"
  }
 },
 "nbformat": 4,
 "nbformat_minor": 4
}

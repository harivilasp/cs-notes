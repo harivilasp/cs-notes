{
 "cells": [
  {
   "cell_type": "markdown",
   "metadata": {},
   "source": [
    "# Basic Operators in Python\n",
    "\n",
    "* Operators are the constructs which can manipulate the value of operands.\n",
    "* They are:\n",
    "    1. Arithmetic Operators\n",
    "    2. Comparison (Relational) Operators\n",
    "    3. Assignment Operators\n",
    "    4. Logical Operators\n",
    "    5. Bitwise Operators\n",
    "    6. Membership Operators\n",
    "    7. Identity Operators\n",
    "    \n",
    "## 1. Arithmetic Operators\n",
    "\n",
    "<p align=\"center\">\n",
    "<img src=\"resources/operators/Arithmetic.png\" alt=\"Arithmetic\" width=\"700\"/>\n",
    "</p>"
   ]
  },
  {
   "cell_type": "markdown",
   "metadata": {},
   "source": [
    "## 2. Comparison (Relational) Operators\n",
    "\n",
    "* These operators compare the values on either sides of them and decide the relation among them. They are also called Relational operators.\n",
    "\n",
    "<p align=\"center\">\n",
    "<img src=\"resources/operators/Comparison.png\" alt=\"Comparison\" width=\"700\"/>\n",
    "</p>\n",
    "\n",
    "### Comparisons in NumPy"
   ]
  },
  {
   "cell_type": "code",
   "execution_count": 3,
   "metadata": {},
   "outputs": [
    {
     "name": "stdout",
     "output_type": "stream",
     "text": [
      "[ True  True False False]\n",
      "[False  True  True False]\n"
     ]
    }
   ],
   "source": [
    "# Create arrays\n",
    "import numpy as np\n",
    "my_house = np.array([18.0, 20.0, 10.75, 9.50])\n",
    "your_house = np.array([14.0, 24.0, 14.25, 9.0])\n",
    "\n",
    "# my_house greater than or equal to 18\n",
    "print(my_house >= 18)\n",
    "\n",
    "# my_house less than your_house\n",
    "print(my_house <= your_house)"
   ]
  },
  {
   "cell_type": "markdown",
   "metadata": {},
   "source": [
    "## 3. Assignment Operators\n",
    "\n",
    "<p align=\"center\">\n",
    "<img src=\"resources/operators/Assignment.png\" alt=\"Assignment\" width=\"700\"/>\n",
    "</p>"
   ]
  },
  {
   "cell_type": "markdown",
   "metadata": {},
   "source": [
    "## 4. Logical Operators\n",
    "\n",
    "<p align=\"center\">\n",
    "<img src=\"resources/operators/Logical.png\" alt=\"Logical\" width=\"700\"/>\n",
    "</p>\n",
    "\n",
    "### Boolean operators with NumPy\n",
    "\n",
    "* The operational operators like `<` and `>=` worked with Numpy arrays out of the box. \n",
    "* Unfortunately, this is not true for the boolean operators `and`, `or`, and `not`.\n",
    "* need `np.logical_and()`, `np.logical_or()` and `np.logical_not()`"
   ]
  },
  {
   "cell_type": "code",
   "execution_count": 5,
   "metadata": {},
   "outputs": [
    {
     "name": "stdout",
     "output_type": "stream",
     "text": [
      "[False  True False  True]\n",
      "[False False False  True]\n"
     ]
    }
   ],
   "source": [
    "# Create arrays\n",
    "import numpy as np\n",
    "my_house = np.array([18.0, 20.0, 10.75, 9.50])\n",
    "your_house = np.array([14.0, 24.0, 14.25, 9.0])\n",
    "\n",
    "# my_house greater than 18.5 or smaller than 10\n",
    "print(np.logical_or(my_house > 18.5,  my_house < 10))\n",
    "\n",
    "# Both my_house and your_house smaller than 11\n",
    "print(np.logical_and(my_house < 11, your_house < 11))"
   ]
  },
  {
   "cell_type": "markdown",
   "metadata": {},
   "source": [
    "## 5. Bitwise Operators\n",
    "\n",
    "* Bitwise operator works on bits and performs bit by bit operation\n",
    "\n",
    "<p align=\"center\">\n",
    "<img src=\"resources/operators/Bitwise.png\" alt=\"Bitwise\" width=\"700\"/>\n",
    "</p>"
   ]
  },
  {
   "cell_type": "markdown",
   "metadata": {},
   "source": [
    "## 6. Membership Operators\n",
    "\n",
    "* Python’s membership operators test for membership in a sequence, such as strings, lists, or tuples\n",
    "\n",
    "<p align=\"center\">\n",
    "<img src=\"resources/operators/Membership.png\" alt=\"Membership\" width=\"700\"/>\n",
    "</p>"
   ]
  },
  {
   "cell_type": "markdown",
   "metadata": {},
   "source": [
    "## 7. Identity Operators\n",
    "\n",
    "* Identity operators compare the memory locations of two objects\n",
    "\n",
    "<p align=\"center\">\n",
    "<img src=\"resources/operators/Identity.png\" alt=\"Identity\" width=\"700\"/>\n",
    "</p>"
   ]
  },
  {
   "cell_type": "markdown",
   "metadata": {},
   "source": [
    "## Operators Precedence\n",
    "\n",
    "<p align=\"center\">\n",
    "<img src=\"resources/operators/Precedence.png\" alt=\"Precedence\" width=\"500\"/>\n",
    "</p>"
   ]
  },
  {
   "cell_type": "code",
   "execution_count": 2,
   "metadata": {},
   "outputs": [
    {
     "name": "stdout",
     "output_type": "stream",
     "text": [
      "Value of (a + b) * c / d is  90.0\n",
      "Value of ((a + b) * c) / d is  90.0\n",
      "Value of (a + b) * (c / d) is  90.0\n",
      "Value of a + (b * c) / d is  50.0\n"
     ]
    }
   ],
   "source": [
    "a = 20\n",
    "b = 10\n",
    "c = 15\n",
    "d = 5\n",
    "e = 0\n",
    "\n",
    "e = (a + b) * c / d       #( 30 * 15 ) / 5\n",
    "print(\"Value of (a + b) * c / d is \",  e)\n",
    "\n",
    "e = ((a + b) * c) / d     # (30 * 15 ) / 5\n",
    "print(\"Value of ((a + b) * c) / d is \",  e)\n",
    "\n",
    "e = (a + b) * (c / d);    # (30) * (15/5)\n",
    "print(\"Value of (a + b) * (c / d) is \",  e)\n",
    "\n",
    "e = a + (b * c) / d;      #  20 + (150/5)\n",
    "print(\"Value of a + (b * c) / d is \",  e)"
   ]
  },
  {
   "cell_type": "markdown",
   "metadata": {},
   "source": [
    "## References\n",
    "\n",
    "1. [TutorialsPoint - Basic Operators](https://www.tutorialspoint.com/python/python_basic_operators.htm)"
   ]
  }
 ],
 "metadata": {
  "kernelspec": {
   "display_name": "Python 3",
   "language": "python",
   "name": "python3"
  },
  "language_info": {
   "codemirror_mode": {
    "name": "ipython",
    "version": 3
   },
   "file_extension": ".py",
   "mimetype": "text/x-python",
   "name": "python",
   "nbconvert_exporter": "python",
   "pygments_lexer": "ipython3",
   "version": "3.7.6"
  }
 },
 "nbformat": 4,
 "nbformat_minor": 4
}

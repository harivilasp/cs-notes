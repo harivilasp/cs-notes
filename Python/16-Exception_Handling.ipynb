{
 "cells": [
  {
   "cell_type": "markdown",
   "metadata": {},
   "source": [
    "# Exception Handling\n",
    "\n",
    "## `try` and `except`\n",
    "\n",
    "There are two kinds of errors :\n",
    "\n",
    "* **Syntax Error**: Also known as Parsing Errors, most basic. Arise when the Python parser is unable to understand a line of code.\n",
    "* **Exception**: Errors which are detected during execution. eg – ZeroDivisionError.\n",
    "\n",
    "List of Exception Errors :\n",
    "\n",
    "1. **IOError**: if file can’t be opened\n",
    "2. **KeyboardInterrupt**: when an unrequired key is pressed by the user\n",
    "3. **ValueError**: when built-in function receives a wrong argument\n",
    "4. **EOFError**: if End-Of-File is hit without reading any data\n",
    "5. **ImportError**: if it is unable to find the module\n",
    "\n",
    "Syntax:\n",
    "\n",
    "```\n",
    "try:\n",
    "    // Code\n",
    "except:\n",
    "    // Code\n",
    "```"
   ]
  },
  {
   "cell_type": "code",
   "execution_count": 1,
   "metadata": {},
   "outputs": [],
   "source": [
    "def divide(x, y): \n",
    "    try: \n",
    "        # Floor Division : Gives only Fractional Part as Answer \n",
    "        result = x // y \n",
    "        print(\"Yeah! Your answer is :\", result) \n",
    "    except ZeroDivisionError: \n",
    "        print(\"Sorry! You are dividing by zero \") "
   ]
  },
  {
   "cell_type": "code",
   "execution_count": 2,
   "metadata": {},
   "outputs": [
    {
     "name": "stdout",
     "output_type": "stream",
     "text": [
      "Yeah! Your answer is : 1\n"
     ]
    }
   ],
   "source": [
    "divide(3, 2)"
   ]
  },
  {
   "cell_type": "code",
   "execution_count": 3,
   "metadata": {},
   "outputs": [
    {
     "name": "stdout",
     "output_type": "stream",
     "text": [
      "Sorry! You are dividing by zero \n"
     ]
    }
   ],
   "source": [
    "divide(3, 0)"
   ]
  },
  {
   "cell_type": "markdown",
   "metadata": {},
   "source": [
    "How `try` works?\n",
    "\n",
    "1. First try clause is executed i.e. the code between try and except clause.\n",
    "2. If there is no exception, then only try clause will run,\n",
    "3. If any exception occured, try clause will be skipped and except clause will run.\n",
    "4. If any exception occurs, but the except clause within the code doesn’t handle it, it is passed on to the outer try statements. If the exception is left unhandled, then the execution stops.\n",
    "\n",
    "## A `try` statement can have more than one `except` clause"
   ]
  },
  {
   "cell_type": "code",
   "execution_count": 4,
   "metadata": {},
   "outputs": [
    {
     "name": "stdout",
     "output_type": "stream",
     "text": [
      "It failed\n"
     ]
    }
   ],
   "source": [
    "try: \n",
    "    f = open('missing') \n",
    "except OSError:\n",
    "    print('It failed') \n",
    "except FileNotFoundError: \n",
    "    print('File not found') "
   ]
  },
  {
   "cell_type": "markdown",
   "metadata": {},
   "source": [
    "## Creating User-defined Exception\n",
    "\n",
    "* Exceptions need to be derived from the Exception class, either directly or indirectly."
   ]
  },
  {
   "cell_type": "code",
   "execution_count": 5,
   "metadata": {},
   "outputs": [
    {
     "name": "stdout",
     "output_type": "stream",
     "text": [
      "A New Exception occured: 6\n"
     ]
    }
   ],
   "source": [
    "# class MyError is derived from super class Exception \n",
    "class MyError(Exception): \n",
    "    \n",
    "    # Constructor or Initializer \n",
    "    def __init__(self, value):\n",
    "        self.value = value \n",
    "\n",
    "    # __str__ is to print() the value \n",
    "    def __str__(self): \n",
    "        return(repr(self.value)) \n",
    "\n",
    "try:\n",
    "    raise(MyError(3*2)) \n",
    "\n",
    "# Value of Exception is stored in error \n",
    "except MyError as error: \n",
    "    print('A New Exception occured:',error.value)"
   ]
  },
  {
   "cell_type": "markdown",
   "metadata": {},
   "source": [
    "Note:\n",
    "\n",
    "* `__str__` is the built-in function in python, used for string representation of object.\n",
    "* `__repr__` is another built-in which returns a printable string representing that object, i.e. what you'll get when you print that object."
   ]
  },
  {
   "cell_type": "markdown",
   "metadata": {},
   "source": [
    "## Standard Exceptions as base class\n",
    "\n",
    "* E.g. Runtime error is a class is a standard exception which is raised when a generated error does not fall into any category:"
   ]
  },
  {
   "cell_type": "code",
   "execution_count": 6,
   "metadata": {},
   "outputs": [
    {
     "name": "stdout",
     "output_type": "stream",
     "text": [
      "('E', 'r', 'r', 'o', 'r')\n"
     ]
    }
   ],
   "source": [
    "# NetworkError has base RuntimeError \n",
    "# and not Exception \n",
    "class Networkerror(RuntimeError): \n",
    "    def __init__(self, arg): \n",
    "        self.args = arg\n",
    "        \n",
    "    def __str__(self):\n",
    "        return(repr(self.args))\n",
    "\n",
    "try: \n",
    "    raise Networkerror(\"Error\") \n",
    "\n",
    "except Networkerror as e: \n",
    "    print(e)"
   ]
  }
 ],
 "metadata": {
  "kernelspec": {
   "display_name": "Python 3",
   "language": "python",
   "name": "python3"
  },
  "language_info": {
   "codemirror_mode": {
    "name": "ipython",
    "version": 3
   },
   "file_extension": ".py",
   "mimetype": "text/x-python",
   "name": "python",
   "nbconvert_exporter": "python",
   "pygments_lexer": "ipython3",
   "version": "3.7.6"
  }
 },
 "nbformat": 4,
 "nbformat_minor": 2
}

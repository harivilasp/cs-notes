{
 "cells": [
  {
   "cell_type": "markdown",
   "metadata": {},
   "source": [
    "# Multi Class Text Classification with LSTM using TensorFlow 2.0\n",
    "\n",
    "[Article](https://towardsdatascience.com/multi-class-text-classification-with-lstm-using-tensorflow-2-0-d88627c10a35)\n",
    "\n",
    "The following are the concepts of Recurrent Neural Networks:\n",
    "* They make use of sequential information.\n",
    "* They have a memory that captures what have been calculated so far, i.e. what I spoke last will impact what I will speak next.\n",
    "* RNNs are ideal for text and speech analysis.\n",
    "* The most commonly used RNNs are LSTMs.\n",
    "\n",
    "## Imports"
   ]
  },
  {
   "cell_type": "code",
   "execution_count": 1,
   "metadata": {},
   "outputs": [
    {
     "name": "stdout",
     "output_type": "stream",
     "text": [
      "2.2.0\n"
     ]
    }
   ],
   "source": [
    "import csv\n",
    "import tensorflow as tf\n",
    "import numpy as np\n",
    "from tensorflow.keras.preprocessing.text import Tokenizer\n",
    "from tensorflow.keras.preprocessing.sequence import pad_sequences\n",
    "from nltk.corpus import stopwords\n",
    "import matplotlib.pyplot as plt\n",
    "STOPWORDS = set(stopwords.words('english'))\n",
    "\n",
    "print(tf.__version__)"
   ]
  },
  {
   "cell_type": "markdown",
   "metadata": {},
   "source": [
    "## Hyperparameters"
   ]
  },
  {
   "cell_type": "code",
   "execution_count": 2,
   "metadata": {},
   "outputs": [],
   "source": [
    "vocab_size = 5000\n",
    "embedding_dim = 64\n",
    "max_length = 200\n",
    "trunc_type = 'post'\n",
    "padding_type = 'post'\n",
    "oov_tok = '<OOV>'\n",
    "training_portion = .8"
   ]
  },
  {
   "cell_type": "markdown",
   "metadata": {},
   "source": [
    "## Articles and Labels\n",
    "\n",
    "Define two lists containing articles and labels. In the meantime, we remove stopwords."
   ]
  },
  {
   "cell_type": "code",
   "execution_count": 3,
   "metadata": {},
   "outputs": [
    {
     "name": "stdout",
     "output_type": "stream",
     "text": [
      "2225\n",
      "2225\n"
     ]
    }
   ],
   "source": [
    "articles = []\n",
    "labels = []\n",
    "\n",
    "with open(\"data/bbc-text.csv\", 'r') as csvfile:\n",
    "    reader = csv.reader(csvfile, delimiter=',')\n",
    "    next(reader)\n",
    "    for row in reader:\n",
    "        labels.append(row[0])\n",
    "        article = row[1]\n",
    "        # remove stopwords\n",
    "        for word in STOPWORDS:\n",
    "            token = ' ' + word + ' '\n",
    "            article = article.replace(token, ' ')\n",
    "            article = article.replace(' ', ' ')\n",
    "        articles.append(article)\n",
    "print(len(labels))\n",
    "print(len(articles))"
   ]
  },
  {
   "cell_type": "markdown",
   "metadata": {},
   "source": [
    "There are 2,225 news articles in the data, we split them into training set and validation set, according to the parameter we set earlier, 80% for training, 20% for validation.\n",
    "\n",
    "## Train-Validate Split"
   ]
  },
  {
   "cell_type": "code",
   "execution_count": 4,
   "metadata": {},
   "outputs": [
    {
     "name": "stdout",
     "output_type": "stream",
     "text": [
      "1780\n",
      "1780\n",
      "1780\n",
      "445\n",
      "445\n"
     ]
    }
   ],
   "source": [
    "train_size = int(len(articles) * training_portion)\n",
    "\n",
    "train_articles = articles[0: train_size]\n",
    "train_labels = labels[0: train_size]\n",
    "\n",
    "validation_articles = articles[train_size:]\n",
    "validation_labels = labels[train_size:]\n",
    "\n",
    "print(train_size)\n",
    "print(len(train_articles))\n",
    "print(len(train_labels))\n",
    "print(len(validation_articles))\n",
    "print(len(validation_labels))"
   ]
  },
  {
   "cell_type": "markdown",
   "metadata": {},
   "source": [
    "## Pre-Processing\n",
    "\n",
    "Tokenizer does all the heavy lifting for us. In our articles that it was tokenizing, it will take 5,000 most common words. `oov_token` is to put a special value in when an unseen word is encountered. This means we want `<OOV>` to be used for words that are not in the `word_index`. `fit_on_text` will go through all the text and create dictionary like this:"
   ]
  },
  {
   "cell_type": "code",
   "execution_count": 5,
   "metadata": {},
   "outputs": [
    {
     "data": {
      "text/plain": [
       "{'<OOV>': 1,\n",
       " 'said': 2,\n",
       " 'mr': 3,\n",
       " 'would': 4,\n",
       " 'year': 5,\n",
       " 'also': 6,\n",
       " 'people': 7,\n",
       " 'new': 8,\n",
       " 'us': 9,\n",
       " 'one': 10}"
      ]
     },
     "execution_count": 5,
     "metadata": {},
     "output_type": "execute_result"
    }
   ],
   "source": [
    "tokenizer = Tokenizer(num_words=vocab_size, oov_token=oov_tok)\n",
    "tokenizer.fit_on_texts(train_articles)\n",
    "word_index = tokenizer.word_index\n",
    "dict(list(word_index.items())[0:10])"
   ]
  },
  {
   "cell_type": "markdown",
   "metadata": {},
   "source": [
    "We can see that “`<OOV>`” is the most common token in our corpus, followed by “said”, followed by “mr” and so on.\n",
    "\n",
    "After tokenization, the next step is to turn those tokens into lists of sequence. The following is the 11th article in the training data that has been turned into sequences."
   ]
  },
  {
   "cell_type": "code",
   "execution_count": 6,
   "metadata": {},
   "outputs": [
    {
     "name": "stdout",
     "output_type": "stream",
     "text": [
      "[2432, 1, 225, 4996, 22, 641, 587, 225, 4996, 1, 1, 1663, 1, 1, 2432, 22, 565, 1, 1, 140, 278, 1, 140, 278, 796, 823, 662, 2308, 1, 1144, 1694, 1, 1721, 4997, 1, 1, 1, 1, 1, 4739, 1, 1, 122, 4515, 1, 2, 2874, 1505, 352, 4740, 1, 52, 341, 1, 352, 2172, 3961, 41, 22, 3794, 1, 1, 1, 1, 542, 1, 1, 1, 835, 631, 2367, 347, 4741, 1, 365, 22, 1, 787, 2368, 1, 4302, 138, 10, 1, 3664, 682, 3531, 1, 22, 1, 414, 823, 662, 1, 90, 13, 633, 1, 225, 4996, 1, 600, 1, 1694, 1021, 1, 4998, 808, 1864, 117, 1, 1, 1, 2974, 22, 1, 99, 278, 1, 1608, 4999, 542, 492, 1, 1443, 4742, 779, 1320, 1, 1861, 10, 33, 641, 319, 1, 62, 478, 565, 301, 1506, 22, 479, 1, 1, 1666, 1, 797, 1, 3067, 1, 1364, 6, 1, 2432, 565, 22, 2971, 4736, 1, 1, 1, 1, 1, 850, 39, 1825, 675, 297, 26, 979, 1, 882, 22, 361, 22, 13, 301, 1506, 1342, 374, 20, 63, 883, 1096, 4303, 247]\n"
     ]
    }
   ],
   "source": [
    "train_sequences = tokenizer.texts_to_sequences(train_articles)\n",
    "print(train_sequences[10])"
   ]
  },
  {
   "cell_type": "markdown",
   "metadata": {},
   "source": [
    "When we train neural networks for NLP, we need sequences to be in the same size, that’s why we use padding. If you look up, our `max_length` is 200, so we use `pad_sequences` to make all of our articles the same length which is 200. As a result, you will see that the 1st article was 426 in length, it becomes 200, the 2nd article was 192 in length, it becomes 200, and so on."
   ]
  },
  {
   "cell_type": "code",
   "execution_count": 7,
   "metadata": {},
   "outputs": [
    {
     "name": "stdout",
     "output_type": "stream",
     "text": [
      "425\n",
      "200\n",
      "192\n",
      "200\n",
      "186\n",
      "200\n"
     ]
    }
   ],
   "source": [
    "train_padded = pad_sequences(\n",
    "    train_sequences, maxlen=max_length, padding=padding_type, truncating=trunc_type)\n",
    "print(len(train_sequences[0]))\n",
    "print(len(train_padded[0]))\n",
    "\n",
    "print(len(train_sequences[1]))\n",
    "print(len(train_padded[1]))\n",
    "\n",
    "print(len(train_sequences[10]))\n",
    "print(len(train_padded[10]))"
   ]
  },
  {
   "cell_type": "code",
   "execution_count": 8,
   "metadata": {},
   "outputs": [
    {
     "data": {
      "text/plain": [
       "[91,\n",
       " 160,\n",
       " 1141,\n",
       " 1106,\n",
       " 49,\n",
       " 979,\n",
       " 755,\n",
       " 1,\n",
       " 89,\n",
       " 1303,\n",
       " 4289,\n",
       " 129,\n",
       " 175,\n",
       " 3652,\n",
       " 1214,\n",
       " 1195,\n",
       " 1578,\n",
       " 42,\n",
       " 7,\n",
       " 893,\n",
       " 91,\n",
       " 1,\n",
       " 334,\n",
       " 85,\n",
       " 20,\n",
       " 14,\n",
       " 130,\n",
       " 3262,\n",
       " 1215,\n",
       " 2422,\n",
       " 570,\n",
       " 451,\n",
       " 1375,\n",
       " 58,\n",
       " 3378,\n",
       " 3521,\n",
       " 1661,\n",
       " 8,\n",
       " 921,\n",
       " 730,\n",
       " 10,\n",
       " 844,\n",
       " 1,\n",
       " 9,\n",
       " 598,\n",
       " 1579,\n",
       " 1107,\n",
       " 395,\n",
       " 1940,\n",
       " 1106,\n",
       " 731,\n",
       " 49,\n",
       " 537,\n",
       " 1397,\n",
       " 2010,\n",
       " 1623,\n",
       " 134,\n",
       " 249,\n",
       " 113,\n",
       " 2356,\n",
       " 795,\n",
       " 4981,\n",
       " 980,\n",
       " 584,\n",
       " 10,\n",
       " 3956,\n",
       " 3957,\n",
       " 921,\n",
       " 2563,\n",
       " 129,\n",
       " 344,\n",
       " 175,\n",
       " 3652,\n",
       " 1,\n",
       " 1,\n",
       " 39,\n",
       " 62,\n",
       " 2867,\n",
       " 28,\n",
       " 9,\n",
       " 4724,\n",
       " 18,\n",
       " 1304,\n",
       " 136,\n",
       " 416,\n",
       " 7,\n",
       " 143,\n",
       " 1422,\n",
       " 71,\n",
       " 4502,\n",
       " 436,\n",
       " 4982,\n",
       " 91,\n",
       " 1107,\n",
       " 77,\n",
       " 1,\n",
       " 82,\n",
       " 2011,\n",
       " 53,\n",
       " 1,\n",
       " 91,\n",
       " 6,\n",
       " 1008,\n",
       " 599,\n",
       " 89,\n",
       " 1303,\n",
       " 91,\n",
       " 1962,\n",
       " 131,\n",
       " 137,\n",
       " 420,\n",
       " 9,\n",
       " 2868,\n",
       " 38,\n",
       " 152,\n",
       " 1233,\n",
       " 89,\n",
       " 1303,\n",
       " 4725,\n",
       " 7,\n",
       " 436,\n",
       " 4982,\n",
       " 3154,\n",
       " 6,\n",
       " 2493,\n",
       " 1,\n",
       " 431,\n",
       " 1126,\n",
       " 1,\n",
       " 1423,\n",
       " 571,\n",
       " 1234,\n",
       " 1902,\n",
       " 1,\n",
       " 766,\n",
       " 9,\n",
       " 537,\n",
       " 1397,\n",
       " 2010,\n",
       " 134,\n",
       " 2068,\n",
       " 400,\n",
       " 845,\n",
       " 1963,\n",
       " 1601,\n",
       " 34,\n",
       " 1717,\n",
       " 2869,\n",
       " 1,\n",
       " 1,\n",
       " 2423,\n",
       " 244,\n",
       " 9,\n",
       " 2625,\n",
       " 82,\n",
       " 732,\n",
       " 6,\n",
       " 1172,\n",
       " 1196,\n",
       " 152,\n",
       " 720,\n",
       " 591,\n",
       " 1,\n",
       " 124,\n",
       " 28,\n",
       " 1304,\n",
       " 1690,\n",
       " 432,\n",
       " 83,\n",
       " 933,\n",
       " 115,\n",
       " 20,\n",
       " 14,\n",
       " 18,\n",
       " 3155,\n",
       " 1,\n",
       " 37,\n",
       " 1484,\n",
       " 1,\n",
       " 23,\n",
       " 37,\n",
       " 87,\n",
       " 335,\n",
       " 2357,\n",
       " 37,\n",
       " 467,\n",
       " 255,\n",
       " 1963,\n",
       " 1358,\n",
       " 328,\n",
       " 1,\n",
       " 299,\n",
       " 732,\n",
       " 1173,\n",
       " 18,\n",
       " 2870,\n",
       " 1717,\n",
       " 1,\n",
       " 294,\n",
       " 756,\n",
       " 1074,\n",
       " 395,\n",
       " 2012,\n",
       " 387,\n",
       " 431,\n",
       " 2012,\n",
       " 2,\n",
       " 1359,\n",
       " 1,\n",
       " 1717,\n",
       " 2166,\n",
       " 67,\n",
       " 1,\n",
       " 1,\n",
       " 1718,\n",
       " 249,\n",
       " 1662,\n",
       " 3060,\n",
       " 1174,\n",
       " 395,\n",
       " 41,\n",
       " 878,\n",
       " 246,\n",
       " 2793,\n",
       " 345,\n",
       " 53,\n",
       " 547,\n",
       " 400,\n",
       " 2,\n",
       " 1,\n",
       " 1,\n",
       " 655,\n",
       " 1360,\n",
       " 202,\n",
       " 91,\n",
       " 3958,\n",
       " 91,\n",
       " 90,\n",
       " 42,\n",
       " 7,\n",
       " 320,\n",
       " 395,\n",
       " 77,\n",
       " 893,\n",
       " 1,\n",
       " 91,\n",
       " 1106,\n",
       " 400,\n",
       " 537,\n",
       " 9,\n",
       " 845,\n",
       " 2423,\n",
       " 11,\n",
       " 38,\n",
       " 1,\n",
       " 995,\n",
       " 513,\n",
       " 483,\n",
       " 2069,\n",
       " 160,\n",
       " 572,\n",
       " 1,\n",
       " 128,\n",
       " 7,\n",
       " 320,\n",
       " 77,\n",
       " 893,\n",
       " 1216,\n",
       " 1126,\n",
       " 1462,\n",
       " 346,\n",
       " 54,\n",
       " 2214,\n",
       " 1217,\n",
       " 741,\n",
       " 92,\n",
       " 256,\n",
       " 274,\n",
       " 1019,\n",
       " 71,\n",
       " 623,\n",
       " 346,\n",
       " 2424,\n",
       " 756,\n",
       " 1215,\n",
       " 2358,\n",
       " 1719,\n",
       " 1,\n",
       " 3783,\n",
       " 3522,\n",
       " 1,\n",
       " 1126,\n",
       " 2012,\n",
       " 177,\n",
       " 371,\n",
       " 1398,\n",
       " 77,\n",
       " 53,\n",
       " 547,\n",
       " 105,\n",
       " 1141,\n",
       " 3,\n",
       " 1,\n",
       " 1047,\n",
       " 93,\n",
       " 2962,\n",
       " 1,\n",
       " 2626,\n",
       " 1,\n",
       " 102,\n",
       " 902,\n",
       " 440,\n",
       " 452,\n",
       " 2,\n",
       " 3,\n",
       " 1,\n",
       " 2871,\n",
       " 451,\n",
       " 1424,\n",
       " 43,\n",
       " 77,\n",
       " 429,\n",
       " 31,\n",
       " 8,\n",
       " 1019,\n",
       " 921,\n",
       " 1,\n",
       " 2563,\n",
       " 30,\n",
       " 1,\n",
       " 91,\n",
       " 1691,\n",
       " 879,\n",
       " 89,\n",
       " 1303,\n",
       " 91,\n",
       " 1962,\n",
       " 1,\n",
       " 30,\n",
       " 8,\n",
       " 1624,\n",
       " 1,\n",
       " 1,\n",
       " 4290,\n",
       " 1580,\n",
       " 4289,\n",
       " 656,\n",
       " 1,\n",
       " 3784,\n",
       " 1008,\n",
       " 572,\n",
       " 4291,\n",
       " 2867,\n",
       " 10,\n",
       " 880,\n",
       " 656,\n",
       " 58,\n",
       " 1,\n",
       " 1261,\n",
       " 1,\n",
       " 1,\n",
       " 91,\n",
       " 1553,\n",
       " 934,\n",
       " 4724,\n",
       " 1,\n",
       " 577,\n",
       " 4105,\n",
       " 10,\n",
       " 9,\n",
       " 235,\n",
       " 2010,\n",
       " 91,\n",
       " 134,\n",
       " 1,\n",
       " 95,\n",
       " 656,\n",
       " 3263,\n",
       " 1,\n",
       " 58,\n",
       " 519,\n",
       " 673,\n",
       " 2627,\n",
       " 3784,\n",
       " 4983,\n",
       " 3379,\n",
       " 483,\n",
       " 4726,\n",
       " 39,\n",
       " 4502,\n",
       " 1,\n",
       " 91,\n",
       " 1748,\n",
       " 673,\n",
       " 269,\n",
       " 116,\n",
       " 239,\n",
       " 2628,\n",
       " 354,\n",
       " 643,\n",
       " 58,\n",
       " 4106,\n",
       " 757,\n",
       " 3653,\n",
       " 4724,\n",
       " 146,\n",
       " 1,\n",
       " 400,\n",
       " 7,\n",
       " 71,\n",
       " 1749,\n",
       " 1107,\n",
       " 767,\n",
       " 910,\n",
       " 118,\n",
       " 584,\n",
       " 3380,\n",
       " 1316,\n",
       " 1579,\n",
       " 1,\n",
       " 1602,\n",
       " 7,\n",
       " 893,\n",
       " 77,\n",
       " 77]"
      ]
     },
     "execution_count": 8,
     "metadata": {},
     "output_type": "execute_result"
    }
   ],
   "source": [
    "train_sequences[0]"
   ]
  },
  {
   "cell_type": "markdown",
   "metadata": {},
   "source": [
    "In addition, there is `padding_type` and `truncating_type`, there are all `post`, means for example, for the 11th article, it was 186 in length, we padded to 200, and we padded at the end, that is adding 14 zeros."
   ]
  },
  {
   "cell_type": "code",
   "execution_count": 9,
   "metadata": {},
   "outputs": [
    {
     "name": "stdout",
     "output_type": "stream",
     "text": [
      "[2432    1  225 4996   22  641  587  225 4996    1    1 1663    1    1\n",
      " 2432   22  565    1    1  140  278    1  140  278  796  823  662 2308\n",
      "    1 1144 1694    1 1721 4997    1    1    1    1    1 4739    1    1\n",
      "  122 4515    1    2 2874 1505  352 4740    1   52  341    1  352 2172\n",
      " 3961   41   22 3794    1    1    1    1  542    1    1    1  835  631\n",
      " 2367  347 4741    1  365   22    1  787 2368    1 4302  138   10    1\n",
      " 3664  682 3531    1   22    1  414  823  662    1   90   13  633    1\n",
      "  225 4996    1  600    1 1694 1021    1 4998  808 1864  117    1    1\n",
      "    1 2974   22    1   99  278    1 1608 4999  542  492    1 1443 4742\n",
      "  779 1320    1 1861   10   33  641  319    1   62  478  565  301 1506\n",
      "   22  479    1    1 1666    1  797    1 3067    1 1364    6    1 2432\n",
      "  565   22 2971 4736    1    1    1    1    1  850   39 1825  675  297\n",
      "   26  979    1  882   22  361   22   13  301 1506 1342  374   20   63\n",
      "  883 1096 4303  247    0    0    0    0    0    0    0    0    0    0\n",
      "    0    0    0    0]\n"
     ]
    }
   ],
   "source": [
    "print(train_padded[10])"
   ]
  },
  {
   "cell_type": "markdown",
   "metadata": {},
   "source": [
    "perform the same for validation sequences"
   ]
  },
  {
   "cell_type": "code",
   "execution_count": 10,
   "metadata": {},
   "outputs": [
    {
     "name": "stdout",
     "output_type": "stream",
     "text": [
      "445\n",
      "(445, 200)\n"
     ]
    }
   ],
   "source": [
    "validation_sequences = tokenizer.texts_to_sequences(validation_articles)\n",
    "validation_padded = pad_sequences(\n",
    "    validation_sequences, maxlen=max_length, padding=padding_type, truncating=trunc_type)\n",
    "\n",
    "print(len(validation_sequences))\n",
    "print(validation_padded.shape)"
   ]
  },
  {
   "cell_type": "markdown",
   "metadata": {},
   "source": [
    "Now we are going to look at the labels. Because our labels are text, so we will tokenize them, when training, labels are expected to be numpy arrays. So we will turn list of labels into numpy arrays like so:"
   ]
  },
  {
   "cell_type": "code",
   "execution_count": 11,
   "metadata": {},
   "outputs": [
    {
     "name": "stdout",
     "output_type": "stream",
     "text": [
      "[4]\n",
      "[2]\n",
      "[1]\n",
      "(1780, 1)\n",
      "[5]\n",
      "[4]\n",
      "[3]\n",
      "(445, 1)\n"
     ]
    }
   ],
   "source": [
    "label_tokenizer = Tokenizer()\n",
    "label_tokenizer.fit_on_texts(labels)\n",
    "\n",
    "training_label_seq = np.array(label_tokenizer.texts_to_sequences(train_labels))\n",
    "validation_label_seq = np.array(\n",
    "    label_tokenizer.texts_to_sequences(validation_labels))\n",
    "print(training_label_seq[0])\n",
    "print(training_label_seq[1])\n",
    "print(training_label_seq[2])\n",
    "print(training_label_seq.shape)\n",
    "\n",
    "print(validation_label_seq[0])\n",
    "print(validation_label_seq[1])\n",
    "print(validation_label_seq[2])\n",
    "print(validation_label_seq.shape)"
   ]
  },
  {
   "cell_type": "markdown",
   "metadata": {},
   "source": [
    "Before training deep neural network, we should explore what our original article and article after padding look like. Running the following code, we explore the 11th article, we can see that some words become “`<OOV>`”, because they did not make to the top 5,000."
   ]
  },
  {
   "cell_type": "code",
   "execution_count": 12,
   "metadata": {},
   "outputs": [
    {
     "name": "stdout",
     "output_type": "stream",
     "text": [
      "berlin <OOV> anti nazi film german movie anti nazi <OOV> <OOV> drawn <OOV> <OOV> berlin film festival <OOV> <OOV> final days <OOV> final days member white rose movement <OOV> 21 arrested <OOV> brother hans <OOV> <OOV> <OOV> <OOV> <OOV> tyranny <OOV> <OOV> director marc <OOV> said feeling responsibility keep legacy <OOV> going must <OOV> keep ideas alive added film drew <OOV> <OOV> <OOV> <OOV> trial <OOV> <OOV> <OOV> east germany secret police discovery <OOV> behind film <OOV> worked closely <OOV> relatives including one <OOV> sisters ensure historical <OOV> film <OOV> members white rose <OOV> group first started <OOV> anti nazi <OOV> summer <OOV> arrested dropped <OOV> munich university calling day <OOV> <OOV> <OOV> regime film <OOV> six days <OOV> arrest intense trial saw <OOV> initially deny charges ended <OOV> appearance one three german films <OOV> top prize festival south african film version <OOV> <OOV> opera <OOV> shot <OOV> town <OOV> language also <OOV> berlin festival film entitled u <OOV> <OOV> <OOV> <OOV> <OOV> story set performed 40 strong music theatre <OOV> debut film performance film first south african feature 25 years second nominated golden bear award ? ? ? ? ? ? ? ? ? ? ? ? ? ?\n",
      "---\n",
      "berlin cheers anti-nazi film german movie anti-nazi resistance heroine drawn loud applause berlin film festival.  sophie scholl - final days portrays final days member white rose movement. scholl  21  arrested beheaded brother  hans  1943 distributing leaflets condemning  abhorrent tyranny  adolf hitler. director marc rothemund said:  feeling responsibility keep legacy scholls going.   must somehow keep ideas alive   added.  film drew transcripts gestapo interrogations scholl trial preserved archive communist east germany secret police. discovery inspiration behind film rothemund  worked closely surviving relatives  including one scholl sisters  ensure historical accuracy film. scholl members white rose resistance group first started distributing anti-nazi leaflets summer 1942. arrested dropped leaflets munich university calling  day reckoning  adolf hitler regime. film focuses six days scholl arrest intense trial saw scholl initially deny charges ended defiant appearance. one three german films vying top prize festival.  south african film version bizet tragic opera carmen shot cape town xhosa language also premiered berlin festival. film entitled u-carmen ekhayelitsha carmen khayelitsha township story set. performed 40-strong music theatre troupe debut film performance. film first south african feature 25 years second nominated golden bear award.\n"
     ]
    }
   ],
   "source": [
    "reverse_word_index = dict([(value, key)\n",
    "                           for (key, value) in word_index.items()])\n",
    "\n",
    "\n",
    "def decode_article(text):\n",
    "    return ' '.join([reverse_word_index.get(i, '?') for i in text])\n",
    "\n",
    "\n",
    "print(decode_article(train_padded[10]))\n",
    "print('---')\n",
    "print(train_articles[10])"
   ]
  },
  {
   "cell_type": "markdown",
   "metadata": {},
   "source": [
    "## Training Model\n",
    "\n",
    "Now its the time to implement LSTM.\n",
    "* We build a `tf.keras.Sequential` model and start with an embedding layer. An embedding layer stores one vector per word. When called, it converts the sequences of word indices into sequences of vectors. After training, words with similar meanings often have the similar vectors.\n",
    "* The Bidirectional wrapper is used with a LSTM layer, this propagates the input forwards and backwards through the LSTM layer and then concatenates the outputs. This helps LSTM to learn long term dependencies. We then fit it to a dense neural network to do classification.\n",
    "* We use `relu` in place of `tanh` function since they are very good alternatives of each other.\n",
    "* We add a `Dense` layer with 6 units and `softmax` activation. When we have multiple outputs, `softmax` converts outputs layers into a probability distribution."
   ]
  },
  {
   "cell_type": "code",
   "execution_count": 13,
   "metadata": {},
   "outputs": [
    {
     "name": "stdout",
     "output_type": "stream",
     "text": [
      "Model: \"sequential\"\n",
      "_________________________________________________________________\n",
      "Layer (type)                 Output Shape              Param #   \n",
      "=================================================================\n",
      "embedding (Embedding)        (None, None, 64)          320000    \n",
      "_________________________________________________________________\n",
      "bidirectional (Bidirectional (None, 128)               66048     \n",
      "_________________________________________________________________\n",
      "dense (Dense)                (None, 64)                8256      \n",
      "_________________________________________________________________\n",
      "dense_1 (Dense)              (None, 6)                 390       \n",
      "=================================================================\n",
      "Total params: 394,694\n",
      "Trainable params: 394,694\n",
      "Non-trainable params: 0\n",
      "_________________________________________________________________\n"
     ]
    }
   ],
   "source": [
    "model = tf.keras.Sequential([\n",
    "    # Add an Embedding layer expecting input vocab of size 5000, \n",
    "    # and output embedding dimension of size 64 we set at the top\n",
    "    tf.keras.layers.Embedding(vocab_size, embedding_dim),\n",
    "    tf.keras.layers.Bidirectional(tf.keras.layers.LSTM(embedding_dim)),\n",
    "    # tf.keras.layers.Bidirectional(tf.keras.layers.LSTM(32)),\n",
    "    # use ReLU in place of tanh function since they are very good alternatives of each other.\n",
    "    tf.keras.layers.Dense(embedding_dim, activation='relu'),\n",
    "    # Add a Dense layer with 6 units and softmax activation.\n",
    "    # When we have multiple outputs, softmax convert outputs layers into a probability distribution.\n",
    "    tf.keras.layers.Dense(6, activation='softmax')\n",
    "])\n",
    "model.summary()"
   ]
  },
  {
   "cell_type": "markdown",
   "metadata": {},
   "source": [
    "In our model summary, we have our embeddings, our Bidirectional contains LSTM, followed by two dense layers. The output from Bidirectional is 128, because it doubled what we put in LSTM. We can also stack LSTM layer but I found the results worse."
   ]
  },
  {
   "cell_type": "code",
   "execution_count": 14,
   "metadata": {},
   "outputs": [
    {
     "name": "stdout",
     "output_type": "stream",
     "text": [
      "{'sport', 'entertainment', 'politics', 'business', 'tech'}\n"
     ]
    }
   ],
   "source": [
    "print(set(labels))"
   ]
  },
  {
   "cell_type": "markdown",
   "metadata": {},
   "source": [
    "We have 5 labels in total, but because we did not one-hot encode labels, we have to use `sparse_categorical_crossentropy` as loss function, it seems to think 0 is a possible label as well, while the tokenizer object which tokenizes starting with integer 1, instead of integer 0. As a result, the last Dense layer needs outputs for labels 0, 1, 2, 3, 4, 5 although 0 has never been used."
   ]
  },
  {
   "cell_type": "code",
   "execution_count": 15,
   "metadata": {},
   "outputs": [
    {
     "name": "stdout",
     "output_type": "stream",
     "text": [
      "Epoch 1/10\n",
      "56/56 - 12s - loss: 1.5695 - accuracy: 0.2876 - val_loss: 1.3456 - val_accuracy: 0.3888\n",
      "Epoch 2/10\n",
      "56/56 - 10s - loss: 0.9844 - accuracy: 0.6360 - val_loss: 0.6889 - val_accuracy: 0.7551\n",
      "Epoch 3/10\n",
      "56/56 - 10s - loss: 0.2521 - accuracy: 0.9376 - val_loss: 0.7847 - val_accuracy: 0.7236\n",
      "Epoch 4/10\n",
      "56/56 - 9s - loss: 0.3376 - accuracy: 0.8803 - val_loss: 0.3904 - val_accuracy: 0.8831\n",
      "Epoch 5/10\n",
      "56/56 - 13s - loss: 0.1062 - accuracy: 0.9753 - val_loss: 0.2376 - val_accuracy: 0.9326\n",
      "Epoch 6/10\n",
      "56/56 - 9s - loss: 0.0214 - accuracy: 0.9966 - val_loss: 0.2334 - val_accuracy: 0.9371\n",
      "Epoch 7/10\n",
      "56/56 - 10s - loss: 0.0258 - accuracy: 0.9955 - val_loss: 0.3017 - val_accuracy: 0.9169\n",
      "Epoch 8/10\n",
      "56/56 - 13s - loss: 0.0072 - accuracy: 0.9994 - val_loss: 0.2530 - val_accuracy: 0.9483\n",
      "Epoch 9/10\n",
      "56/56 - 10s - loss: 0.0022 - accuracy: 1.0000 - val_loss: 0.2766 - val_accuracy: 0.9506\n",
      "Epoch 10/10\n",
      "56/56 - 9s - loss: 0.0015 - accuracy: 1.0000 - val_loss: 0.2866 - val_accuracy: 0.9506\n"
     ]
    }
   ],
   "source": [
    "model.compile(loss='sparse_categorical_crossentropy',\n",
    "              optimizer='adam', metrics=['accuracy'])\n",
    "num_epochs = 10\n",
    "history = model.fit(train_padded, training_label_seq, epochs=num_epochs,\n",
    "                    validation_data=(validation_padded, validation_label_seq), verbose=2)"
   ]
  },
  {
   "cell_type": "code",
   "execution_count": 16,
   "metadata": {},
   "outputs": [
    {
     "data": {
      "image/png": "[encoded data removed]",
      "text/plain": [
       "<Figure size 432x288 with 1 Axes>"
      ]
     },
     "metadata": {
      "needs_background": "light"
     },
     "output_type": "display_data"
    },
    {
     "data": {
      "image/png": "[encoded data removed]",
      "text/plain": [
       "<Figure size 432x288 with 1 Axes>"
      ]
     },
     "metadata": {
      "needs_background": "light"
     },
     "output_type": "display_data"
    }
   ],
   "source": [
    "def plot_graphs(history, string):\n",
    "    plt.plot(history.history[string])\n",
    "    plt.plot(history.history['val_'+string])\n",
    "    plt.xlabel(\"Epochs\")\n",
    "    plt.ylabel(string)\n",
    "    plt.legend([string, 'val_'+string])\n",
    "    plt.show()\n",
    "\n",
    "plot_graphs(history, \"accuracy\")\n",
    "plot_graphs(history, \"loss\")"
   ]
  },
  {
   "cell_type": "markdown",
   "metadata": {},
   "source": [
    "We probably only need 3 or 4 epochs. At the end of the training, we can see that there is a little bit overfitting."
   ]
  }
 ],
 "metadata": {
  "kernelspec": {
   "display_name": "Python 3",
   "language": "python",
   "name": "python3"
  },
  "language_info": {
   "codemirror_mode": {
    "name": "ipython",
    "version": 3
   },
   "file_extension": ".py",
   "mimetype": "text/x-python",
   "name": "python",
   "nbconvert_exporter": "python",
   "pygments_lexer": "ipython3",
   "version": "3.8.5"
  }
 },
 "nbformat": 4,
 "nbformat_minor": 4
}

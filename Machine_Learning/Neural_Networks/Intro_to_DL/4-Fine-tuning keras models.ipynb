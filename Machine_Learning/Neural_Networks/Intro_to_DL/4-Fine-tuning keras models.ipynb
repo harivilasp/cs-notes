{
 "cells": [
  {
   "cell_type": "markdown",
   "metadata": {},
   "source": [
    "# Fine-tuning keras models\n",
    "\n"
   ]
  },
  {
   "cell_type": "code",
   "execution_count": 1,
   "metadata": {},
   "outputs": [],
   "source": [
    "import pandas as pd\n",
    "import numpy as np\n",
    "import keras\n",
    "from keras.optimizers import SGD\n",
    "from keras.layers import Dense\n",
    "from keras.layers import Flatten\n",
    "from keras.models import Sequential\n",
    "from keras.utils.np_utils import to_categorical\n",
    "from keras.callbacks import EarlyStopping\n",
    "from keras.layers.advanced_activations import LeakyReLU\n",
    "import matplotlib.pyplot as plt\n",
    "import tensorflow_datasets as tfds\n",
    "import tensorflow.compat.v2 as tf"
   ]
  },
  {
   "cell_type": "code",
   "execution_count": 2,
   "metadata": {},
   "outputs": [],
   "source": [
    "with open('data/predictors.npy', 'rb') as f:\n",
    "    predictors = np.load(f)\n",
    "    f.close()\n",
    "    \n",
    "with open('data/target.npy', 'rb') as f:\n",
    "    target = np.load(f)\n",
    "    f.close()\n",
    "    \n",
    "input_shape = (predictors.shape[1], )"
   ]
  },
  {
   "cell_type": "code",
   "execution_count": 3,
   "metadata": {},
   "outputs": [],
   "source": [
    "def get_new_model(input_shape = input_shape):\n",
    "    model = Sequential()\n",
    "    model.add(Dense(100, activation='relu', input_shape = input_shape)) \n",
    "    model.add(Dense(100, activation='relu'))\n",
    "    model.add(Dense(1, activation='softmax'))\n",
    "    return(model)"
   ]
  },
  {
   "cell_type": "code",
   "execution_count": 4,
   "metadata": {},
   "outputs": [
    {
     "name": "stdout",
     "output_type": "stream",
     "text": [
      "\n",
      "\n",
      "Testing model with learning rate: 0.000001\n",
      "\n",
      "17/17 [==============================] - 0s 2ms/step - loss: 90.7465\n",
      "\n",
      "\n",
      "Testing model with learning rate: 0.010000\n",
      "\n",
      "17/17 [==============================] - 0s 2ms/step - loss: 90.7465\n",
      "\n",
      "\n",
      "Testing model with learning rate: 1.000000\n",
      "\n",
      "17/17 [==============================] - 0s 4ms/step - loss: 90.7465\n"
     ]
    }
   ],
   "source": [
    "# Create list of learning rates: lr_to_test\n",
    "lr_to_test = [.000001, 0.01, 1]\n",
    "\n",
    "# Loop over learning rates\n",
    "for lr in lr_to_test:\n",
    "    print('\\n\\nTesting model with learning rate: %f\\n'%lr )\n",
    "    \n",
    "    # Build new model to test, unaffected by previous models\n",
    "    model = get_new_model()\n",
    "    \n",
    "    # Create SGD optimizer with specified learning rate: my_optimizer\n",
    "    my_optimizer = SGD(lr=lr)\n",
    "    \n",
    "    # Compile the model\n",
    "    model.compile(optimizer = my_optimizer, loss='mean_squared_error')\n",
    "    \n",
    "    # Fit the model\n",
    "    model.fit(predictors, target)"
   ]
  },
  {
   "cell_type": "markdown",
   "metadata": {},
   "source": [
    "## Model validation"
   ]
  },
  {
   "cell_type": "code",
   "execution_count": 5,
   "metadata": {},
   "outputs": [
    {
     "name": "stdout",
     "output_type": "stream",
     "text": [
      "12/12 [==============================] - 0s 29ms/step - loss: 88.0548 - val_loss: 124.5462\n"
     ]
    }
   ],
   "source": [
    "# Specify the model\n",
    "model = Sequential()\n",
    "model.add(Dense(100, activation='relu', input_shape = input_shape))\n",
    "model.add(Dense(100, activation='relu'))\n",
    "model.add(Dense(2, activation='softmax'))\n",
    "\n",
    "# Compile the model\n",
    "model.compile(optimizer='adam',loss='mean_squared_error')\n",
    "\n",
    "# Fit the model\n",
    "hist = model.fit(predictors, target, validation_split=0.3)"
   ]
  },
  {
   "cell_type": "markdown",
   "metadata": {},
   "source": [
    "## Early stopping: Optimizing the optimization"
   ]
  },
  {
   "cell_type": "code",
   "execution_count": 6,
   "metadata": {},
   "outputs": [
    {
     "name": "stdout",
     "output_type": "stream",
     "text": [
      "Epoch 1/20\n",
      "12/12 [==============================] - 0s 10ms/step - loss: 80.2349 - val_loss: 115.0992\n",
      "Epoch 2/20\n",
      "12/12 [==============================] - 0s 10ms/step - loss: 80.2349 - val_loss: 115.0992\n",
      "Epoch 3/20\n",
      "12/12 [==============================] - 0s 4ms/step - loss: 80.2349 - val_loss: 115.0992\n"
     ]
    }
   ],
   "source": [
    "# Define early_stopping_monitor\n",
    "early_stopping_monitor = EarlyStopping(patience=2)\n",
    "\n",
    "# Specify the model\n",
    "model_1 = Sequential()\n",
    "model_1.add(Dense(100, activation='relu', input_shape = input_shape))\n",
    "model_1.add(Dense(100, activation='relu'))\n",
    "model_1.add(Dense(1, activation='softmax'))\n",
    "\n",
    "# Compile the model\n",
    "model_1.compile(optimizer='adam',loss='mean_squared_error')\n",
    "\n",
    "# Fit the model\n",
    "model_1_training = model_1.fit(predictors, target, validation_split=0.3, epochs=20, \n",
    "                               callbacks=[early_stopping_monitor])"
   ]
  },
  {
   "cell_type": "markdown",
   "metadata": {},
   "source": [
    "## Experimenting with wider networks"
   ]
  },
  {
   "cell_type": "code",
   "execution_count": 7,
   "metadata": {},
   "outputs": [
    {
     "name": "stdout",
     "output_type": "stream",
     "text": [
      "Model: \"sequential_4\"\n",
      "_________________________________________________________________\n",
      "Layer (type)                 Output Shape              Param #   \n",
      "=================================================================\n",
      "dense_12 (Dense)             (None, 100)               1000      \n",
      "_________________________________________________________________\n",
      "dense_13 (Dense)             (None, 100)               10100     \n",
      "_________________________________________________________________\n",
      "dense_14 (Dense)             (None, 1)                 101       \n",
      "=================================================================\n",
      "Total params: 11,201\n",
      "Trainable params: 11,201\n",
      "Non-trainable params: 0\n",
      "_________________________________________________________________\n"
     ]
    }
   ],
   "source": [
    "model_1.summary()"
   ]
  },
  {
   "cell_type": "code",
   "execution_count": 8,
   "metadata": {},
   "outputs": [
    {
     "name": "stdout",
     "output_type": "stream",
     "text": [
      "Epoch 1/20\n",
      "14/14 [==============================] - 0s 8ms/step - loss: 76.4148 - val_loss: 147.9391\n",
      "Epoch 2/20\n",
      "14/14 [==============================] - 0s 11ms/step - loss: 76.4148 - val_loss: 147.9391\n",
      "Epoch 3/20\n",
      "14/14 [==============================] - 0s 4ms/step - loss: 76.4148 - val_loss: 147.9391\n"
     ]
    }
   ],
   "source": [
    "# Specify the model\n",
    "model_2 = Sequential()\n",
    "model_2.add(Dense(100, activation=LeakyReLU(), input_shape = input_shape))\n",
    "model_2.add(Dense(100, activation=LeakyReLU()))\n",
    "model_2.add(Dense(1, activation='softmax'))\n",
    "\n",
    "# Compile the model\n",
    "model_2.compile(optimizer='adam',loss='mean_squared_error')\n",
    "\n",
    "# Fit the model\n",
    "model_2_training = model_2.fit(predictors, target, validation_split=0.2, epochs=20, \n",
    "                               callbacks=[early_stopping_monitor])"
   ]
  },
  {
   "cell_type": "code",
   "execution_count": 9,
   "metadata": {},
   "outputs": [
    {
     "data": {
      "image/png": "[encoded data removed]",
      "text/plain": [
       "<Figure size 432x288 with 1 Axes>"
      ]
     },
     "metadata": {
      "needs_background": "light"
     },
     "output_type": "display_data"
    }
   ],
   "source": [
    "# Create the plot\n",
    "plt.plot(model_1_training.history['val_loss'], 'r', label = 'model_1')\n",
    "plt.plot(model_2_training.history['val_loss'], 'b', label = 'model_2')\n",
    "plt.xlabel('Epochs')\n",
    "plt.ylabel('Validation score')\n",
    "plt.grid()\n",
    "plt.legend()\n",
    "plt.show()"
   ]
  },
  {
   "cell_type": "markdown",
   "metadata": {},
   "source": [
    "## Adding layers to a network"
   ]
  },
  {
   "cell_type": "code",
   "execution_count": 10,
   "metadata": {},
   "outputs": [
    {
     "name": "stdout",
     "output_type": "stream",
     "text": [
      "Epoch 1/20\n",
      "14/14 [==============================] - 0s 14ms/step - loss: 77.1864 - val_loss: 147.9522\n",
      "Epoch 2/20\n",
      "14/14 [==============================] - 0s 5ms/step - loss: 76.4212 - val_loss: 147.9418\n",
      "Epoch 3/20\n",
      "14/14 [==============================] - 0s 5ms/step - loss: 76.4173 - val_loss: 147.9408\n",
      "Epoch 4/20\n",
      "14/14 [==============================] - 0s 4ms/step - loss: 76.4167 - val_loss: 147.9405\n",
      "Epoch 5/20\n",
      "14/14 [==============================] - 0s 4ms/step - loss: 76.4165 - val_loss: 147.9404\n",
      "Epoch 6/20\n",
      "14/14 [==============================] - 0s 4ms/step - loss: 76.4164 - val_loss: 147.9404\n",
      "Epoch 7/20\n",
      "14/14 [==============================] - 0s 4ms/step - loss: 76.4163 - val_loss: 147.9403\n",
      "Epoch 8/20\n",
      "14/14 [==============================] - 0s 4ms/step - loss: 76.4162 - val_loss: 147.9402\n",
      "Epoch 9/20\n",
      "14/14 [==============================] - 0s 4ms/step - loss: 76.4162 - val_loss: 147.9402\n",
      "Epoch 10/20\n",
      "14/14 [==============================] - 0s 4ms/step - loss: 76.4161 - val_loss: 147.9401\n",
      "Epoch 11/20\n",
      "14/14 [==============================] - 0s 4ms/step - loss: 76.4160 - val_loss: 147.9401\n",
      "Epoch 12/20\n",
      "14/14 [==============================] - 0s 4ms/step - loss: 76.4160 - val_loss: 147.9400\n",
      "Epoch 13/20\n",
      "14/14 [==============================] - 0s 3ms/step - loss: 76.4159 - val_loss: 147.9400\n",
      "Epoch 14/20\n",
      "14/14 [==============================] - 0s 4ms/step - loss: 76.4159 - val_loss: 147.9399\n",
      "Epoch 15/20\n",
      "14/14 [==============================] - 0s 3ms/step - loss: 76.4158 - val_loss: 147.9399\n",
      "Epoch 16/20\n",
      "14/14 [==============================] - 0s 3ms/step - loss: 76.4158 - val_loss: 147.9398\n",
      "Epoch 17/20\n",
      "14/14 [==============================] - 0s 3ms/step - loss: 76.4157 - val_loss: 147.9398\n",
      "Epoch 18/20\n",
      "14/14 [==============================] - 0s 6ms/step - loss: 76.4157 - val_loss: 147.9398\n",
      "Epoch 19/20\n",
      "14/14 [==============================] - 0s 5ms/step - loss: 76.4156 - val_loss: 147.9397\n",
      "Epoch 20/20\n",
      "14/14 [==============================] - 0s 5ms/step - loss: 76.4156 - val_loss: 147.9397\n"
     ]
    }
   ],
   "source": [
    "# Specify the model\n",
    "model_2 = Sequential()\n",
    "model_2.add(Dense(25, activation=LeakyReLU(), input_shape = input_shape))\n",
    "model_2.add(Dense(25, activation=LeakyReLU()))\n",
    "model_2.add(Dense(25, activation=LeakyReLU()))\n",
    "model_2.add(Dense(1, activation='sigmoid'))\n",
    "\n",
    "# Compile the model\n",
    "model_2.compile(optimizer='adam',loss='mean_squared_error')\n",
    "\n",
    "# Fit the model\n",
    "model_2_training = model_2.fit(predictors, target, validation_split=0.2, epochs=20, \n",
    "                               callbacks=[early_stopping_monitor])"
   ]
  },
  {
   "cell_type": "code",
   "execution_count": 11,
   "metadata": {},
   "outputs": [
    {
     "data": {
      "image/png": "[encoded data removed]",
      "text/plain": [
       "<Figure size 432x288 with 1 Axes>"
      ]
     },
     "metadata": {
      "needs_background": "light"
     },
     "output_type": "display_data"
    }
   ],
   "source": [
    "# Create the plot\n",
    "plt.plot(model_1_training.history['val_loss'], 'r', label = 'model_1')\n",
    "plt.plot(model_2_training.history['val_loss'], 'b', label = 'model_2')\n",
    "plt.xlabel('Epochs')\n",
    "plt.ylabel('Validation score')\n",
    "plt.grid()\n",
    "plt.legend()\n",
    "plt.show()"
   ]
  },
  {
   "cell_type": "markdown",
   "metadata": {},
   "source": [
    "## Sequential Experiments\n",
    "\n",
    "<img src=\"data/sequential.png\" alt=\"alt text\" width=\"500\"/>"
   ]
  },
  {
   "cell_type": "markdown",
   "metadata": {},
   "source": [
    "## Building your own digit recognition model\n",
    "\n",
    "### Load MNIST\n",
    "Load with the following arguments:\n",
    "\n",
    "* `shuffle_files`: The MNIST data is only stored in a single file, but for larger datasets with multiple files on disk, it's good practice to shuffle them when training.\n",
    "* `as_supervised`: Returns tuple `(img, label)` instead of dict `{'image': img, 'label': label}`"
   ]
  },
  {
   "cell_type": "code",
   "execution_count": 12,
   "metadata": {},
   "outputs": [],
   "source": [
    "(ds_train, ds_test), ds_info = tfds.load(\n",
    "    'mnist',\n",
    "    split=['train', 'test'],\n",
    "    shuffle_files=True,\n",
    "    as_supervised=True,\n",
    "    with_info=True,\n",
    ")"
   ]
  },
  {
   "cell_type": "markdown",
   "metadata": {},
   "source": [
    "## Step 1: Create your input pipeline\n",
    "\n",
    "### Build training pipeline\n",
    "Apply the following transormations:\n",
    "\n",
    "* `ds.map`: TFDS provide the images as tf.uint8, while the model expect tf.float32, so normalize images\n",
    "* `ds.cache` As the dataset fit in memory, cache before shuffling for better performance. __Note__: Random transformations should be applied after caching\n",
    "* `ds.shuffle`: For true randomness, set the shuffle buffer to the full dataset size. __Note__: For bigger datasets which do not fit in memory, a standard value is 1000 if your system allows it.\n",
    "* `ds.batch`: Batch after shuffling to get unique batches at each epoch.\n",
    "* `ds.prefetch`: Good practice to end the pipeline by prefetching for performances."
   ]
  },
  {
   "cell_type": "code",
   "execution_count": 13,
   "metadata": {},
   "outputs": [],
   "source": [
    "def normalize_img(image, label):\n",
    "  \"\"\"Normalizes images: `uint8` -> `float32`.\"\"\"\n",
    "  return tf.cast(image, tf.float32) / 255., label\n",
    "\n",
    "ds_train = ds_train.map(\n",
    "    normalize_img, num_parallel_calls=tf.data.experimental.AUTOTUNE)\n",
    "ds_train = ds_train.cache()\n",
    "ds_train = ds_train.shuffle(ds_info.splits['train'].num_examples)\n",
    "ds_train = ds_train.batch(128)\n",
    "ds_train = ds_train.prefetch(tf.data.experimental.AUTOTUNE)"
   ]
  },
  {
   "cell_type": "markdown",
   "metadata": {},
   "source": [
    "### Build evaluation pipeline\n",
    "Testing pipeline is similar to the training pipeline, with small differences:\n",
    "\n",
    "* No `ds.shuffle()` call\n",
    "* Caching is done after batching (as batches can be the same between epoch)"
   ]
  },
  {
   "cell_type": "code",
   "execution_count": 14,
   "metadata": {},
   "outputs": [],
   "source": [
    "ds_test = ds_test.map(\n",
    "    normalize_img, num_parallel_calls=tf.data.experimental.AUTOTUNE)\n",
    "ds_test = ds_test.batch(128)\n",
    "ds_test = ds_test.cache()\n",
    "ds_test = ds_test.prefetch(tf.data.experimental.AUTOTUNE)"
   ]
  },
  {
   "cell_type": "markdown",
   "metadata": {},
   "source": [
    "## Step 2: Create and train the model"
   ]
  },
  {
   "cell_type": "code",
   "execution_count": 15,
   "metadata": {},
   "outputs": [
    {
     "name": "stdout",
     "output_type": "stream",
     "text": [
      "Epoch 1/6\n",
      "469/469 [==============================] - 3s 6ms/step - loss: 0.3548 - accuracy: 0.9028 - val_loss: 0.1985 - val_accuracy: 0.9432\n",
      "Epoch 2/6\n",
      "469/469 [==============================] - 2s 3ms/step - loss: 0.1631 - accuracy: 0.9538 - val_loss: 0.1438 - val_accuracy: 0.9570\n",
      "Epoch 3/6\n",
      "469/469 [==============================] - 2s 4ms/step - loss: 0.1173 - accuracy: 0.9661 - val_loss: 0.1170 - val_accuracy: 0.9654\n",
      "Epoch 4/6\n",
      "469/469 [==============================] - 2s 3ms/step - loss: 0.0906 - accuracy: 0.9742 - val_loss: 0.0990 - val_accuracy: 0.9689\n",
      "Epoch 5/6\n",
      "469/469 [==============================] - 1s 3ms/step - loss: 0.0738 - accuracy: 0.9787 - val_loss: 0.0905 - val_accuracy: 0.9717\n",
      "Epoch 6/6\n",
      "469/469 [==============================] - 2s 5ms/step - loss: 0.0604 - accuracy: 0.9822 - val_loss: 0.0888 - val_accuracy: 0.9735\n"
     ]
    },
    {
     "data": {
      "text/plain": [
       "<tensorflow.python.keras.callbacks.History at 0x13d949790>"
      ]
     },
     "execution_count": 15,
     "metadata": {},
     "output_type": "execute_result"
    }
   ],
   "source": [
    "model = tf.keras.models.Sequential([\n",
    "  tf.keras.layers.Flatten(input_shape=(28, 28, 1)),\n",
    "  tf.keras.layers.Dense(128,activation='relu'),\n",
    "  tf.keras.layers.Dense(10, activation='softmax')\n",
    "])\n",
    "model.compile(\n",
    "    loss='sparse_categorical_crossentropy',\n",
    "    optimizer=tf.keras.optimizers.Adam(0.001),\n",
    "    metrics=['accuracy'],\n",
    ")\n",
    "\n",
    "model.fit(\n",
    "    ds_train,\n",
    "    epochs=6,\n",
    "    validation_data=ds_test,\n",
    ")"
   ]
  },
  {
   "cell_type": "markdown",
   "metadata": {},
   "source": [
    "## Deep Learning With Jupyter Notebooks In The Cloud\n",
    "\n",
    "Visit: https://www.datacamp.com/community/tutorials/deep-learning-jupyter-aws\n",
    "\n",
    "## Sources\n",
    "\n",
    "1. https://www.tensorflow.org/datasets/keras_example"
   ]
  }
 ],
 "metadata": {
  "kernelspec": {
   "display_name": "Python 3",
   "language": "python",
   "name": "python3"
  },
  "language_info": {
   "codemirror_mode": {
    "name": "ipython",
    "version": 3
   },
   "file_extension": ".py",
   "mimetype": "text/x-python",
   "name": "python",
   "nbconvert_exporter": "python",
   "pygments_lexer": "ipython3",
   "version": "3.7.6"
  }
 },
 "nbformat": 4,
 "nbformat_minor": 4
}

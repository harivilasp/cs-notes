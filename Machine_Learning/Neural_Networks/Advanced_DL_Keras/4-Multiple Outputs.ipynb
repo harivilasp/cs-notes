{
 "cells": [
  {
   "cell_type": "markdown",
   "metadata": {},
   "source": [
    "# Multiple Outputs\n",
    "\n",
    "## Two-output models"
   ]
  },
  {
   "cell_type": "code",
   "execution_count": 1,
   "metadata": {},
   "outputs": [],
   "source": [
    "import pandas as pd\n",
    "import numpy as np\n",
    "from keras.layers import Embedding, Input, Dense, Flatten, Concatenate\n",
    "from keras.models import Model\n",
    "from tensorflow.keras.utils import plot_model"
   ]
  },
  {
   "cell_type": "code",
   "execution_count": 2,
   "metadata": {},
   "outputs": [],
   "source": [
    "games_tourney = pd.read_csv('data/games_tourney_2.csv')\n",
    "games_tourney_train = games_tourney.loc[:int(games_tourney.shape[0]*0.8),]\n",
    "games_tourney_test = games_tourney.loc[int(games_tourney.shape[0]*0.8)+1:,]"
   ]
  },
  {
   "cell_type": "code",
   "execution_count": 3,
   "metadata": {},
   "outputs": [],
   "source": [
    "# Define the input\n",
    "input_tensor = Input(shape=(2,))\n",
    "\n",
    "# Define the output\n",
    "output_tensor = Dense(2)(input_tensor)\n",
    "\n",
    "# Create a model\n",
    "model = Model(input_tensor, output_tensor)\n",
    "\n",
    "# Compile the model\n",
    "model.compile(optimizer='adam', loss='mean_absolute_error')"
   ]
  },
  {
   "cell_type": "code",
   "execution_count": 4,
   "metadata": {},
   "outputs": [
    {
     "name": "stdout",
     "output_type": "stream",
     "text": [
      "Epoch 1/100\n",
      "1/1 [==============================] - 0s 3ms/step - loss: 71.7505\n",
      "Epoch 2/100\n",
      "1/1 [==============================] - 0s 1ms/step - loss: 71.7494\n",
      "Epoch 3/100\n",
      "1/1 [==============================] - 0s 3ms/step - loss: 71.7483\n",
      "Epoch 4/100\n",
      "1/1 [==============================] - 0s 1ms/step - loss: 71.7471\n",
      "Epoch 5/100\n",
      "1/1 [==============================] - 0s 10ms/step - loss: 71.7460\n",
      "Epoch 6/100\n",
      "1/1 [==============================] - 0s 27ms/step - loss: 71.7449\n",
      "Epoch 7/100\n",
      "1/1 [==============================] - 0s 14ms/step - loss: 71.7437\n",
      "Epoch 8/100\n",
      "1/1 [==============================] - 0s 6ms/step - loss: 71.7426\n",
      "Epoch 9/100\n",
      "1/1 [==============================] - 0s 4ms/step - loss: 71.7415\n",
      "Epoch 10/100\n",
      "1/1 [==============================] - 0s 2ms/step - loss: 71.7403\n",
      "Epoch 11/100\n",
      "1/1 [==============================] - 0s 3ms/step - loss: 71.7392\n",
      "Epoch 12/100\n",
      "1/1 [==============================] - 0s 7ms/step - loss: 71.7381\n",
      "Epoch 13/100\n",
      "1/1 [==============================] - 0s 2ms/step - loss: 71.7369\n",
      "Epoch 14/100\n",
      "1/1 [==============================] - 0s 2ms/step - loss: 71.7358\n",
      "Epoch 15/100\n",
      "1/1 [==============================] - 0s 3ms/step - loss: 71.7346\n",
      "Epoch 16/100\n",
      "1/1 [==============================] - 0s 2ms/step - loss: 71.7335\n",
      "Epoch 17/100\n",
      "1/1 [==============================] - 0s 3ms/step - loss: 71.7324\n",
      "Epoch 18/100\n",
      "1/1 [==============================] - 0s 4ms/step - loss: 71.7312\n",
      "Epoch 19/100\n",
      "1/1 [==============================] - 0s 30ms/step - loss: 71.7301\n",
      "Epoch 20/100\n",
      "1/1 [==============================] - 0s 24ms/step - loss: 71.7290\n",
      "Epoch 21/100\n",
      "1/1 [==============================] - 0s 7ms/step - loss: 71.7278\n",
      "Epoch 22/100\n",
      "1/1 [==============================] - 0s 6ms/step - loss: 71.7267\n",
      "Epoch 23/100\n",
      "1/1 [==============================] - 0s 13ms/step - loss: 71.7256\n",
      "Epoch 24/100\n",
      "1/1 [==============================] - 0s 3ms/step - loss: 71.7244\n",
      "Epoch 25/100\n",
      "1/1 [==============================] - 0s 3ms/step - loss: 71.7233\n",
      "Epoch 26/100\n",
      "1/1 [==============================] - 0s 3ms/step - loss: 71.7222\n",
      "Epoch 27/100\n",
      "1/1 [==============================] - 0s 3ms/step - loss: 71.7210\n",
      "Epoch 28/100\n",
      "1/1 [==============================] - 0s 3ms/step - loss: 71.7199\n",
      "Epoch 29/100\n",
      "1/1 [==============================] - 0s 4ms/step - loss: 71.7187\n",
      "Epoch 30/100\n",
      "1/1 [==============================] - 0s 3ms/step - loss: 71.7176\n",
      "Epoch 31/100\n",
      "1/1 [==============================] - 0s 3ms/step - loss: 71.7165\n",
      "Epoch 32/100\n",
      "1/1 [==============================] - 0s 4ms/step - loss: 71.7153\n",
      "Epoch 33/100\n",
      "1/1 [==============================] - 0s 3ms/step - loss: 71.7142\n",
      "Epoch 34/100\n",
      "1/1 [==============================] - 0s 6ms/step - loss: 71.7131\n",
      "Epoch 35/100\n",
      "1/1 [==============================] - 0s 9ms/step - loss: 71.7119\n",
      "Epoch 36/100\n",
      "1/1 [==============================] - 0s 3ms/step - loss: 71.7108\n",
      "Epoch 37/100\n",
      "1/1 [==============================] - 0s 8ms/step - loss: 71.7097\n",
      "Epoch 38/100\n",
      "1/1 [==============================] - 0s 5ms/step - loss: 71.7085\n",
      "Epoch 39/100\n",
      "1/1 [==============================] - 0s 5ms/step - loss: 71.7074\n",
      "Epoch 40/100\n",
      "1/1 [==============================] - 0s 3ms/step - loss: 71.7063\n",
      "Epoch 41/100\n",
      "1/1 [==============================] - 0s 4ms/step - loss: 71.7051\n",
      "Epoch 42/100\n",
      "1/1 [==============================] - 0s 7ms/step - loss: 71.7040\n",
      "Epoch 43/100\n",
      "1/1 [==============================] - 0s 6ms/step - loss: 71.7028\n",
      "Epoch 44/100\n",
      "1/1 [==============================] - 0s 5ms/step - loss: 71.7017\n",
      "Epoch 45/100\n",
      "1/1 [==============================] - 0s 6ms/step - loss: 71.7006\n",
      "Epoch 46/100\n",
      "1/1 [==============================] - 0s 5ms/step - loss: 71.6994\n",
      "Epoch 47/100\n",
      "1/1 [==============================] - 0s 3ms/step - loss: 71.6983\n",
      "Epoch 48/100\n",
      "1/1 [==============================] - 0s 4ms/step - loss: 71.6972\n",
      "Epoch 49/100\n",
      "1/1 [==============================] - 0s 5ms/step - loss: 71.6960\n",
      "Epoch 50/100\n",
      "1/1 [==============================] - 0s 1ms/step - loss: 71.6949\n",
      "Epoch 51/100\n",
      "1/1 [==============================] - 0s 3ms/step - loss: 71.6938\n",
      "Epoch 52/100\n",
      "1/1 [==============================] - 0s 4ms/step - loss: 71.6926\n",
      "Epoch 53/100\n",
      "1/1 [==============================] - 0s 2ms/step - loss: 71.6915\n",
      "Epoch 54/100\n",
      "1/1 [==============================] - 0s 6ms/step - loss: 71.6903\n",
      "Epoch 55/100\n",
      "1/1 [==============================] - 0s 4ms/step - loss: 71.6892\n",
      "Epoch 56/100\n",
      "1/1 [==============================] - 0s 3ms/step - loss: 71.6881\n",
      "Epoch 57/100\n",
      "1/1 [==============================] - 0s 5ms/step - loss: 71.6869\n",
      "Epoch 58/100\n",
      "1/1 [==============================] - 0s 7ms/step - loss: 71.6858\n",
      "Epoch 59/100\n",
      "1/1 [==============================] - 0s 5ms/step - loss: 71.6847\n",
      "Epoch 60/100\n",
      "1/1 [==============================] - 0s 4ms/step - loss: 71.6835\n",
      "Epoch 61/100\n",
      "1/1 [==============================] - 0s 3ms/step - loss: 71.6824\n",
      "Epoch 62/100\n",
      "1/1 [==============================] - 0s 3ms/step - loss: 71.6813\n",
      "Epoch 63/100\n",
      "1/1 [==============================] - 0s 2ms/step - loss: 71.6801\n",
      "Epoch 64/100\n",
      "1/1 [==============================] - 0s 2ms/step - loss: 71.6790\n",
      "Epoch 65/100\n",
      "1/1 [==============================] - 0s 3ms/step - loss: 71.6778\n",
      "Epoch 66/100\n",
      "1/1 [==============================] - 0s 2ms/step - loss: 71.6767\n",
      "Epoch 67/100\n",
      "1/1 [==============================] - 0s 6ms/step - loss: 71.6756\n",
      "Epoch 68/100\n",
      "1/1 [==============================] - 0s 8ms/step - loss: 71.6745\n",
      "Epoch 69/100\n",
      "1/1 [==============================] - 0s 9ms/step - loss: 71.6733\n",
      "Epoch 70/100\n",
      "1/1 [==============================] - 0s 5ms/step - loss: 71.6722\n",
      "Epoch 71/100\n",
      "1/1 [==============================] - 0s 2ms/step - loss: 71.6711\n",
      "Epoch 72/100\n",
      "1/1 [==============================] - 0s 4ms/step - loss: 71.6699\n",
      "Epoch 73/100\n",
      "1/1 [==============================] - 0s 3ms/step - loss: 71.6688\n",
      "Epoch 74/100\n",
      "1/1 [==============================] - 0s 4ms/step - loss: 71.6676\n",
      "Epoch 75/100\n",
      "1/1 [==============================] - 0s 4ms/step - loss: 71.6665\n",
      "Epoch 76/100\n",
      "1/1 [==============================] - 0s 2ms/step - loss: 71.6654\n",
      "Epoch 77/100\n",
      "1/1 [==============================] - 0s 4ms/step - loss: 71.6642\n",
      "Epoch 78/100\n",
      "1/1 [==============================] - 0s 4ms/step - loss: 71.6631\n",
      "Epoch 79/100\n",
      "1/1 [==============================] - 0s 2ms/step - loss: 71.6620\n",
      "Epoch 80/100\n",
      "1/1 [==============================] - 0s 6ms/step - loss: 71.6608\n",
      "Epoch 81/100\n",
      "1/1 [==============================] - 0s 8ms/step - loss: 71.6597\n",
      "Epoch 82/100\n",
      "1/1 [==============================] - 0s 6ms/step - loss: 71.6586\n",
      "Epoch 83/100\n",
      "1/1 [==============================] - 0s 5ms/step - loss: 71.6574\n",
      "Epoch 84/100\n",
      "1/1 [==============================] - 0s 3ms/step - loss: 71.6563\n",
      "Epoch 85/100\n",
      "1/1 [==============================] - 0s 2ms/step - loss: 71.6552\n",
      "Epoch 86/100\n",
      "1/1 [==============================] - 0s 4ms/step - loss: 71.6540\n",
      "Epoch 87/100\n",
      "1/1 [==============================] - 0s 5ms/step - loss: 71.6529\n",
      "Epoch 88/100\n",
      "1/1 [==============================] - 0s 3ms/step - loss: 71.6517\n",
      "Epoch 89/100\n",
      "1/1 [==============================] - 0s 2ms/step - loss: 71.6506\n",
      "Epoch 90/100\n",
      "1/1 [==============================] - 0s 3ms/step - loss: 71.6495\n",
      "Epoch 91/100\n",
      "1/1 [==============================] - 0s 2ms/step - loss: 71.6483\n",
      "Epoch 92/100\n",
      "1/1 [==============================] - 0s 2ms/step - loss: 71.6472\n",
      "Epoch 93/100\n",
      "1/1 [==============================] - 0s 3ms/step - loss: 71.6461\n",
      "Epoch 94/100\n",
      "1/1 [==============================] - 0s 2ms/step - loss: 71.6449\n",
      "Epoch 95/100\n",
      "1/1 [==============================] - 0s 1ms/step - loss: 71.6438\n",
      "Epoch 96/100\n",
      "1/1 [==============================] - 0s 4ms/step - loss: 71.6427\n",
      "Epoch 97/100\n",
      "1/1 [==============================] - 0s 2ms/step - loss: 71.6415\n",
      "Epoch 98/100\n",
      "1/1 [==============================] - 0s 3ms/step - loss: 71.6404\n",
      "Epoch 99/100\n",
      "1/1 [==============================] - 0s 1ms/step - loss: 71.6392\n",
      "Epoch 100/100\n",
      "1/1 [==============================] - 0s 4ms/step - loss: 71.6381\n"
     ]
    },
    {
     "data": {
      "text/plain": [
       "<tensorflow.python.keras.callbacks.History at 0x135b78a50>"
      ]
     },
     "execution_count": 4,
     "metadata": {},
     "output_type": "execute_result"
    }
   ],
   "source": [
    "# Fit the model\n",
    "model.fit(games_tourney_train[['seed_diff', 'pred']],\n",
    "          games_tourney_train[['score_1', 'score_2']],\n",
    "          verbose=True,\n",
    "          epochs=100,\n",
    "          batch_size=16384)"
   ]
  },
  {
   "cell_type": "code",
   "execution_count": 5,
   "metadata": {},
   "outputs": [
    {
     "name": "stdout",
     "output_type": "stream",
     "text": [
      "Model: \"model\"\n",
      "_________________________________________________________________\n",
      "Layer (type)                 Output Shape              Param #   \n",
      "=================================================================\n",
      "input_1 (InputLayer)         [(None, 2)]               0         \n",
      "_________________________________________________________________\n",
      "dense (Dense)                (None, 2)                 6         \n",
      "=================================================================\n",
      "Total params: 6\n",
      "Trainable params: 6\n",
      "Non-trainable params: 0\n",
      "_________________________________________________________________\n"
     ]
    }
   ],
   "source": [
    "model.summary()"
   ]
  },
  {
   "cell_type": "code",
   "execution_count": 6,
   "metadata": {},
   "outputs": [
    {
     "data": {
      "image/png": "[encoded data removed]",
      "text/plain": [
       "<IPython.core.display.Image object>"
      ]
     },
     "execution_count": 6,
     "metadata": {},
     "output_type": "execute_result"
    }
   ],
   "source": [
    "plot_model(model)"
   ]
  },
  {
   "cell_type": "code",
   "execution_count": 7,
   "metadata": {},
   "outputs": [
    {
     "name": "stdout",
     "output_type": "stream",
     "text": [
      "[array([[ 0.25448787,  1.0090358 ],\n",
      "       [ 0.22733475, -1.0422189 ]], dtype=float32), array([0.09999995, 0.09999995], dtype=float32)]\n",
      "season        1997.913813\n",
      "team_1        5570.814050\n",
      "team_2        5508.582940\n",
      "home             0.000000\n",
      "seed_diff       -0.007379\n",
      "score_diff      -0.036600\n",
      "score_1         71.661747\n",
      "score_2         71.698347\n",
      "won              0.499115\n",
      "pred             0.128281\n",
      "dtype: float64\n"
     ]
    }
   ],
   "source": [
    "# Print the model's weights\n",
    "print(model.get_weights())\n",
    "\n",
    "# Print the column means of the training data\n",
    "print(games_tourney_train.mean())"
   ]
  },
  {
   "cell_type": "code",
   "execution_count": 8,
   "metadata": {},
   "outputs": [
    {
     "data": {
      "text/plain": [
       "68.86831665039062"
      ]
     },
     "execution_count": 8,
     "metadata": {},
     "output_type": "execute_result"
    }
   ],
   "source": [
    "# Evaluate the model on the games_tourney_test dataset\n",
    "model.evaluate(games_tourney_test[['seed_diff', 'pred']],\n",
    "               games_tourney_test[['score_1', 'score_2']], verbose=False)"
   ]
  },
  {
   "cell_type": "markdown",
   "metadata": {},
   "source": [
    "## Single model for classification and regression"
   ]
  },
  {
   "cell_type": "code",
   "execution_count": 9,
   "metadata": {},
   "outputs": [],
   "source": [
    "# Create an input layer with 2 columns\n",
    "input_tensor = Input(shape=(2,))\n",
    "\n",
    "# Create the first output\n",
    "output_tensor_1 = Dense(1, activation='linear', use_bias=False, name='Regression-Layer')(input_tensor)\n",
    "\n",
    "# Create the second output (use the first output as input here)\n",
    "output_tensor_2 = Dense(1, activation='sigmoid', use_bias=False, name='Classification-Layer')(output_tensor_1)\n",
    "\n",
    "# Create a model with 2 outputs\n",
    "model = Model(input_tensor, [output_tensor_1, output_tensor_2], name='Multiple-Ouputs')"
   ]
  },
  {
   "cell_type": "code",
   "execution_count": 10,
   "metadata": {},
   "outputs": [
    {
     "name": "stdout",
     "output_type": "stream",
     "text": [
      "Epoch 1/10\n",
      "1/1 [==============================] - 0s 14ms/step - loss: 14.2906 - Regression-Layer_loss: 13.2266 - Classification-Layer_loss: 1.0641\n",
      "Epoch 2/10\n",
      "1/1 [==============================] - 0s 3ms/step - loss: 14.2210 - Regression-Layer_loss: 13.1822 - Classification-Layer_loss: 1.0388\n",
      "Epoch 3/10\n",
      "1/1 [==============================] - 0s 3ms/step - loss: 14.1526 - Regression-Layer_loss: 13.1379 - Classification-Layer_loss: 1.0146\n",
      "Epoch 4/10\n",
      "1/1 [==============================] - 0s 5ms/step - loss: 14.0854 - Regression-Layer_loss: 13.0936 - Classification-Layer_loss: 0.9917\n",
      "Epoch 5/10\n",
      "1/1 [==============================] - 0s 10ms/step - loss: 14.0197 - Regression-Layer_loss: 13.0497 - Classification-Layer_loss: 0.9699\n",
      "Epoch 6/10\n",
      "1/1 [==============================] - 0s 3ms/step - loss: 13.9552 - Regression-Layer_loss: 13.0059 - Classification-Layer_loss: 0.9493\n",
      "Epoch 7/10\n",
      "1/1 [==============================] - 0s 3ms/step - loss: 13.8921 - Regression-Layer_loss: 12.9623 - Classification-Layer_loss: 0.9298\n",
      "Epoch 8/10\n",
      "1/1 [==============================] - 0s 19ms/step - loss: 13.8304 - Regression-Layer_loss: 12.9190 - Classification-Layer_loss: 0.9114\n",
      "Epoch 9/10\n",
      "1/1 [==============================] - 0s 6ms/step - loss: 13.7700 - Regression-Layer_loss: 12.8759 - Classification-Layer_loss: 0.8941\n",
      "Epoch 10/10\n",
      "1/1 [==============================] - 0s 12ms/step - loss: 13.7111 - Regression-Layer_loss: 12.8333 - Classification-Layer_loss: 0.8778\n"
     ]
    },
    {
     "data": {
      "text/plain": [
       "<tensorflow.python.keras.callbacks.History at 0x1362746d0>"
      ]
     },
     "execution_count": 10,
     "metadata": {},
     "output_type": "execute_result"
    }
   ],
   "source": [
    "# Import the Adam optimizer\n",
    "from keras.optimizers import Adam\n",
    "\n",
    "# Compile the model with 2 losses and the Adam optimzer with a higher learning rate\n",
    "model.compile(loss=['mean_absolute_error', 'binary_crossentropy'], optimizer=Adam(lr=0.01))\n",
    "\n",
    "# Fit the model to the tournament training data, with 2 inputs and 2 outputs\n",
    "model.fit(games_tourney_train[['seed_diff', 'pred']],\n",
    "          [games_tourney_train[['score_diff']], games_tourney_train[['won']]],\n",
    "          epochs=10,\n",
    "          verbose=True,\n",
    "          batch_size=16384)"
   ]
  },
  {
   "cell_type": "code",
   "execution_count": 11,
   "metadata": {},
   "outputs": [
    {
     "name": "stdout",
     "output_type": "stream",
     "text": [
      "[array([[-0.24874288],\n",
      "       [ 1.4852852 ]], dtype=float32), array([[0.28165907]], dtype=float32)]\n",
      "season        1997.913813\n",
      "team_1        5570.814050\n",
      "team_2        5508.582940\n",
      "home             0.000000\n",
      "seed_diff       -0.007379\n",
      "score_diff      -0.036600\n",
      "score_1         71.661747\n",
      "score_2         71.698347\n",
      "won              0.499115\n",
      "pred             0.128281\n",
      "dtype: float64\n"
     ]
    }
   ],
   "source": [
    "# Print the model weights\n",
    "print(model.get_weights())\n",
    "\n",
    "# Print the training data means\n",
    "print(games_tourney_train.mean())"
   ]
  },
  {
   "cell_type": "code",
   "execution_count": 12,
   "metadata": {},
   "outputs": [
    {
     "name": "stdout",
     "output_type": "stream",
     "text": [
      "0.5349429451582145\n",
      "0.8021838885585818\n"
     ]
    }
   ],
   "source": [
    "# Import the sigmoid function from scipy\n",
    "from scipy.special import expit as sigmoid\n",
    "\n",
    "# Weight from the model\n",
    "weight = 0.14\n",
    "\n",
    "# Print the approximate win probability predicted close game\n",
    "print(sigmoid(1 * weight))\n",
    "\n",
    "# Print the approximate win probability predicted blowout game\n",
    "print(sigmoid(10 * weight))"
   ]
  },
  {
   "cell_type": "code",
   "execution_count": 13,
   "metadata": {},
   "outputs": [
    {
     "name": "stdout",
     "output_type": "stream",
     "text": [
      "[12.947988510131836, 12.107157707214355, 0.8408279418945312]\n"
     ]
    }
   ],
   "source": [
    "# Evaluate the model on new data\n",
    "print(model.evaluate(games_tourney_test[['seed_diff', 'pred']],\n",
    "               [games_tourney_test[['score_diff']], games_tourney_test[['won']]], verbose=False))"
   ]
  },
  {
   "cell_type": "code",
   "execution_count": 14,
   "metadata": {},
   "outputs": [
    {
     "name": "stdout",
     "output_type": "stream",
     "text": [
      "Model: \"Multiple-Ouputs\"\n",
      "_________________________________________________________________\n",
      "Layer (type)                 Output Shape              Param #   \n",
      "=================================================================\n",
      "input_2 (InputLayer)         [(None, 2)]               0         \n",
      "_________________________________________________________________\n",
      "Regression-Layer (Dense)     (None, 1)                 2         \n",
      "_________________________________________________________________\n",
      "Classification-Layer (Dense) (None, 1)                 1         \n",
      "=================================================================\n",
      "Total params: 3\n",
      "Trainable params: 3\n",
      "Non-trainable params: 0\n",
      "_________________________________________________________________\n"
     ]
    }
   ],
   "source": [
    "model.summary()"
   ]
  }
 ],
 "metadata": {
  "kernelspec": {
   "display_name": "Python 3",
   "language": "python",
   "name": "python3"
  },
  "language_info": {
   "codemirror_mode": {
    "name": "ipython",
    "version": 3
   },
   "file_extension": ".py",
   "mimetype": "text/x-python",
   "name": "python",
   "nbconvert_exporter": "python",
   "pygments_lexer": "ipython3",
   "version": "3.7.6"
  }
 },
 "nbformat": 4,
 "nbformat_minor": 4
}

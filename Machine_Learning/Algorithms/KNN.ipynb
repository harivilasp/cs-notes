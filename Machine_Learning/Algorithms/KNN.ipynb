{
  "nbformat": 4,
  "nbformat_minor": 0,
  "metadata": {
    "colab": {
      "name": "da1 web mining classification.ipynb",
      "provenance": [],
      "collapsed_sections": []
    },
    "kernelspec": {
      "name": "python3",
      "display_name": "Python 3"
    }
  },
  "cells": [
    {
      "cell_type": "code",
      "metadata": {
        "id": "QUR5aIkvs_jW"
      },
      "source": [
        "#loading dataset\n",
        "import pandas as pd\n",
        "import numpy as np\n",
        "#visualisation\n",
        "import matplotlib.pyplot as plt\n",
        "%matplotlib inline\n",
        "import seaborn as sns\n",
        "#EDA\n",
        "from collections import Counter\n",
        "import pandas_profiling as pp\n",
        "# data preprocessing\n",
        "from sklearn.preprocessing import StandardScaler\n",
        "# data splitting\n",
        "from sklearn.model_selection import train_test_split\n",
        "# data modeling\n",
        "from sklearn.metrics import confusion_matrix,accuracy_score,roc_curve,classification_report\n",
        "from sklearn.linear_model import LogisticRegression\n",
        "from sklearn.naive_bayes import GaussianNB\n",
        "from xgboost import XGBClassifier\n",
        "from sklearn.ensemble import RandomForestClassifier\n",
        "from sklearn.tree import DecisionTreeClassifier\n",
        "from sklearn.neighbors import KNeighborsClassifier\n",
        "from sklearn.naive_bayes import GaussianNB\n",
        "from sklearn.svm import SVC\n",
        "#ensembling\n",
        "from mlxtend.classifier import StackingCVClassifier\n",
        "\n",
        "import xgboost as xgb\n",
        "import seaborn as sns"
      ],
      "execution_count": null,
      "outputs": []
    },
    {
      "cell_type": "code",
      "metadata": {
        "id": "1UU054bZ8_-c",
        "outputId": "4a9c12da-3098-4292-e908-9a2dda02c76e",
        "colab": {
          "base_uri": "https://localhost:8080/",
          "height": 195
        }
      },
      "source": [
        "\n",
        "data = pd.read_csv('heartdisease.csv')\n",
        "data.head()\n"
      ],
      "execution_count": null,
      "outputs": [
        {
          "output_type": "execute_result",
          "data": {
            "text/html": [
              "<div>\n",
              "<style scoped>\n",
              "    .dataframe tbody tr th:only-of-type {\n",
              "        vertical-align: middle;\n",
              "    }\n",
              "\n",
              "    .dataframe tbody tr th {\n",
              "        vertical-align: top;\n",
              "    }\n",
              "\n",
              "    .dataframe thead th {\n",
              "        text-align: right;\n",
              "    }\n",
              "</style>\n",
              "<table border=\"1\" class=\"dataframe\">\n",
              "  <thead>\n",
              "    <tr style=\"text-align: right;\">\n",
              "      <th></th>\n",
              "      <th>age</th>\n",
              "      <th>sex</th>\n",
              "      <th>pain</th>\n",
              "      <th>BP</th>\n",
              "      <th>chol</th>\n",
              "      <th>fbs</th>\n",
              "      <th>ecg</th>\n",
              "      <th>maxhr</th>\n",
              "      <th>eiang</th>\n",
              "      <th>eist</th>\n",
              "      <th>slope</th>\n",
              "      <th>vessels</th>\n",
              "      <th>thal</th>\n",
              "      <th>diagnosis</th>\n",
              "    </tr>\n",
              "  </thead>\n",
              "  <tbody>\n",
              "    <tr>\n",
              "      <th>0</th>\n",
              "      <td>63.0</td>\n",
              "      <td>1.0</td>\n",
              "      <td>1.0</td>\n",
              "      <td>145.0</td>\n",
              "      <td>233.0</td>\n",
              "      <td>1.0</td>\n",
              "      <td>2.0</td>\n",
              "      <td>150.0</td>\n",
              "      <td>0.0</td>\n",
              "      <td>2.3</td>\n",
              "      <td>3.0</td>\n",
              "      <td>0.0</td>\n",
              "      <td>6.0</td>\n",
              "      <td>0</td>\n",
              "    </tr>\n",
              "    <tr>\n",
              "      <th>1</th>\n",
              "      <td>67.0</td>\n",
              "      <td>1.0</td>\n",
              "      <td>4.0</td>\n",
              "      <td>160.0</td>\n",
              "      <td>286.0</td>\n",
              "      <td>0.0</td>\n",
              "      <td>2.0</td>\n",
              "      <td>108.0</td>\n",
              "      <td>1.0</td>\n",
              "      <td>1.5</td>\n",
              "      <td>2.0</td>\n",
              "      <td>3.0</td>\n",
              "      <td>3.0</td>\n",
              "      <td>2</td>\n",
              "    </tr>\n",
              "    <tr>\n",
              "      <th>2</th>\n",
              "      <td>67.0</td>\n",
              "      <td>1.0</td>\n",
              "      <td>4.0</td>\n",
              "      <td>120.0</td>\n",
              "      <td>229.0</td>\n",
              "      <td>0.0</td>\n",
              "      <td>2.0</td>\n",
              "      <td>129.0</td>\n",
              "      <td>1.0</td>\n",
              "      <td>2.6</td>\n",
              "      <td>2.0</td>\n",
              "      <td>2.0</td>\n",
              "      <td>7.0</td>\n",
              "      <td>1</td>\n",
              "    </tr>\n",
              "    <tr>\n",
              "      <th>3</th>\n",
              "      <td>37.0</td>\n",
              "      <td>1.0</td>\n",
              "      <td>3.0</td>\n",
              "      <td>130.0</td>\n",
              "      <td>250.0</td>\n",
              "      <td>0.0</td>\n",
              "      <td>0.0</td>\n",
              "      <td>187.0</td>\n",
              "      <td>0.0</td>\n",
              "      <td>3.5</td>\n",
              "      <td>3.0</td>\n",
              "      <td>0.0</td>\n",
              "      <td>3.0</td>\n",
              "      <td>0</td>\n",
              "    </tr>\n",
              "    <tr>\n",
              "      <th>4</th>\n",
              "      <td>41.0</td>\n",
              "      <td>0.0</td>\n",
              "      <td>2.0</td>\n",
              "      <td>130.0</td>\n",
              "      <td>204.0</td>\n",
              "      <td>0.0</td>\n",
              "      <td>2.0</td>\n",
              "      <td>172.0</td>\n",
              "      <td>0.0</td>\n",
              "      <td>1.4</td>\n",
              "      <td>1.0</td>\n",
              "      <td>0.0</td>\n",
              "      <td>3.0</td>\n",
              "      <td>0</td>\n",
              "    </tr>\n",
              "  </tbody>\n",
              "</table>\n",
              "</div>"
            ],
            "text/plain": [
              "    age  sex  pain     BP   chol  ...  eist  slope  vessels  thal  diagnosis\n",
              "0  63.0  1.0   1.0  145.0  233.0  ...   2.3    3.0      0.0   6.0          0\n",
              "1  67.0  1.0   4.0  160.0  286.0  ...   1.5    2.0      3.0   3.0          2\n",
              "2  67.0  1.0   4.0  120.0  229.0  ...   2.6    2.0      2.0   7.0          1\n",
              "3  37.0  1.0   3.0  130.0  250.0  ...   3.5    3.0      0.0   3.0          0\n",
              "4  41.0  0.0   2.0  130.0  204.0  ...   1.4    1.0      0.0   3.0          0\n",
              "\n",
              "[5 rows x 14 columns]"
            ]
          },
          "metadata": {
            "tags": []
          },
          "execution_count": 47
        }
      ]
    },
    {
      "cell_type": "code",
      "metadata": {
        "id": "tp_FZ8TiqLuY",
        "outputId": "a097e74e-15a5-464e-9ad9-9b185e5d735b",
        "colab": {
          "base_uri": "https://localhost:8080/",
          "height": 34
        }
      },
      "source": [
        "data.shape"
      ],
      "execution_count": null,
      "outputs": [
        {
          "output_type": "execute_result",
          "data": {
            "text/plain": [
              "(297, 14)"
            ]
          },
          "metadata": {
            "tags": []
          },
          "execution_count": 48
        }
      ]
    },
    {
      "cell_type": "code",
      "metadata": {
        "id": "1riX9YOKqZwv",
        "outputId": "d565b803-8b9c-4712-967d-caaf6b476b35",
        "colab": {
          "base_uri": "https://localhost:8080/",
          "height": 304
        }
      },
      "source": [
        "data.describe()"
      ],
      "execution_count": null,
      "outputs": [
        {
          "output_type": "execute_result",
          "data": {
            "text/html": [
              "<div>\n",
              "<style scoped>\n",
              "    .dataframe tbody tr th:only-of-type {\n",
              "        vertical-align: middle;\n",
              "    }\n",
              "\n",
              "    .dataframe tbody tr th {\n",
              "        vertical-align: top;\n",
              "    }\n",
              "\n",
              "    .dataframe thead th {\n",
              "        text-align: right;\n",
              "    }\n",
              "</style>\n",
              "<table border=\"1\" class=\"dataframe\">\n",
              "  <thead>\n",
              "    <tr style=\"text-align: right;\">\n",
              "      <th></th>\n",
              "      <th>age</th>\n",
              "      <th>sex</th>\n",
              "      <th>pain</th>\n",
              "      <th>BP</th>\n",
              "      <th>chol</th>\n",
              "      <th>fbs</th>\n",
              "      <th>ecg</th>\n",
              "      <th>maxhr</th>\n",
              "      <th>eiang</th>\n",
              "      <th>eist</th>\n",
              "      <th>slope</th>\n",
              "      <th>vessels</th>\n",
              "      <th>thal</th>\n",
              "      <th>diagnosis</th>\n",
              "    </tr>\n",
              "  </thead>\n",
              "  <tbody>\n",
              "    <tr>\n",
              "      <th>count</th>\n",
              "      <td>297.000000</td>\n",
              "      <td>297.000000</td>\n",
              "      <td>297.000000</td>\n",
              "      <td>297.000000</td>\n",
              "      <td>297.000000</td>\n",
              "      <td>297.000000</td>\n",
              "      <td>297.000000</td>\n",
              "      <td>297.000000</td>\n",
              "      <td>297.000000</td>\n",
              "      <td>297.000000</td>\n",
              "      <td>297.000000</td>\n",
              "      <td>297.000000</td>\n",
              "      <td>297.000000</td>\n",
              "      <td>297.000000</td>\n",
              "    </tr>\n",
              "    <tr>\n",
              "      <th>mean</th>\n",
              "      <td>54.542088</td>\n",
              "      <td>0.676768</td>\n",
              "      <td>3.158249</td>\n",
              "      <td>131.693603</td>\n",
              "      <td>247.350168</td>\n",
              "      <td>0.144781</td>\n",
              "      <td>0.996633</td>\n",
              "      <td>149.599327</td>\n",
              "      <td>0.326599</td>\n",
              "      <td>1.055556</td>\n",
              "      <td>1.602694</td>\n",
              "      <td>0.676768</td>\n",
              "      <td>4.730640</td>\n",
              "      <td>0.946128</td>\n",
              "    </tr>\n",
              "    <tr>\n",
              "      <th>std</th>\n",
              "      <td>9.049736</td>\n",
              "      <td>0.468500</td>\n",
              "      <td>0.964859</td>\n",
              "      <td>17.762806</td>\n",
              "      <td>51.997583</td>\n",
              "      <td>0.352474</td>\n",
              "      <td>0.994914</td>\n",
              "      <td>22.941562</td>\n",
              "      <td>0.469761</td>\n",
              "      <td>1.166123</td>\n",
              "      <td>0.618187</td>\n",
              "      <td>0.938965</td>\n",
              "      <td>1.938629</td>\n",
              "      <td>1.234551</td>\n",
              "    </tr>\n",
              "    <tr>\n",
              "      <th>min</th>\n",
              "      <td>29.000000</td>\n",
              "      <td>0.000000</td>\n",
              "      <td>1.000000</td>\n",
              "      <td>94.000000</td>\n",
              "      <td>126.000000</td>\n",
              "      <td>0.000000</td>\n",
              "      <td>0.000000</td>\n",
              "      <td>71.000000</td>\n",
              "      <td>0.000000</td>\n",
              "      <td>0.000000</td>\n",
              "      <td>1.000000</td>\n",
              "      <td>0.000000</td>\n",
              "      <td>3.000000</td>\n",
              "      <td>0.000000</td>\n",
              "    </tr>\n",
              "    <tr>\n",
              "      <th>25%</th>\n",
              "      <td>48.000000</td>\n",
              "      <td>0.000000</td>\n",
              "      <td>3.000000</td>\n",
              "      <td>120.000000</td>\n",
              "      <td>211.000000</td>\n",
              "      <td>0.000000</td>\n",
              "      <td>0.000000</td>\n",
              "      <td>133.000000</td>\n",
              "      <td>0.000000</td>\n",
              "      <td>0.000000</td>\n",
              "      <td>1.000000</td>\n",
              "      <td>0.000000</td>\n",
              "      <td>3.000000</td>\n",
              "      <td>0.000000</td>\n",
              "    </tr>\n",
              "    <tr>\n",
              "      <th>50%</th>\n",
              "      <td>56.000000</td>\n",
              "      <td>1.000000</td>\n",
              "      <td>3.000000</td>\n",
              "      <td>130.000000</td>\n",
              "      <td>243.000000</td>\n",
              "      <td>0.000000</td>\n",
              "      <td>1.000000</td>\n",
              "      <td>153.000000</td>\n",
              "      <td>0.000000</td>\n",
              "      <td>0.800000</td>\n",
              "      <td>2.000000</td>\n",
              "      <td>0.000000</td>\n",
              "      <td>3.000000</td>\n",
              "      <td>0.000000</td>\n",
              "    </tr>\n",
              "    <tr>\n",
              "      <th>75%</th>\n",
              "      <td>61.000000</td>\n",
              "      <td>1.000000</td>\n",
              "      <td>4.000000</td>\n",
              "      <td>140.000000</td>\n",
              "      <td>276.000000</td>\n",
              "      <td>0.000000</td>\n",
              "      <td>2.000000</td>\n",
              "      <td>166.000000</td>\n",
              "      <td>1.000000</td>\n",
              "      <td>1.600000</td>\n",
              "      <td>2.000000</td>\n",
              "      <td>1.000000</td>\n",
              "      <td>7.000000</td>\n",
              "      <td>2.000000</td>\n",
              "    </tr>\n",
              "    <tr>\n",
              "      <th>max</th>\n",
              "      <td>77.000000</td>\n",
              "      <td>1.000000</td>\n",
              "      <td>4.000000</td>\n",
              "      <td>200.000000</td>\n",
              "      <td>564.000000</td>\n",
              "      <td>1.000000</td>\n",
              "      <td>2.000000</td>\n",
              "      <td>202.000000</td>\n",
              "      <td>1.000000</td>\n",
              "      <td>6.200000</td>\n",
              "      <td>3.000000</td>\n",
              "      <td>3.000000</td>\n",
              "      <td>7.000000</td>\n",
              "      <td>4.000000</td>\n",
              "    </tr>\n",
              "  </tbody>\n",
              "</table>\n",
              "</div>"
            ],
            "text/plain": [
              "              age         sex        pain  ...     vessels        thal   diagnosis\n",
              "count  297.000000  297.000000  297.000000  ...  297.000000  297.000000  297.000000\n",
              "mean    54.542088    0.676768    3.158249  ...    0.676768    4.730640    0.946128\n",
              "std      9.049736    0.468500    0.964859  ...    0.938965    1.938629    1.234551\n",
              "min     29.000000    0.000000    1.000000  ...    0.000000    3.000000    0.000000\n",
              "25%     48.000000    0.000000    3.000000  ...    0.000000    3.000000    0.000000\n",
              "50%     56.000000    1.000000    3.000000  ...    0.000000    3.000000    0.000000\n",
              "75%     61.000000    1.000000    4.000000  ...    1.000000    7.000000    2.000000\n",
              "max     77.000000    1.000000    4.000000  ...    3.000000    7.000000    4.000000\n",
              "\n",
              "[8 rows x 14 columns]"
            ]
          },
          "metadata": {
            "tags": []
          },
          "execution_count": 49
        }
      ]
    },
    {
      "cell_type": "code",
      "metadata": {
        "id": "fkRiUgT5sfr-",
        "outputId": "6863ce33-9a99-4977-a5ea-9c133423647f",
        "colab": {
          "base_uri": "https://localhost:8080/",
          "height": 370
        }
      },
      "source": [
        "data.info()"
      ],
      "execution_count": null,
      "outputs": [
        {
          "output_type": "stream",
          "text": [
            "<class 'pandas.core.frame.DataFrame'>\n",
            "RangeIndex: 297 entries, 0 to 296\n",
            "Data columns (total 14 columns):\n",
            " #   Column     Non-Null Count  Dtype  \n",
            "---  ------     --------------  -----  \n",
            " 0   age        297 non-null    float64\n",
            " 1   sex        297 non-null    float64\n",
            " 2   pain       297 non-null    float64\n",
            " 3   BP         297 non-null    float64\n",
            " 4   chol       297 non-null    float64\n",
            " 5   fbs        297 non-null    float64\n",
            " 6   ecg        297 non-null    float64\n",
            " 7   maxhr      297 non-null    float64\n",
            " 8   eiang      297 non-null    float64\n",
            " 9   eist       297 non-null    float64\n",
            " 10  slope      297 non-null    float64\n",
            " 11  vessels    297 non-null    float64\n",
            " 12  thal       297 non-null    float64\n",
            " 13  diagnosis  297 non-null    int64  \n",
            "dtypes: float64(13), int64(1)\n",
            "memory usage: 32.6 KB\n"
          ],
          "name": "stdout"
        }
      ]
    },
    {
      "cell_type": "code",
      "metadata": {
        "id": "xKE56B1M4U42",
        "outputId": "fa1ee04e-6a2f-43df-df17-89e072db7290",
        "colab": {
          "base_uri": "https://localhost:8080/",
          "height": 118
        }
      },
      "source": [
        "data.diagnosis.value_counts()"
      ],
      "execution_count": null,
      "outputs": [
        {
          "output_type": "execute_result",
          "data": {
            "text/plain": [
              "0    160\n",
              "1     54\n",
              "3     35\n",
              "2     35\n",
              "4     13\n",
              "Name: diagnosis, dtype: int64"
            ]
          },
          "metadata": {
            "tags": []
          },
          "execution_count": 51
        }
      ]
    },
    {
      "cell_type": "code",
      "metadata": {
        "id": "qRkAGZeo4xjK",
        "outputId": "122023f2-6c3e-438e-d683-403907c0f96a",
        "colab": {
          "base_uri": "https://localhost:8080/",
          "height": 269
        }
      },
      "source": [
        "# Checking for messing values\n",
        "data.isna().sum()"
      ],
      "execution_count": null,
      "outputs": [
        {
          "output_type": "execute_result",
          "data": {
            "text/plain": [
              "age          0\n",
              "sex          0\n",
              "pain         0\n",
              "BP           0\n",
              "chol         0\n",
              "fbs          0\n",
              "ecg          0\n",
              "maxhr        0\n",
              "eiang        0\n",
              "eist         0\n",
              "slope        0\n",
              "vessels      0\n",
              "thal         0\n",
              "diagnosis    0\n",
              "dtype: int64"
            ]
          },
          "metadata": {
            "tags": []
          },
          "execution_count": 52
        }
      ]
    },
    {
      "cell_type": "code",
      "metadata": {
        "id": "uw4LmCyRqHck"
      },
      "source": [
        ""
      ],
      "execution_count": null,
      "outputs": []
    },
    {
      "cell_type": "markdown",
      "metadata": {
        "id": "Ebai0IoW5UAK"
      },
      "source": [
        "Plots"
      ]
    },
    {
      "cell_type": "code",
      "metadata": {
        "id": "xvTynRCi5TSe"
      },
      "source": [
        "# bg_color = (0.25, 0.25, 0.25)\n",
        "# sns.set(rc={\"font.style\":\"normal\",\n",
        "#             \"axes.facecolor\":bg_color,\n",
        "#             \"figure.facecolor\":bg_color,\n",
        "#             \"text.color\":\"white\",\n",
        "#             \"xtick.color\":\"white\",\n",
        "#             \"ytick.color\":\"white\",\n",
        "#             \"axes.labelcolor\":\"white\",\n",
        "#             \"axes.grid\":False,\n",
        "#             'axes.labelsize':25,\n",
        "#             'figure.figsize':(10.0,5.0),\n",
        "#             'xtick.labelsize':15,\n",
        "#             'ytick.labelsize':15}) "
      ],
      "execution_count": null,
      "outputs": []
    },
    {
      "cell_type": "code",
      "metadata": {
        "id": "Ebx9Cz7N5inZ",
        "outputId": "d16945d1-9cf1-4319-b75f-cbaa0e09ff9c",
        "colab": {
          "base_uri": "https://localhost:8080/",
          "height": 290
        }
      },
      "source": [
        "data['age'].hist(grid=False)"
      ],
      "execution_count": null,
      "outputs": [
        {
          "output_type": "execute_result",
          "data": {
            "text/plain": [
              "<matplotlib.axes._subplots.AxesSubplot at 0x7f5a12ced710>"
            ]
          },
          "metadata": {
            "tags": []
          },
          "execution_count": 54
        },
        {
          "output_type": "display_data",
          "data": {
            "image/png": "[encoded data removed]",
            "text/plain": [
              "<Figure size 432x288 with 1 Axes>"
            ]
          },
          "metadata": {
            "tags": [],
            "needs_background": "light"
          }
        }
      ]
    },
    {
      "cell_type": "markdown",
      "metadata": {
        "id": "drvu0jhi5swe"
      },
      "source": [
        "Majority of the people get a heart attack around the age of 55-60"
      ]
    },
    {
      "cell_type": "code",
      "metadata": {
        "id": "umcDMuJK6AMB",
        "outputId": "4f99d37d-9f28-405f-954c-520987ce0a22",
        "colab": {
          "base_uri": "https://localhost:8080/",
          "height": 326
        }
      },
      "source": [
        "# do a gender comparison \n",
        "ax = sns.countplot(hue=data.pain,x='sex',data=data,palette='husl')\n",
        "\n",
        "plt.title(\"Chest Pain Type Vs Gender\")    \n",
        "plt.ylabel(\"\")\n",
        "plt.yticks([])\n",
        "plt.xlabel(\"\")\n",
        "for p in ax.patches:\n",
        "    ax.annotate(p.get_height(),(p.get_x()+0.05, p.get_height()+1))\n",
        "ax.set_xticklabels(['Female','Male'])\n",
        "print(ax.patches)"
      ],
      "execution_count": null,
      "outputs": [
        {
          "output_type": "stream",
          "text": [
            "[<matplotlib.patches.Rectangle object at 0x7f5a130267f0>, <matplotlib.patches.Rectangle object at 0x7f5a130265c0>, <matplotlib.patches.Rectangle object at 0x7f5a13026eb8>, <matplotlib.patches.Rectangle object at 0x7f5a130265f8>, <matplotlib.patches.Rectangle object at 0x7f5a1303c128>, <matplotlib.patches.Rectangle object at 0x7f5a130266d8>, <matplotlib.patches.Rectangle object at 0x7f5a1303cd68>, <matplotlib.patches.Rectangle object at 0x7f5a130267b8>]\n"
          ],
          "name": "stdout"
        },
        {
          "output_type": "display_data",
          "data": {
            "image/png": "[encoded data removed]",
            "text/plain": [
              "<Figure size 432x288 with 1 Axes>"
            ]
          },
          "metadata": {
            "tags": [],
            "needs_background": "light"
          }
        }
      ]
    },
    {
      "cell_type": "code",
      "metadata": {
        "id": "LtsBgPEz6Ab8",
        "outputId": "de4a8b84-d893-4601-b511-6a352f6a7d78",
        "colab": {
          "base_uri": "https://localhost:8080/",
          "height": 301
        }
      },
      "source": [
        "#check if bp and cholestrol are correlated\n",
        "ax = sns.regplot(x='BP', y='chol',data=data, color=\"g\")"
      ],
      "execution_count": null,
      "outputs": [
        {
          "output_type": "display_data",
          "data": {
            "image/png": "[encoded data removed]",
            "text/plain": [
              "<Figure size 432x288 with 1 Axes>"
            ]
          },
          "metadata": {
            "tags": [],
            "needs_background": "light"
          }
        }
      ]
    },
    {
      "cell_type": "code",
      "metadata": {
        "id": "n2TQczi56AQ-",
        "outputId": "d9b0074c-7797-4ab7-a382-4b82671a214d",
        "colab": {
          "base_uri": "https://localhost:8080/",
          "height": 662
        }
      },
      "source": [
        "#correlation matrix\n",
        "num_corr = data.corr()\n",
        "plt.figure(figsize=(15,10))\n",
        "sns.heatmap(num_corr, annot=True, fmt=\".3f\",vmin=-1, vmax=1, linewidths=.5, cmap = sns.color_palette(\"RdBu\", 100))\n",
        "plt.yticks(rotation=0)\n",
        "plt.show()"
      ],
      "execution_count": null,
      "outputs": [
        {
          "output_type": "display_data",
          "data": {
            "image/png": "[encoded data removed]",
            "text/plain": [
              "<Figure size 1080x720 with 2 Axes>"
            ]
          },
          "metadata": {
            "tags": [],
            "needs_background": "light"
          }
        }
      ]
    },
    {
      "cell_type": "code",
      "metadata": {
        "id": "eLqHy9Xv6AB4",
        "outputId": "10ad2c1d-fc4c-4e31-b4ec-62dd6c2c33f1",
        "colab": {
          "base_uri": "https://localhost:8080/",
          "height": 547
        }
      },
      "source": [
        "# display boxlots\n",
        "plt.figure(figsize=(8,8))\n",
        "sns.set_style(\"white\")\n",
        "sns.boxplot( data=data)\n",
        "plt.xticks(rotation=90)\n",
        "plt.show()"
      ],
      "execution_count": null,
      "outputs": [
        {
          "output_type": "display_data",
          "data": {
            "image/png": "[encoded data removed]",
            "text/plain": [
              "<Figure size 576x576 with 1 Axes>"
            ]
          },
          "metadata": {
            "tags": [],
            "needs_background": "light"
          }
        }
      ]
    },
    {
      "cell_type": "code",
      "metadata": {
        "id": "uk2Ltbi-Zlct",
        "outputId": "9e0d10b1-873a-41be-9876-3b46b64d36f1",
        "colab": {
          "base_uri": "https://localhost:8080/",
          "height": 402
        }
      },
      "source": [
        "from scipy import stats\n",
        "data = data[(np.abs(stats.zscore(data)) < 3).all(axis=1)]\n",
        "data"
      ],
      "execution_count": null,
      "outputs": [
        {
          "output_type": "execute_result",
          "data": {
            "text/html": [
              "<div>\n",
              "<style scoped>\n",
              "    .dataframe tbody tr th:only-of-type {\n",
              "        vertical-align: middle;\n",
              "    }\n",
              "\n",
              "    .dataframe tbody tr th {\n",
              "        vertical-align: top;\n",
              "    }\n",
              "\n",
              "    .dataframe thead th {\n",
              "        text-align: right;\n",
              "    }\n",
              "</style>\n",
              "<table border=\"1\" class=\"dataframe\">\n",
              "  <thead>\n",
              "    <tr style=\"text-align: right;\">\n",
              "      <th></th>\n",
              "      <th>age</th>\n",
              "      <th>sex</th>\n",
              "      <th>pain</th>\n",
              "      <th>BP</th>\n",
              "      <th>chol</th>\n",
              "      <th>fbs</th>\n",
              "      <th>ecg</th>\n",
              "      <th>maxhr</th>\n",
              "      <th>eiang</th>\n",
              "      <th>eist</th>\n",
              "      <th>slope</th>\n",
              "      <th>vessels</th>\n",
              "      <th>thal</th>\n",
              "      <th>diagnosis</th>\n",
              "    </tr>\n",
              "  </thead>\n",
              "  <tbody>\n",
              "    <tr>\n",
              "      <th>0</th>\n",
              "      <td>63.0</td>\n",
              "      <td>1.0</td>\n",
              "      <td>1.0</td>\n",
              "      <td>145.0</td>\n",
              "      <td>233.0</td>\n",
              "      <td>1.0</td>\n",
              "      <td>2.0</td>\n",
              "      <td>150.0</td>\n",
              "      <td>0.0</td>\n",
              "      <td>2.3</td>\n",
              "      <td>3.0</td>\n",
              "      <td>0.0</td>\n",
              "      <td>6.0</td>\n",
              "      <td>0</td>\n",
              "    </tr>\n",
              "    <tr>\n",
              "      <th>1</th>\n",
              "      <td>67.0</td>\n",
              "      <td>1.0</td>\n",
              "      <td>4.0</td>\n",
              "      <td>160.0</td>\n",
              "      <td>286.0</td>\n",
              "      <td>0.0</td>\n",
              "      <td>2.0</td>\n",
              "      <td>108.0</td>\n",
              "      <td>1.0</td>\n",
              "      <td>1.5</td>\n",
              "      <td>2.0</td>\n",
              "      <td>3.0</td>\n",
              "      <td>3.0</td>\n",
              "      <td>2</td>\n",
              "    </tr>\n",
              "    <tr>\n",
              "      <th>2</th>\n",
              "      <td>67.0</td>\n",
              "      <td>1.0</td>\n",
              "      <td>4.0</td>\n",
              "      <td>120.0</td>\n",
              "      <td>229.0</td>\n",
              "      <td>0.0</td>\n",
              "      <td>2.0</td>\n",
              "      <td>129.0</td>\n",
              "      <td>1.0</td>\n",
              "      <td>2.6</td>\n",
              "      <td>2.0</td>\n",
              "      <td>2.0</td>\n",
              "      <td>7.0</td>\n",
              "      <td>1</td>\n",
              "    </tr>\n",
              "    <tr>\n",
              "      <th>3</th>\n",
              "      <td>37.0</td>\n",
              "      <td>1.0</td>\n",
              "      <td>3.0</td>\n",
              "      <td>130.0</td>\n",
              "      <td>250.0</td>\n",
              "      <td>0.0</td>\n",
              "      <td>0.0</td>\n",
              "      <td>187.0</td>\n",
              "      <td>0.0</td>\n",
              "      <td>3.5</td>\n",
              "      <td>3.0</td>\n",
              "      <td>0.0</td>\n",
              "      <td>3.0</td>\n",
              "      <td>0</td>\n",
              "    </tr>\n",
              "    <tr>\n",
              "      <th>4</th>\n",
              "      <td>41.0</td>\n",
              "      <td>0.0</td>\n",
              "      <td>2.0</td>\n",
              "      <td>130.0</td>\n",
              "      <td>204.0</td>\n",
              "      <td>0.0</td>\n",
              "      <td>2.0</td>\n",
              "      <td>172.0</td>\n",
              "      <td>0.0</td>\n",
              "      <td>1.4</td>\n",
              "      <td>1.0</td>\n",
              "      <td>0.0</td>\n",
              "      <td>3.0</td>\n",
              "      <td>0</td>\n",
              "    </tr>\n",
              "    <tr>\n",
              "      <th>...</th>\n",
              "      <td>...</td>\n",
              "      <td>...</td>\n",
              "      <td>...</td>\n",
              "      <td>...</td>\n",
              "      <td>...</td>\n",
              "      <td>...</td>\n",
              "      <td>...</td>\n",
              "      <td>...</td>\n",
              "      <td>...</td>\n",
              "      <td>...</td>\n",
              "      <td>...</td>\n",
              "      <td>...</td>\n",
              "      <td>...</td>\n",
              "      <td>...</td>\n",
              "    </tr>\n",
              "    <tr>\n",
              "      <th>292</th>\n",
              "      <td>57.0</td>\n",
              "      <td>0.0</td>\n",
              "      <td>4.0</td>\n",
              "      <td>140.0</td>\n",
              "      <td>241.0</td>\n",
              "      <td>0.0</td>\n",
              "      <td>0.0</td>\n",
              "      <td>123.0</td>\n",
              "      <td>1.0</td>\n",
              "      <td>0.2</td>\n",
              "      <td>2.0</td>\n",
              "      <td>0.0</td>\n",
              "      <td>7.0</td>\n",
              "      <td>1</td>\n",
              "    </tr>\n",
              "    <tr>\n",
              "      <th>293</th>\n",
              "      <td>45.0</td>\n",
              "      <td>1.0</td>\n",
              "      <td>1.0</td>\n",
              "      <td>110.0</td>\n",
              "      <td>264.0</td>\n",
              "      <td>0.0</td>\n",
              "      <td>0.0</td>\n",
              "      <td>132.0</td>\n",
              "      <td>0.0</td>\n",
              "      <td>1.2</td>\n",
              "      <td>2.0</td>\n",
              "      <td>0.0</td>\n",
              "      <td>7.0</td>\n",
              "      <td>1</td>\n",
              "    </tr>\n",
              "    <tr>\n",
              "      <th>294</th>\n",
              "      <td>68.0</td>\n",
              "      <td>1.0</td>\n",
              "      <td>4.0</td>\n",
              "      <td>144.0</td>\n",
              "      <td>193.0</td>\n",
              "      <td>1.0</td>\n",
              "      <td>0.0</td>\n",
              "      <td>141.0</td>\n",
              "      <td>0.0</td>\n",
              "      <td>3.4</td>\n",
              "      <td>2.0</td>\n",
              "      <td>2.0</td>\n",
              "      <td>7.0</td>\n",
              "      <td>2</td>\n",
              "    </tr>\n",
              "    <tr>\n",
              "      <th>295</th>\n",
              "      <td>57.0</td>\n",
              "      <td>1.0</td>\n",
              "      <td>4.0</td>\n",
              "      <td>130.0</td>\n",
              "      <td>131.0</td>\n",
              "      <td>0.0</td>\n",
              "      <td>0.0</td>\n",
              "      <td>115.0</td>\n",
              "      <td>1.0</td>\n",
              "      <td>1.2</td>\n",
              "      <td>2.0</td>\n",
              "      <td>1.0</td>\n",
              "      <td>7.0</td>\n",
              "      <td>3</td>\n",
              "    </tr>\n",
              "    <tr>\n",
              "      <th>296</th>\n",
              "      <td>57.0</td>\n",
              "      <td>0.0</td>\n",
              "      <td>2.0</td>\n",
              "      <td>130.0</td>\n",
              "      <td>236.0</td>\n",
              "      <td>0.0</td>\n",
              "      <td>2.0</td>\n",
              "      <td>174.0</td>\n",
              "      <td>0.0</td>\n",
              "      <td>0.0</td>\n",
              "      <td>2.0</td>\n",
              "      <td>1.0</td>\n",
              "      <td>3.0</td>\n",
              "      <td>1</td>\n",
              "    </tr>\n",
              "  </tbody>\n",
              "</table>\n",
              "<p>286 rows × 14 columns</p>\n",
              "</div>"
            ],
            "text/plain": [
              "      age  sex  pain     BP   chol  ...  eist  slope  vessels  thal  diagnosis\n",
              "0    63.0  1.0   1.0  145.0  233.0  ...   2.3    3.0      0.0   6.0          0\n",
              "1    67.0  1.0   4.0  160.0  286.0  ...   1.5    2.0      3.0   3.0          2\n",
              "2    67.0  1.0   4.0  120.0  229.0  ...   2.6    2.0      2.0   7.0          1\n",
              "3    37.0  1.0   3.0  130.0  250.0  ...   3.5    3.0      0.0   3.0          0\n",
              "4    41.0  0.0   2.0  130.0  204.0  ...   1.4    1.0      0.0   3.0          0\n",
              "..    ...  ...   ...    ...    ...  ...   ...    ...      ...   ...        ...\n",
              "292  57.0  0.0   4.0  140.0  241.0  ...   0.2    2.0      0.0   7.0          1\n",
              "293  45.0  1.0   1.0  110.0  264.0  ...   1.2    2.0      0.0   7.0          1\n",
              "294  68.0  1.0   4.0  144.0  193.0  ...   3.4    2.0      2.0   7.0          2\n",
              "295  57.0  1.0   4.0  130.0  131.0  ...   1.2    2.0      1.0   7.0          3\n",
              "296  57.0  0.0   2.0  130.0  236.0  ...   0.0    2.0      1.0   3.0          1\n",
              "\n",
              "[286 rows x 14 columns]"
            ]
          },
          "metadata": {
            "tags": []
          },
          "execution_count": 85
        }
      ]
    },
    {
      "cell_type": "code",
      "metadata": {
        "id": "PyHYHarbYd3x"
      },
      "source": [
        "# Check for outliers using boxplots and drop them\n",
        "cols = list(data.columns)\n",
        "\n",
        "for num_attr in cols:\n",
        "    # Getting 75 and 25 percentile of variable \"i\"\n",
        "    Q3, Q1 = np.percentile(data[num_attr], [75,25])\n",
        "    MEAN = data[num_attr].mean()\n",
        "    \n",
        "    # Calculating Interquartile range\n",
        "    IQR = Q3 - Q1\n",
        "    \n",
        "    # Calculating upper extream and lower extream\n",
        "    minimum = Q1 - (IQR*1.5)\n",
        "    maximum = Q3 + (IQR*1.5)\n",
        "    \n",
        "    # Replacing all the outliers value to Mean\n",
        "    data_clean=data.drop(data.loc[data[num_attr]< minimum,num_attr].index) \n",
        "    data_clean=data.drop(data.loc[data[num_attr]> maximum,num_attr].index)"
      ],
      "execution_count": null,
      "outputs": []
    },
    {
      "cell_type": "code",
      "metadata": {
        "id": "ngojqxflYqGW",
        "outputId": "611133b7-2dd4-4261-c472-7e0dc6859e16",
        "colab": {
          "base_uri": "https://localhost:8080/",
          "height": 34
        }
      },
      "source": [
        "print(len(data_clean),len(data))"
      ],
      "execution_count": null,
      "outputs": [
        {
          "output_type": "stream",
          "text": [
            "297 297\n"
          ],
          "name": "stdout"
        }
      ]
    },
    {
      "cell_type": "code",
      "metadata": {
        "id": "mUbIsYkuZKB1",
        "outputId": "c81c53ad-7570-481f-f743-745e1ad1f84d",
        "colab": {
          "base_uri": "https://localhost:8080/",
          "height": 252
        }
      },
      "source": [
        ""
      ],
      "execution_count": null,
      "outputs": [
        {
          "output_type": "execute_result",
          "data": {
            "text/plain": [
              "['age',\n",
              " 'sex',\n",
              " 'pain',\n",
              " 'BP',\n",
              " 'chol',\n",
              " 'fbs',\n",
              " 'ecg',\n",
              " 'maxhr',\n",
              " 'eiang',\n",
              " 'eist',\n",
              " 'slope',\n",
              " 'vessels',\n",
              " 'thal',\n",
              " 'diagnosis']"
            ]
          },
          "metadata": {
            "tags": []
          },
          "execution_count": 80
        }
      ]
    },
    {
      "cell_type": "markdown",
      "metadata": {
        "id": "pEoNorCK5sOH"
      },
      "source": [
        "making models"
      ]
    },
    {
      "cell_type": "code",
      "metadata": {
        "id": "R_MUwWie7Grv"
      },
      "source": [
        "y = data[\"diagnosis\"]\n",
        "X = data.drop('diagnosis',axis=1)\n",
        "#split after somte"
      ],
      "execution_count": null,
      "outputs": []
    },
    {
      "cell_type": "markdown",
      "metadata": {
        "id": "T6DOnYRttKeM"
      },
      "source": [
        "check whether the data is equally splitted or not, because if data is not splitted equally it will cause for data imbalacing problem"
      ]
    },
    {
      "cell_type": "code",
      "metadata": {
        "id": "YqrQt8tV-1G8",
        "outputId": "95776f44-9dab-4f46-9fe4-cce6539ec313",
        "colab": {
          "base_uri": "https://localhost:8080/",
          "height": 50
        }
      },
      "source": [
        "print(y.unique())\n",
        "Counter(y)\n",
        "\n",
        "#so here there might be data imbalancing problem\n",
        "\n",
        "#Try Resampling the Dataset\n",
        "#since the no of records is less => go for over sampling\n",
        "#smote"
      ],
      "execution_count": null,
      "outputs": [
        {
          "output_type": "stream",
          "text": [
            "[0 2 1 3 4]\n"
          ],
          "name": "stdout"
        },
        {
          "output_type": "execute_result",
          "data": {
            "text/plain": [
              "Counter({0: 157, 1: 53, 2: 33, 3: 32, 4: 11})"
            ]
          },
          "metadata": {
            "tags": []
          },
          "execution_count": 87
        }
      ]
    },
    {
      "cell_type": "markdown",
      "metadata": {
        "id": "a5I9NqcbEx7O"
      },
      "source": [
        "same can be seen using the plot below"
      ]
    },
    {
      "cell_type": "code",
      "metadata": {
        "id": "e716w5SmCsTm",
        "outputId": "9b0f2a53-509b-43f7-c791-d5816f51be25",
        "colab": {
          "base_uri": "https://localhost:8080/",
          "height": 334
        }
      },
      "source": [
        "count_classes = pd.value_counts(data['diagnosis'],sort =True)\n",
        "count_classes.plot(kind = 'bar', rot=0)\n",
        "\n",
        "plt.title(\"Distribution of various diagnosis\")\n",
        "lables = list(range(5))\n",
        "plt.xticks(lables)\n",
        "\n",
        "plt.xlabel(\"Diagnosis\")\n",
        "plt.ylabel(\"Frequency\")"
      ],
      "execution_count": null,
      "outputs": [
        {
          "output_type": "execute_result",
          "data": {
            "text/plain": [
              "Text(0, 0.5, 'Frequency')"
            ]
          },
          "metadata": {
            "tags": []
          },
          "execution_count": 88
        },
        {
          "output_type": "display_data",
          "data": {
            "image/png": "[encoded data removed]",
            "text/plain": [
              "<Figure size 432x288 with 1 Axes>"
            ]
          },
          "metadata": {
            "tags": []
          }
        }
      ]
    },
    {
      "cell_type": "markdown",
      "metadata": {
        "id": "xdnkIKCDKcGk"
      },
      "source": [
        ""
      ]
    },
    {
      "cell_type": "code",
      "metadata": {
        "id": "Gnr-9qucdYD8"
      },
      "source": [
        "X_train, X_test, y_train, y_test = train_test_split(X, y, test_size=0.20, random_state = 42)"
      ],
      "execution_count": null,
      "outputs": []
    },
    {
      "cell_type": "code",
      "metadata": {
        "id": "kszvHHKyIrms"
      },
      "source": [
        ""
      ],
      "execution_count": null,
      "outputs": []
    },
    {
      "cell_type": "code",
      "metadata": {
        "id": "6q70OrarIqYM"
      },
      "source": [
        "from imblearn.over_sampling import RandomOverSampler"
      ],
      "execution_count": null,
      "outputs": []
    },
    {
      "cell_type": "code",
      "metadata": {
        "id": "DaSG3cgdIsOk"
      },
      "source": [
        ""
      ],
      "execution_count": null,
      "outputs": []
    },
    {
      "cell_type": "code",
      "metadata": {
        "id": "cFX-p1dxI3-5"
      },
      "source": [
        ""
      ],
      "execution_count": null,
      "outputs": []
    },
    {
      "cell_type": "markdown",
      "metadata": {
        "id": "-6VqIszbFAbo"
      },
      "source": [
        "smotetomek\n"
      ]
    },
    {
      "cell_type": "code",
      "metadata": {
        "id": "04UsdEVgFNPF"
      },
      "source": [
        ""
      ],
      "execution_count": null,
      "outputs": []
    },
    {
      "cell_type": "code",
      "metadata": {
        "id": "DZ757ZR0E_4z"
      },
      "source": [
        "from imblearn.combine import SMOTETomek\n",
        "from imblearn.under_sampling import NearMiss"
      ],
      "execution_count": null,
      "outputs": []
    },
    {
      "cell_type": "code",
      "metadata": {
        "id": "GZT5StcKFTu-",
        "outputId": "d4ddd6ad-ccc2-4e3f-8a6e-b4abe6edaaf6",
        "colab": {
          "base_uri": "https://localhost:8080/",
          "height": 205
        }
      },
      "source": [
        "smk = SMOTETomek(random_state=42)\n",
        "X_train_res,y_train_res=smk.fit_sample(X_train,y_train)\n",
        "\n",
        "\n",
        "\n",
        "\n",
        "\n"
      ],
      "execution_count": null,
      "outputs": [
        {
          "output_type": "stream",
          "text": [
            "/usr/local/lib/python3.6/dist-packages/sklearn/utils/deprecation.py:87: FutureWarning: Function safe_indexing is deprecated; safe_indexing is deprecated in version 0.22 and will be removed in version 0.24.\n",
            "  warnings.warn(msg, category=FutureWarning)\n",
            "/usr/local/lib/python3.6/dist-packages/sklearn/utils/deprecation.py:87: FutureWarning: Function safe_indexing is deprecated; safe_indexing is deprecated in version 0.22 and will be removed in version 0.24.\n",
            "  warnings.warn(msg, category=FutureWarning)\n",
            "/usr/local/lib/python3.6/dist-packages/sklearn/utils/deprecation.py:87: FutureWarning: Function safe_indexing is deprecated; safe_indexing is deprecated in version 0.22 and will be removed in version 0.24.\n",
            "  warnings.warn(msg, category=FutureWarning)\n",
            "/usr/local/lib/python3.6/dist-packages/sklearn/utils/deprecation.py:87: FutureWarning: Function safe_indexing is deprecated; safe_indexing is deprecated in version 0.22 and will be removed in version 0.24.\n",
            "  warnings.warn(msg, category=FutureWarning)\n",
            "/usr/local/lib/python3.6/dist-packages/sklearn/utils/deprecation.py:87: FutureWarning: Function safe_indexing is deprecated; safe_indexing is deprecated in version 0.22 and will be removed in version 0.24.\n",
            "  warnings.warn(msg, category=FutureWarning)\n"
          ],
          "name": "stderr"
        }
      ]
    },
    {
      "cell_type": "code",
      "metadata": {
        "id": "8wREogLMGvjj",
        "outputId": "f6035203-8056-47d2-b66d-10cad8a298d2",
        "colab": {
          "base_uri": "https://localhost:8080/",
          "height": 50
        }
      },
      "source": [
        "print('Original dataset shape {}'.format(Counter(y_train)))\n",
        "print('Resampled dataset shape {}'.format(Counter(y_train_res)))"
      ],
      "execution_count": null,
      "outputs": [
        {
          "output_type": "stream",
          "text": [
            "Original dataset shape Counter({0: 128, 1: 42, 3: 27, 2: 24, 4: 7})\n",
            "Resampled dataset shape Counter({4: 125, 3: 123, 2: 121, 1: 118, 0: 113})\n"
          ],
          "name": "stdout"
        }
      ]
    },
    {
      "cell_type": "code",
      "metadata": {
        "id": "rCfTvKUcGYg9",
        "outputId": "6b6ef5b1-6d86-4630-cc4c-099c5db0cbf0",
        "colab": {
          "base_uri": "https://localhost:8080/",
          "height": 34
        }
      },
      "source": [
        "X_train_res.shape,y_train_res.shape"
      ],
      "execution_count": null,
      "outputs": [
        {
          "output_type": "execute_result",
          "data": {
            "text/plain": [
              "((600, 13), (600,))"
            ]
          },
          "metadata": {
            "tags": []
          },
          "execution_count": 94
        }
      ]
    },
    {
      "cell_type": "code",
      "metadata": {
        "id": "alPLa8MsKQpj",
        "outputId": "c8024e0f-1e42-4336-ace5-e896226da47b",
        "colab": {
          "base_uri": "https://localhost:8080/",
          "height": 34
        }
      },
      "source": [
        "X_train_res.shape, X_test.shape, y_train_res.shape, y_test.shape"
      ],
      "execution_count": null,
      "outputs": [
        {
          "output_type": "execute_result",
          "data": {
            "text/plain": [
              "((600, 13), (58, 13), (600,), (58,))"
            ]
          },
          "metadata": {
            "tags": []
          },
          "execution_count": 95
        }
      ]
    },
    {
      "cell_type": "code",
      "metadata": {
        "id": "R_osOHaeHpDG",
        "outputId": "3eef41ea-259e-41b1-8311-a7117066aa35",
        "colab": {
          "base_uri": "https://localhost:8080/",
          "height": 334
        }
      },
      "source": [
        "#after oversampling\n",
        "count_classes = pd.value_counts(y_train_res,sort =True)\n",
        "count_classes.plot(kind = 'bar', rot=0)\n",
        "\n",
        "plt.title(\"Distribution of various diagnosis\")\n",
        "lables = list(range(5))\n",
        "plt.xticks(lables)\n",
        "\n",
        "plt.xlabel(\"Diagnosis\")\n",
        "plt.ylabel(\"Frequency\")"
      ],
      "execution_count": null,
      "outputs": [
        {
          "output_type": "execute_result",
          "data": {
            "text/plain": [
              "Text(0, 0.5, 'Frequency')"
            ]
          },
          "metadata": {
            "tags": []
          },
          "execution_count": 96
        },
        {
          "output_type": "display_data",
          "data": {
            "image/png": "[encoded data removed]",
            "text/plain": [
              "<Figure size 432x288 with 1 Axes>"
            ]
          },
          "metadata": {
            "tags": []
          }
        }
      ]
    },
    {
      "cell_type": "code",
      "metadata": {
        "id": "c9ymolF5JByX"
      },
      "source": [
        ""
      ],
      "execution_count": null,
      "outputs": []
    },
    {
      "cell_type": "markdown",
      "metadata": {
        "id": "JLVZI4e3HoNu"
      },
      "source": [
        "pandas profiling"
      ]
    },
    {
      "cell_type": "markdown",
      "metadata": {
        "id": "bKAqpOmMubcr"
      },
      "source": [
        "Naive bayes"
      ]
    },
    {
      "cell_type": "code",
      "metadata": {
        "id": "5p9-c-DpHwLL"
      },
      "source": [
        "scaler = StandardScaler()\n",
        "X_train_res = scaler.fit_transform(X_train_res)\n",
        "X_test = scaler.transform(X_test)"
      ],
      "execution_count": null,
      "outputs": []
    },
    {
      "cell_type": "code",
      "metadata": {
        "id": "XGj5rJk_ua4O",
        "outputId": "e4fb5096-a354-47b1-f0c2-144860125bbf",
        "colab": {
          "base_uri": "https://localhost:8080/",
          "height": 386
        }
      },
      "source": [
        "m2 = 'Naive Bayes'\n",
        "nb = GaussianNB()\n",
        "nb.fit(X_train_res,y_train_res)\n",
        "nbpred = nb.predict(X_test)\n",
        "nb_conf_matrix = confusion_matrix(y_test, nbpred)\n",
        "nb_acc_score = accuracy_score(y_test, nbpred)\n",
        "print(\"confussion matrix\")\n",
        "print(nb_conf_matrix)\n",
        "print(\"\\n\")\n",
        "print(\"Accuracy of Naive Bayes model:\",nb_acc_score*100,'\\n')\n",
        "print(classification_report(y_test,nbpred))"
      ],
      "execution_count": null,
      "outputs": [
        {
          "output_type": "stream",
          "text": [
            "confussion matrix\n",
            "[[24  4  0  1  0]\n",
            " [ 3  4  1  2  1]\n",
            " [ 0  3  1  3  2]\n",
            " [ 0  1  1  2  1]\n",
            " [ 0  1  0  3  0]]\n",
            "\n",
            "\n",
            "Accuracy of Naive Bayes model: 53.44827586206896 \n",
            "\n",
            "              precision    recall  f1-score   support\n",
            "\n",
            "           0       0.89      0.83      0.86        29\n",
            "           1       0.31      0.36      0.33        11\n",
            "           2       0.33      0.11      0.17         9\n",
            "           3       0.18      0.40      0.25         5\n",
            "           4       0.00      0.00      0.00         4\n",
            "\n",
            "    accuracy                           0.53        58\n",
            "   macro avg       0.34      0.34      0.32        58\n",
            "weighted avg       0.57      0.53      0.54        58\n",
            "\n"
          ],
          "name": "stdout"
        }
      ]
    },
    {
      "cell_type": "code",
      "metadata": {
        "id": "8_Iy_5BP8_Uh",
        "outputId": "7feb118d-3cd1-4dce-eb95-1b725478f0fe",
        "colab": {
          "base_uri": "https://localhost:8080/",
          "height": 34
        }
      },
      "source": [
        "# comparing actual response values (y_test) with predicted response values (y_pred) \n",
        "from sklearn import metrics \n",
        "print(\"Gaussian Naive Bayes model accuracy(in %):\", metrics.accuracy_score(y_test, nbpred)*100)"
      ],
      "execution_count": null,
      "outputs": [
        {
          "output_type": "stream",
          "text": [
            "Gaussian Naive Bayes model accuracy(in %): 55.00000000000001\n"
          ],
          "name": "stdout"
        }
      ]
    },
    {
      "cell_type": "markdown",
      "metadata": {
        "id": "qYywkR8n_mGC"
      },
      "source": [
        "knn"
      ]
    },
    {
      "cell_type": "code",
      "metadata": {
        "id": "owV25gy3_Y3Z",
        "outputId": "f7371570-47d5-414c-db15-92c45d26f240",
        "colab": {
          "base_uri": "https://localhost:8080/",
          "height": 386
        }
      },
      "source": [
        "m5 = 'K-NeighborsClassifier'\n",
        "knn = KNeighborsClassifier(n_neighbors=10)\n",
        "knn.fit(X_train_res, y_train_res)\n",
        "knn_predicted = knn.predict(X_test)\n",
        "knn_conf_matrix = confusion_matrix(y_test, knn_predicted)\n",
        "knn_acc_score = accuracy_score(y_test, knn_predicted)\n",
        "print(\"confussion matrix\")\n",
        "print(knn_conf_matrix)\n",
        "print(\"\\n\")\n",
        "print(\"Accuracy of K-NeighborsClassifier:\",knn_acc_score*100,'\\n')\n",
        "print(classification_report(y_test,knn_predicted))"
      ],
      "execution_count": null,
      "outputs": [
        {
          "output_type": "stream",
          "text": [
            "confussion matrix\n",
            "[[29  5  2  0  0]\n",
            " [ 1  4  2  2  0]\n",
            " [ 0  1  2  2  0]\n",
            " [ 0  1  1  3  2]\n",
            " [ 0  3  0  0  0]]\n",
            "\n",
            "\n",
            "Accuracy of K-NeighborsClassifier: 63.33333333333333 \n",
            "\n",
            "              precision    recall  f1-score   support\n",
            "\n",
            "           0       0.97      0.81      0.88        36\n",
            "           1       0.29      0.44      0.35         9\n",
            "           2       0.29      0.40      0.33         5\n",
            "           3       0.43      0.43      0.43         7\n",
            "           4       0.00      0.00      0.00         3\n",
            "\n",
            "    accuracy                           0.63        60\n",
            "   macro avg       0.39      0.42      0.40        60\n",
            "weighted avg       0.70      0.63      0.66        60\n",
            "\n"
          ],
          "name": "stdout"
        }
      ]
    },
    {
      "cell_type": "code",
      "metadata": {
        "id": "QkaapInM_zlJ",
        "outputId": "cdfa09a5-6aa4-4f13-e9f8-5c8a0ab71d55",
        "colab": {
          "base_uri": "https://localhost:8080/",
          "height": 363
        }
      },
      "source": [
        "import scikitplot as skplt\n",
        "skplt.metrics.plot_roc_curve(y_test, nbpred)\n",
        "roc_curve(y_test,knn_predicted)\n",
        "\n",
        "\n",
        "# sns.set_style('whitegrid')\n",
        "# plt.figure(figsize=(10,5))\n",
        "# plt.title('Reciver Operating Characterstic Curve')\n",
        "\n",
        "# plt.plot(nb_false_positive_rate,nb_true_positive_rate,label='Naive Bayes')\n",
        "\n",
        "# plt.plot(knn_false_positive_rate,knn_true_positive_rate,label='K-Nearest Neighbor')\n",
        "\n",
        "# plt.plot([0,1],ls='--')\n",
        "# plt.plot([0,0],[1,0],c='.5')\n",
        "# plt.plot([1,1],c='.5')\n",
        "# plt.ylabel('True positive rate')\n",
        "# plt.xlabel('False positive rate')\n",
        "# plt.legend()\n",
        "# plt.show()\n"
      ],
      "execution_count": null,
      "outputs": [
        {
          "output_type": "error",
          "ename": "ModuleNotFoundError",
          "evalue": "ignored",
          "traceback": [
            "\u001b[0;31m---------------------------------------------------------------------------\u001b[0m",
            "\u001b[0;31mModuleNotFoundError\u001b[0m                       Traceback (most recent call last)",
            "\u001b[0;32m<ipython-input-74-75cc1c8a01f7>\u001b[0m in \u001b[0;36m<module>\u001b[0;34m()\u001b[0m\n\u001b[0;32m----> 1\u001b[0;31m \u001b[0;32mimport\u001b[0m \u001b[0mscikitplot\u001b[0m \u001b[0;32mas\u001b[0m \u001b[0mskplt\u001b[0m\u001b[0;34m\u001b[0m\u001b[0;34m\u001b[0m\u001b[0m\n\u001b[0m\u001b[1;32m      2\u001b[0m \u001b[0mskplt\u001b[0m\u001b[0;34m.\u001b[0m\u001b[0mmetrics\u001b[0m\u001b[0;34m.\u001b[0m\u001b[0mplot_roc_curve\u001b[0m\u001b[0;34m(\u001b[0m\u001b[0my_test\u001b[0m\u001b[0;34m,\u001b[0m \u001b[0mnbpred\u001b[0m\u001b[0;34m)\u001b[0m\u001b[0;34m\u001b[0m\u001b[0;34m\u001b[0m\u001b[0m\n\u001b[1;32m      3\u001b[0m \u001b[0mroc_curve\u001b[0m\u001b[0;34m(\u001b[0m\u001b[0my_test\u001b[0m\u001b[0;34m,\u001b[0m\u001b[0mknn_predicted\u001b[0m\u001b[0;34m)\u001b[0m\u001b[0;34m\u001b[0m\u001b[0;34m\u001b[0m\u001b[0m\n\u001b[1;32m      4\u001b[0m \u001b[0;34m\u001b[0m\u001b[0m\n\u001b[1;32m      5\u001b[0m \u001b[0;34m\u001b[0m\u001b[0m\n",
            "\u001b[0;31mModuleNotFoundError\u001b[0m: No module named 'scikitplot'",
            "",
            "\u001b[0;31m---------------------------------------------------------------------------\u001b[0;32m\nNOTE: If your import is failing due to a missing package, you can\nmanually install dependencies using either !pip or !apt.\n\nTo view examples of installing some common dependencies, click the\n\"Open Examples\" button below.\n\u001b[0;31m---------------------------------------------------------------------------\u001b[0m\n"
          ]
        }
      ]
    },
    {
      "cell_type": "code",
      "metadata": {
        "id": "77qfM40N_-up"
      },
      "source": [
        ""
      ],
      "execution_count": null,
      "outputs": []
    }
  ]
}
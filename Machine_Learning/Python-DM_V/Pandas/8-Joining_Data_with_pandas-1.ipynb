{
 "cells": [
  {
   "cell_type": "markdown",
   "metadata": {},
   "source": [
    "# Joining Data with pandas - 1"
   ]
  },
  {
   "cell_type": "code",
   "execution_count": 1,
   "metadata": {},
   "outputs": [
    {
     "data": {
      "application/javascript": [
       "\n",
       "            setTimeout(function() {\n",
       "                var nbb_cell_id = 1;\n",
       "                var nbb_unformatted_code = \"import pandas as pd\\nimport numpy as np\\n\\n%load_ext nb_black\";\n",
       "                var nbb_formatted_code = \"import pandas as pd\\nimport numpy as np\\n\\n%load_ext nb_black\";\n",
       "                var nbb_cells = Jupyter.notebook.get_cells();\n",
       "                for (var i = 0; i < nbb_cells.length; ++i) {\n",
       "                    if (nbb_cells[i].input_prompt_number == nbb_cell_id) {\n",
       "                        if (nbb_cells[i].get_text() == nbb_unformatted_code) {\n",
       "                             nbb_cells[i].set_text(nbb_formatted_code);\n",
       "                        }\n",
       "                        break;\n",
       "                    }\n",
       "                }\n",
       "            }, 500);\n",
       "            "
      ],
      "text/plain": [
       "<IPython.core.display.Javascript object>"
      ]
     },
     "metadata": {},
     "output_type": "display_data"
    }
   ],
   "source": [
    "import pandas as pd\n",
    "import numpy as np\n",
    "\n",
    "%load_ext nb_black"
   ]
  },
  {
   "cell_type": "code",
   "execution_count": 2,
   "metadata": {},
   "outputs": [
    {
     "data": {
      "application/javascript": [
       "\n",
       "            setTimeout(function() {\n",
       "                var nbb_cell_id = 2;\n",
       "                var nbb_unformatted_code = \"taxi_owners = pd.read_pickle(\\\"data/taxi_owners.p\\\")\\ntaxi_veh = pd.read_pickle(\\\"data/taxi_vehicles.p\\\")\\n\\nwards = pd.read_pickle(\\\"data/ward.p\\\")\\ncensus = pd.read_pickle(\\\"data/census.p\\\")\";\n",
       "                var nbb_formatted_code = \"taxi_owners = pd.read_pickle(\\\"data/taxi_owners.p\\\")\\ntaxi_veh = pd.read_pickle(\\\"data/taxi_vehicles.p\\\")\\n\\nwards = pd.read_pickle(\\\"data/ward.p\\\")\\ncensus = pd.read_pickle(\\\"data/census.p\\\")\";\n",
       "                var nbb_cells = Jupyter.notebook.get_cells();\n",
       "                for (var i = 0; i < nbb_cells.length; ++i) {\n",
       "                    if (nbb_cells[i].input_prompt_number == nbb_cell_id) {\n",
       "                        if (nbb_cells[i].get_text() == nbb_unformatted_code) {\n",
       "                             nbb_cells[i].set_text(nbb_formatted_code);\n",
       "                        }\n",
       "                        break;\n",
       "                    }\n",
       "                }\n",
       "            }, 500);\n",
       "            "
      ],
      "text/plain": [
       "<IPython.core.display.Javascript object>"
      ]
     },
     "metadata": {},
     "output_type": "display_data"
    }
   ],
   "source": [
    "taxi_owners = pd.read_pickle(\"data/taxi_owners.p\")\n",
    "taxi_veh = pd.read_pickle(\"data/taxi_vehicles.p\")\n",
    "\n",
    "wards = pd.read_pickle(\"data/ward.p\")\n",
    "census = pd.read_pickle(\"data/census.p\")"
   ]
  },
  {
   "cell_type": "markdown",
   "metadata": {},
   "source": [
    "## Inner Join"
   ]
  },
  {
   "cell_type": "code",
   "execution_count": 3,
   "metadata": {},
   "outputs": [
    {
     "name": "stdout",
     "output_type": "stream",
     "text": [
      "HYBRID                    2792\n",
      "GASOLINE                   611\n",
      "FLEX FUEL                   89\n",
      "COMPRESSED NATURAL GAS      27\n",
      "Name: fuel_type, dtype: int64\n"
     ]
    },
    {
     "data": {
      "application/javascript": [
       "\n",
       "            setTimeout(function() {\n",
       "                var nbb_cell_id = 3;\n",
       "                var nbb_unformatted_code = \"# Merge the taxi_owners and taxi_veh tables setting a suffix\\ntaxi_own_veh = taxi_owners.merge(taxi_veh, on=\\\"vid\\\", suffixes=(\\\"_own\\\", \\\"_veh\\\"))\\n\\n# Print the value_counts to find the most popular fuel_type\\nprint(taxi_own_veh[\\\"fuel_type\\\"].value_counts())\";\n",
       "                var nbb_formatted_code = \"# Merge the taxi_owners and taxi_veh tables setting a suffix\\ntaxi_own_veh = taxi_owners.merge(taxi_veh, on=\\\"vid\\\", suffixes=(\\\"_own\\\", \\\"_veh\\\"))\\n\\n# Print the value_counts to find the most popular fuel_type\\nprint(taxi_own_veh[\\\"fuel_type\\\"].value_counts())\";\n",
       "                var nbb_cells = Jupyter.notebook.get_cells();\n",
       "                for (var i = 0; i < nbb_cells.length; ++i) {\n",
       "                    if (nbb_cells[i].input_prompt_number == nbb_cell_id) {\n",
       "                        if (nbb_cells[i].get_text() == nbb_unformatted_code) {\n",
       "                             nbb_cells[i].set_text(nbb_formatted_code);\n",
       "                        }\n",
       "                        break;\n",
       "                    }\n",
       "                }\n",
       "            }, 500);\n",
       "            "
      ],
      "text/plain": [
       "<IPython.core.display.Javascript object>"
      ]
     },
     "metadata": {},
     "output_type": "display_data"
    }
   ],
   "source": [
    "# Merge the taxi_owners and taxi_veh tables setting a suffix\n",
    "taxi_own_veh = taxi_owners.merge(taxi_veh, on=\"vid\", suffixes=(\"_own\", \"_veh\"))\n",
    "\n",
    "# Print the value_counts to find the most popular fuel_type\n",
    "print(taxi_own_veh[\"fuel_type\"].value_counts())"
   ]
  },
  {
   "cell_type": "code",
   "execution_count": 4,
   "metadata": {},
   "outputs": [
    {
     "name": "stdout",
     "output_type": "stream",
     "text": [
      "(49, 9)\n"
     ]
    },
    {
     "data": {
      "application/javascript": [
       "\n",
       "            setTimeout(function() {\n",
       "                var nbb_cell_id = 4;\n",
       "                var nbb_unformatted_code = \"# Change '1' to None in `ward` col\\ncensus.loc[census[\\\"ward\\\"] == \\\"1\\\", \\\"ward\\\"] = None\\n\\n# Merge the wards and census tables on the ward column\\nwards_census = wards.merge(census, on=\\\"ward\\\")\\n\\n# Print the shape of wards_census\\nprint(wards_census.shape)\";\n",
       "                var nbb_formatted_code = \"# Change '1' to None in `ward` col\\ncensus.loc[census[\\\"ward\\\"] == \\\"1\\\", \\\"ward\\\"] = None\\n\\n# Merge the wards and census tables on the ward column\\nwards_census = wards.merge(census, on=\\\"ward\\\")\\n\\n# Print the shape of wards_census\\nprint(wards_census.shape)\";\n",
       "                var nbb_cells = Jupyter.notebook.get_cells();\n",
       "                for (var i = 0; i < nbb_cells.length; ++i) {\n",
       "                    if (nbb_cells[i].input_prompt_number == nbb_cell_id) {\n",
       "                        if (nbb_cells[i].get_text() == nbb_unformatted_code) {\n",
       "                             nbb_cells[i].set_text(nbb_formatted_code);\n",
       "                        }\n",
       "                        break;\n",
       "                    }\n",
       "                }\n",
       "            }, 500);\n",
       "            "
      ],
      "text/plain": [
       "<IPython.core.display.Javascript object>"
      ]
     },
     "metadata": {},
     "output_type": "display_data"
    }
   ],
   "source": [
    "# Change '1' to None in `ward` col\n",
    "census.loc[census[\"ward\"] == \"1\", \"ward\"] = None\n",
    "\n",
    "# Merge the wards and census tables on the ward column\n",
    "wards_census = wards.merge(census, on=\"ward\")\n",
    "\n",
    "# Print the shape of wards_census\n",
    "print(wards_census.shape)"
   ]
  },
  {
   "cell_type": "markdown",
   "metadata": {},
   "source": [
    "## One to Many Relationships"
   ]
  },
  {
   "cell_type": "code",
   "execution_count": 5,
   "metadata": {},
   "outputs": [
    {
     "data": {
      "application/javascript": [
       "\n",
       "            setTimeout(function() {\n",
       "                var nbb_cell_id = 5;\n",
       "                var nbb_unformatted_code = \"biz_owners = pd.read_pickle(\\\"data/business_owners.p\\\")\\nlicenses = pd.read_pickle(\\\"data/licenses.p\\\")\";\n",
       "                var nbb_formatted_code = \"biz_owners = pd.read_pickle(\\\"data/business_owners.p\\\")\\nlicenses = pd.read_pickle(\\\"data/licenses.p\\\")\";\n",
       "                var nbb_cells = Jupyter.notebook.get_cells();\n",
       "                for (var i = 0; i < nbb_cells.length; ++i) {\n",
       "                    if (nbb_cells[i].input_prompt_number == nbb_cell_id) {\n",
       "                        if (nbb_cells[i].get_text() == nbb_unformatted_code) {\n",
       "                             nbb_cells[i].set_text(nbb_formatted_code);\n",
       "                        }\n",
       "                        break;\n",
       "                    }\n",
       "                }\n",
       "            }, 500);\n",
       "            "
      ],
      "text/plain": [
       "<IPython.core.display.Javascript object>"
      ]
     },
     "metadata": {},
     "output_type": "display_data"
    }
   ],
   "source": [
    "biz_owners = pd.read_pickle(\"data/business_owners.p\")\n",
    "licenses = pd.read_pickle(\"data/licenses.p\")"
   ]
  },
  {
   "cell_type": "code",
   "execution_count": 6,
   "metadata": {},
   "outputs": [
    {
     "name": "stdout",
     "output_type": "stream",
     "text": [
      "                 account\n",
      "title                   \n",
      "PRESIDENT           6259\n",
      "SECRETARY           5205\n",
      "SOLE PROPRIETOR     1658\n",
      "OTHER               1200\n",
      "VICE PRESIDENT       970\n"
     ]
    },
    {
     "data": {
      "application/javascript": [
       "\n",
       "            setTimeout(function() {\n",
       "                var nbb_cell_id = 6;\n",
       "                var nbb_unformatted_code = \"# Merge the licenses and biz_owners table on account\\nlicenses_owners = pd.merge(licenses, biz_owners, on=\\\"account\\\")\\n\\n# Group the results by title then count the number of accounts\\ncounted_df = licenses_owners.groupby([\\\"title\\\"]).agg({\\\"account\\\": \\\"count\\\"})\\n\\n# Sort the counted_df in desending order\\nsorted_df = counted_df.sort_values(by=\\\"account\\\", ascending=False)\\n\\n# Use .head() method to print the first few rows of sorted_df\\nprint(sorted_df.head())\";\n",
       "                var nbb_formatted_code = \"# Merge the licenses and biz_owners table on account\\nlicenses_owners = pd.merge(licenses, biz_owners, on=\\\"account\\\")\\n\\n# Group the results by title then count the number of accounts\\ncounted_df = licenses_owners.groupby([\\\"title\\\"]).agg({\\\"account\\\": \\\"count\\\"})\\n\\n# Sort the counted_df in desending order\\nsorted_df = counted_df.sort_values(by=\\\"account\\\", ascending=False)\\n\\n# Use .head() method to print the first few rows of sorted_df\\nprint(sorted_df.head())\";\n",
       "                var nbb_cells = Jupyter.notebook.get_cells();\n",
       "                for (var i = 0; i < nbb_cells.length; ++i) {\n",
       "                    if (nbb_cells[i].input_prompt_number == nbb_cell_id) {\n",
       "                        if (nbb_cells[i].get_text() == nbb_unformatted_code) {\n",
       "                             nbb_cells[i].set_text(nbb_formatted_code);\n",
       "                        }\n",
       "                        break;\n",
       "                    }\n",
       "                }\n",
       "            }, 500);\n",
       "            "
      ],
      "text/plain": [
       "<IPython.core.display.Javascript object>"
      ]
     },
     "metadata": {},
     "output_type": "display_data"
    }
   ],
   "source": [
    "# Merge the licenses and biz_owners table on account\n",
    "licenses_owners = pd.merge(licenses, biz_owners, on=\"account\")\n",
    "\n",
    "# Group the results by title then count the number of accounts\n",
    "counted_df = licenses_owners.groupby([\"title\"]).agg({\"account\": \"count\"})\n",
    "\n",
    "# Sort the counted_df in desending order\n",
    "sorted_df = counted_df.sort_values(by=\"account\", ascending=False)\n",
    "\n",
    "# Use .head() method to print the first few rows of sorted_df\n",
    "print(sorted_df.head())"
   ]
  },
  {
   "cell_type": "code",
   "execution_count": 7,
   "metadata": {},
   "outputs": [
    {
     "data": {
      "application/javascript": [
       "\n",
       "            setTimeout(function() {\n",
       "                var nbb_cell_id = 7;\n",
       "                var nbb_unformatted_code = \"land_use = pd.read_pickle(\\\"data/land_use.p\\\")\";\n",
       "                var nbb_formatted_code = \"land_use = pd.read_pickle(\\\"data/land_use.p\\\")\";\n",
       "                var nbb_cells = Jupyter.notebook.get_cells();\n",
       "                for (var i = 0; i < nbb_cells.length; ++i) {\n",
       "                    if (nbb_cells[i].input_prompt_number == nbb_cell_id) {\n",
       "                        if (nbb_cells[i].get_text() == nbb_unformatted_code) {\n",
       "                             nbb_cells[i].set_text(nbb_formatted_code);\n",
       "                        }\n",
       "                        break;\n",
       "                    }\n",
       "                }\n",
       "            }, 500);\n",
       "            "
      ],
      "text/plain": [
       "<IPython.core.display.Javascript object>"
      ]
     },
     "metadata": {},
     "output_type": "display_data"
    }
   ],
   "source": [
    "land_use = pd.read_pickle(\"data/land_use.p\")"
   ]
  },
  {
   "cell_type": "code",
   "execution_count": 8,
   "metadata": {},
   "outputs": [
    {
     "name": "stdout",
     "output_type": "stream",
     "text": [
      "   ward  pop_2010  vacant  account\n",
      "46    7     51581      19       80\n",
      "11   20     52372      15      123\n",
      "0    10     51535      14      130\n",
      "15   24     54909      13       98\n",
      "6    16     51954      13      156\n"
     ]
    },
    {
     "data": {
      "application/javascript": [
       "\n",
       "            setTimeout(function() {\n",
       "                var nbb_cell_id = 8;\n",
       "                var nbb_unformatted_code = \"# Merge land_use and census and merge result with licenses including suffixes\\nland_cen_lic = land_use.merge(census, on=\\\"ward\\\").merge(\\n    licenses, on=\\\"ward\\\", suffixes=(\\\"_cen\\\", \\\"_lic\\\")\\n)\\n\\n# Group by ward, pop_2010, and vacant, then count the # of accounts\\npop_vac_lic = land_cen_lic.groupby([\\\"ward\\\", \\\"pop_2010\\\", \\\"vacant\\\"], as_index=False).agg(\\n    {\\\"account\\\": \\\"count\\\"}\\n)\\n\\n# Sort pop_vac_lic and print the results\\nsorted_pop_vac_lic = pop_vac_lic.sort_values(\\n    by=[\\\"vacant\\\", \\\"account\\\", \\\"pop_2010\\\"], ascending=[False, True, True]\\n)\\n\\n# Print the top few rows of sorted_pop_vac_lic\\nprint(sorted_pop_vac_lic.head())\";\n",
       "                var nbb_formatted_code = \"# Merge land_use and census and merge result with licenses including suffixes\\nland_cen_lic = land_use.merge(census, on=\\\"ward\\\").merge(\\n    licenses, on=\\\"ward\\\", suffixes=(\\\"_cen\\\", \\\"_lic\\\")\\n)\\n\\n# Group by ward, pop_2010, and vacant, then count the # of accounts\\npop_vac_lic = land_cen_lic.groupby([\\\"ward\\\", \\\"pop_2010\\\", \\\"vacant\\\"], as_index=False).agg(\\n    {\\\"account\\\": \\\"count\\\"}\\n)\\n\\n# Sort pop_vac_lic and print the results\\nsorted_pop_vac_lic = pop_vac_lic.sort_values(\\n    by=[\\\"vacant\\\", \\\"account\\\", \\\"pop_2010\\\"], ascending=[False, True, True]\\n)\\n\\n# Print the top few rows of sorted_pop_vac_lic\\nprint(sorted_pop_vac_lic.head())\";\n",
       "                var nbb_cells = Jupyter.notebook.get_cells();\n",
       "                for (var i = 0; i < nbb_cells.length; ++i) {\n",
       "                    if (nbb_cells[i].input_prompt_number == nbb_cell_id) {\n",
       "                        if (nbb_cells[i].get_text() == nbb_unformatted_code) {\n",
       "                             nbb_cells[i].set_text(nbb_formatted_code);\n",
       "                        }\n",
       "                        break;\n",
       "                    }\n",
       "                }\n",
       "            }, 500);\n",
       "            "
      ],
      "text/plain": [
       "<IPython.core.display.Javascript object>"
      ]
     },
     "metadata": {},
     "output_type": "display_data"
    }
   ],
   "source": [
    "# Merge land_use and census and merge result with licenses including suffixes\n",
    "land_cen_lic = land_use.merge(census, on=\"ward\").merge(\n",
    "    licenses, on=\"ward\", suffixes=(\"_cen\", \"_lic\")\n",
    ")\n",
    "\n",
    "# Group by ward, pop_2010, and vacant, then count the # of accounts\n",
    "pop_vac_lic = land_cen_lic.groupby([\"ward\", \"pop_2010\", \"vacant\"], as_index=False).agg(\n",
    "    {\"account\": \"count\"}\n",
    ")\n",
    "\n",
    "# Sort pop_vac_lic and print the results\n",
    "sorted_pop_vac_lic = pop_vac_lic.sort_values(\n",
    "    by=[\"vacant\", \"account\", \"pop_2010\"], ascending=[False, True, True]\n",
    ")\n",
    "\n",
    "# Print the top few rows of sorted_pop_vac_lic\n",
    "print(sorted_pop_vac_lic.head())"
   ]
  },
  {
   "cell_type": "markdown",
   "metadata": {},
   "source": [
    "## Merging on indexes"
   ]
  },
  {
   "cell_type": "code",
   "execution_count": 9,
   "metadata": {},
   "outputs": [
    {
     "data": {
      "application/javascript": [
       "\n",
       "            setTimeout(function() {\n",
       "                var nbb_cell_id = 9;\n",
       "                var nbb_unformatted_code = \"movies = pd.read_pickle(\\\"data/movies.p\\\")\\nratings = pd.read_pickle(\\\"data/ratings.p\\\")\";\n",
       "                var nbb_formatted_code = \"movies = pd.read_pickle(\\\"data/movies.p\\\")\\nratings = pd.read_pickle(\\\"data/ratings.p\\\")\";\n",
       "                var nbb_cells = Jupyter.notebook.get_cells();\n",
       "                for (var i = 0; i < nbb_cells.length; ++i) {\n",
       "                    if (nbb_cells[i].input_prompt_number == nbb_cell_id) {\n",
       "                        if (nbb_cells[i].get_text() == nbb_unformatted_code) {\n",
       "                             nbb_cells[i].set_text(nbb_formatted_code);\n",
       "                        }\n",
       "                        break;\n",
       "                    }\n",
       "                }\n",
       "            }, 500);\n",
       "            "
      ],
      "text/plain": [
       "<IPython.core.display.Javascript object>"
      ]
     },
     "metadata": {},
     "output_type": "display_data"
    }
   ],
   "source": [
    "movies = pd.read_pickle(\"data/movies.p\")\n",
    "ratings = pd.read_pickle(\"data/ratings.p\")"
   ]
  },
  {
   "cell_type": "code",
   "execution_count": 10,
   "metadata": {},
   "outputs": [
    {
     "data": {
      "application/javascript": [
       "\n",
       "            setTimeout(function() {\n",
       "                var nbb_cell_id = 10;\n",
       "                var nbb_unformatted_code = \"movies.set_index([\\\"id\\\"], inplace=True)\\nratings.set_index([\\\"id\\\"], inplace=True)\";\n",
       "                var nbb_formatted_code = \"movies.set_index([\\\"id\\\"], inplace=True)\\nratings.set_index([\\\"id\\\"], inplace=True)\";\n",
       "                var nbb_cells = Jupyter.notebook.get_cells();\n",
       "                for (var i = 0; i < nbb_cells.length; ++i) {\n",
       "                    if (nbb_cells[i].input_prompt_number == nbb_cell_id) {\n",
       "                        if (nbb_cells[i].get_text() == nbb_unformatted_code) {\n",
       "                             nbb_cells[i].set_text(nbb_formatted_code);\n",
       "                        }\n",
       "                        break;\n",
       "                    }\n",
       "                }\n",
       "            }, 500);\n",
       "            "
      ],
      "text/plain": [
       "<IPython.core.display.Javascript object>"
      ]
     },
     "metadata": {},
     "output_type": "display_data"
    }
   ],
   "source": [
    "movies.set_index([\"id\"], inplace=True)\n",
    "ratings.set_index([\"id\"], inplace=True)"
   ]
  },
  {
   "cell_type": "code",
   "execution_count": 11,
   "metadata": {},
   "outputs": [
    {
     "name": "stdout",
     "output_type": "stream",
     "text": [
      "                      title  popularity release_date  vote_average  vote_count\n",
      "id                                                                            \n",
      "257            Oliver Twist   20.415572   2005-09-23           6.7       274.0\n",
      "14290  Better Luck Tomorrow    3.877036   2002-01-12           6.5        27.0\n",
      "38365             Grown Ups   38.864027   2010-06-24           6.0      1705.0\n",
      "9672               Infamous    3.680896   2006-11-16           6.4        60.0\n",
      "12819       Alpha and Omega   12.300789   2010-09-17           5.3       124.0\n"
     ]
    },
    {
     "data": {
      "application/javascript": [
       "\n",
       "            setTimeout(function() {\n",
       "                var nbb_cell_id = 11;\n",
       "                var nbb_unformatted_code = \"# Merge to the movies table the ratings table on the index\\nmovies_ratings = pd.merge(movies, ratings, on=\\\"id\\\")\\n\\n# Print the first few rows of movies_ratings\\nprint(movies_ratings.head())\";\n",
       "                var nbb_formatted_code = \"# Merge to the movies table the ratings table on the index\\nmovies_ratings = pd.merge(movies, ratings, on=\\\"id\\\")\\n\\n# Print the first few rows of movies_ratings\\nprint(movies_ratings.head())\";\n",
       "                var nbb_cells = Jupyter.notebook.get_cells();\n",
       "                for (var i = 0; i < nbb_cells.length; ++i) {\n",
       "                    if (nbb_cells[i].input_prompt_number == nbb_cell_id) {\n",
       "                        if (nbb_cells[i].get_text() == nbb_unformatted_code) {\n",
       "                             nbb_cells[i].set_text(nbb_formatted_code);\n",
       "                        }\n",
       "                        break;\n",
       "                    }\n",
       "                }\n",
       "            }, 500);\n",
       "            "
      ],
      "text/plain": [
       "<IPython.core.display.Javascript object>"
      ]
     },
     "metadata": {},
     "output_type": "display_data"
    }
   ],
   "source": [
    "# Merge to the movies table the ratings table on the index\n",
    "movies_ratings = pd.merge(movies, ratings, on=\"id\")\n",
    "\n",
    "# Print the first few rows of movies_ratings\n",
    "print(movies_ratings.head())"
   ]
  },
  {
   "cell_type": "code",
   "execution_count": 12,
   "metadata": {},
   "outputs": [
    {
     "data": {
      "application/javascript": [
       "\n",
       "            setTimeout(function() {\n",
       "                var nbb_cell_id = 12;\n",
       "                var nbb_unformatted_code = \"sequels = pd.read_pickle(\\\"data/sequels.p\\\")\\nfinancials = pd.read_pickle(\\\"data/financials.p\\\")\";\n",
       "                var nbb_formatted_code = \"sequels = pd.read_pickle(\\\"data/sequels.p\\\")\\nfinancials = pd.read_pickle(\\\"data/financials.p\\\")\";\n",
       "                var nbb_cells = Jupyter.notebook.get_cells();\n",
       "                for (var i = 0; i < nbb_cells.length; ++i) {\n",
       "                    if (nbb_cells[i].input_prompt_number == nbb_cell_id) {\n",
       "                        if (nbb_cells[i].get_text() == nbb_unformatted_code) {\n",
       "                             nbb_cells[i].set_text(nbb_formatted_code);\n",
       "                        }\n",
       "                        break;\n",
       "                    }\n",
       "                }\n",
       "            }, 500);\n",
       "            "
      ],
      "text/plain": [
       "<IPython.core.display.Javascript object>"
      ]
     },
     "metadata": {},
     "output_type": "display_data"
    }
   ],
   "source": [
    "sequels = pd.read_pickle(\"data/sequels.p\")\n",
    "financials = pd.read_pickle(\"data/financials.p\")"
   ]
  },
  {
   "cell_type": "code",
   "execution_count": 13,
   "metadata": {},
   "outputs": [
    {
     "data": {
      "application/javascript": [
       "\n",
       "            setTimeout(function() {\n",
       "                var nbb_cell_id = 13;\n",
       "                var nbb_unformatted_code = \"sequels.set_index([\\\"id\\\"], inplace=True)\\nfinancials.set_index([\\\"id\\\"], inplace=True)\";\n",
       "                var nbb_formatted_code = \"sequels.set_index([\\\"id\\\"], inplace=True)\\nfinancials.set_index([\\\"id\\\"], inplace=True)\";\n",
       "                var nbb_cells = Jupyter.notebook.get_cells();\n",
       "                for (var i = 0; i < nbb_cells.length; ++i) {\n",
       "                    if (nbb_cells[i].input_prompt_number == nbb_cell_id) {\n",
       "                        if (nbb_cells[i].get_text() == nbb_unformatted_code) {\n",
       "                             nbb_cells[i].set_text(nbb_formatted_code);\n",
       "                        }\n",
       "                        break;\n",
       "                    }\n",
       "                }\n",
       "            }, 500);\n",
       "            "
      ],
      "text/plain": [
       "<IPython.core.display.Javascript object>"
      ]
     },
     "metadata": {},
     "output_type": "display_data"
    }
   ],
   "source": [
    "sequels.set_index([\"id\"], inplace=True)\n",
    "financials.set_index([\"id\"], inplace=True)"
   ]
  },
  {
   "cell_type": "code",
   "execution_count": 14,
   "metadata": {},
   "outputs": [
    {
     "name": "stdout",
     "output_type": "stream",
     "text": [
      "                                         title_org  \\\n",
      "id                                                   \n",
      "1771            Captain America: The First Avenger   \n",
      "816    Austin Powers: International Man of Mystery   \n",
      "87            Indiana Jones and the Temple of Doom   \n",
      "862                                      Toy Story   \n",
      "36657                                        X-Men   \n",
      "\n",
      "                                   title_seq         diff  \n",
      "id                                                         \n",
      "1771     Captain America: The Winter Soldier  344196798.0  \n",
      "816    Austin Powers: The Spy Who Shagged Me  243256097.0  \n",
      "87        Indiana Jones and the Last Crusade  141171806.0  \n",
      "862                              Toy Story 2  123812836.0  \n",
      "36657                                     X2  111372022.0  \n"
     ]
    },
    {
     "data": {
      "application/javascript": [
       "\n",
       "            setTimeout(function() {\n",
       "                var nbb_cell_id = 14;\n",
       "                var nbb_unformatted_code = \"# Merge sequels and financials on index id\\nsequels_fin = sequels.merge(financials, on=\\\"id\\\", how=\\\"left\\\")\\n\\nsequels_fin.dropna(inplace=True)\\n\\n# Self merge with suffixes as inner join with left on sequel and right on id\\norig_seq = sequels_fin.merge(\\n    sequels_fin,\\n    how=\\\"inner\\\",\\n    left_on=\\\"sequel\\\",\\n    right_on=\\\"id\\\",\\n    right_index=True,\\n    suffixes=(\\\"_org\\\", \\\"_seq\\\"),\\n)\\n\\n# Add calculation to subtract revenue_org from revenue_seq\\norig_seq[\\\"diff\\\"] = orig_seq[\\\"revenue_seq\\\"] - orig_seq[\\\"revenue_org\\\"]\\n\\n# Select the title_org, title_seq, and diff\\ntitles_diff = orig_seq[[\\\"title_org\\\", \\\"title_seq\\\", \\\"diff\\\"]]\\n\\n# Print the first rows of the sorted titles_diff\\nprint(titles_diff.sort_values(by=\\\"diff\\\", ascending=False).head())\";\n",
       "                var nbb_formatted_code = \"# Merge sequels and financials on index id\\nsequels_fin = sequels.merge(financials, on=\\\"id\\\", how=\\\"left\\\")\\n\\nsequels_fin.dropna(inplace=True)\\n\\n# Self merge with suffixes as inner join with left on sequel and right on id\\norig_seq = sequels_fin.merge(\\n    sequels_fin,\\n    how=\\\"inner\\\",\\n    left_on=\\\"sequel\\\",\\n    right_on=\\\"id\\\",\\n    right_index=True,\\n    suffixes=(\\\"_org\\\", \\\"_seq\\\"),\\n)\\n\\n# Add calculation to subtract revenue_org from revenue_seq\\norig_seq[\\\"diff\\\"] = orig_seq[\\\"revenue_seq\\\"] - orig_seq[\\\"revenue_org\\\"]\\n\\n# Select the title_org, title_seq, and diff\\ntitles_diff = orig_seq[[\\\"title_org\\\", \\\"title_seq\\\", \\\"diff\\\"]]\\n\\n# Print the first rows of the sorted titles_diff\\nprint(titles_diff.sort_values(by=\\\"diff\\\", ascending=False).head())\";\n",
       "                var nbb_cells = Jupyter.notebook.get_cells();\n",
       "                for (var i = 0; i < nbb_cells.length; ++i) {\n",
       "                    if (nbb_cells[i].input_prompt_number == nbb_cell_id) {\n",
       "                        if (nbb_cells[i].get_text() == nbb_unformatted_code) {\n",
       "                             nbb_cells[i].set_text(nbb_formatted_code);\n",
       "                        }\n",
       "                        break;\n",
       "                    }\n",
       "                }\n",
       "            }, 500);\n",
       "            "
      ],
      "text/plain": [
       "<IPython.core.display.Javascript object>"
      ]
     },
     "metadata": {},
     "output_type": "display_data"
    }
   ],
   "source": [
    "# Merge sequels and financials on index id\n",
    "sequels_fin = sequels.merge(financials, on=\"id\", how=\"left\")\n",
    "\n",
    "sequels_fin.dropna(inplace=True)\n",
    "\n",
    "# Self merge with suffixes as inner join with left on sequel and right on id\n",
    "orig_seq = sequels_fin.merge(\n",
    "    sequels_fin,\n",
    "    how=\"inner\",\n",
    "    left_on=\"sequel\",\n",
    "    right_on=\"id\",\n",
    "    right_index=True,\n",
    "    suffixes=(\"_org\", \"_seq\"),\n",
    ")\n",
    "\n",
    "# Add calculation to subtract revenue_org from revenue_seq\n",
    "orig_seq[\"diff\"] = orig_seq[\"revenue_seq\"] - orig_seq[\"revenue_org\"]\n",
    "\n",
    "# Select the title_org, title_seq, and diff\n",
    "titles_diff = orig_seq[[\"title_org\", \"title_seq\", \"diff\"]]\n",
    "\n",
    "# Print the first rows of the sorted titles_diff\n",
    "print(titles_diff.sort_values(by=\"diff\", ascending=False).head())"
   ]
  }
 ],
 "metadata": {
  "kernelspec": {
   "display_name": "Python 3",
   "language": "python",
   "name": "python3"
  },
  "language_info": {
   "codemirror_mode": {
    "name": "ipython",
    "version": 3
   },
   "file_extension": ".py",
   "mimetype": "text/x-python",
   "name": "python",
   "nbconvert_exporter": "python",
   "pygments_lexer": "ipython3",
   "version": "3.8.6"
  }
 },
 "nbformat": 4,
 "nbformat_minor": 4
}

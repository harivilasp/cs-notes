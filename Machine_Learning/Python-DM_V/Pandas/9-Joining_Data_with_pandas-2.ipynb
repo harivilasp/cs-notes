{
 "cells": [
  {
   "cell_type": "markdown",
   "metadata": {},
   "source": [
    "# Joining Data with pandas - 2"
   ]
  },
  {
   "cell_type": "code",
   "execution_count": 1,
   "metadata": {},
   "outputs": [
    {
     "data": {
      "application/javascript": [
       "\n",
       "            setTimeout(function() {\n",
       "                var nbb_cell_id = 1;\n",
       "                var nbb_unformatted_code = \"import pandas as pd\\nimport numpy as np\\n\\n%load_ext nb_black\";\n",
       "                var nbb_formatted_code = \"import pandas as pd\\nimport numpy as np\\n\\n%load_ext nb_black\";\n",
       "                var nbb_cells = Jupyter.notebook.get_cells();\n",
       "                for (var i = 0; i < nbb_cells.length; ++i) {\n",
       "                    if (nbb_cells[i].input_prompt_number == nbb_cell_id) {\n",
       "                        if (nbb_cells[i].get_text() == nbb_unformatted_code) {\n",
       "                             nbb_cells[i].set_text(nbb_formatted_code);\n",
       "                        }\n",
       "                        break;\n",
       "                    }\n",
       "                }\n",
       "            }, 500);\n",
       "            "
      ],
      "text/plain": [
       "<IPython.core.display.Javascript object>"
      ]
     },
     "metadata": {},
     "output_type": "display_data"
    }
   ],
   "source": [
    "import pandas as pd\n",
    "import numpy as np\n",
    "\n",
    "%load_ext nb_black"
   ]
  },
  {
   "cell_type": "markdown",
   "metadata": {},
   "source": [
    "## Semi-join\n",
    "\n",
    "1. Merge the left and right table on key column using inner-join\n",
    "2. Search if the key column in the left table is in the merged tables using `.isin()` method creating a Boolean `Series`.\n",
    "3. Subset the rows of the left table.\n",
    "\n",
    "<img src=\"images/semi_join.png\" width=\"500\" align=\"left\"/>"
   ]
  },
  {
   "cell_type": "markdown",
   "metadata": {},
   "source": [
    "## Anti-join\n",
    "\n",
    "1. Merge the left and right table on key column using inner-join and indicators `True`\n",
    "2. Search for `_merge` is `left_only` and select the left table's key column.\n",
    "3. Use keys from Step 2 and create a `isin()` method \n",
    "3. Subset the rows of the left table.\n",
    "\n",
    "<img src=\"images/anti_join.png\" width=\"500\" align=\"left\">\n",
    "<img src=\"images/anti_join2.jpg\" width=\"300\">"
   ]
  },
  {
   "cell_type": "code",
   "execution_count": 2,
   "metadata": {},
   "outputs": [
    {
     "data": {
      "application/javascript": [
       "\n",
       "            setTimeout(function() {\n",
       "                var nbb_cell_id = 2;\n",
       "                var nbb_unformatted_code = \"taxi_owners = pd.read_pickle(\\\"data/taxi_owners.p\\\")\\ntaxi_veh = pd.read_pickle(\\\"data/taxi_vehicles.p\\\")\";\n",
       "                var nbb_formatted_code = \"taxi_owners = pd.read_pickle(\\\"data/taxi_owners.p\\\")\\ntaxi_veh = pd.read_pickle(\\\"data/taxi_vehicles.p\\\")\";\n",
       "                var nbb_cells = Jupyter.notebook.get_cells();\n",
       "                for (var i = 0; i < nbb_cells.length; ++i) {\n",
       "                    if (nbb_cells[i].input_prompt_number == nbb_cell_id) {\n",
       "                        if (nbb_cells[i].get_text() == nbb_unformatted_code) {\n",
       "                             nbb_cells[i].set_text(nbb_formatted_code);\n",
       "                        }\n",
       "                        break;\n",
       "                    }\n",
       "                }\n",
       "            }, 500);\n",
       "            "
      ],
      "text/plain": [
       "<IPython.core.display.Javascript object>"
      ]
     },
     "metadata": {},
     "output_type": "display_data"
    }
   ],
   "source": [
    "taxi_owners = pd.read_pickle(\"data/taxi_owners.p\")\n",
    "taxi_veh = pd.read_pickle(\"data/taxi_vehicles.p\")"
   ]
  },
  {
   "cell_type": "code",
   "execution_count": 3,
   "metadata": {},
   "outputs": [
    {
     "name": "stdout",
     "output_type": "stream",
     "text": [
      "Empty DataFrame\n",
      "Columns: [rid, vid, owner, address, zip]\n",
      "Index: []\n"
     ]
    },
    {
     "data": {
      "application/javascript": [
       "\n",
       "            setTimeout(function() {\n",
       "                var nbb_cell_id = 3;\n",
       "                var nbb_unformatted_code = \"# Merge taxi_owners and top_cust\\ntaxi_owners_veh = taxi_owners.merge(taxi_veh, on=\\\"vid\\\", how=\\\"left\\\", indicator=True)\\n\\n# Select the vid column where _merge is left_only\\nvid_list = taxi_owners_veh.loc[taxi_owners_veh[\\\"_merge\\\"] == \\\"left_only\\\", \\\"vid\\\"]\\n\\n# Get taxi_owners not having a vehicle\\nprint(taxi_owners[taxi_owners.vid.isin(vid_list)])\";\n",
       "                var nbb_formatted_code = \"# Merge taxi_owners and top_cust\\ntaxi_owners_veh = taxi_owners.merge(taxi_veh, on=\\\"vid\\\", how=\\\"left\\\", indicator=True)\\n\\n# Select the vid column where _merge is left_only\\nvid_list = taxi_owners_veh.loc[taxi_owners_veh[\\\"_merge\\\"] == \\\"left_only\\\", \\\"vid\\\"]\\n\\n# Get taxi_owners not having a vehicle\\nprint(taxi_owners[taxi_owners.vid.isin(vid_list)])\";\n",
       "                var nbb_cells = Jupyter.notebook.get_cells();\n",
       "                for (var i = 0; i < nbb_cells.length; ++i) {\n",
       "                    if (nbb_cells[i].input_prompt_number == nbb_cell_id) {\n",
       "                        if (nbb_cells[i].get_text() == nbb_unformatted_code) {\n",
       "                             nbb_cells[i].set_text(nbb_formatted_code);\n",
       "                        }\n",
       "                        break;\n",
       "                    }\n",
       "                }\n",
       "            }, 500);\n",
       "            "
      ],
      "text/plain": [
       "<IPython.core.display.Javascript object>"
      ]
     },
     "metadata": {},
     "output_type": "display_data"
    }
   ],
   "source": [
    "# Merge taxi_owners and top_cust\n",
    "taxi_owners_veh = taxi_owners.merge(taxi_veh, on=\"vid\", how=\"left\", indicator=True)\n",
    "\n",
    "# Select the vid column where _merge is left_only\n",
    "vid_list = taxi_owners_veh.loc[taxi_owners_veh[\"_merge\"] == \"left_only\", \"vid\"]\n",
    "\n",
    "# Get taxi_owners not having a vehicle\n",
    "print(taxi_owners[taxi_owners.vid.isin(vid_list)])"
   ]
  }
 ],
 "metadata": {
  "kernelspec": {
   "display_name": "Python 3",
   "language": "python",
   "name": "python3"
  },
  "language_info": {
   "codemirror_mode": {
    "name": "ipython",
    "version": 3
   },
   "file_extension": ".py",
   "mimetype": "text/x-python",
   "name": "python",
   "nbconvert_exporter": "python",
   "pygments_lexer": "ipython3",
   "version": "3.8.6"
  }
 },
 "nbformat": 4,
 "nbformat_minor": 4
}

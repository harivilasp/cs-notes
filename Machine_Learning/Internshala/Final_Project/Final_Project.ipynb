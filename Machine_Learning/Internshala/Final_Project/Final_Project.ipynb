{
 "cells": [
  {
   "cell_type": "markdown",
   "metadata": {},
   "source": [
    "# Loan Defaulters\n",
    "\n",
    "## Introduction\n",
    "\n",
    "* Your client is an Insurance company and they need your help in building a model to predict whether the policyholder (customer) will pay next premium on time or not.\n",
    "* An insurance policy is an arrangement by which a company undertakes to provide a guarantee of compensation for specified loss, damage, illness, or death in return for the payment of a specified premium. A premium is a sum of money that you pay regularly to an insurance company for this guarantee.\n",
    "* Building a model to predict whether a customer would make the premium payment can be extremely helpful for the company because it can then accordingly plan its communication strategy to reach out to those customers who are less likely to pay and convince them to continue making timely payment.\n",
    "* Now, in order to predict, whether the customer would pay the next premium or not, you have information about past premium payment history for the policyholders along with their demographics (age, monthly income, area type) and sourcing channel etc.\n",
    "\n",
    "## Data Catalog\n",
    "\n",
    "| ﻿Variable                         | Definition                                                                                                         |\n",
    "|----------------------------------|--------------------------------------------------------------------------------------------------------------------|\n",
    "| id                               | Unique ID of the policy                                                                                            |\n",
    "| perc_premium_paid_by_cash_credit | Percentage of premium amount paid by cash or credit card                                                           |\n",
    "| age_in_days                      | Age in days of policy holder                                                                                       |\n",
    "| Income                           | Monthly Income of policy holder                                                                                    |\n",
    "| Count_3-6_months_late            | No of premiums late by 3 to 6 months                                                                               |\n",
    "| Count_6-12_months_late           | No  of premiums late by 6 to 12 months                                                                             |\n",
    "| Count_more_than_12_months_late   | No of premiums late by more than 12 months                                                                         |\n",
    "| application_underwriting_score   | Underwriting Score of the applicant at the time of application (No applications under the score of 90 are insured) |\n",
    "| no_of_premiums_paid              | Total premiums paid on time till now                                                                               |\n",
    "| sourcing_channel                 | Sourcing channel for application                                                                                   |\n",
    "| residence_area_type              | Area type of Residence (Urban/Rural)                                                                               |\n",
    "| target                           | 1 - premium paid on time, 0 - otherwise                                                                            |\n",
    "\n",
    "\n",
    "## Public and Private Split:\n",
    "\n",
    "Public leaderboard is based on 40% of the policies, while private leaderboard will be evaluated on the remaining 60% of policies from the test dataset.  "
   ]
  },
  {
   "cell_type": "markdown",
   "metadata": {},
   "source": [
    "## Data Importing"
   ]
  },
  {
   "cell_type": "code",
   "execution_count": 1,
   "metadata": {},
   "outputs": [],
   "source": [
    "# importing libraries\n",
    "\n",
    "import numpy as np\n",
    "import matplotlib.pyplot as plt\n",
    "import pandas as pd\n",
    "import seaborn as sns\n",
    "from sklearn.model_selection import train_test_split\n",
    "\n",
    "%matplotlib inline"
   ]
  },
  {
   "cell_type": "code",
   "execution_count": 2,
   "metadata": {},
   "outputs": [],
   "source": [
    "# importing data\n",
    "train = pd.read_csv('data/train.csv')\n",
    "test = pd.read_csv('data/test.csv')"
   ]
  },
  {
   "cell_type": "code",
   "execution_count": 3,
   "metadata": {},
   "outputs": [
    {
     "data": {
      "text/plain": [
       "((79853, 12), (34224, 11))"
      ]
     },
     "execution_count": 3,
     "metadata": {},
     "output_type": "execute_result"
    }
   ],
   "source": [
    "# data shape\n",
    "train.shape, test.shape"
   ]
  },
  {
   "cell_type": "code",
   "execution_count": 4,
   "metadata": {},
   "outputs": [
    {
     "data": {
      "text/html": [
       "<div>\n",
       "<style scoped>\n",
       "    .dataframe tbody tr th:only-of-type {\n",
       "        vertical-align: middle;\n",
       "    }\n",
       "\n",
       "    .dataframe tbody tr th {\n",
       "        vertical-align: top;\n",
       "    }\n",
       "\n",
       "    .dataframe thead th {\n",
       "        text-align: right;\n",
       "    }\n",
       "</style>\n",
       "<table border=\"1\" class=\"dataframe\">\n",
       "  <thead>\n",
       "    <tr style=\"text-align: right;\">\n",
       "      <th></th>\n",
       "      <th>id</th>\n",
       "      <th>perc_premium_paid_by_cash_credit</th>\n",
       "      <th>age_in_days</th>\n",
       "      <th>Income</th>\n",
       "      <th>Count_3-6_months_late</th>\n",
       "      <th>Count_6-12_months_late</th>\n",
       "      <th>Count_more_than_12_months_late</th>\n",
       "      <th>application_underwriting_score</th>\n",
       "      <th>no_of_premiums_paid</th>\n",
       "      <th>sourcing_channel</th>\n",
       "      <th>residence_area_type</th>\n",
       "      <th>target</th>\n",
       "    </tr>\n",
       "  </thead>\n",
       "  <tbody>\n",
       "    <tr>\n",
       "      <th>0</th>\n",
       "      <td>110936</td>\n",
       "      <td>0.429</td>\n",
       "      <td>12058</td>\n",
       "      <td>355060</td>\n",
       "      <td>0.0</td>\n",
       "      <td>0.0</td>\n",
       "      <td>0.0</td>\n",
       "      <td>99.02</td>\n",
       "      <td>13</td>\n",
       "      <td>C</td>\n",
       "      <td>Urban</td>\n",
       "      <td>1</td>\n",
       "    </tr>\n",
       "    <tr>\n",
       "      <th>1</th>\n",
       "      <td>41492</td>\n",
       "      <td>0.010</td>\n",
       "      <td>21546</td>\n",
       "      <td>315150</td>\n",
       "      <td>0.0</td>\n",
       "      <td>0.0</td>\n",
       "      <td>0.0</td>\n",
       "      <td>99.89</td>\n",
       "      <td>21</td>\n",
       "      <td>A</td>\n",
       "      <td>Urban</td>\n",
       "      <td>1</td>\n",
       "    </tr>\n",
       "    <tr>\n",
       "      <th>2</th>\n",
       "      <td>31300</td>\n",
       "      <td>0.917</td>\n",
       "      <td>17531</td>\n",
       "      <td>84140</td>\n",
       "      <td>2.0</td>\n",
       "      <td>3.0</td>\n",
       "      <td>1.0</td>\n",
       "      <td>98.69</td>\n",
       "      <td>7</td>\n",
       "      <td>C</td>\n",
       "      <td>Rural</td>\n",
       "      <td>0</td>\n",
       "    </tr>\n",
       "    <tr>\n",
       "      <th>3</th>\n",
       "      <td>19415</td>\n",
       "      <td>0.049</td>\n",
       "      <td>15341</td>\n",
       "      <td>250510</td>\n",
       "      <td>0.0</td>\n",
       "      <td>0.0</td>\n",
       "      <td>0.0</td>\n",
       "      <td>99.57</td>\n",
       "      <td>9</td>\n",
       "      <td>A</td>\n",
       "      <td>Urban</td>\n",
       "      <td>1</td>\n",
       "    </tr>\n",
       "    <tr>\n",
       "      <th>4</th>\n",
       "      <td>99379</td>\n",
       "      <td>0.052</td>\n",
       "      <td>31400</td>\n",
       "      <td>198680</td>\n",
       "      <td>0.0</td>\n",
       "      <td>0.0</td>\n",
       "      <td>0.0</td>\n",
       "      <td>99.87</td>\n",
       "      <td>12</td>\n",
       "      <td>B</td>\n",
       "      <td>Urban</td>\n",
       "      <td>1</td>\n",
       "    </tr>\n",
       "  </tbody>\n",
       "</table>\n",
       "</div>"
      ],
      "text/plain": [
       "       id  perc_premium_paid_by_cash_credit  age_in_days  Income  \\\n",
       "0  110936                             0.429        12058  355060   \n",
       "1   41492                             0.010        21546  315150   \n",
       "2   31300                             0.917        17531   84140   \n",
       "3   19415                             0.049        15341  250510   \n",
       "4   99379                             0.052        31400  198680   \n",
       "\n",
       "   Count_3-6_months_late  Count_6-12_months_late  \\\n",
       "0                    0.0                     0.0   \n",
       "1                    0.0                     0.0   \n",
       "2                    2.0                     3.0   \n",
       "3                    0.0                     0.0   \n",
       "4                    0.0                     0.0   \n",
       "\n",
       "   Count_more_than_12_months_late  application_underwriting_score  \\\n",
       "0                             0.0                           99.02   \n",
       "1                             0.0                           99.89   \n",
       "2                             1.0                           98.69   \n",
       "3                             0.0                           99.57   \n",
       "4                             0.0                           99.87   \n",
       "\n",
       "   no_of_premiums_paid sourcing_channel residence_area_type  target  \n",
       "0                   13                C               Urban       1  \n",
       "1                   21                A               Urban       1  \n",
       "2                    7                C               Rural       0  \n",
       "3                    9                A               Urban       1  \n",
       "4                   12                B               Urban       1  "
      ]
     },
     "execution_count": 4,
     "metadata": {},
     "output_type": "execute_result"
    }
   ],
   "source": [
    "train.head()"
   ]
  },
  {
   "cell_type": "code",
   "execution_count": 5,
   "metadata": {},
   "outputs": [
    {
     "data": {
      "text/html": [
       "<div>\n",
       "<style scoped>\n",
       "    .dataframe tbody tr th:only-of-type {\n",
       "        vertical-align: middle;\n",
       "    }\n",
       "\n",
       "    .dataframe tbody tr th {\n",
       "        vertical-align: top;\n",
       "    }\n",
       "\n",
       "    .dataframe thead th {\n",
       "        text-align: right;\n",
       "    }\n",
       "</style>\n",
       "<table border=\"1\" class=\"dataframe\">\n",
       "  <thead>\n",
       "    <tr style=\"text-align: right;\">\n",
       "      <th></th>\n",
       "      <th>id</th>\n",
       "      <th>perc_premium_paid_by_cash_credit</th>\n",
       "      <th>age_in_days</th>\n",
       "      <th>Income</th>\n",
       "      <th>Count_3-6_months_late</th>\n",
       "      <th>Count_6-12_months_late</th>\n",
       "      <th>Count_more_than_12_months_late</th>\n",
       "      <th>application_underwriting_score</th>\n",
       "      <th>no_of_premiums_paid</th>\n",
       "      <th>sourcing_channel</th>\n",
       "      <th>residence_area_type</th>\n",
       "    </tr>\n",
       "  </thead>\n",
       "  <tbody>\n",
       "    <tr>\n",
       "      <th>0</th>\n",
       "      <td>649</td>\n",
       "      <td>0.001</td>\n",
       "      <td>27384</td>\n",
       "      <td>51150</td>\n",
       "      <td>0.0</td>\n",
       "      <td>0.0</td>\n",
       "      <td>0.0</td>\n",
       "      <td>99.89</td>\n",
       "      <td>7</td>\n",
       "      <td>A</td>\n",
       "      <td>Rural</td>\n",
       "    </tr>\n",
       "    <tr>\n",
       "      <th>1</th>\n",
       "      <td>81136</td>\n",
       "      <td>0.124</td>\n",
       "      <td>23735</td>\n",
       "      <td>285140</td>\n",
       "      <td>0.0</td>\n",
       "      <td>0.0</td>\n",
       "      <td>0.0</td>\n",
       "      <td>98.93</td>\n",
       "      <td>19</td>\n",
       "      <td>A</td>\n",
       "      <td>Urban</td>\n",
       "    </tr>\n",
       "    <tr>\n",
       "      <th>2</th>\n",
       "      <td>70762</td>\n",
       "      <td>1.000</td>\n",
       "      <td>17170</td>\n",
       "      <td>186030</td>\n",
       "      <td>0.0</td>\n",
       "      <td>0.0</td>\n",
       "      <td>0.0</td>\n",
       "      <td>NaN</td>\n",
       "      <td>2</td>\n",
       "      <td>B</td>\n",
       "      <td>Urban</td>\n",
       "    </tr>\n",
       "    <tr>\n",
       "      <th>3</th>\n",
       "      <td>53935</td>\n",
       "      <td>0.198</td>\n",
       "      <td>16068</td>\n",
       "      <td>123540</td>\n",
       "      <td>0.0</td>\n",
       "      <td>0.0</td>\n",
       "      <td>0.0</td>\n",
       "      <td>99.00</td>\n",
       "      <td>11</td>\n",
       "      <td>B</td>\n",
       "      <td>Rural</td>\n",
       "    </tr>\n",
       "    <tr>\n",
       "      <th>4</th>\n",
       "      <td>15476</td>\n",
       "      <td>0.041</td>\n",
       "      <td>10591</td>\n",
       "      <td>200020</td>\n",
       "      <td>1.0</td>\n",
       "      <td>0.0</td>\n",
       "      <td>0.0</td>\n",
       "      <td>99.17</td>\n",
       "      <td>14</td>\n",
       "      <td>A</td>\n",
       "      <td>Rural</td>\n",
       "    </tr>\n",
       "  </tbody>\n",
       "</table>\n",
       "</div>"
      ],
      "text/plain": [
       "      id  perc_premium_paid_by_cash_credit  age_in_days  Income  \\\n",
       "0    649                             0.001        27384   51150   \n",
       "1  81136                             0.124        23735  285140   \n",
       "2  70762                             1.000        17170  186030   \n",
       "3  53935                             0.198        16068  123540   \n",
       "4  15476                             0.041        10591  200020   \n",
       "\n",
       "   Count_3-6_months_late  Count_6-12_months_late  \\\n",
       "0                    0.0                     0.0   \n",
       "1                    0.0                     0.0   \n",
       "2                    0.0                     0.0   \n",
       "3                    0.0                     0.0   \n",
       "4                    1.0                     0.0   \n",
       "\n",
       "   Count_more_than_12_months_late  application_underwriting_score  \\\n",
       "0                             0.0                           99.89   \n",
       "1                             0.0                           98.93   \n",
       "2                             0.0                             NaN   \n",
       "3                             0.0                           99.00   \n",
       "4                             0.0                           99.17   \n",
       "\n",
       "   no_of_premiums_paid sourcing_channel residence_area_type  \n",
       "0                    7                A               Rural  \n",
       "1                   19                A               Urban  \n",
       "2                    2                B               Urban  \n",
       "3                   11                B               Rural  \n",
       "4                   14                A               Rural  "
      ]
     },
     "execution_count": 5,
     "metadata": {},
     "output_type": "execute_result"
    }
   ],
   "source": [
    "test.head()"
   ]
  },
  {
   "cell_type": "code",
   "execution_count": 6,
   "metadata": {},
   "outputs": [
    {
     "data": {
      "text/plain": [
       "(Index(['id', 'perc_premium_paid_by_cash_credit', 'age_in_days', 'Income',\n",
       "        'Count_3-6_months_late', 'Count_6-12_months_late',\n",
       "        'Count_more_than_12_months_late', 'application_underwriting_score',\n",
       "        'no_of_premiums_paid', 'sourcing_channel', 'residence_area_type',\n",
       "        'target'],\n",
       "       dtype='object'),\n",
       " Index(['id', 'perc_premium_paid_by_cash_credit', 'age_in_days', 'Income',\n",
       "        'Count_3-6_months_late', 'Count_6-12_months_late',\n",
       "        'Count_more_than_12_months_late', 'application_underwriting_score',\n",
       "        'no_of_premiums_paid', 'sourcing_channel', 'residence_area_type'],\n",
       "       dtype='object'))"
      ]
     },
     "execution_count": 6,
     "metadata": {},
     "output_type": "execute_result"
    }
   ],
   "source": [
    "train.columns, test.columns"
   ]
  },
  {
   "cell_type": "code",
   "execution_count": 7,
   "metadata": {},
   "outputs": [
    {
     "data": {
      "text/html": [
       "<div>\n",
       "<style scoped>\n",
       "    .dataframe tbody tr th:only-of-type {\n",
       "        vertical-align: middle;\n",
       "    }\n",
       "\n",
       "    .dataframe tbody tr th {\n",
       "        vertical-align: top;\n",
       "    }\n",
       "\n",
       "    .dataframe thead th {\n",
       "        text-align: right;\n",
       "    }\n",
       "</style>\n",
       "<table border=\"1\" class=\"dataframe\">\n",
       "  <thead>\n",
       "    <tr style=\"text-align: right;\">\n",
       "      <th></th>\n",
       "      <th>id</th>\n",
       "      <th>perc_premium_paid_by_cash_credit</th>\n",
       "      <th>age_in_days</th>\n",
       "      <th>Income</th>\n",
       "      <th>Count_3-6_months_late</th>\n",
       "      <th>Count_6-12_months_late</th>\n",
       "      <th>Count_more_than_12_months_late</th>\n",
       "      <th>application_underwriting_score</th>\n",
       "      <th>no_of_premiums_paid</th>\n",
       "      <th>target</th>\n",
       "    </tr>\n",
       "  </thead>\n",
       "  <tbody>\n",
       "    <tr>\n",
       "      <th>count</th>\n",
       "      <td>79853.000000</td>\n",
       "      <td>79853.000000</td>\n",
       "      <td>79853.000000</td>\n",
       "      <td>7.985300e+04</td>\n",
       "      <td>79756.000000</td>\n",
       "      <td>79756.000000</td>\n",
       "      <td>79756.000000</td>\n",
       "      <td>76879.000000</td>\n",
       "      <td>79853.000000</td>\n",
       "      <td>79853.000000</td>\n",
       "    </tr>\n",
       "    <tr>\n",
       "      <th>mean</th>\n",
       "      <td>57167.166368</td>\n",
       "      <td>0.314288</td>\n",
       "      <td>18846.696906</td>\n",
       "      <td>2.088472e+05</td>\n",
       "      <td>0.248671</td>\n",
       "      <td>0.078188</td>\n",
       "      <td>0.060008</td>\n",
       "      <td>99.067291</td>\n",
       "      <td>10.863887</td>\n",
       "      <td>0.937410</td>\n",
       "    </tr>\n",
       "    <tr>\n",
       "      <th>std</th>\n",
       "      <td>32928.970160</td>\n",
       "      <td>0.334915</td>\n",
       "      <td>5208.719136</td>\n",
       "      <td>4.965826e+05</td>\n",
       "      <td>0.691468</td>\n",
       "      <td>0.436507</td>\n",
       "      <td>0.312023</td>\n",
       "      <td>0.739799</td>\n",
       "      <td>5.170687</td>\n",
       "      <td>0.242226</td>\n",
       "    </tr>\n",
       "    <tr>\n",
       "      <th>min</th>\n",
       "      <td>2.000000</td>\n",
       "      <td>0.000000</td>\n",
       "      <td>7670.000000</td>\n",
       "      <td>2.403000e+04</td>\n",
       "      <td>0.000000</td>\n",
       "      <td>0.000000</td>\n",
       "      <td>0.000000</td>\n",
       "      <td>91.900000</td>\n",
       "      <td>2.000000</td>\n",
       "      <td>0.000000</td>\n",
       "    </tr>\n",
       "    <tr>\n",
       "      <th>25%</th>\n",
       "      <td>28640.000000</td>\n",
       "      <td>0.034000</td>\n",
       "      <td>14974.000000</td>\n",
       "      <td>1.080100e+05</td>\n",
       "      <td>0.000000</td>\n",
       "      <td>0.000000</td>\n",
       "      <td>0.000000</td>\n",
       "      <td>98.810000</td>\n",
       "      <td>7.000000</td>\n",
       "      <td>1.000000</td>\n",
       "    </tr>\n",
       "    <tr>\n",
       "      <th>50%</th>\n",
       "      <td>57262.000000</td>\n",
       "      <td>0.167000</td>\n",
       "      <td>18625.000000</td>\n",
       "      <td>1.665600e+05</td>\n",
       "      <td>0.000000</td>\n",
       "      <td>0.000000</td>\n",
       "      <td>0.000000</td>\n",
       "      <td>99.210000</td>\n",
       "      <td>10.000000</td>\n",
       "      <td>1.000000</td>\n",
       "    </tr>\n",
       "    <tr>\n",
       "      <th>75%</th>\n",
       "      <td>85632.000000</td>\n",
       "      <td>0.538000</td>\n",
       "      <td>22636.000000</td>\n",
       "      <td>2.520900e+05</td>\n",
       "      <td>0.000000</td>\n",
       "      <td>0.000000</td>\n",
       "      <td>0.000000</td>\n",
       "      <td>99.540000</td>\n",
       "      <td>14.000000</td>\n",
       "      <td>1.000000</td>\n",
       "    </tr>\n",
       "    <tr>\n",
       "      <th>max</th>\n",
       "      <td>114076.000000</td>\n",
       "      <td>1.000000</td>\n",
       "      <td>37602.000000</td>\n",
       "      <td>9.026260e+07</td>\n",
       "      <td>13.000000</td>\n",
       "      <td>17.000000</td>\n",
       "      <td>11.000000</td>\n",
       "      <td>99.890000</td>\n",
       "      <td>60.000000</td>\n",
       "      <td>1.000000</td>\n",
       "    </tr>\n",
       "  </tbody>\n",
       "</table>\n",
       "</div>"
      ],
      "text/plain": [
       "                  id  perc_premium_paid_by_cash_credit   age_in_days  \\\n",
       "count   79853.000000                      79853.000000  79853.000000   \n",
       "mean    57167.166368                          0.314288  18846.696906   \n",
       "std     32928.970160                          0.334915   5208.719136   \n",
       "min         2.000000                          0.000000   7670.000000   \n",
       "25%     28640.000000                          0.034000  14974.000000   \n",
       "50%     57262.000000                          0.167000  18625.000000   \n",
       "75%     85632.000000                          0.538000  22636.000000   \n",
       "max    114076.000000                          1.000000  37602.000000   \n",
       "\n",
       "             Income  Count_3-6_months_late  Count_6-12_months_late  \\\n",
       "count  7.985300e+04           79756.000000            79756.000000   \n",
       "mean   2.088472e+05               0.248671                0.078188   \n",
       "std    4.965826e+05               0.691468                0.436507   \n",
       "min    2.403000e+04               0.000000                0.000000   \n",
       "25%    1.080100e+05               0.000000                0.000000   \n",
       "50%    1.665600e+05               0.000000                0.000000   \n",
       "75%    2.520900e+05               0.000000                0.000000   \n",
       "max    9.026260e+07              13.000000               17.000000   \n",
       "\n",
       "       Count_more_than_12_months_late  application_underwriting_score  \\\n",
       "count                    79756.000000                    76879.000000   \n",
       "mean                         0.060008                       99.067291   \n",
       "std                          0.312023                        0.739799   \n",
       "min                          0.000000                       91.900000   \n",
       "25%                          0.000000                       98.810000   \n",
       "50%                          0.000000                       99.210000   \n",
       "75%                          0.000000                       99.540000   \n",
       "max                         11.000000                       99.890000   \n",
       "\n",
       "       no_of_premiums_paid        target  \n",
       "count         79853.000000  79853.000000  \n",
       "mean             10.863887      0.937410  \n",
       "std               5.170687      0.242226  \n",
       "min               2.000000      0.000000  \n",
       "25%               7.000000      1.000000  \n",
       "50%              10.000000      1.000000  \n",
       "75%              14.000000      1.000000  \n",
       "max              60.000000      1.000000  "
      ]
     },
     "execution_count": 7,
     "metadata": {},
     "output_type": "execute_result"
    }
   ],
   "source": [
    "train.describe()"
   ]
  },
  {
   "cell_type": "markdown",
   "metadata": {},
   "source": [
    "## Univariate Analysis\n",
    "\n",
    "### `perc_premium_paid_by_cash_credit`\n",
    "\n",
    "Convert this into a percentage"
   ]
  },
  {
   "cell_type": "code",
   "execution_count": 8,
   "metadata": {},
   "outputs": [],
   "source": [
    "train['percentage_premium_paid_cash_credit'] = train.perc_premium_paid_by_cash_credit.apply(lambda x: x * 100)\n",
    "test['percentage_premium_paid_cash_credit'] = test.perc_premium_paid_by_cash_credit.apply(lambda x: x * 100)"
   ]
  },
  {
   "cell_type": "code",
   "execution_count": 9,
   "metadata": {},
   "outputs": [
    {
     "data": {
      "text/plain": [
       "count    79853.000000\n",
       "mean        31.428774\n",
       "std         33.491457\n",
       "min          0.000000\n",
       "0%           0.000000\n",
       "25%          3.400000\n",
       "50%         16.700000\n",
       "75%         53.800000\n",
       "90%         92.500000\n",
       "95%        100.000000\n",
       "99%        100.000000\n",
       "100%       100.000000\n",
       "max        100.000000\n",
       "Name: percentage_premium_paid_cash_credit, dtype: float64"
      ]
     },
     "execution_count": 9,
     "metadata": {},
     "output_type": "execute_result"
    }
   ],
   "source": [
    "train.percentage_premium_paid_cash_credit.describe(percentiles= [0,0.25,0.5,0.75,0.9,0.95,0.99,1])"
   ]
  },
  {
   "cell_type": "code",
   "execution_count": 10,
   "metadata": {},
   "outputs": [
    {
     "data": {
      "text/plain": [
       "count    34224.000000\n",
       "mean        31.445743\n",
       "std         33.405873\n",
       "min          0.000000\n",
       "0%           0.000000\n",
       "25%          3.400000\n",
       "50%         16.900000\n",
       "75%         54.000000\n",
       "90%         92.000000\n",
       "95%        100.000000\n",
       "99%        100.000000\n",
       "100%       100.000000\n",
       "max        100.000000\n",
       "Name: percentage_premium_paid_cash_credit, dtype: float64"
      ]
     },
     "execution_count": 10,
     "metadata": {},
     "output_type": "execute_result"
    }
   ],
   "source": [
    "test.percentage_premium_paid_cash_credit.describe(percentiles= [0,0.25,0.5,0.75,0.9,0.95,0.99,1])"
   ]
  },
  {
   "cell_type": "code",
   "execution_count": 11,
   "metadata": {},
   "outputs": [
    {
     "data": {
      "image/png": "[encoded data removed]",
      "text/plain": [
       "<Figure size 1600x600 with 1 Axes>"
      ]
     },
     "metadata": {
      "needs_background": "light"
     },
     "output_type": "display_data"
    }
   ],
   "source": [
    "plt.figure(figsize=(16, 6),  dpi= 100)\n",
    "sns.distplot(train.percentage_premium_paid_cash_credit)\n",
    "plt.grid()\n",
    "plt.show()"
   ]
  },
  {
   "cell_type": "code",
   "execution_count": 12,
   "metadata": {},
   "outputs": [
    {
     "data": {
      "image/png": "[encoded data removed]",
      "text/plain": [
       "<Figure size 1600x600 with 1 Axes>"
      ]
     },
     "metadata": {
      "needs_background": "light"
     },
     "output_type": "display_data"
    }
   ],
   "source": [
    "plt.figure(figsize=(16, 6),  dpi= 100)\n",
    "sns.distplot(test.percentage_premium_paid_cash_credit)\n",
    "plt.grid()\n",
    "plt.show()"
   ]
  },
  {
   "cell_type": "markdown",
   "metadata": {},
   "source": [
    "### `age_in_days`"
   ]
  },
  {
   "cell_type": "code",
   "execution_count": 13,
   "metadata": {},
   "outputs": [
    {
     "data": {
      "text/plain": [
       "count    79853.000000\n",
       "mean     18846.696906\n",
       "std       5208.719136\n",
       "min       7670.000000\n",
       "25%      14974.000000\n",
       "50%      18625.000000\n",
       "75%      22636.000000\n",
       "max      37602.000000\n",
       "Name: age_in_days, dtype: float64"
      ]
     },
     "execution_count": 13,
     "metadata": {},
     "output_type": "execute_result"
    }
   ],
   "source": [
    "train.age_in_days.describe()"
   ]
  },
  {
   "cell_type": "code",
   "execution_count": 14,
   "metadata": {},
   "outputs": [
    {
     "data": {
      "text/plain": [
       "count    34224.000000\n",
       "mean     18824.215346\n",
       "std       5246.525604\n",
       "min       7671.000000\n",
       "25%      14972.000000\n",
       "50%      18623.000000\n",
       "75%      22636.000000\n",
       "max      35785.000000\n",
       "Name: age_in_days, dtype: float64"
      ]
     },
     "execution_count": 14,
     "metadata": {},
     "output_type": "execute_result"
    }
   ],
   "source": [
    "test.age_in_days.describe()"
   ]
  },
  {
   "cell_type": "code",
   "execution_count": 15,
   "metadata": {
    "scrolled": false
   },
   "outputs": [
    {
     "data": {
      "image/png": "[encoded data removed]",
      "text/plain": [
       "<Figure size 800x500 with 1 Axes>"
      ]
     },
     "metadata": {
      "needs_background": "light"
     },
     "output_type": "display_data"
    }
   ],
   "source": [
    "plt.figure(figsize=(8, 5), dpi = 100)\n",
    "sns.distplot(train.age_in_days)\n",
    "plt.xscale('log')\n",
    "plt.title('Age in days')\n",
    "plt.grid()\n",
    "plt.show()"
   ]
  },
  {
   "cell_type": "markdown",
   "metadata": {},
   "source": [
    "### `age_in_years`"
   ]
  },
  {
   "cell_type": "markdown",
   "metadata": {},
   "source": [
    "Age in days follows a normal distribution at a log scale. Let's convert age in days into years. (Assuming no leap years)"
   ]
  },
  {
   "cell_type": "code",
   "execution_count": 16,
   "metadata": {},
   "outputs": [],
   "source": [
    "train['age_in_years'] = train.age_in_days.apply(lambda x: x/365)\n",
    "test['age_in_years'] = test.age_in_days.apply(lambda x: x/365)"
   ]
  },
  {
   "cell_type": "code",
   "execution_count": 17,
   "metadata": {},
   "outputs": [
    {
     "data": {
      "image/png": "[encoded data removed]",
      "text/plain": [
       "<Figure size 800x500 with 1 Axes>"
      ]
     },
     "metadata": {
      "needs_background": "light"
     },
     "output_type": "display_data"
    }
   ],
   "source": [
    "plt.figure(figsize=(8, 5), dpi= 100)\n",
    "sns.distplot(train.age_in_years)\n",
    "plt.title('Age in Years')\n",
    "plt.grid()\n",
    "plt.show()"
   ]
  },
  {
   "cell_type": "markdown",
   "metadata": {},
   "source": [
    "Age in years, however, follows a normal distribution."
   ]
  },
  {
   "cell_type": "markdown",
   "metadata": {},
   "source": [
    "### `Income`"
   ]
  },
  {
   "cell_type": "code",
   "execution_count": 18,
   "metadata": {},
   "outputs": [
    {
     "data": {
      "text/plain": [
       "count    7.985300e+04\n",
       "mean     2.088472e+05\n",
       "std      4.965826e+05\n",
       "min      2.403000e+04\n",
       "0%       2.403000e+04\n",
       "25%      1.080100e+05\n",
       "50%      1.665600e+05\n",
       "75%      2.520900e+05\n",
       "90%      3.574140e+05\n",
       "95%      4.500500e+05\n",
       "99%      7.710780e+05\n",
       "100%     9.026260e+07\n",
       "max      9.026260e+07\n",
       "Name: Income, dtype: float64"
      ]
     },
     "execution_count": 18,
     "metadata": {},
     "output_type": "execute_result"
    }
   ],
   "source": [
    "train.Income.describe(percentiles= [0,0.25,0.5,0.75,0.9,0.95,0.99,1])"
   ]
  },
  {
   "cell_type": "code",
   "execution_count": 19,
   "metadata": {},
   "outputs": [
    {
     "data": {
      "text/plain": [
       "count    7.985300e+04\n",
       "mean     2.088472e+05\n",
       "std      4.965826e+05\n",
       "min      2.403000e+04\n",
       "0%       2.403000e+04\n",
       "25%      1.080100e+05\n",
       "50%      1.665600e+05\n",
       "75%      2.520900e+05\n",
       "90%      3.574140e+05\n",
       "95%      4.500500e+05\n",
       "99%      7.710780e+05\n",
       "100%     9.026260e+07\n",
       "max      9.026260e+07\n",
       "Name: Income, dtype: float64"
      ]
     },
     "execution_count": 19,
     "metadata": {},
     "output_type": "execute_result"
    }
   ],
   "source": [
    "train.Income.describe(percentiles= [0,0.25,0.5,0.75,0.9,0.95,0.99,1])"
   ]
  },
  {
   "cell_type": "code",
   "execution_count": 20,
   "metadata": {},
   "outputs": [
    {
     "data": {
      "image/png": "[encoded data removed]",
      "text/plain": [
       "<Figure size 800x500 with 1 Axes>"
      ]
     },
     "metadata": {
      "needs_background": "light"
     },
     "output_type": "display_data"
    }
   ],
   "source": [
    "plt.figure(figsize=(8, 5), dpi= 100)\n",
    "sns.violinplot(train.Income)\n",
    "plt.xscale('log')\n",
    "plt.grid()\n",
    "plt.show()"
   ]
  },
  {
   "cell_type": "markdown",
   "metadata": {},
   "source": [
    "Most incomes fall below an order of magnitude of 6. Several outliers exists above this range."
   ]
  },
  {
   "cell_type": "markdown",
   "metadata": {},
   "source": [
    "### `Count_X_months_late`\n",
    "\n",
    "#### 3 - 6 Months"
   ]
  },
  {
   "cell_type": "code",
   "execution_count": 21,
   "metadata": {},
   "outputs": [
    {
     "data": {
      "text/plain": [
       "count    79756.000000\n",
       "mean         0.248671\n",
       "std          0.691468\n",
       "min          0.000000\n",
       "0%           0.000000\n",
       "25%          0.000000\n",
       "50%          0.000000\n",
       "75%          0.000000\n",
       "90%          1.000000\n",
       "95%          2.000000\n",
       "99%          3.000000\n",
       "100%        13.000000\n",
       "max         13.000000\n",
       "Name: Count_3-6_months_late, dtype: float64"
      ]
     },
     "execution_count": 21,
     "metadata": {},
     "output_type": "execute_result"
    }
   ],
   "source": [
    "train['Count_3-6_months_late'].describe(percentiles= [0,0.25,0.5,0.75,0.9,0.95,0.99,1])"
   ]
  },
  {
   "cell_type": "code",
   "execution_count": 22,
   "metadata": {},
   "outputs": [
    {
     "data": {
      "image/png": "[encoded data removed]",
      "text/plain": [
       "<Figure size 900x500 with 1 Axes>"
      ]
     },
     "metadata": {
      "needs_background": "light"
     },
     "output_type": "display_data"
    }
   ],
   "source": [
    "plt.figure(figsize=(9, 5), dpi= 100)\n",
    "sns.countplot(train['Count_3-6_months_late'])\n",
    "plt.yscale('log')\n",
    "plt.grid()\n",
    "plt.show()"
   ]
  },
  {
   "cell_type": "markdown",
   "metadata": {},
   "source": [
    "#### 6 - 12 Months"
   ]
  },
  {
   "cell_type": "code",
   "execution_count": 23,
   "metadata": {},
   "outputs": [
    {
     "data": {
      "text/plain": [
       "count    79756.000000\n",
       "mean         0.078188\n",
       "std          0.436507\n",
       "min          0.000000\n",
       "0%           0.000000\n",
       "25%          0.000000\n",
       "50%          0.000000\n",
       "75%          0.000000\n",
       "90%          0.000000\n",
       "95%          0.000000\n",
       "99%          2.000000\n",
       "100%        17.000000\n",
       "max         17.000000\n",
       "Name: Count_6-12_months_late, dtype: float64"
      ]
     },
     "execution_count": 23,
     "metadata": {},
     "output_type": "execute_result"
    }
   ],
   "source": [
    "train['Count_6-12_months_late'].describe(percentiles= [0,0.25,0.5,0.75,0.9,0.95,0.99,1])"
   ]
  },
  {
   "cell_type": "code",
   "execution_count": 24,
   "metadata": {},
   "outputs": [
    {
     "data": {
      "image/png": "[encoded data removed]",
      "text/plain": [
       "<Figure size 900x500 with 1 Axes>"
      ]
     },
     "metadata": {
      "needs_background": "light"
     },
     "output_type": "display_data"
    }
   ],
   "source": [
    "plt.figure(figsize=(9, 5), dpi= 100)\n",
    "sns.countplot(train['Count_6-12_months_late'])\n",
    "plt.yscale('log')\n",
    "plt.grid()\n",
    "plt.show()"
   ]
  },
  {
   "cell_type": "markdown",
   "metadata": {},
   "source": [
    "#### Over 12 months late"
   ]
  },
  {
   "cell_type": "code",
   "execution_count": 25,
   "metadata": {},
   "outputs": [
    {
     "data": {
      "text/plain": [
       "count    79756.000000\n",
       "mean         0.060008\n",
       "std          0.312023\n",
       "min          0.000000\n",
       "0%           0.000000\n",
       "25%          0.000000\n",
       "50%          0.000000\n",
       "75%          0.000000\n",
       "90%          0.000000\n",
       "95%          0.000000\n",
       "99%          1.000000\n",
       "100%        11.000000\n",
       "max         11.000000\n",
       "Name: Count_more_than_12_months_late, dtype: float64"
      ]
     },
     "execution_count": 25,
     "metadata": {},
     "output_type": "execute_result"
    }
   ],
   "source": [
    "train['Count_more_than_12_months_late'].describe(percentiles= [0,0.25,0.5,0.75,0.9,0.95,0.99,1])"
   ]
  },
  {
   "cell_type": "code",
   "execution_count": 26,
   "metadata": {
    "scrolled": false
   },
   "outputs": [
    {
     "data": {
      "image/png": "[encoded data removed]",
      "text/plain": [
       "<Figure size 900x500 with 1 Axes>"
      ]
     },
     "metadata": {
      "needs_background": "light"
     },
     "output_type": "display_data"
    }
   ],
   "source": [
    "plt.figure(figsize=(9, 5), dpi= 100)\n",
    "sns.countplot(train['Count_more_than_12_months_late'])\n",
    "plt.grid(True)\n",
    "plt.yscale('log')\n",
    "plt.show()"
   ]
  },
  {
   "cell_type": "code",
   "execution_count": 27,
   "metadata": {},
   "outputs": [
    {
     "name": "stdout",
     "output_type": "stream",
     "text": [
      "0.0\n",
      "0.0\n",
      "0.0\n"
     ]
    }
   ],
   "source": [
    "print(train['Count_3-6_months_late'].median())\n",
    "print(train['Count_6-12_months_late'].median())\n",
    "print(train['Count_more_than_12_months_late'].median())"
   ]
  },
  {
   "cell_type": "markdown",
   "metadata": {},
   "source": [
    "All three distributions in this case have a long right tail. Hereby they are all right tailed distribution with their means close to 0 and their medians being 0."
   ]
  },
  {
   "cell_type": "markdown",
   "metadata": {},
   "source": [
    "### `application_underwriting_score`"
   ]
  },
  {
   "cell_type": "code",
   "execution_count": 28,
   "metadata": {},
   "outputs": [
    {
     "data": {
      "text/plain": [
       "count    76879.000000\n",
       "mean        99.067291\n",
       "std          0.739799\n",
       "min         91.900000\n",
       "0%          91.900000\n",
       "25%         98.810000\n",
       "50%         99.210000\n",
       "75%         99.540000\n",
       "90%         99.790000\n",
       "95%         99.870000\n",
       "99%         99.890000\n",
       "100%        99.890000\n",
       "max         99.890000\n",
       "Name: application_underwriting_score, dtype: float64"
      ]
     },
     "execution_count": 28,
     "metadata": {},
     "output_type": "execute_result"
    }
   ],
   "source": [
    "train.application_underwriting_score.describe(percentiles= [0,0.25,0.5,0.75,0.9,0.95,0.99,1])"
   ]
  },
  {
   "cell_type": "code",
   "execution_count": 29,
   "metadata": {},
   "outputs": [
    {
     "data": {
      "image/png": "[encoded data removed]",
      "text/plain": [
       "<Figure size 900x500 with 1 Axes>"
      ]
     },
     "metadata": {
      "needs_background": "light"
     },
     "output_type": "display_data"
    }
   ],
   "source": [
    "plt.figure(figsize=(9, 5), dpi= 100)\n",
    "sns.distplot(train[train['application_underwriting_score'].notnull()]['application_underwriting_score'])\n",
    "plt.grid()\n",
    "plt.show()"
   ]
  },
  {
   "cell_type": "markdown",
   "metadata": {},
   "source": [
    "Applications underwriting score is left tailed. Hence, most applicants have a high score."
   ]
  },
  {
   "cell_type": "markdown",
   "metadata": {},
   "source": [
    "### `no_of_premiums_paid`"
   ]
  },
  {
   "cell_type": "code",
   "execution_count": 30,
   "metadata": {},
   "outputs": [
    {
     "data": {
      "text/plain": [
       "count    79853.000000\n",
       "mean        10.863887\n",
       "std          5.170687\n",
       "min          2.000000\n",
       "0%           2.000000\n",
       "25%          7.000000\n",
       "50%         10.000000\n",
       "75%         14.000000\n",
       "90%         18.000000\n",
       "95%         20.000000\n",
       "99%         27.000000\n",
       "100%        60.000000\n",
       "max         60.000000\n",
       "Name: no_of_premiums_paid, dtype: float64"
      ]
     },
     "execution_count": 30,
     "metadata": {},
     "output_type": "execute_result"
    }
   ],
   "source": [
    "train.no_of_premiums_paid.describe(percentiles= [0,0.25,0.5,0.75,0.9,0.95,0.99,1])"
   ]
  },
  {
   "cell_type": "code",
   "execution_count": 31,
   "metadata": {},
   "outputs": [
    {
     "data": {
      "image/png": "[encoded data removed]",
      "text/plain": [
       "<Figure size 900x500 with 1 Axes>"
      ]
     },
     "metadata": {
      "needs_background": "light"
     },
     "output_type": "display_data"
    }
   ],
   "source": [
    "plt.figure(figsize=(9, 5), dpi= 100)\n",
    "sns.distplot(train.no_of_premiums_paid)\n",
    "plt.grid()\n",
    "plt.show()"
   ]
  },
  {
   "cell_type": "code",
   "execution_count": 32,
   "metadata": {},
   "outputs": [
    {
     "data": {
      "image/png": "[encoded data removed]",
      "text/plain": [
       "<Figure size 900x500 with 1 Axes>"
      ]
     },
     "metadata": {
      "needs_background": "light"
     },
     "output_type": "display_data"
    }
   ],
   "source": [
    "plt.figure(figsize=(9, 5), dpi= 100)\n",
    "sns.boxplot(train.no_of_premiums_paid)\n",
    "plt.grid()\n",
    "plt.show()"
   ]
  },
  {
   "cell_type": "markdown",
   "metadata": {},
   "source": [
    "Premiums paid follows a normal distribution with a  long left tail. There seem to be outliers above 40 premiums paid."
   ]
  },
  {
   "cell_type": "markdown",
   "metadata": {},
   "source": [
    "### `sourcing_channel`"
   ]
  },
  {
   "cell_type": "code",
   "execution_count": 33,
   "metadata": {},
   "outputs": [
    {
     "data": {
      "image/png": "[encoded data removed]",
      "text/plain": [
       "<Figure size 700x500 with 1 Axes>"
      ]
     },
     "metadata": {
      "needs_background": "light"
     },
     "output_type": "display_data"
    }
   ],
   "source": [
    "plt.figure(figsize=(7, 5), dpi= 100)\n",
    "sns.countplot(train.sourcing_channel)\n",
    "plt.grid(True)\n",
    "plt.show()"
   ]
  },
  {
   "cell_type": "markdown",
   "metadata": {},
   "source": [
    "Majority of the customers source from income from channel A."
   ]
  },
  {
   "cell_type": "markdown",
   "metadata": {},
   "source": [
    "### `residence_area_type`"
   ]
  },
  {
   "cell_type": "code",
   "execution_count": 34,
   "metadata": {},
   "outputs": [
    {
     "data": {
      "image/png": "[encoded data removed]",
      "text/plain": [
       "<Figure size 700x500 with 1 Axes>"
      ]
     },
     "metadata": {
      "needs_background": "light"
     },
     "output_type": "display_data"
    }
   ],
   "source": [
    "plt.figure(figsize=(7, 5), dpi= 100)\n",
    "sns.countplot(train.residence_area_type)\n",
    "plt.grid(True)\n",
    "plt.show()"
   ]
  },
  {
   "cell_type": "markdown",
   "metadata": {},
   "source": [
    "## Treating Missing Values"
   ]
  },
  {
   "cell_type": "code",
   "execution_count": 35,
   "metadata": {},
   "outputs": [
    {
     "data": {
      "text/plain": [
       "id                                        0\n",
       "perc_premium_paid_by_cash_credit          0\n",
       "age_in_days                               0\n",
       "Income                                    0\n",
       "Count_3-6_months_late                    97\n",
       "Count_6-12_months_late                   97\n",
       "Count_more_than_12_months_late           97\n",
       "application_underwriting_score         2974\n",
       "no_of_premiums_paid                       0\n",
       "sourcing_channel                          0\n",
       "residence_area_type                       0\n",
       "target                                    0\n",
       "percentage_premium_paid_cash_credit       0\n",
       "age_in_years                              0\n",
       "dtype: int64"
      ]
     },
     "execution_count": 35,
     "metadata": {},
     "output_type": "execute_result"
    }
   ],
   "source": [
    "train.isnull().sum()"
   ]
  },
  {
   "cell_type": "code",
   "execution_count": 36,
   "metadata": {},
   "outputs": [
    {
     "data": {
      "text/plain": [
       "id                                        0\n",
       "perc_premium_paid_by_cash_credit          0\n",
       "age_in_days                               0\n",
       "Income                                    0\n",
       "Count_3-6_months_late                    31\n",
       "Count_6-12_months_late                   31\n",
       "Count_more_than_12_months_late           31\n",
       "application_underwriting_score         1323\n",
       "no_of_premiums_paid                       0\n",
       "sourcing_channel                          0\n",
       "residence_area_type                       0\n",
       "percentage_premium_paid_cash_credit       0\n",
       "age_in_years                              0\n",
       "dtype: int64"
      ]
     },
     "execution_count": 36,
     "metadata": {},
     "output_type": "execute_result"
    }
   ],
   "source": [
    "test.isnull().sum()"
   ]
  },
  {
   "cell_type": "markdown",
   "metadata": {},
   "source": [
    "We need to treat the following columns (both train and test sets) and remove their missing values:\n",
    "1. `Count_3-6_months_late`\n",
    "2. `Count_6-12_months_late`\n",
    "3. `Count_more_than_12_months_late`\n",
    "4. `application_underwriting_score`"
   ]
  },
  {
   "cell_type": "markdown",
   "metadata": {},
   "source": [
    "### No. of Late Premiums\n",
    "\n",
    "We can assume that any missing values in the `Count_3-6_months_late`, `Count_6-12_months_late`, `Count_more_than_12_months_late` are missing would mean that these customers have had no defaults in the past. "
   ]
  },
  {
   "cell_type": "code",
   "execution_count": 37,
   "metadata": {},
   "outputs": [],
   "source": [
    "# filling train data with 0s\n",
    "train['Count_3-6_months_late'].fillna(0, inplace=True)\n",
    "train['Count_6-12_months_late'].fillna(0, inplace=True)\n",
    "train['Count_more_than_12_months_late'].fillna(0, inplace=True)\n",
    "\n",
    "# filling test data with 0s\n",
    "test['Count_3-6_months_late'].fillna(0, inplace=True)\n",
    "test['Count_6-12_months_late'].fillna(0, inplace=True)\n",
    "test['Count_more_than_12_months_late'].fillna(0, inplace=True)"
   ]
  },
  {
   "cell_type": "markdown",
   "metadata": {},
   "source": [
    "### Application Underwriting Score\n",
    "\n",
    "We can assume that this is similar to the credit score. A credit score is a numerical expression based on a level analysis of a person's credit files, to represent the creditworthiness of an individual.\n",
    "\n",
    "Let us if this is an important factor when determining loan defaulters:"
   ]
  },
  {
   "cell_type": "code",
   "execution_count": 38,
   "metadata": {},
   "outputs": [
    {
     "data": {
      "text/html": [
       "<div>\n",
       "<style scoped>\n",
       "    .dataframe tbody tr th:only-of-type {\n",
       "        vertical-align: middle;\n",
       "    }\n",
       "\n",
       "    .dataframe tbody tr th {\n",
       "        vertical-align: top;\n",
       "    }\n",
       "\n",
       "    .dataframe thead th {\n",
       "        text-align: right;\n",
       "    }\n",
       "</style>\n",
       "<table border=\"1\" class=\"dataframe\">\n",
       "  <thead>\n",
       "    <tr style=\"text-align: right;\">\n",
       "      <th></th>\n",
       "      <th>id</th>\n",
       "      <th>perc_premium_paid_by_cash_credit</th>\n",
       "      <th>age_in_days</th>\n",
       "      <th>Income</th>\n",
       "      <th>Count_3-6_months_late</th>\n",
       "      <th>Count_6-12_months_late</th>\n",
       "      <th>Count_more_than_12_months_late</th>\n",
       "      <th>application_underwriting_score</th>\n",
       "      <th>no_of_premiums_paid</th>\n",
       "      <th>target</th>\n",
       "      <th>percentage_premium_paid_cash_credit</th>\n",
       "      <th>age_in_years</th>\n",
       "    </tr>\n",
       "  </thead>\n",
       "  <tbody>\n",
       "    <tr>\n",
       "      <th>id</th>\n",
       "      <td>1.000000</td>\n",
       "      <td>-0.004991</td>\n",
       "      <td>0.005107</td>\n",
       "      <td>0.001460</td>\n",
       "      <td>-0.005209</td>\n",
       "      <td>-0.002739</td>\n",
       "      <td>0.003453</td>\n",
       "      <td>-0.002124</td>\n",
       "      <td>-0.002450</td>\n",
       "      <td>-0.005517</td>\n",
       "      <td>-0.004991</td>\n",
       "      <td>0.005107</td>\n",
       "    </tr>\n",
       "    <tr>\n",
       "      <th>perc_premium_paid_by_cash_credit</th>\n",
       "      <td>-0.004991</td>\n",
       "      <td>1.000000</td>\n",
       "      <td>-0.251523</td>\n",
       "      <td>-0.037407</td>\n",
       "      <td>0.219189</td>\n",
       "      <td>0.211828</td>\n",
       "      <td>0.170251</td>\n",
       "      <td>-0.142670</td>\n",
       "      <td>-0.149822</td>\n",
       "      <td>-0.237376</td>\n",
       "      <td>1.000000</td>\n",
       "      <td>-0.251523</td>\n",
       "    </tr>\n",
       "    <tr>\n",
       "      <th>age_in_days</th>\n",
       "      <td>0.005107</td>\n",
       "      <td>-0.251523</td>\n",
       "      <td>1.000000</td>\n",
       "      <td>0.036552</td>\n",
       "      <td>-0.057125</td>\n",
       "      <td>-0.069429</td>\n",
       "      <td>-0.059597</td>\n",
       "      <td>0.049888</td>\n",
       "      <td>0.184278</td>\n",
       "      <td>0.092721</td>\n",
       "      <td>-0.251523</td>\n",
       "      <td>1.000000</td>\n",
       "    </tr>\n",
       "    <tr>\n",
       "      <th>Income</th>\n",
       "      <td>0.001460</td>\n",
       "      <td>-0.037407</td>\n",
       "      <td>0.036552</td>\n",
       "      <td>1.000000</td>\n",
       "      <td>-0.000857</td>\n",
       "      <td>-0.022187</td>\n",
       "      <td>-0.016297</td>\n",
       "      <td>0.085746</td>\n",
       "      <td>0.104532</td>\n",
       "      <td>0.020331</td>\n",
       "      <td>-0.037407</td>\n",
       "      <td>0.036552</td>\n",
       "    </tr>\n",
       "    <tr>\n",
       "      <th>Count_3-6_months_late</th>\n",
       "      <td>-0.005209</td>\n",
       "      <td>0.219189</td>\n",
       "      <td>-0.057125</td>\n",
       "      <td>-0.000857</td>\n",
       "      <td>1.000000</td>\n",
       "      <td>0.210438</td>\n",
       "      <td>0.294580</td>\n",
       "      <td>-0.082882</td>\n",
       "      <td>0.068010</td>\n",
       "      <td>-0.250534</td>\n",
       "      <td>0.219189</td>\n",
       "      <td>-0.057125</td>\n",
       "    </tr>\n",
       "    <tr>\n",
       "      <th>Count_6-12_months_late</th>\n",
       "      <td>-0.002739</td>\n",
       "      <td>0.211828</td>\n",
       "      <td>-0.069429</td>\n",
       "      <td>-0.022187</td>\n",
       "      <td>0.210438</td>\n",
       "      <td>1.000000</td>\n",
       "      <td>0.274270</td>\n",
       "      <td>0.004726</td>\n",
       "      <td>-0.091049</td>\n",
       "      <td>-0.288496</td>\n",
       "      <td>0.211828</td>\n",
       "      <td>-0.069429</td>\n",
       "    </tr>\n",
       "    <tr>\n",
       "      <th>Count_more_than_12_months_late</th>\n",
       "      <td>0.003453</td>\n",
       "      <td>0.170251</td>\n",
       "      <td>-0.059597</td>\n",
       "      <td>-0.016297</td>\n",
       "      <td>0.294580</td>\n",
       "      <td>0.274270</td>\n",
       "      <td>1.000000</td>\n",
       "      <td>-0.031783</td>\n",
       "      <td>-0.026595</td>\n",
       "      <td>-0.240787</td>\n",
       "      <td>0.170251</td>\n",
       "      <td>-0.059597</td>\n",
       "    </tr>\n",
       "    <tr>\n",
       "      <th>application_underwriting_score</th>\n",
       "      <td>-0.002124</td>\n",
       "      <td>-0.142670</td>\n",
       "      <td>0.049888</td>\n",
       "      <td>0.085746</td>\n",
       "      <td>-0.082882</td>\n",
       "      <td>0.004726</td>\n",
       "      <td>-0.031783</td>\n",
       "      <td>1.000000</td>\n",
       "      <td>-0.270864</td>\n",
       "      <td>0.068715</td>\n",
       "      <td>-0.142670</td>\n",
       "      <td>0.049888</td>\n",
       "    </tr>\n",
       "    <tr>\n",
       "      <th>no_of_premiums_paid</th>\n",
       "      <td>-0.002450</td>\n",
       "      <td>-0.149822</td>\n",
       "      <td>0.184278</td>\n",
       "      <td>0.104532</td>\n",
       "      <td>0.068010</td>\n",
       "      <td>-0.091049</td>\n",
       "      <td>-0.026595</td>\n",
       "      <td>-0.270864</td>\n",
       "      <td>1.000000</td>\n",
       "      <td>0.019851</td>\n",
       "      <td>-0.149822</td>\n",
       "      <td>0.184278</td>\n",
       "    </tr>\n",
       "    <tr>\n",
       "      <th>target</th>\n",
       "      <td>-0.005517</td>\n",
       "      <td>-0.237376</td>\n",
       "      <td>0.092721</td>\n",
       "      <td>0.020331</td>\n",
       "      <td>-0.250534</td>\n",
       "      <td>-0.288496</td>\n",
       "      <td>-0.240787</td>\n",
       "      <td>0.068715</td>\n",
       "      <td>0.019851</td>\n",
       "      <td>1.000000</td>\n",
       "      <td>-0.237376</td>\n",
       "      <td>0.092721</td>\n",
       "    </tr>\n",
       "    <tr>\n",
       "      <th>percentage_premium_paid_cash_credit</th>\n",
       "      <td>-0.004991</td>\n",
       "      <td>1.000000</td>\n",
       "      <td>-0.251523</td>\n",
       "      <td>-0.037407</td>\n",
       "      <td>0.219189</td>\n",
       "      <td>0.211828</td>\n",
       "      <td>0.170251</td>\n",
       "      <td>-0.142670</td>\n",
       "      <td>-0.149822</td>\n",
       "      <td>-0.237376</td>\n",
       "      <td>1.000000</td>\n",
       "      <td>-0.251523</td>\n",
       "    </tr>\n",
       "    <tr>\n",
       "      <th>age_in_years</th>\n",
       "      <td>0.005107</td>\n",
       "      <td>-0.251523</td>\n",
       "      <td>1.000000</td>\n",
       "      <td>0.036552</td>\n",
       "      <td>-0.057125</td>\n",
       "      <td>-0.069429</td>\n",
       "      <td>-0.059597</td>\n",
       "      <td>0.049888</td>\n",
       "      <td>0.184278</td>\n",
       "      <td>0.092721</td>\n",
       "      <td>-0.251523</td>\n",
       "      <td>1.000000</td>\n",
       "    </tr>\n",
       "  </tbody>\n",
       "</table>\n",
       "</div>"
      ],
      "text/plain": [
       "                                           id  \\\n",
       "id                                   1.000000   \n",
       "perc_premium_paid_by_cash_credit    -0.004991   \n",
       "age_in_days                          0.005107   \n",
       "Income                               0.001460   \n",
       "Count_3-6_months_late               -0.005209   \n",
       "Count_6-12_months_late              -0.002739   \n",
       "Count_more_than_12_months_late       0.003453   \n",
       "application_underwriting_score      -0.002124   \n",
       "no_of_premiums_paid                 -0.002450   \n",
       "target                              -0.005517   \n",
       "percentage_premium_paid_cash_credit -0.004991   \n",
       "age_in_years                         0.005107   \n",
       "\n",
       "                                     perc_premium_paid_by_cash_credit  \\\n",
       "id                                                          -0.004991   \n",
       "perc_premium_paid_by_cash_credit                             1.000000   \n",
       "age_in_days                                                 -0.251523   \n",
       "Income                                                      -0.037407   \n",
       "Count_3-6_months_late                                        0.219189   \n",
       "Count_6-12_months_late                                       0.211828   \n",
       "Count_more_than_12_months_late                               0.170251   \n",
       "application_underwriting_score                              -0.142670   \n",
       "no_of_premiums_paid                                         -0.149822   \n",
       "target                                                      -0.237376   \n",
       "percentage_premium_paid_cash_credit                          1.000000   \n",
       "age_in_years                                                -0.251523   \n",
       "\n",
       "                                     age_in_days    Income  \\\n",
       "id                                      0.005107  0.001460   \n",
       "perc_premium_paid_by_cash_credit       -0.251523 -0.037407   \n",
       "age_in_days                             1.000000  0.036552   \n",
       "Income                                  0.036552  1.000000   \n",
       "Count_3-6_months_late                  -0.057125 -0.000857   \n",
       "Count_6-12_months_late                 -0.069429 -0.022187   \n",
       "Count_more_than_12_months_late         -0.059597 -0.016297   \n",
       "application_underwriting_score          0.049888  0.085746   \n",
       "no_of_premiums_paid                     0.184278  0.104532   \n",
       "target                                  0.092721  0.020331   \n",
       "percentage_premium_paid_cash_credit    -0.251523 -0.037407   \n",
       "age_in_years                            1.000000  0.036552   \n",
       "\n",
       "                                     Count_3-6_months_late  \\\n",
       "id                                               -0.005209   \n",
       "perc_premium_paid_by_cash_credit                  0.219189   \n",
       "age_in_days                                      -0.057125   \n",
       "Income                                           -0.000857   \n",
       "Count_3-6_months_late                             1.000000   \n",
       "Count_6-12_months_late                            0.210438   \n",
       "Count_more_than_12_months_late                    0.294580   \n",
       "application_underwriting_score                   -0.082882   \n",
       "no_of_premiums_paid                               0.068010   \n",
       "target                                           -0.250534   \n",
       "percentage_premium_paid_cash_credit               0.219189   \n",
       "age_in_years                                     -0.057125   \n",
       "\n",
       "                                     Count_6-12_months_late  \\\n",
       "id                                                -0.002739   \n",
       "perc_premium_paid_by_cash_credit                   0.211828   \n",
       "age_in_days                                       -0.069429   \n",
       "Income                                            -0.022187   \n",
       "Count_3-6_months_late                              0.210438   \n",
       "Count_6-12_months_late                             1.000000   \n",
       "Count_more_than_12_months_late                     0.274270   \n",
       "application_underwriting_score                     0.004726   \n",
       "no_of_premiums_paid                               -0.091049   \n",
       "target                                            -0.288496   \n",
       "percentage_premium_paid_cash_credit                0.211828   \n",
       "age_in_years                                      -0.069429   \n",
       "\n",
       "                                     Count_more_than_12_months_late  \\\n",
       "id                                                         0.003453   \n",
       "perc_premium_paid_by_cash_credit                           0.170251   \n",
       "age_in_days                                               -0.059597   \n",
       "Income                                                    -0.016297   \n",
       "Count_3-6_months_late                                      0.294580   \n",
       "Count_6-12_months_late                                     0.274270   \n",
       "Count_more_than_12_months_late                             1.000000   \n",
       "application_underwriting_score                            -0.031783   \n",
       "no_of_premiums_paid                                       -0.026595   \n",
       "target                                                    -0.240787   \n",
       "percentage_premium_paid_cash_credit                        0.170251   \n",
       "age_in_years                                              -0.059597   \n",
       "\n",
       "                                     application_underwriting_score  \\\n",
       "id                                                        -0.002124   \n",
       "perc_premium_paid_by_cash_credit                          -0.142670   \n",
       "age_in_days                                                0.049888   \n",
       "Income                                                     0.085746   \n",
       "Count_3-6_months_late                                     -0.082882   \n",
       "Count_6-12_months_late                                     0.004726   \n",
       "Count_more_than_12_months_late                            -0.031783   \n",
       "application_underwriting_score                             1.000000   \n",
       "no_of_premiums_paid                                       -0.270864   \n",
       "target                                                     0.068715   \n",
       "percentage_premium_paid_cash_credit                       -0.142670   \n",
       "age_in_years                                               0.049888   \n",
       "\n",
       "                                     no_of_premiums_paid    target  \\\n",
       "id                                             -0.002450 -0.005517   \n",
       "perc_premium_paid_by_cash_credit               -0.149822 -0.237376   \n",
       "age_in_days                                     0.184278  0.092721   \n",
       "Income                                          0.104532  0.020331   \n",
       "Count_3-6_months_late                           0.068010 -0.250534   \n",
       "Count_6-12_months_late                         -0.091049 -0.288496   \n",
       "Count_more_than_12_months_late                 -0.026595 -0.240787   \n",
       "application_underwriting_score                 -0.270864  0.068715   \n",
       "no_of_premiums_paid                             1.000000  0.019851   \n",
       "target                                          0.019851  1.000000   \n",
       "percentage_premium_paid_cash_credit            -0.149822 -0.237376   \n",
       "age_in_years                                    0.184278  0.092721   \n",
       "\n",
       "                                     percentage_premium_paid_cash_credit  \\\n",
       "id                                                             -0.004991   \n",
       "perc_premium_paid_by_cash_credit                                1.000000   \n",
       "age_in_days                                                    -0.251523   \n",
       "Income                                                         -0.037407   \n",
       "Count_3-6_months_late                                           0.219189   \n",
       "Count_6-12_months_late                                          0.211828   \n",
       "Count_more_than_12_months_late                                  0.170251   \n",
       "application_underwriting_score                                 -0.142670   \n",
       "no_of_premiums_paid                                            -0.149822   \n",
       "target                                                         -0.237376   \n",
       "percentage_premium_paid_cash_credit                             1.000000   \n",
       "age_in_years                                                   -0.251523   \n",
       "\n",
       "                                     age_in_years  \n",
       "id                                       0.005107  \n",
       "perc_premium_paid_by_cash_credit        -0.251523  \n",
       "age_in_days                              1.000000  \n",
       "Income                                   0.036552  \n",
       "Count_3-6_months_late                   -0.057125  \n",
       "Count_6-12_months_late                  -0.069429  \n",
       "Count_more_than_12_months_late          -0.059597  \n",
       "application_underwriting_score           0.049888  \n",
       "no_of_premiums_paid                      0.184278  \n",
       "target                                   0.092721  \n",
       "percentage_premium_paid_cash_credit     -0.251523  \n",
       "age_in_years                             1.000000  "
      ]
     },
     "execution_count": 38,
     "metadata": {},
     "output_type": "execute_result"
    }
   ],
   "source": [
    "train[train['application_underwriting_score'].notnull()].corr()"
   ]
  },
  {
   "cell_type": "markdown",
   "metadata": {},
   "source": [
    "Application Underwriting Score seems to be weakly correlated with all variables, means we cannot replace it via any \n",
    "\n",
    "### Decision Tree Regression\n",
    "\n",
    "We can use decision tree regression instead to replace `application_underwriting_scoring` missing values."
   ]
  },
  {
   "cell_type": "code",
   "execution_count": 39,
   "metadata": {},
   "outputs": [],
   "source": [
    "# import the regressor \n",
    "from sklearn.tree import DecisionTreeRegressor  \n",
    "  \n",
    "# create a regressor object \n",
    "regressor = DecisionTreeRegressor(random_state = 0)  "
   ]
  },
  {
   "cell_type": "code",
   "execution_count": 40,
   "metadata": {},
   "outputs": [],
   "source": [
    "# training set has no nan\n",
    "underwriting_score_train = pd.concat([train[train['application_underwriting_score'].notnull()].drop('target', axis = 1), \n",
    "                                      test[test['application_underwriting_score'].notnull()]])"
   ]
  },
  {
   "cell_type": "code",
   "execution_count": 41,
   "metadata": {},
   "outputs": [],
   "source": [
    "# dropping unnecessary columns\n",
    "underwriting_score_train.drop(['perc_premium_paid_by_cash_credit', 'age_in_days'], axis = 1, inplace = True)"
   ]
  },
  {
   "cell_type": "code",
   "execution_count": 42,
   "metadata": {},
   "outputs": [],
   "source": [
    "underwriting_score_train = pd.get_dummies(underwriting_score_train)"
   ]
  },
  {
   "cell_type": "code",
   "execution_count": 43,
   "metadata": {},
   "outputs": [],
   "source": [
    "underwriting_score_training, underwriting_score_validation = train_test_split(underwriting_score_train, test_size=0.1)"
   ]
  },
  {
   "cell_type": "code",
   "execution_count": 44,
   "metadata": {},
   "outputs": [],
   "source": [
    "underwriting_score_training_X = underwriting_score_training.drop('application_underwriting_score', axis = 1)\n",
    "underwriting_score_training_Y = underwriting_score_training[['application_underwriting_score']]\n",
    "underwriting_score_validation_X = underwriting_score_validation.drop('application_underwriting_score', axis = 1)\n",
    "underwriting_score_validation_Y = underwriting_score_validation[['application_underwriting_score']]"
   ]
  },
  {
   "cell_type": "code",
   "execution_count": 45,
   "metadata": {},
   "outputs": [
    {
     "data": {
      "text/plain": [
       "DecisionTreeRegressor(ccp_alpha=0.0, criterion='mse', max_depth=None,\n",
       "                      max_features=None, max_leaf_nodes=None,\n",
       "                      min_impurity_decrease=0.0, min_impurity_split=None,\n",
       "                      min_samples_leaf=1, min_samples_split=2,\n",
       "                      min_weight_fraction_leaf=0.0, presort='deprecated',\n",
       "                      random_state=0, splitter='best')"
      ]
     },
     "execution_count": 45,
     "metadata": {},
     "output_type": "execute_result"
    }
   ],
   "source": [
    "regressor.fit(underwriting_score_training_X, underwriting_score_training_Y) "
   ]
  },
  {
   "cell_type": "code",
   "execution_count": 46,
   "metadata": {},
   "outputs": [
    {
     "data": {
      "text/plain": [
       "1.0"
      ]
     },
     "execution_count": 46,
     "metadata": {},
     "output_type": "execute_result"
    }
   ],
   "source": [
    "regressor.score(underwriting_score_training_X, underwriting_score_training_Y)"
   ]
  },
  {
   "cell_type": "code",
   "execution_count": 47,
   "metadata": {},
   "outputs": [],
   "source": [
    "pred_Y = regressor.predict(underwriting_score_validation_X)"
   ]
  },
  {
   "cell_type": "code",
   "execution_count": 48,
   "metadata": {},
   "outputs": [],
   "source": [
    "# defining a function which will return the rmse score\n",
    "def rmse(y, y_):\n",
    "    y = np.exp(y)\n",
    "    y_ = np.exp(y_)\n",
    "    log1 = np.nan_to_num(np.array([np.log(v + 1) for v in y]))\n",
    "    log2 = np.nan_to_num(np.array([np.log(v + 1) for v in y_]))\n",
    "    calc = (log1 - log2) ** 2\n",
    "    return np.sqrt(np.mean(calc))"
   ]
  },
  {
   "cell_type": "code",
   "execution_count": 49,
   "metadata": {},
   "outputs": [
    {
     "data": {
      "text/plain": [
       "1.055202966221204"
      ]
     },
     "execution_count": 49,
     "metadata": {},
     "output_type": "execute_result"
    }
   ],
   "source": [
    "rmse(underwriting_score_validation_Y.to_numpy(), pred_Y)"
   ]
  },
  {
   "cell_type": "markdown",
   "metadata": {},
   "source": [
    "Now comparing this rmse with the mean of the values."
   ]
  },
  {
   "cell_type": "code",
   "execution_count": 50,
   "metadata": {},
   "outputs": [
    {
     "data": {
      "text/plain": [
       "0.7365411129508319"
      ]
     },
     "execution_count": 50,
     "metadata": {},
     "output_type": "execute_result"
    }
   ],
   "source": [
    "rmse(underwriting_score_validation_Y.to_numpy(), underwriting_score_training_Y.mean())"
   ]
  },
  {
   "cell_type": "markdown",
   "metadata": {},
   "source": [
    "Since the RMSE of the mean is lower, it is better to take the mean of the values instead."
   ]
  },
  {
   "cell_type": "code",
   "execution_count": 51,
   "metadata": {},
   "outputs": [],
   "source": [
    "train['application_underwriting_score'].fillna(train[train['application_underwriting_score'].notnull()]['application_underwriting_score'].mean(), inplace=True)\n",
    "test['application_underwriting_score'].fillna(test[test['application_underwriting_score'].notnull()]['application_underwriting_score'].mean(), inplace=True)"
   ]
  },
  {
   "cell_type": "markdown",
   "metadata": {},
   "source": [
    "## Bivariate Analysis\n",
    "\n",
    "### All variables - Correlation Matrix"
   ]
  },
  {
   "cell_type": "code",
   "execution_count": 52,
   "metadata": {
    "scrolled": false
   },
   "outputs": [
    {
     "data": {
      "image/png": "[encoded data removed]",
      "text/plain": [
       "<Figure size 3200x1800 with 2 Axes>"
      ]
     },
     "metadata": {
      "needs_background": "light"
     },
     "output_type": "display_data"
    }
   ],
   "source": [
    "plt.figure(figsize=(16, 9), dpi = 200)\n",
    "corr_plot = train.drop(['id','perc_premium_paid_by_cash_credit','age_in_days'], axis = 1).corr()\n",
    "mask = np.zeros_like(corr_plot, dtype=np.bool)\n",
    "mask[np.triu_indices_from(mask)] = True\n",
    "sns.heatmap(corr_plot,\n",
    "            square=False, \n",
    "            linewidth=.1,\n",
    "            vmin=-1,\n",
    "            vmax=1,\n",
    "            cmap='coolwarm',\n",
    "            annot=True,\n",
    "            mask = mask)\n",
    "plt.show()"
   ]
  },
  {
   "cell_type": "markdown",
   "metadata": {},
   "source": [
    "### `percentage_premium_paid_cash_credit` vs `target`\n",
    "\n",
    "The percentage premium paid in cash and credit seems to follow a bivariate distribution. This means that there are two major groups that exist. Let us see how the target variable performs in these splits. Assuming that the groups are divided at 85%."
   ]
  },
  {
   "cell_type": "code",
   "execution_count": 53,
   "metadata": {
    "scrolled": false
   },
   "outputs": [
    {
     "data": {
      "image/png": "[encoded data removed]",
      "text/plain": [
       "<Figure size 600x400 with 2 Axes>"
      ]
     },
     "metadata": {
      "needs_background": "light"
     },
     "output_type": "display_data"
    }
   ],
   "source": [
    "fig, ax = plt.subplots(1, 2, sharey='row', dpi = 100)\n",
    "ax[0].set_title('> 85%')\n",
    "sns.barplot(x = 'target', y = 'count', ax = ax[0],\n",
    "            data = train[train.percentage_premium_paid_cash_credit > 85].groupby('target').nunique()['id'].reset_index().rename(\n",
    "            columns = {'id': 'count'}))\n",
    "ax[1].set_title('< 85%')\n",
    "sns.barplot(x = 'target', y = 'count', ax = ax[1],\n",
    "            data = train[train.percentage_premium_paid_cash_credit < 85].groupby('target').nunique()['id'].reset_index().rename(\n",
    "            columns = {'id': 'count'}))\n",
    "plt.suptitle('Percentage premium paid in cash and credit')\n",
    "plt.show()"
   ]
  },
  {
   "cell_type": "markdown",
   "metadata": {},
   "source": [
    "Group with less than 85% is a little more likely to default on a loan."
   ]
  },
  {
   "cell_type": "markdown",
   "metadata": {},
   "source": [
    "### `total_count_late` vs `target`"
   ]
  },
  {
   "cell_type": "code",
   "execution_count": 54,
   "metadata": {},
   "outputs": [],
   "source": [
    "train['total_count_late'] = train['Count_more_than_12_months_late'] + train['Count_6-12_months_late'] + train['Count_3-6_months_late']\n",
    "test['total_count_late'] = test['Count_more_than_12_months_late'] + test['Count_6-12_months_late'] + test['Count_3-6_months_late']"
   ]
  },
  {
   "cell_type": "code",
   "execution_count": 55,
   "metadata": {},
   "outputs": [
    {
     "data": {
      "text/html": [
       "<div>\n",
       "<style scoped>\n",
       "    .dataframe tbody tr th:only-of-type {\n",
       "        vertical-align: middle;\n",
       "    }\n",
       "\n",
       "    .dataframe tbody tr th {\n",
       "        vertical-align: top;\n",
       "    }\n",
       "\n",
       "    .dataframe thead th {\n",
       "        text-align: right;\n",
       "    }\n",
       "</style>\n",
       "<table border=\"1\" class=\"dataframe\">\n",
       "  <thead>\n",
       "    <tr style=\"text-align: right;\">\n",
       "      <th></th>\n",
       "      <th>total_count_late</th>\n",
       "      <th>target</th>\n",
       "    </tr>\n",
       "  </thead>\n",
       "  <tbody>\n",
       "    <tr>\n",
       "      <th>total_count_late</th>\n",
       "      <td>1.000000</td>\n",
       "      <td>-0.353315</td>\n",
       "    </tr>\n",
       "    <tr>\n",
       "      <th>target</th>\n",
       "      <td>-0.353315</td>\n",
       "      <td>1.000000</td>\n",
       "    </tr>\n",
       "  </tbody>\n",
       "</table>\n",
       "</div>"
      ],
      "text/plain": [
       "                  total_count_late    target\n",
       "total_count_late          1.000000 -0.353315\n",
       "target                   -0.353315  1.000000"
      ]
     },
     "execution_count": 55,
     "metadata": {},
     "output_type": "execute_result"
    }
   ],
   "source": [
    "train[['total_count_late','target']].corr()"
   ]
  },
  {
   "cell_type": "markdown",
   "metadata": {},
   "source": [
    "### `perc_late_paid` vs `target`"
   ]
  },
  {
   "cell_type": "code",
   "execution_count": 56,
   "metadata": {},
   "outputs": [],
   "source": [
    "train['perc_late_paid'] = train['total_count_late']/train['no_of_premiums_paid']\n",
    "test['perc_late_paid'] = test['total_count_late']/test['no_of_premiums_paid']"
   ]
  },
  {
   "cell_type": "code",
   "execution_count": 57,
   "metadata": {},
   "outputs": [
    {
     "data": {
      "text/html": [
       "<div>\n",
       "<style scoped>\n",
       "    .dataframe tbody tr th:only-of-type {\n",
       "        vertical-align: middle;\n",
       "    }\n",
       "\n",
       "    .dataframe tbody tr th {\n",
       "        vertical-align: top;\n",
       "    }\n",
       "\n",
       "    .dataframe thead th {\n",
       "        text-align: right;\n",
       "    }\n",
       "</style>\n",
       "<table border=\"1\" class=\"dataframe\">\n",
       "  <thead>\n",
       "    <tr style=\"text-align: right;\">\n",
       "      <th></th>\n",
       "      <th>perc_late_paid</th>\n",
       "      <th>target</th>\n",
       "    </tr>\n",
       "  </thead>\n",
       "  <tbody>\n",
       "    <tr>\n",
       "      <th>perc_late_paid</th>\n",
       "      <td>1.000000</td>\n",
       "      <td>-0.333177</td>\n",
       "    </tr>\n",
       "    <tr>\n",
       "      <th>target</th>\n",
       "      <td>-0.333177</td>\n",
       "      <td>1.000000</td>\n",
       "    </tr>\n",
       "  </tbody>\n",
       "</table>\n",
       "</div>"
      ],
      "text/plain": [
       "                perc_late_paid    target\n",
       "perc_late_paid        1.000000 -0.333177\n",
       "target               -0.333177  1.000000"
      ]
     },
     "execution_count": 57,
     "metadata": {},
     "output_type": "execute_result"
    }
   ],
   "source": [
    "train[['perc_late_paid','target']].corr()"
   ]
  },
  {
   "cell_type": "markdown",
   "metadata": {},
   "source": [
    "### `scaled_underwriting_score` vs `target`"
   ]
  },
  {
   "cell_type": "code",
   "execution_count": 58,
   "metadata": {},
   "outputs": [],
   "source": [
    "from sklearn import preprocessing\n",
    "\n",
    "train['scaled_underwriting_score'] = preprocessing.scale(train[['application_underwriting_score']])\n",
    "test['scaled_underwriting_score'] = preprocessing.scale(test[['application_underwriting_score']])"
   ]
  },
  {
   "cell_type": "code",
   "execution_count": 59,
   "metadata": {},
   "outputs": [
    {
     "data": {
      "text/html": [
       "<div>\n",
       "<style scoped>\n",
       "    .dataframe tbody tr th:only-of-type {\n",
       "        vertical-align: middle;\n",
       "    }\n",
       "\n",
       "    .dataframe tbody tr th {\n",
       "        vertical-align: top;\n",
       "    }\n",
       "\n",
       "    .dataframe thead th {\n",
       "        text-align: right;\n",
       "    }\n",
       "</style>\n",
       "<table border=\"1\" class=\"dataframe\">\n",
       "  <thead>\n",
       "    <tr style=\"text-align: right;\">\n",
       "      <th></th>\n",
       "      <th>scaled_underwriting_score</th>\n",
       "      <th>target</th>\n",
       "    </tr>\n",
       "  </thead>\n",
       "  <tbody>\n",
       "    <tr>\n",
       "      <th>scaled_underwriting_score</th>\n",
       "      <td>1.000000</td>\n",
       "      <td>0.067333</td>\n",
       "    </tr>\n",
       "    <tr>\n",
       "      <th>target</th>\n",
       "      <td>0.067333</td>\n",
       "      <td>1.000000</td>\n",
       "    </tr>\n",
       "  </tbody>\n",
       "</table>\n",
       "</div>"
      ],
      "text/plain": [
       "                           scaled_underwriting_score    target\n",
       "scaled_underwriting_score                   1.000000  0.067333\n",
       "target                                      0.067333  1.000000"
      ]
     },
     "execution_count": 59,
     "metadata": {},
     "output_type": "execute_result"
    }
   ],
   "source": [
    "train[['scaled_underwriting_score','target']].corr()"
   ]
  },
  {
   "cell_type": "markdown",
   "metadata": {},
   "source": [
    "### `scaled_perc_preimum` vs `target`"
   ]
  },
  {
   "cell_type": "code",
   "execution_count": 60,
   "metadata": {},
   "outputs": [],
   "source": [
    "train['scaled_perc_preimum'] = preprocessing.scale(train[['perc_premium_paid_by_cash_credit']])\n",
    "test['scaled_perc_preimum'] = preprocessing.scale(test[['perc_premium_paid_by_cash_credit']])"
   ]
  },
  {
   "cell_type": "code",
   "execution_count": 61,
   "metadata": {},
   "outputs": [
    {
     "data": {
      "text/html": [
       "<div>\n",
       "<style scoped>\n",
       "    .dataframe tbody tr th:only-of-type {\n",
       "        vertical-align: middle;\n",
       "    }\n",
       "\n",
       "    .dataframe tbody tr th {\n",
       "        vertical-align: top;\n",
       "    }\n",
       "\n",
       "    .dataframe thead th {\n",
       "        text-align: right;\n",
       "    }\n",
       "</style>\n",
       "<table border=\"1\" class=\"dataframe\">\n",
       "  <thead>\n",
       "    <tr style=\"text-align: right;\">\n",
       "      <th></th>\n",
       "      <th>scaled_perc_preimum</th>\n",
       "      <th>target</th>\n",
       "    </tr>\n",
       "  </thead>\n",
       "  <tbody>\n",
       "    <tr>\n",
       "      <th>scaled_perc_preimum</th>\n",
       "      <td>1.00000</td>\n",
       "      <td>-0.24098</td>\n",
       "    </tr>\n",
       "    <tr>\n",
       "      <th>target</th>\n",
       "      <td>-0.24098</td>\n",
       "      <td>1.00000</td>\n",
       "    </tr>\n",
       "  </tbody>\n",
       "</table>\n",
       "</div>"
      ],
      "text/plain": [
       "                     scaled_perc_preimum   target\n",
       "scaled_perc_preimum              1.00000 -0.24098\n",
       "target                          -0.24098  1.00000"
      ]
     },
     "execution_count": 61,
     "metadata": {},
     "output_type": "execute_result"
    }
   ],
   "source": [
    "train[['scaled_perc_preimum','target']].corr()"
   ]
  },
  {
   "cell_type": "markdown",
   "metadata": {},
   "source": [
    "### Get Dummies"
   ]
  },
  {
   "cell_type": "code",
   "execution_count": 62,
   "metadata": {},
   "outputs": [],
   "source": [
    "train = pd.get_dummies(train)\n",
    "test = pd.get_dummies(test)"
   ]
  },
  {
   "cell_type": "markdown",
   "metadata": {},
   "source": [
    "### Correlation Values after Mutation"
   ]
  },
  {
   "cell_type": "code",
   "execution_count": 63,
   "metadata": {},
   "outputs": [
    {
     "data": {
      "text/plain": [
       "total_count_late                      -0.353315\n",
       "perc_late_paid                        -0.333177\n",
       "Count_6-12_months_late                -0.284034\n",
       "Count_3-6_months_late                 -0.246469\n",
       "perc_premium_paid_by_cash_credit      -0.240980\n",
       "percentage_premium_paid_cash_credit   -0.240980\n",
       "scaled_perc_preimum                   -0.240980\n",
       "Count_more_than_12_months_late        -0.238482\n",
       "sourcing_channel_D                    -0.028412\n",
       "sourcing_channel_C                    -0.021598\n",
       "id                                    -0.005064\n",
       "sourcing_channel_E                    -0.004685\n",
       "sourcing_channel_B                    -0.004151\n",
       "residence_area_type_Rural             -0.001667\n",
       "residence_area_type_Urban              0.001667\n",
       "Income                                 0.016541\n",
       "no_of_premiums_paid                    0.022664\n",
       "sourcing_channel_A                     0.036386\n",
       "application_underwriting_score         0.067333\n",
       "scaled_underwriting_score              0.067333\n",
       "age_in_days                            0.095103\n",
       "age_in_years                           0.095103\n",
       "target                                 1.000000\n",
       "Name: target, dtype: float64"
      ]
     },
     "execution_count": 63,
     "metadata": {},
     "output_type": "execute_result"
    }
   ],
   "source": [
    "train.corr()['target'].sort_values()"
   ]
  },
  {
   "cell_type": "markdown",
   "metadata": {},
   "source": [
    "We will only use the top most correlated variables for our models."
   ]
  },
  {
   "cell_type": "markdown",
   "metadata": {},
   "source": [
    "## Linear Regression"
   ]
  },
  {
   "cell_type": "code",
   "execution_count": 64,
   "metadata": {},
   "outputs": [],
   "source": [
    "# breaking the training set into two to check the model\n",
    "training, validation = train_test_split(train, test_size=0.1)"
   ]
  },
  {
   "cell_type": "code",
   "execution_count": 65,
   "metadata": {},
   "outputs": [],
   "source": [
    "x_train= training.drop(['target','perc_late_paid','perc_premium_paid_by_cash_credit',\n",
    "                        'sourcing_channel_D','sourcing_channel_C','sourcing_channel_E',\n",
    "                       'sourcing_channel_B','residence_area_type_Rural','residence_area_type_Urban',\n",
    "                       'application_underwriting_score','age_in_days','perc_premium_paid_by_cash_credit'], axis=1)\n",
    "y_train= training['target']\n",
    "x_val= validation.drop(['target','perc_late_paid','perc_premium_paid_by_cash_credit',\n",
    "                        'sourcing_channel_D','sourcing_channel_C','sourcing_channel_E',\n",
    "                       'sourcing_channel_B','residence_area_type_Rural','residence_area_type_Urban',\n",
    "                       'application_underwriting_score','age_in_days','perc_premium_paid_by_cash_credit'], axis=1)\n",
    "y_val= validation['target']"
   ]
  },
  {
   "cell_type": "code",
   "execution_count": 66,
   "metadata": {},
   "outputs": [],
   "source": [
    "from sklearn.linear_model import LinearRegression\n",
    "\n",
    "lreg = LinearRegression()"
   ]
  },
  {
   "cell_type": "code",
   "execution_count": 67,
   "metadata": {},
   "outputs": [
    {
     "data": {
      "text/plain": [
       "LinearRegression(copy_X=True, fit_intercept=True, n_jobs=None, normalize=False)"
      ]
     },
     "execution_count": 67,
     "metadata": {},
     "output_type": "execute_result"
    }
   ],
   "source": [
    "lreg.fit(x_train, y_train)"
   ]
  },
  {
   "cell_type": "code",
   "execution_count": 68,
   "metadata": {},
   "outputs": [],
   "source": [
    "pred = lreg.predict(x_val)"
   ]
  },
  {
   "cell_type": "code",
   "execution_count": 69,
   "metadata": {},
   "outputs": [],
   "source": [
    "rmse_test = rmse(pred, y_val)"
   ]
  },
  {
   "cell_type": "code",
   "execution_count": 70,
   "metadata": {},
   "outputs": [
    {
     "data": {
      "text/plain": [
       "0.1359896896053316"
      ]
     },
     "execution_count": 70,
     "metadata": {},
     "output_type": "execute_result"
    }
   ],
   "source": [
    "rmse_test"
   ]
  },
  {
   "cell_type": "markdown",
   "metadata": {},
   "source": [
    "### Using entire train set on linear regression"
   ]
  },
  {
   "cell_type": "code",
   "execution_count": 71,
   "metadata": {},
   "outputs": [],
   "source": [
    "X_train = train.drop(['target','perc_late_paid','perc_premium_paid_by_cash_credit',\n",
    "                        'sourcing_channel_D','sourcing_channel_C','sourcing_channel_E',\n",
    "                       'sourcing_channel_B','residence_area_type_Rural','residence_area_type_Urban',\n",
    "                       'application_underwriting_score','age_in_days'], axis=1)\n",
    "Y_train= train['target']"
   ]
  },
  {
   "cell_type": "code",
   "execution_count": 72,
   "metadata": {},
   "outputs": [],
   "source": [
    "X_test = test.drop(['perc_late_paid','perc_premium_paid_by_cash_credit',\n",
    "                        'sourcing_channel_D','sourcing_channel_C','sourcing_channel_E',\n",
    "                       'sourcing_channel_B','residence_area_type_Rural','residence_area_type_Urban',\n",
    "                       'application_underwriting_score','age_in_days'], axis=1)"
   ]
  },
  {
   "cell_type": "code",
   "execution_count": 73,
   "metadata": {},
   "outputs": [],
   "source": [
    "lreg=LinearRegression()"
   ]
  },
  {
   "cell_type": "code",
   "execution_count": 74,
   "metadata": {},
   "outputs": [
    {
     "data": {
      "text/plain": [
       "LinearRegression(copy_X=True, fit_intercept=True, n_jobs=None, normalize=False)"
      ]
     },
     "execution_count": 74,
     "metadata": {},
     "output_type": "execute_result"
    }
   ],
   "source": [
    "lreg.fit(X_train, Y_train)"
   ]
  },
  {
   "cell_type": "code",
   "execution_count": 75,
   "metadata": {},
   "outputs": [],
   "source": [
    "pred = lreg.predict(X_test)"
   ]
  },
  {
   "cell_type": "code",
   "execution_count": 76,
   "metadata": {},
   "outputs": [],
   "source": [
    "submission = pd.DataFrame()"
   ]
  },
  {
   "cell_type": "code",
   "execution_count": 77,
   "metadata": {},
   "outputs": [],
   "source": [
    "submission['id'] = test['id']\n",
    "submission['target'] = pred"
   ]
  },
  {
   "cell_type": "code",
   "execution_count": 78,
   "metadata": {},
   "outputs": [],
   "source": [
    "submission.to_csv('submission.csv', index = False)"
   ]
  },
  {
   "cell_type": "markdown",
   "metadata": {},
   "source": [
    "## Decision Tree Regression"
   ]
  },
  {
   "cell_type": "code",
   "execution_count": 79,
   "metadata": {},
   "outputs": [],
   "source": [
    "regressor = DecisionTreeRegressor(random_state = 0)  "
   ]
  },
  {
   "cell_type": "code",
   "execution_count": 80,
   "metadata": {},
   "outputs": [
    {
     "data": {
      "text/plain": [
       "DecisionTreeRegressor(ccp_alpha=0.0, criterion='mse', max_depth=None,\n",
       "                      max_features=None, max_leaf_nodes=None,\n",
       "                      min_impurity_decrease=0.0, min_impurity_split=None,\n",
       "                      min_samples_leaf=1, min_samples_split=2,\n",
       "                      min_weight_fraction_leaf=0.0, presort='deprecated',\n",
       "                      random_state=0, splitter='best')"
      ]
     },
     "execution_count": 80,
     "metadata": {},
     "output_type": "execute_result"
    }
   ],
   "source": [
    "regressor.fit(x_train, y_train)"
   ]
  },
  {
   "cell_type": "code",
   "execution_count": 81,
   "metadata": {},
   "outputs": [
    {
     "data": {
      "text/plain": [
       "1.0"
      ]
     },
     "execution_count": 81,
     "metadata": {},
     "output_type": "execute_result"
    }
   ],
   "source": [
    "regressor.score(x_train, y_train)"
   ]
  },
  {
   "cell_type": "code",
   "execution_count": 82,
   "metadata": {},
   "outputs": [],
   "source": [
    "pred_Y = regressor.predict(x_val)"
   ]
  },
  {
   "cell_type": "code",
   "execution_count": 83,
   "metadata": {},
   "outputs": [
    {
     "data": {
      "text/plain": [
       "0.1940486452009601"
      ]
     },
     "execution_count": 83,
     "metadata": {},
     "output_type": "execute_result"
    }
   ],
   "source": [
    "rmse(y_val, pred_Y)"
   ]
  },
  {
   "cell_type": "code",
   "execution_count": 84,
   "metadata": {},
   "outputs": [],
   "source": [
    "# import export_graphviz \n",
    "from sklearn.tree import export_graphviz\n",
    "  \n",
    "# export the decision tree to a tree.dot file \n",
    "# for visualizing the plot easily anywhere \n",
    "export_graphviz(regressor, out_file ='tree.dot')  "
   ]
  },
  {
   "cell_type": "markdown",
   "metadata": {},
   "source": [
    "## CatBoostRegressor"
   ]
  },
  {
   "cell_type": "code",
   "execution_count": 85,
   "metadata": {},
   "outputs": [],
   "source": [
    "from catboost import CatBoostRegressor"
   ]
  },
  {
   "cell_type": "code",
   "execution_count": 86,
   "metadata": {},
   "outputs": [],
   "source": [
    "cbr = CatBoostRegressor(iterations=1000, depth=4, learning_rate=0.059, loss_function='RMSE')"
   ]
  },
  {
   "cell_type": "code",
   "execution_count": 87,
   "metadata": {},
   "outputs": [
    {
     "name": "stdout",
     "output_type": "stream",
     "text": [
      "0:\tlearn: 0.2408611\ttotal: 61.6ms\tremaining: 1m 1s\n",
      "1:\tlearn: 0.2390453\ttotal: 67.5ms\tremaining: 33.7s\n",
      "2:\tlearn: 0.2373957\ttotal: 73.3ms\tremaining: 24.4s\n",
      "3:\tlearn: 0.2358568\ttotal: 80.5ms\tremaining: 20s\n",
      "4:\tlearn: 0.2344963\ttotal: 86.4ms\tremaining: 17.2s\n",
      "5:\tlearn: 0.2332163\ttotal: 93.4ms\tremaining: 15.5s\n",
      "6:\tlearn: 0.2320743\ttotal: 97.4ms\tremaining: 13.8s\n",
      "7:\tlearn: 0.2311283\ttotal: 101ms\tremaining: 12.5s\n",
      "8:\tlearn: 0.2302282\ttotal: 107ms\tremaining: 11.8s\n",
      "9:\tlearn: 0.2294213\ttotal: 111ms\tremaining: 11s\n",
      "10:\tlearn: 0.2286459\ttotal: 115ms\tremaining: 10.3s\n",
      "11:\tlearn: 0.2279790\ttotal: 122ms\tremaining: 10s\n",
      "12:\tlearn: 0.2274189\ttotal: 129ms\tremaining: 9.79s\n",
      "13:\tlearn: 0.2268690\ttotal: 135ms\tremaining: 9.48s\n",
      "14:\tlearn: 0.2263740\ttotal: 141ms\tremaining: 9.24s\n",
      "15:\tlearn: 0.2259483\ttotal: 144ms\tremaining: 8.88s\n",
      "16:\tlearn: 0.2255407\ttotal: 148ms\tremaining: 8.58s\n",
      "17:\tlearn: 0.2251428\ttotal: 155ms\tremaining: 8.44s\n",
      "18:\tlearn: 0.2248054\ttotal: 158ms\tremaining: 8.18s\n",
      "19:\tlearn: 0.2245013\ttotal: 162ms\tremaining: 7.93s\n",
      "20:\tlearn: 0.2242376\ttotal: 166ms\tremaining: 7.72s\n",
      "21:\tlearn: 0.2240001\ttotal: 173ms\tremaining: 7.71s\n",
      "22:\tlearn: 0.2237404\ttotal: 179ms\tremaining: 7.62s\n",
      "23:\tlearn: 0.2235218\ttotal: 185ms\tremaining: 7.54s\n",
      "24:\tlearn: 0.2233119\ttotal: 189ms\tremaining: 7.36s\n",
      "25:\tlearn: 0.2231176\ttotal: 192ms\tremaining: 7.2s\n",
      "26:\tlearn: 0.2229554\ttotal: 195ms\tremaining: 7.04s\n",
      "27:\tlearn: 0.2227945\ttotal: 200ms\tremaining: 6.93s\n",
      "28:\tlearn: 0.2226286\ttotal: 203ms\tremaining: 6.81s\n",
      "29:\tlearn: 0.2225039\ttotal: 207ms\tremaining: 6.69s\n",
      "30:\tlearn: 0.2223780\ttotal: 210ms\tremaining: 6.58s\n",
      "31:\tlearn: 0.2222643\ttotal: 215ms\tremaining: 6.51s\n",
      "32:\tlearn: 0.2221484\ttotal: 222ms\tremaining: 6.49s\n",
      "33:\tlearn: 0.2220401\ttotal: 227ms\tremaining: 6.45s\n",
      "34:\tlearn: 0.2219521\ttotal: 233ms\tremaining: 6.42s\n",
      "35:\tlearn: 0.2218568\ttotal: 236ms\tremaining: 6.32s\n",
      "36:\tlearn: 0.2217788\ttotal: 239ms\tremaining: 6.22s\n",
      "37:\tlearn: 0.2216956\ttotal: 243ms\tremaining: 6.14s\n",
      "38:\tlearn: 0.2216154\ttotal: 246ms\tremaining: 6.06s\n",
      "39:\tlearn: 0.2215477\ttotal: 250ms\tremaining: 6s\n",
      "40:\tlearn: 0.2214840\ttotal: 254ms\tremaining: 5.94s\n",
      "41:\tlearn: 0.2214199\ttotal: 258ms\tremaining: 5.88s\n",
      "42:\tlearn: 0.2213661\ttotal: 262ms\tremaining: 5.83s\n",
      "43:\tlearn: 0.2212971\ttotal: 268ms\tremaining: 5.81s\n",
      "44:\tlearn: 0.2212395\ttotal: 273ms\tremaining: 5.8s\n",
      "45:\tlearn: 0.2211857\ttotal: 277ms\tremaining: 5.75s\n",
      "46:\tlearn: 0.2211394\ttotal: 281ms\tremaining: 5.7s\n",
      "47:\tlearn: 0.2210943\ttotal: 284ms\tremaining: 5.64s\n",
      "48:\tlearn: 0.2210606\ttotal: 288ms\tremaining: 5.58s\n",
      "49:\tlearn: 0.2210128\ttotal: 292ms\tremaining: 5.55s\n",
      "50:\tlearn: 0.2209841\ttotal: 298ms\tremaining: 5.55s\n",
      "51:\tlearn: 0.2209486\ttotal: 301ms\tremaining: 5.49s\n",
      "52:\tlearn: 0.2209180\ttotal: 305ms\tremaining: 5.45s\n",
      "53:\tlearn: 0.2208744\ttotal: 309ms\tremaining: 5.41s\n",
      "54:\tlearn: 0.2208371\ttotal: 316ms\tremaining: 5.42s\n",
      "55:\tlearn: 0.2207973\ttotal: 323ms\tremaining: 5.44s\n",
      "56:\tlearn: 0.2207587\ttotal: 332ms\tremaining: 5.49s\n",
      "57:\tlearn: 0.2207354\ttotal: 340ms\tremaining: 5.52s\n",
      "58:\tlearn: 0.2207046\ttotal: 349ms\tremaining: 5.57s\n",
      "59:\tlearn: 0.2206750\ttotal: 355ms\tremaining: 5.57s\n",
      "60:\tlearn: 0.2206349\ttotal: 362ms\tremaining: 5.57s\n",
      "61:\tlearn: 0.2206062\ttotal: 366ms\tremaining: 5.54s\n",
      "62:\tlearn: 0.2205711\ttotal: 369ms\tremaining: 5.5s\n",
      "63:\tlearn: 0.2205434\ttotal: 374ms\tremaining: 5.46s\n",
      "64:\tlearn: 0.2205147\ttotal: 378ms\tremaining: 5.44s\n",
      "65:\tlearn: 0.2204874\ttotal: 381ms\tremaining: 5.39s\n",
      "66:\tlearn: 0.2204628\ttotal: 385ms\tremaining: 5.36s\n",
      "67:\tlearn: 0.2204453\ttotal: 388ms\tremaining: 5.31s\n",
      "68:\tlearn: 0.2204252\ttotal: 394ms\tremaining: 5.31s\n",
      "69:\tlearn: 0.2204106\ttotal: 397ms\tremaining: 5.27s\n",
      "70:\tlearn: 0.2203832\ttotal: 400ms\tremaining: 5.23s\n",
      "71:\tlearn: 0.2203562\ttotal: 404ms\tremaining: 5.2s\n",
      "72:\tlearn: 0.2203374\ttotal: 409ms\tremaining: 5.19s\n",
      "73:\tlearn: 0.2203131\ttotal: 412ms\tremaining: 5.16s\n",
      "74:\tlearn: 0.2202885\ttotal: 416ms\tremaining: 5.13s\n",
      "75:\tlearn: 0.2202656\ttotal: 419ms\tremaining: 5.09s\n",
      "76:\tlearn: 0.2202386\ttotal: 425ms\tremaining: 5.09s\n",
      "77:\tlearn: 0.2202145\ttotal: 428ms\tremaining: 5.06s\n",
      "78:\tlearn: 0.2201948\ttotal: 431ms\tremaining: 5.03s\n",
      "79:\tlearn: 0.2201738\ttotal: 435ms\tremaining: 5s\n",
      "80:\tlearn: 0.2201518\ttotal: 440ms\tremaining: 4.99s\n",
      "81:\tlearn: 0.2201357\ttotal: 443ms\tremaining: 4.96s\n",
      "82:\tlearn: 0.2201170\ttotal: 448ms\tremaining: 4.95s\n",
      "83:\tlearn: 0.2201033\ttotal: 452ms\tremaining: 4.93s\n",
      "84:\tlearn: 0.2200884\ttotal: 457ms\tremaining: 4.91s\n",
      "85:\tlearn: 0.2200782\ttotal: 460ms\tremaining: 4.88s\n",
      "86:\tlearn: 0.2200669\ttotal: 463ms\tremaining: 4.86s\n",
      "87:\tlearn: 0.2200546\ttotal: 467ms\tremaining: 4.84s\n",
      "88:\tlearn: 0.2200341\ttotal: 471ms\tremaining: 4.82s\n",
      "89:\tlearn: 0.2200124\ttotal: 474ms\tremaining: 4.79s\n",
      "90:\tlearn: 0.2199992\ttotal: 478ms\tremaining: 4.77s\n",
      "91:\tlearn: 0.2199831\ttotal: 481ms\tremaining: 4.75s\n",
      "92:\tlearn: 0.2199682\ttotal: 487ms\tremaining: 4.75s\n",
      "93:\tlearn: 0.2199569\ttotal: 490ms\tremaining: 4.72s\n",
      "94:\tlearn: 0.2199456\ttotal: 494ms\tremaining: 4.7s\n",
      "95:\tlearn: 0.2199271\ttotal: 497ms\tremaining: 4.68s\n",
      "96:\tlearn: 0.2199185\ttotal: 502ms\tremaining: 4.67s\n",
      "97:\tlearn: 0.2198987\ttotal: 505ms\tremaining: 4.65s\n",
      "98:\tlearn: 0.2198878\ttotal: 509ms\tremaining: 4.63s\n",
      "99:\tlearn: 0.2198723\ttotal: 513ms\tremaining: 4.61s\n",
      "100:\tlearn: 0.2198557\ttotal: 518ms\tremaining: 4.61s\n",
      "101:\tlearn: 0.2198417\ttotal: 522ms\tremaining: 4.6s\n",
      "102:\tlearn: 0.2198311\ttotal: 525ms\tremaining: 4.57s\n",
      "103:\tlearn: 0.2198128\ttotal: 529ms\tremaining: 4.55s\n",
      "104:\tlearn: 0.2198030\ttotal: 534ms\tremaining: 4.55s\n",
      "105:\tlearn: 0.2198015\ttotal: 537ms\tremaining: 4.53s\n",
      "106:\tlearn: 0.2197857\ttotal: 541ms\tremaining: 4.51s\n",
      "107:\tlearn: 0.2197689\ttotal: 544ms\tremaining: 4.49s\n",
      "108:\tlearn: 0.2197565\ttotal: 549ms\tremaining: 4.49s\n",
      "109:\tlearn: 0.2197490\ttotal: 553ms\tremaining: 4.48s\n",
      "110:\tlearn: 0.2197387\ttotal: 557ms\tremaining: 4.46s\n",
      "111:\tlearn: 0.2197301\ttotal: 561ms\tremaining: 4.45s\n",
      "112:\tlearn: 0.2197115\ttotal: 565ms\tremaining: 4.43s\n",
      "113:\tlearn: 0.2196969\ttotal: 569ms\tremaining: 4.42s\n",
      "114:\tlearn: 0.2196959\ttotal: 572ms\tremaining: 4.4s\n",
      "115:\tlearn: 0.2196874\ttotal: 576ms\tremaining: 4.39s\n",
      "116:\tlearn: 0.2196685\ttotal: 581ms\tremaining: 4.39s\n",
      "117:\tlearn: 0.2196514\ttotal: 586ms\tremaining: 4.38s\n",
      "118:\tlearn: 0.2196357\ttotal: 589ms\tremaining: 4.36s\n",
      "119:\tlearn: 0.2196260\ttotal: 593ms\tremaining: 4.35s\n",
      "120:\tlearn: 0.2196141\ttotal: 599ms\tremaining: 4.35s\n",
      "121:\tlearn: 0.2195974\ttotal: 602ms\tremaining: 4.33s\n",
      "122:\tlearn: 0.2195955\ttotal: 605ms\tremaining: 4.32s\n",
      "123:\tlearn: 0.2195800\ttotal: 611ms\tremaining: 4.32s\n",
      "124:\tlearn: 0.2195651\ttotal: 615ms\tremaining: 4.3s\n",
      "125:\tlearn: 0.2195492\ttotal: 618ms\tremaining: 4.29s\n",
      "126:\tlearn: 0.2195424\ttotal: 622ms\tremaining: 4.28s\n",
      "127:\tlearn: 0.2195337\ttotal: 628ms\tremaining: 4.28s\n",
      "128:\tlearn: 0.2195231\ttotal: 632ms\tremaining: 4.26s\n",
      "129:\tlearn: 0.2195069\ttotal: 635ms\tremaining: 4.25s\n",
      "130:\tlearn: 0.2194943\ttotal: 639ms\tremaining: 4.24s\n",
      "131:\tlearn: 0.2194909\ttotal: 646ms\tremaining: 4.24s\n",
      "132:\tlearn: 0.2194838\ttotal: 649ms\tremaining: 4.23s\n",
      "133:\tlearn: 0.2194737\ttotal: 652ms\tremaining: 4.21s\n",
      "134:\tlearn: 0.2194547\ttotal: 656ms\tremaining: 4.2s\n",
      "135:\tlearn: 0.2194413\ttotal: 661ms\tremaining: 4.2s\n",
      "136:\tlearn: 0.2194338\ttotal: 665ms\tremaining: 4.19s\n",
      "137:\tlearn: 0.2194144\ttotal: 668ms\tremaining: 4.17s\n",
      "138:\tlearn: 0.2193983\ttotal: 672ms\tremaining: 4.16s\n",
      "139:\tlearn: 0.2193926\ttotal: 676ms\tremaining: 4.15s\n",
      "140:\tlearn: 0.2193840\ttotal: 680ms\tremaining: 4.14s\n",
      "141:\tlearn: 0.2193715\ttotal: 684ms\tremaining: 4.13s\n",
      "142:\tlearn: 0.2193602\ttotal: 687ms\tremaining: 4.12s\n",
      "143:\tlearn: 0.2193439\ttotal: 693ms\tremaining: 4.12s\n",
      "144:\tlearn: 0.2193285\ttotal: 696ms\tremaining: 4.1s\n",
      "145:\tlearn: 0.2193129\ttotal: 700ms\tremaining: 4.09s\n",
      "146:\tlearn: 0.2193020\ttotal: 704ms\tremaining: 4.09s\n",
      "147:\tlearn: 0.2192858\ttotal: 708ms\tremaining: 4.08s\n",
      "148:\tlearn: 0.2192773\ttotal: 711ms\tremaining: 4.06s\n",
      "149:\tlearn: 0.2192705\ttotal: 715ms\tremaining: 4.05s\n",
      "150:\tlearn: 0.2192609\ttotal: 718ms\tremaining: 4.04s\n",
      "151:\tlearn: 0.2192480\ttotal: 723ms\tremaining: 4.03s\n",
      "152:\tlearn: 0.2192276\ttotal: 726ms\tremaining: 4.02s\n",
      "153:\tlearn: 0.2192091\ttotal: 729ms\tremaining: 4s\n",
      "154:\tlearn: 0.2192048\ttotal: 732ms\tremaining: 3.99s\n",
      "155:\tlearn: 0.2191934\ttotal: 738ms\tremaining: 3.99s\n",
      "156:\tlearn: 0.2191781\ttotal: 741ms\tremaining: 3.98s\n",
      "157:\tlearn: 0.2191734\ttotal: 744ms\tremaining: 3.97s\n",
      "158:\tlearn: 0.2191614\ttotal: 747ms\tremaining: 3.95s\n",
      "159:\tlearn: 0.2191491\ttotal: 752ms\tremaining: 3.94s\n",
      "160:\tlearn: 0.2191453\ttotal: 755ms\tremaining: 3.94s\n",
      "161:\tlearn: 0.2191372\ttotal: 759ms\tremaining: 3.92s\n",
      "162:\tlearn: 0.2191283\ttotal: 762ms\tremaining: 3.91s\n",
      "163:\tlearn: 0.2191143\ttotal: 766ms\tremaining: 3.9s\n",
      "164:\tlearn: 0.2191050\ttotal: 770ms\tremaining: 3.9s\n",
      "165:\tlearn: 0.2190933\ttotal: 773ms\tremaining: 3.89s\n",
      "166:\tlearn: 0.2190812\ttotal: 777ms\tremaining: 3.88s\n",
      "167:\tlearn: 0.2190722\ttotal: 781ms\tremaining: 3.87s\n",
      "168:\tlearn: 0.2190647\ttotal: 785ms\tremaining: 3.86s\n",
      "169:\tlearn: 0.2190589\ttotal: 789ms\tremaining: 3.85s\n",
      "170:\tlearn: 0.2190584\ttotal: 792ms\tremaining: 3.84s\n",
      "171:\tlearn: 0.2190568\ttotal: 796ms\tremaining: 3.83s\n",
      "172:\tlearn: 0.2190495\ttotal: 801ms\tremaining: 3.83s\n",
      "173:\tlearn: 0.2190426\ttotal: 805ms\tremaining: 3.82s\n",
      "174:\tlearn: 0.2190321\ttotal: 808ms\tremaining: 3.81s\n",
      "175:\tlearn: 0.2190212\ttotal: 812ms\tremaining: 3.8s\n",
      "176:\tlearn: 0.2190124\ttotal: 819ms\tremaining: 3.81s\n",
      "177:\tlearn: 0.2190027\ttotal: 822ms\tremaining: 3.8s\n",
      "178:\tlearn: 0.2190023\ttotal: 826ms\tremaining: 3.79s\n"
     ]
    },
    {
     "name": "stdout",
     "output_type": "stream",
     "text": [
      "179:\tlearn: 0.2189934\ttotal: 831ms\tremaining: 3.79s\n",
      "180:\tlearn: 0.2189777\ttotal: 835ms\tremaining: 3.78s\n",
      "181:\tlearn: 0.2189699\ttotal: 838ms\tremaining: 3.77s\n",
      "182:\tlearn: 0.2189597\ttotal: 842ms\tremaining: 3.76s\n",
      "183:\tlearn: 0.2189482\ttotal: 847ms\tremaining: 3.76s\n",
      "184:\tlearn: 0.2189354\ttotal: 855ms\tremaining: 3.77s\n",
      "185:\tlearn: 0.2189306\ttotal: 865ms\tremaining: 3.79s\n",
      "186:\tlearn: 0.2189207\ttotal: 872ms\tremaining: 3.79s\n",
      "187:\tlearn: 0.2189097\ttotal: 880ms\tremaining: 3.8s\n",
      "188:\tlearn: 0.2188987\ttotal: 887ms\tremaining: 3.81s\n",
      "189:\tlearn: 0.2188919\ttotal: 895ms\tremaining: 3.82s\n",
      "190:\tlearn: 0.2188748\ttotal: 901ms\tremaining: 3.82s\n",
      "191:\tlearn: 0.2188613\ttotal: 907ms\tremaining: 3.82s\n",
      "192:\tlearn: 0.2188497\ttotal: 914ms\tremaining: 3.82s\n",
      "193:\tlearn: 0.2188376\ttotal: 918ms\tremaining: 3.81s\n",
      "194:\tlearn: 0.2188229\ttotal: 921ms\tremaining: 3.8s\n",
      "195:\tlearn: 0.2188172\ttotal: 925ms\tremaining: 3.79s\n",
      "196:\tlearn: 0.2188079\ttotal: 930ms\tremaining: 3.79s\n",
      "197:\tlearn: 0.2187976\ttotal: 934ms\tremaining: 3.78s\n",
      "198:\tlearn: 0.2187906\ttotal: 937ms\tremaining: 3.77s\n",
      "199:\tlearn: 0.2187858\ttotal: 942ms\tremaining: 3.77s\n",
      "200:\tlearn: 0.2187757\ttotal: 946ms\tremaining: 3.76s\n",
      "201:\tlearn: 0.2187662\ttotal: 949ms\tremaining: 3.75s\n",
      "202:\tlearn: 0.2187608\ttotal: 952ms\tremaining: 3.74s\n",
      "203:\tlearn: 0.2187535\ttotal: 955ms\tremaining: 3.73s\n",
      "204:\tlearn: 0.2187532\ttotal: 959ms\tremaining: 3.72s\n",
      "205:\tlearn: 0.2187356\ttotal: 963ms\tremaining: 3.71s\n",
      "206:\tlearn: 0.2187201\ttotal: 966ms\tremaining: 3.7s\n",
      "207:\tlearn: 0.2187079\ttotal: 969ms\tremaining: 3.69s\n",
      "208:\tlearn: 0.2187072\ttotal: 977ms\tremaining: 3.7s\n",
      "209:\tlearn: 0.2187067\ttotal: 980ms\tremaining: 3.69s\n",
      "210:\tlearn: 0.2187062\ttotal: 984ms\tremaining: 3.68s\n",
      "211:\tlearn: 0.2186912\ttotal: 988ms\tremaining: 3.67s\n",
      "212:\tlearn: 0.2186771\ttotal: 992ms\tremaining: 3.67s\n",
      "213:\tlearn: 0.2186611\ttotal: 996ms\tremaining: 3.66s\n",
      "214:\tlearn: 0.2186604\ttotal: 999ms\tremaining: 3.65s\n",
      "215:\tlearn: 0.2186470\ttotal: 1s\tremaining: 3.64s\n",
      "216:\tlearn: 0.2186406\ttotal: 1.01s\tremaining: 3.64s\n",
      "217:\tlearn: 0.2186396\ttotal: 1.01s\tremaining: 3.63s\n",
      "218:\tlearn: 0.2186222\ttotal: 1.01s\tremaining: 3.62s\n",
      "219:\tlearn: 0.2186039\ttotal: 1.02s\tremaining: 3.61s\n",
      "220:\tlearn: 0.2186030\ttotal: 1.02s\tremaining: 3.61s\n",
      "221:\tlearn: 0.2185886\ttotal: 1.03s\tremaining: 3.6s\n",
      "222:\tlearn: 0.2185880\ttotal: 1.03s\tremaining: 3.59s\n",
      "223:\tlearn: 0.2185865\ttotal: 1.03s\tremaining: 3.58s\n",
      "224:\tlearn: 0.2185856\ttotal: 1.04s\tremaining: 3.57s\n",
      "225:\tlearn: 0.2185852\ttotal: 1.04s\tremaining: 3.57s\n",
      "226:\tlearn: 0.2185741\ttotal: 1.04s\tremaining: 3.56s\n",
      "227:\tlearn: 0.2185606\ttotal: 1.05s\tremaining: 3.56s\n",
      "228:\tlearn: 0.2185453\ttotal: 1.05s\tremaining: 3.55s\n",
      "229:\tlearn: 0.2185340\ttotal: 1.06s\tremaining: 3.54s\n",
      "230:\tlearn: 0.2185326\ttotal: 1.06s\tremaining: 3.54s\n",
      "231:\tlearn: 0.2185290\ttotal: 1.07s\tremaining: 3.53s\n",
      "232:\tlearn: 0.2185111\ttotal: 1.07s\tremaining: 3.53s\n",
      "233:\tlearn: 0.2185098\ttotal: 1.07s\tremaining: 3.52s\n",
      "234:\tlearn: 0.2185093\ttotal: 1.08s\tremaining: 3.51s\n",
      "235:\tlearn: 0.2185081\ttotal: 1.08s\tremaining: 3.51s\n",
      "236:\tlearn: 0.2184989\ttotal: 1.09s\tremaining: 3.5s\n",
      "237:\tlearn: 0.2184836\ttotal: 1.09s\tremaining: 3.5s\n",
      "238:\tlearn: 0.2184671\ttotal: 1.1s\tremaining: 3.51s\n",
      "239:\tlearn: 0.2184542\ttotal: 1.11s\tremaining: 3.51s\n",
      "240:\tlearn: 0.2184530\ttotal: 1.11s\tremaining: 3.51s\n",
      "241:\tlearn: 0.2184413\ttotal: 1.12s\tremaining: 3.51s\n",
      "242:\tlearn: 0.2184304\ttotal: 1.12s\tremaining: 3.5s\n",
      "243:\tlearn: 0.2184296\ttotal: 1.13s\tremaining: 3.49s\n",
      "244:\tlearn: 0.2184146\ttotal: 1.13s\tremaining: 3.48s\n",
      "245:\tlearn: 0.2184142\ttotal: 1.13s\tremaining: 3.48s\n",
      "246:\tlearn: 0.2184136\ttotal: 1.14s\tremaining: 3.47s\n",
      "247:\tlearn: 0.2184009\ttotal: 1.14s\tremaining: 3.46s\n",
      "248:\tlearn: 0.2183921\ttotal: 1.14s\tremaining: 3.45s\n",
      "249:\tlearn: 0.2183805\ttotal: 1.15s\tremaining: 3.45s\n",
      "250:\tlearn: 0.2183672\ttotal: 1.15s\tremaining: 3.44s\n",
      "251:\tlearn: 0.2183503\ttotal: 1.16s\tremaining: 3.43s\n",
      "252:\tlearn: 0.2183329\ttotal: 1.16s\tremaining: 3.43s\n",
      "253:\tlearn: 0.2183222\ttotal: 1.17s\tremaining: 3.42s\n",
      "254:\tlearn: 0.2183068\ttotal: 1.17s\tremaining: 3.42s\n",
      "255:\tlearn: 0.2182951\ttotal: 1.17s\tremaining: 3.41s\n",
      "256:\tlearn: 0.2182818\ttotal: 1.18s\tremaining: 3.41s\n",
      "257:\tlearn: 0.2182645\ttotal: 1.18s\tremaining: 3.4s\n",
      "258:\tlearn: 0.2182642\ttotal: 1.19s\tremaining: 3.39s\n",
      "259:\tlearn: 0.2182635\ttotal: 1.19s\tremaining: 3.38s\n",
      "260:\tlearn: 0.2182629\ttotal: 1.19s\tremaining: 3.38s\n",
      "261:\tlearn: 0.2182493\ttotal: 1.2s\tremaining: 3.37s\n",
      "262:\tlearn: 0.2182338\ttotal: 1.2s\tremaining: 3.37s\n",
      "263:\tlearn: 0.2182251\ttotal: 1.2s\tremaining: 3.36s\n",
      "264:\tlearn: 0.2182107\ttotal: 1.21s\tremaining: 3.36s\n",
      "265:\tlearn: 0.2181950\ttotal: 1.21s\tremaining: 3.35s\n",
      "266:\tlearn: 0.2181835\ttotal: 1.22s\tremaining: 3.34s\n",
      "267:\tlearn: 0.2181829\ttotal: 1.22s\tremaining: 3.34s\n",
      "268:\tlearn: 0.2181687\ttotal: 1.23s\tremaining: 3.33s\n",
      "269:\tlearn: 0.2181583\ttotal: 1.23s\tremaining: 3.33s\n",
      "270:\tlearn: 0.2181425\ttotal: 1.23s\tremaining: 3.32s\n",
      "271:\tlearn: 0.2181309\ttotal: 1.24s\tremaining: 3.31s\n",
      "272:\tlearn: 0.2181303\ttotal: 1.24s\tremaining: 3.31s\n",
      "273:\tlearn: 0.2181298\ttotal: 1.24s\tremaining: 3.3s\n",
      "274:\tlearn: 0.2181149\ttotal: 1.25s\tremaining: 3.29s\n",
      "275:\tlearn: 0.2181013\ttotal: 1.25s\tremaining: 3.28s\n",
      "276:\tlearn: 0.2180899\ttotal: 1.26s\tremaining: 3.28s\n",
      "277:\tlearn: 0.2180806\ttotal: 1.26s\tremaining: 3.27s\n",
      "278:\tlearn: 0.2180704\ttotal: 1.26s\tremaining: 3.27s\n",
      "279:\tlearn: 0.2180558\ttotal: 1.27s\tremaining: 3.26s\n",
      "280:\tlearn: 0.2180549\ttotal: 1.27s\tremaining: 3.26s\n",
      "281:\tlearn: 0.2180430\ttotal: 1.28s\tremaining: 3.25s\n",
      "282:\tlearn: 0.2180338\ttotal: 1.28s\tremaining: 3.24s\n",
      "283:\tlearn: 0.2180333\ttotal: 1.28s\tremaining: 3.24s\n",
      "284:\tlearn: 0.2180250\ttotal: 1.29s\tremaining: 3.24s\n",
      "285:\tlearn: 0.2180109\ttotal: 1.29s\tremaining: 3.23s\n",
      "286:\tlearn: 0.2179961\ttotal: 1.3s\tremaining: 3.22s\n",
      "287:\tlearn: 0.2179858\ttotal: 1.3s\tremaining: 3.21s\n",
      "288:\tlearn: 0.2179733\ttotal: 1.31s\tremaining: 3.21s\n",
      "289:\tlearn: 0.2179644\ttotal: 1.31s\tremaining: 3.21s\n",
      "290:\tlearn: 0.2179639\ttotal: 1.31s\tremaining: 3.2s\n",
      "291:\tlearn: 0.2179478\ttotal: 1.32s\tremaining: 3.19s\n",
      "292:\tlearn: 0.2179354\ttotal: 1.32s\tremaining: 3.19s\n",
      "293:\tlearn: 0.2179235\ttotal: 1.32s\tremaining: 3.18s\n",
      "294:\tlearn: 0.2179227\ttotal: 1.33s\tremaining: 3.17s\n",
      "295:\tlearn: 0.2179150\ttotal: 1.33s\tremaining: 3.17s\n",
      "296:\tlearn: 0.2179146\ttotal: 1.33s\tremaining: 3.16s\n",
      "297:\tlearn: 0.2179141\ttotal: 1.34s\tremaining: 3.15s\n",
      "298:\tlearn: 0.2179138\ttotal: 1.34s\tremaining: 3.15s\n",
      "299:\tlearn: 0.2179056\ttotal: 1.34s\tremaining: 3.14s\n",
      "300:\tlearn: 0.2178981\ttotal: 1.35s\tremaining: 3.14s\n",
      "301:\tlearn: 0.2178854\ttotal: 1.36s\tremaining: 3.13s\n",
      "302:\tlearn: 0.2178763\ttotal: 1.36s\tremaining: 3.13s\n",
      "303:\tlearn: 0.2178715\ttotal: 1.36s\tremaining: 3.12s\n",
      "304:\tlearn: 0.2178576\ttotal: 1.37s\tremaining: 3.12s\n",
      "305:\tlearn: 0.2178481\ttotal: 1.37s\tremaining: 3.11s\n",
      "306:\tlearn: 0.2178352\ttotal: 1.38s\tremaining: 3.11s\n",
      "307:\tlearn: 0.2178234\ttotal: 1.39s\tremaining: 3.11s\n",
      "308:\tlearn: 0.2178157\ttotal: 1.39s\tremaining: 3.11s\n",
      "309:\tlearn: 0.2178039\ttotal: 1.39s\tremaining: 3.1s\n",
      "310:\tlearn: 0.2177906\ttotal: 1.4s\tremaining: 3.1s\n",
      "311:\tlearn: 0.2177797\ttotal: 1.4s\tremaining: 3.09s\n",
      "312:\tlearn: 0.2177717\ttotal: 1.41s\tremaining: 3.09s\n",
      "313:\tlearn: 0.2177650\ttotal: 1.41s\tremaining: 3.08s\n",
      "314:\tlearn: 0.2177549\ttotal: 1.41s\tremaining: 3.08s\n",
      "315:\tlearn: 0.2177476\ttotal: 1.42s\tremaining: 3.07s\n",
      "316:\tlearn: 0.2177335\ttotal: 1.42s\tremaining: 3.06s\n",
      "317:\tlearn: 0.2177204\ttotal: 1.42s\tremaining: 3.05s\n",
      "318:\tlearn: 0.2177109\ttotal: 1.43s\tremaining: 3.06s\n",
      "319:\tlearn: 0.2177026\ttotal: 1.44s\tremaining: 3.06s\n",
      "320:\tlearn: 0.2176915\ttotal: 1.45s\tremaining: 3.06s\n",
      "321:\tlearn: 0.2176824\ttotal: 1.45s\tremaining: 3.06s\n",
      "322:\tlearn: 0.2176758\ttotal: 1.46s\tremaining: 3.06s\n",
      "323:\tlearn: 0.2176686\ttotal: 1.47s\tremaining: 3.06s\n",
      "324:\tlearn: 0.2176541\ttotal: 1.48s\tremaining: 3.07s\n",
      "325:\tlearn: 0.2176432\ttotal: 1.48s\tremaining: 3.06s\n",
      "326:\tlearn: 0.2176329\ttotal: 1.49s\tremaining: 3.07s\n",
      "327:\tlearn: 0.2176219\ttotal: 1.5s\tremaining: 3.08s\n",
      "328:\tlearn: 0.2176126\ttotal: 1.51s\tremaining: 3.08s\n",
      "329:\tlearn: 0.2176101\ttotal: 1.52s\tremaining: 3.08s\n",
      "330:\tlearn: 0.2176029\ttotal: 1.53s\tremaining: 3.08s\n",
      "331:\tlearn: 0.2175960\ttotal: 1.53s\tremaining: 3.08s\n",
      "332:\tlearn: 0.2175842\ttotal: 1.53s\tremaining: 3.07s\n",
      "333:\tlearn: 0.2175738\ttotal: 1.54s\tremaining: 3.07s\n",
      "334:\tlearn: 0.2175684\ttotal: 1.54s\tremaining: 3.06s\n",
      "335:\tlearn: 0.2175572\ttotal: 1.54s\tremaining: 3.05s\n",
      "336:\tlearn: 0.2175504\ttotal: 1.55s\tremaining: 3.05s\n",
      "337:\tlearn: 0.2175373\ttotal: 1.55s\tremaining: 3.04s\n",
      "338:\tlearn: 0.2175246\ttotal: 1.56s\tremaining: 3.04s\n",
      "339:\tlearn: 0.2175160\ttotal: 1.56s\tremaining: 3.03s\n",
      "340:\tlearn: 0.2175100\ttotal: 1.56s\tremaining: 3.02s\n",
      "341:\tlearn: 0.2175003\ttotal: 1.57s\tremaining: 3.02s\n",
      "342:\tlearn: 0.2174887\ttotal: 1.57s\tremaining: 3.01s\n",
      "343:\tlearn: 0.2174694\ttotal: 1.58s\tremaining: 3.01s\n",
      "344:\tlearn: 0.2174578\ttotal: 1.58s\tremaining: 3s\n",
      "345:\tlearn: 0.2174481\ttotal: 1.58s\tremaining: 2.99s\n",
      "346:\tlearn: 0.2174379\ttotal: 1.59s\tremaining: 2.99s\n",
      "347:\tlearn: 0.2174275\ttotal: 1.59s\tremaining: 2.98s\n",
      "348:\tlearn: 0.2174202\ttotal: 1.59s\tremaining: 2.97s\n",
      "349:\tlearn: 0.2174122\ttotal: 1.6s\tremaining: 2.97s\n"
     ]
    },
    {
     "name": "stdout",
     "output_type": "stream",
     "text": [
      "350:\tlearn: 0.2173997\ttotal: 1.6s\tremaining: 2.96s\n",
      "351:\tlearn: 0.2173893\ttotal: 1.61s\tremaining: 2.96s\n",
      "352:\tlearn: 0.2173798\ttotal: 1.61s\tremaining: 2.95s\n",
      "353:\tlearn: 0.2173681\ttotal: 1.61s\tremaining: 2.94s\n",
      "354:\tlearn: 0.2173589\ttotal: 1.62s\tremaining: 2.94s\n",
      "355:\tlearn: 0.2173477\ttotal: 1.62s\tremaining: 2.94s\n",
      "356:\tlearn: 0.2173359\ttotal: 1.63s\tremaining: 2.93s\n",
      "357:\tlearn: 0.2173259\ttotal: 1.63s\tremaining: 2.92s\n",
      "358:\tlearn: 0.2173163\ttotal: 1.64s\tremaining: 2.92s\n",
      "359:\tlearn: 0.2173033\ttotal: 1.64s\tremaining: 2.92s\n",
      "360:\tlearn: 0.2172940\ttotal: 1.64s\tremaining: 2.91s\n",
      "361:\tlearn: 0.2172831\ttotal: 1.65s\tremaining: 2.9s\n",
      "362:\tlearn: 0.2172763\ttotal: 1.65s\tremaining: 2.9s\n",
      "363:\tlearn: 0.2172698\ttotal: 1.66s\tremaining: 2.89s\n",
      "364:\tlearn: 0.2172589\ttotal: 1.66s\tremaining: 2.89s\n",
      "365:\tlearn: 0.2172438\ttotal: 1.66s\tremaining: 2.88s\n",
      "366:\tlearn: 0.2172321\ttotal: 1.67s\tremaining: 2.88s\n",
      "367:\tlearn: 0.2172239\ttotal: 1.67s\tremaining: 2.87s\n",
      "368:\tlearn: 0.2172164\ttotal: 1.68s\tremaining: 2.87s\n",
      "369:\tlearn: 0.2172042\ttotal: 1.68s\tremaining: 2.86s\n",
      "370:\tlearn: 0.2171940\ttotal: 1.68s\tremaining: 2.86s\n",
      "371:\tlearn: 0.2171843\ttotal: 1.69s\tremaining: 2.85s\n",
      "372:\tlearn: 0.2171677\ttotal: 1.69s\tremaining: 2.84s\n",
      "373:\tlearn: 0.2171593\ttotal: 1.7s\tremaining: 2.84s\n",
      "374:\tlearn: 0.2171424\ttotal: 1.7s\tremaining: 2.83s\n",
      "375:\tlearn: 0.2171290\ttotal: 1.7s\tremaining: 2.83s\n",
      "376:\tlearn: 0.2171151\ttotal: 1.71s\tremaining: 2.82s\n",
      "377:\tlearn: 0.2171103\ttotal: 1.71s\tremaining: 2.82s\n",
      "378:\tlearn: 0.2171007\ttotal: 1.72s\tremaining: 2.81s\n",
      "379:\tlearn: 0.2170944\ttotal: 1.72s\tremaining: 2.81s\n",
      "380:\tlearn: 0.2170872\ttotal: 1.72s\tremaining: 2.8s\n",
      "381:\tlearn: 0.2170785\ttotal: 1.73s\tremaining: 2.8s\n",
      "382:\tlearn: 0.2170682\ttotal: 1.73s\tremaining: 2.79s\n",
      "383:\tlearn: 0.2170585\ttotal: 1.74s\tremaining: 2.79s\n",
      "384:\tlearn: 0.2170496\ttotal: 1.74s\tremaining: 2.78s\n",
      "385:\tlearn: 0.2170425\ttotal: 1.75s\tremaining: 2.78s\n",
      "386:\tlearn: 0.2170340\ttotal: 1.75s\tremaining: 2.77s\n",
      "387:\tlearn: 0.2170283\ttotal: 1.75s\tremaining: 2.77s\n",
      "388:\tlearn: 0.2170143\ttotal: 1.76s\tremaining: 2.76s\n",
      "389:\tlearn: 0.2170050\ttotal: 1.76s\tremaining: 2.76s\n",
      "390:\tlearn: 0.2169969\ttotal: 1.77s\tremaining: 2.75s\n",
      "391:\tlearn: 0.2169820\ttotal: 1.77s\tremaining: 2.75s\n",
      "392:\tlearn: 0.2169745\ttotal: 1.78s\tremaining: 2.75s\n",
      "393:\tlearn: 0.2169634\ttotal: 1.78s\tremaining: 2.74s\n",
      "394:\tlearn: 0.2169513\ttotal: 1.79s\tremaining: 2.74s\n",
      "395:\tlearn: 0.2169358\ttotal: 1.79s\tremaining: 2.73s\n",
      "396:\tlearn: 0.2169266\ttotal: 1.8s\tremaining: 2.73s\n",
      "397:\tlearn: 0.2169175\ttotal: 1.8s\tremaining: 2.73s\n",
      "398:\tlearn: 0.2169091\ttotal: 1.8s\tremaining: 2.72s\n",
      "399:\tlearn: 0.2168983\ttotal: 1.81s\tremaining: 2.72s\n",
      "400:\tlearn: 0.2168894\ttotal: 1.81s\tremaining: 2.71s\n",
      "401:\tlearn: 0.2168765\ttotal: 1.82s\tremaining: 2.71s\n",
      "402:\tlearn: 0.2168656\ttotal: 1.82s\tremaining: 2.7s\n",
      "403:\tlearn: 0.2168580\ttotal: 1.83s\tremaining: 2.7s\n",
      "404:\tlearn: 0.2168427\ttotal: 1.83s\tremaining: 2.69s\n",
      "405:\tlearn: 0.2168268\ttotal: 1.84s\tremaining: 2.69s\n",
      "406:\tlearn: 0.2168185\ttotal: 1.84s\tremaining: 2.68s\n",
      "407:\tlearn: 0.2168087\ttotal: 1.84s\tremaining: 2.68s\n",
      "408:\tlearn: 0.2167981\ttotal: 1.85s\tremaining: 2.67s\n",
      "409:\tlearn: 0.2167928\ttotal: 1.85s\tremaining: 2.67s\n",
      "410:\tlearn: 0.2167851\ttotal: 1.86s\tremaining: 2.66s\n",
      "411:\tlearn: 0.2167723\ttotal: 1.86s\tremaining: 2.66s\n",
      "412:\tlearn: 0.2167665\ttotal: 1.86s\tremaining: 2.65s\n",
      "413:\tlearn: 0.2167594\ttotal: 1.87s\tremaining: 2.65s\n",
      "414:\tlearn: 0.2167473\ttotal: 1.87s\tremaining: 2.64s\n",
      "415:\tlearn: 0.2167373\ttotal: 1.88s\tremaining: 2.64s\n",
      "416:\tlearn: 0.2167329\ttotal: 1.88s\tremaining: 2.63s\n",
      "417:\tlearn: 0.2167215\ttotal: 1.89s\tremaining: 2.63s\n",
      "418:\tlearn: 0.2167121\ttotal: 1.89s\tremaining: 2.62s\n",
      "419:\tlearn: 0.2167065\ttotal: 1.89s\tremaining: 2.62s\n",
      "420:\tlearn: 0.2166970\ttotal: 1.9s\tremaining: 2.61s\n",
      "421:\tlearn: 0.2166912\ttotal: 1.9s\tremaining: 2.61s\n",
      "422:\tlearn: 0.2166796\ttotal: 1.91s\tremaining: 2.6s\n",
      "423:\tlearn: 0.2166674\ttotal: 1.91s\tremaining: 2.6s\n",
      "424:\tlearn: 0.2166610\ttotal: 1.92s\tremaining: 2.6s\n",
      "425:\tlearn: 0.2166564\ttotal: 1.92s\tremaining: 2.59s\n",
      "426:\tlearn: 0.2166524\ttotal: 1.93s\tremaining: 2.59s\n",
      "427:\tlearn: 0.2166402\ttotal: 1.94s\tremaining: 2.59s\n",
      "428:\tlearn: 0.2166320\ttotal: 1.94s\tremaining: 2.58s\n",
      "429:\tlearn: 0.2166234\ttotal: 1.95s\tremaining: 2.58s\n",
      "430:\tlearn: 0.2166153\ttotal: 1.95s\tremaining: 2.58s\n",
      "431:\tlearn: 0.2166074\ttotal: 1.96s\tremaining: 2.57s\n",
      "432:\tlearn: 0.2166001\ttotal: 1.96s\tremaining: 2.57s\n",
      "433:\tlearn: 0.2165892\ttotal: 1.96s\tremaining: 2.56s\n",
      "434:\tlearn: 0.2165805\ttotal: 1.97s\tremaining: 2.56s\n",
      "435:\tlearn: 0.2165675\ttotal: 1.97s\tremaining: 2.55s\n",
      "436:\tlearn: 0.2165592\ttotal: 1.98s\tremaining: 2.54s\n",
      "437:\tlearn: 0.2165482\ttotal: 1.98s\tremaining: 2.54s\n",
      "438:\tlearn: 0.2165409\ttotal: 1.99s\tremaining: 2.54s\n",
      "439:\tlearn: 0.2165317\ttotal: 1.99s\tremaining: 2.54s\n",
      "440:\tlearn: 0.2165204\ttotal: 2s\tremaining: 2.53s\n",
      "441:\tlearn: 0.2165084\ttotal: 2s\tremaining: 2.53s\n",
      "442:\tlearn: 0.2164980\ttotal: 2.01s\tremaining: 2.52s\n",
      "443:\tlearn: 0.2164932\ttotal: 2.01s\tremaining: 2.52s\n",
      "444:\tlearn: 0.2164867\ttotal: 2.02s\tremaining: 2.52s\n",
      "445:\tlearn: 0.2164716\ttotal: 2.02s\tremaining: 2.51s\n",
      "446:\tlearn: 0.2164612\ttotal: 2.03s\tremaining: 2.51s\n",
      "447:\tlearn: 0.2164518\ttotal: 2.03s\tremaining: 2.5s\n",
      "448:\tlearn: 0.2164482\ttotal: 2.04s\tremaining: 2.5s\n",
      "449:\tlearn: 0.2164385\ttotal: 2.04s\tremaining: 2.49s\n",
      "450:\tlearn: 0.2164317\ttotal: 2.04s\tremaining: 2.49s\n",
      "451:\tlearn: 0.2164207\ttotal: 2.05s\tremaining: 2.48s\n",
      "452:\tlearn: 0.2164106\ttotal: 2.05s\tremaining: 2.48s\n",
      "453:\tlearn: 0.2163963\ttotal: 2.06s\tremaining: 2.47s\n",
      "454:\tlearn: 0.2163865\ttotal: 2.06s\tremaining: 2.47s\n",
      "455:\tlearn: 0.2163773\ttotal: 2.06s\tremaining: 2.46s\n",
      "456:\tlearn: 0.2163692\ttotal: 2.07s\tremaining: 2.46s\n",
      "457:\tlearn: 0.2163561\ttotal: 2.07s\tremaining: 2.45s\n",
      "458:\tlearn: 0.2163467\ttotal: 2.08s\tremaining: 2.45s\n",
      "459:\tlearn: 0.2163366\ttotal: 2.08s\tremaining: 2.44s\n",
      "460:\tlearn: 0.2163285\ttotal: 2.08s\tremaining: 2.44s\n",
      "461:\tlearn: 0.2163181\ttotal: 2.09s\tremaining: 2.43s\n",
      "462:\tlearn: 0.2163134\ttotal: 2.09s\tremaining: 2.43s\n",
      "463:\tlearn: 0.2162995\ttotal: 2.1s\tremaining: 2.42s\n",
      "464:\tlearn: 0.2162927\ttotal: 2.1s\tremaining: 2.42s\n",
      "465:\tlearn: 0.2162803\ttotal: 2.1s\tremaining: 2.41s\n",
      "466:\tlearn: 0.2162712\ttotal: 2.11s\tremaining: 2.41s\n",
      "467:\tlearn: 0.2162615\ttotal: 2.12s\tremaining: 2.4s\n",
      "468:\tlearn: 0.2162598\ttotal: 2.12s\tremaining: 2.4s\n",
      "469:\tlearn: 0.2162547\ttotal: 2.13s\tremaining: 2.4s\n",
      "470:\tlearn: 0.2162487\ttotal: 2.13s\tremaining: 2.4s\n",
      "471:\tlearn: 0.2162404\ttotal: 2.14s\tremaining: 2.4s\n",
      "472:\tlearn: 0.2162256\ttotal: 2.15s\tremaining: 2.4s\n",
      "473:\tlearn: 0.2162133\ttotal: 2.16s\tremaining: 2.4s\n",
      "474:\tlearn: 0.2162095\ttotal: 2.17s\tremaining: 2.39s\n",
      "475:\tlearn: 0.2161994\ttotal: 2.17s\tremaining: 2.39s\n",
      "476:\tlearn: 0.2161916\ttotal: 2.18s\tremaining: 2.39s\n",
      "477:\tlearn: 0.2161790\ttotal: 2.19s\tremaining: 2.4s\n",
      "478:\tlearn: 0.2161715\ttotal: 2.21s\tremaining: 2.4s\n",
      "479:\tlearn: 0.2161660\ttotal: 2.21s\tremaining: 2.4s\n",
      "480:\tlearn: 0.2161586\ttotal: 2.22s\tremaining: 2.4s\n",
      "481:\tlearn: 0.2161527\ttotal: 2.23s\tremaining: 2.4s\n",
      "482:\tlearn: 0.2161440\ttotal: 2.23s\tremaining: 2.39s\n",
      "483:\tlearn: 0.2161318\ttotal: 2.24s\tremaining: 2.39s\n",
      "484:\tlearn: 0.2161277\ttotal: 2.25s\tremaining: 2.38s\n",
      "485:\tlearn: 0.2161142\ttotal: 2.25s\tremaining: 2.38s\n",
      "486:\tlearn: 0.2161070\ttotal: 2.25s\tremaining: 2.38s\n",
      "487:\tlearn: 0.2160952\ttotal: 2.26s\tremaining: 2.37s\n",
      "488:\tlearn: 0.2160855\ttotal: 2.26s\tremaining: 2.36s\n",
      "489:\tlearn: 0.2160698\ttotal: 2.27s\tremaining: 2.36s\n",
      "490:\tlearn: 0.2160597\ttotal: 2.27s\tremaining: 2.35s\n",
      "491:\tlearn: 0.2160495\ttotal: 2.27s\tremaining: 2.35s\n",
      "492:\tlearn: 0.2160399\ttotal: 2.28s\tremaining: 2.34s\n",
      "493:\tlearn: 0.2160300\ttotal: 2.28s\tremaining: 2.34s\n",
      "494:\tlearn: 0.2160253\ttotal: 2.29s\tremaining: 2.33s\n",
      "495:\tlearn: 0.2160201\ttotal: 2.29s\tremaining: 2.33s\n",
      "496:\tlearn: 0.2160102\ttotal: 2.3s\tremaining: 2.32s\n",
      "497:\tlearn: 0.2159926\ttotal: 2.3s\tremaining: 2.32s\n",
      "498:\tlearn: 0.2159874\ttotal: 2.31s\tremaining: 2.32s\n",
      "499:\tlearn: 0.2159760\ttotal: 2.31s\tremaining: 2.31s\n",
      "500:\tlearn: 0.2159625\ttotal: 2.32s\tremaining: 2.31s\n",
      "501:\tlearn: 0.2159532\ttotal: 2.32s\tremaining: 2.3s\n",
      "502:\tlearn: 0.2159414\ttotal: 2.33s\tremaining: 2.3s\n",
      "503:\tlearn: 0.2159296\ttotal: 2.33s\tremaining: 2.29s\n",
      "504:\tlearn: 0.2159278\ttotal: 2.33s\tremaining: 2.29s\n",
      "505:\tlearn: 0.2159194\ttotal: 2.34s\tremaining: 2.28s\n",
      "506:\tlearn: 0.2159137\ttotal: 2.34s\tremaining: 2.28s\n",
      "507:\tlearn: 0.2159014\ttotal: 2.35s\tremaining: 2.27s\n",
      "508:\tlearn: 0.2158956\ttotal: 2.35s\tremaining: 2.27s\n",
      "509:\tlearn: 0.2158830\ttotal: 2.36s\tremaining: 2.26s\n",
      "510:\tlearn: 0.2158734\ttotal: 2.36s\tremaining: 2.26s\n",
      "511:\tlearn: 0.2158664\ttotal: 2.37s\tremaining: 2.26s\n",
      "512:\tlearn: 0.2158649\ttotal: 2.37s\tremaining: 2.25s\n"
     ]
    },
    {
     "name": "stdout",
     "output_type": "stream",
     "text": [
      "513:\tlearn: 0.2158568\ttotal: 2.38s\tremaining: 2.25s\n",
      "514:\tlearn: 0.2158489\ttotal: 2.38s\tremaining: 2.24s\n",
      "515:\tlearn: 0.2158399\ttotal: 2.39s\tremaining: 2.24s\n",
      "516:\tlearn: 0.2158293\ttotal: 2.39s\tremaining: 2.23s\n",
      "517:\tlearn: 0.2158208\ttotal: 2.4s\tremaining: 2.23s\n",
      "518:\tlearn: 0.2158084\ttotal: 2.4s\tremaining: 2.23s\n",
      "519:\tlearn: 0.2157952\ttotal: 2.41s\tremaining: 2.22s\n",
      "520:\tlearn: 0.2157867\ttotal: 2.41s\tremaining: 2.22s\n",
      "521:\tlearn: 0.2157801\ttotal: 2.42s\tremaining: 2.21s\n",
      "522:\tlearn: 0.2157705\ttotal: 2.42s\tremaining: 2.21s\n",
      "523:\tlearn: 0.2157616\ttotal: 2.43s\tremaining: 2.21s\n",
      "524:\tlearn: 0.2157532\ttotal: 2.43s\tremaining: 2.2s\n",
      "525:\tlearn: 0.2157451\ttotal: 2.44s\tremaining: 2.19s\n",
      "526:\tlearn: 0.2157404\ttotal: 2.44s\tremaining: 2.19s\n",
      "527:\tlearn: 0.2157315\ttotal: 2.44s\tremaining: 2.19s\n",
      "528:\tlearn: 0.2157299\ttotal: 2.45s\tremaining: 2.18s\n",
      "529:\tlearn: 0.2157236\ttotal: 2.45s\tremaining: 2.18s\n",
      "530:\tlearn: 0.2157220\ttotal: 2.46s\tremaining: 2.17s\n",
      "531:\tlearn: 0.2157134\ttotal: 2.46s\tremaining: 2.17s\n",
      "532:\tlearn: 0.2157095\ttotal: 2.47s\tremaining: 2.16s\n",
      "533:\tlearn: 0.2156971\ttotal: 2.47s\tremaining: 2.16s\n",
      "534:\tlearn: 0.2156881\ttotal: 2.48s\tremaining: 2.15s\n",
      "535:\tlearn: 0.2156791\ttotal: 2.48s\tremaining: 2.15s\n",
      "536:\tlearn: 0.2156678\ttotal: 2.49s\tremaining: 2.14s\n",
      "537:\tlearn: 0.2156593\ttotal: 2.49s\tremaining: 2.14s\n",
      "538:\tlearn: 0.2156509\ttotal: 2.5s\tremaining: 2.13s\n",
      "539:\tlearn: 0.2156427\ttotal: 2.5s\tremaining: 2.13s\n",
      "540:\tlearn: 0.2156334\ttotal: 2.51s\tremaining: 2.13s\n",
      "541:\tlearn: 0.2156293\ttotal: 2.51s\tremaining: 2.12s\n",
      "542:\tlearn: 0.2156255\ttotal: 2.51s\tremaining: 2.12s\n",
      "543:\tlearn: 0.2156219\ttotal: 2.52s\tremaining: 2.11s\n",
      "544:\tlearn: 0.2156129\ttotal: 2.52s\tremaining: 2.11s\n",
      "545:\tlearn: 0.2156054\ttotal: 2.53s\tremaining: 2.1s\n",
      "546:\tlearn: 0.2156007\ttotal: 2.53s\tremaining: 2.1s\n",
      "547:\tlearn: 0.2155921\ttotal: 2.54s\tremaining: 2.09s\n",
      "548:\tlearn: 0.2155833\ttotal: 2.54s\tremaining: 2.09s\n",
      "549:\tlearn: 0.2155693\ttotal: 2.55s\tremaining: 2.08s\n",
      "550:\tlearn: 0.2155602\ttotal: 2.55s\tremaining: 2.08s\n",
      "551:\tlearn: 0.2155567\ttotal: 2.55s\tremaining: 2.07s\n",
      "552:\tlearn: 0.2155484\ttotal: 2.56s\tremaining: 2.07s\n",
      "553:\tlearn: 0.2155428\ttotal: 2.56s\tremaining: 2.06s\n",
      "554:\tlearn: 0.2155359\ttotal: 2.57s\tremaining: 2.06s\n",
      "555:\tlearn: 0.2155285\ttotal: 2.57s\tremaining: 2.06s\n",
      "556:\tlearn: 0.2155213\ttotal: 2.58s\tremaining: 2.05s\n",
      "557:\tlearn: 0.2155166\ttotal: 2.58s\tremaining: 2.05s\n",
      "558:\tlearn: 0.2155117\ttotal: 2.59s\tremaining: 2.04s\n",
      "559:\tlearn: 0.2155016\ttotal: 2.59s\tremaining: 2.04s\n",
      "560:\tlearn: 0.2154949\ttotal: 2.6s\tremaining: 2.03s\n",
      "561:\tlearn: 0.2154872\ttotal: 2.6s\tremaining: 2.03s\n",
      "562:\tlearn: 0.2154813\ttotal: 2.61s\tremaining: 2.02s\n",
      "563:\tlearn: 0.2154755\ttotal: 2.61s\tremaining: 2.02s\n",
      "564:\tlearn: 0.2154702\ttotal: 2.62s\tremaining: 2.02s\n",
      "565:\tlearn: 0.2154608\ttotal: 2.62s\tremaining: 2.01s\n",
      "566:\tlearn: 0.2154604\ttotal: 2.63s\tremaining: 2s\n",
      "567:\tlearn: 0.2154600\ttotal: 2.63s\tremaining: 2s\n",
      "568:\tlearn: 0.2154493\ttotal: 2.63s\tremaining: 2s\n",
      "569:\tlearn: 0.2154438\ttotal: 2.64s\tremaining: 1.99s\n",
      "570:\tlearn: 0.2154360\ttotal: 2.64s\tremaining: 1.99s\n",
      "571:\tlearn: 0.2154220\ttotal: 2.65s\tremaining: 1.98s\n",
      "572:\tlearn: 0.2154179\ttotal: 2.65s\tremaining: 1.98s\n",
      "573:\tlearn: 0.2154175\ttotal: 2.66s\tremaining: 1.97s\n",
      "574:\tlearn: 0.2154098\ttotal: 2.66s\tremaining: 1.97s\n",
      "575:\tlearn: 0.2154020\ttotal: 2.67s\tremaining: 1.96s\n",
      "576:\tlearn: 0.2154014\ttotal: 2.67s\tremaining: 1.96s\n",
      "577:\tlearn: 0.2153966\ttotal: 2.68s\tremaining: 1.95s\n",
      "578:\tlearn: 0.2153911\ttotal: 2.68s\tremaining: 1.95s\n",
      "579:\tlearn: 0.2153825\ttotal: 2.69s\tremaining: 1.95s\n",
      "580:\tlearn: 0.2153821\ttotal: 2.7s\tremaining: 1.95s\n",
      "581:\tlearn: 0.2153721\ttotal: 2.7s\tremaining: 1.94s\n",
      "582:\tlearn: 0.2153663\ttotal: 2.71s\tremaining: 1.94s\n",
      "583:\tlearn: 0.2153585\ttotal: 2.72s\tremaining: 1.94s\n",
      "584:\tlearn: 0.2153442\ttotal: 2.73s\tremaining: 1.94s\n",
      "585:\tlearn: 0.2153358\ttotal: 2.74s\tremaining: 1.93s\n",
      "586:\tlearn: 0.2153355\ttotal: 2.74s\tremaining: 1.93s\n",
      "587:\tlearn: 0.2153286\ttotal: 2.75s\tremaining: 1.92s\n",
      "588:\tlearn: 0.2153206\ttotal: 2.75s\tremaining: 1.92s\n",
      "589:\tlearn: 0.2153111\ttotal: 2.75s\tremaining: 1.91s\n",
      "590:\tlearn: 0.2153025\ttotal: 2.76s\tremaining: 1.91s\n",
      "591:\tlearn: 0.2152951\ttotal: 2.77s\tremaining: 1.91s\n",
      "592:\tlearn: 0.2152930\ttotal: 2.77s\tremaining: 1.9s\n",
      "593:\tlearn: 0.2152843\ttotal: 2.78s\tremaining: 1.9s\n",
      "594:\tlearn: 0.2152704\ttotal: 2.78s\tremaining: 1.89s\n",
      "595:\tlearn: 0.2152641\ttotal: 2.78s\tremaining: 1.89s\n",
      "596:\tlearn: 0.2152472\ttotal: 2.79s\tremaining: 1.88s\n",
      "597:\tlearn: 0.2152427\ttotal: 2.79s\tremaining: 1.88s\n",
      "598:\tlearn: 0.2152424\ttotal: 2.8s\tremaining: 1.87s\n",
      "599:\tlearn: 0.2152362\ttotal: 2.8s\tremaining: 1.87s\n",
      "600:\tlearn: 0.2152276\ttotal: 2.81s\tremaining: 1.86s\n",
      "601:\tlearn: 0.2152201\ttotal: 2.81s\tremaining: 1.86s\n",
      "602:\tlearn: 0.2152016\ttotal: 2.82s\tremaining: 1.85s\n",
      "603:\tlearn: 0.2151899\ttotal: 2.83s\tremaining: 1.85s\n",
      "604:\tlearn: 0.2151816\ttotal: 2.83s\tremaining: 1.85s\n",
      "605:\tlearn: 0.2151814\ttotal: 2.84s\tremaining: 1.85s\n",
      "606:\tlearn: 0.2151709\ttotal: 2.85s\tremaining: 1.84s\n",
      "607:\tlearn: 0.2151706\ttotal: 2.86s\tremaining: 1.84s\n",
      "608:\tlearn: 0.2151603\ttotal: 2.87s\tremaining: 1.84s\n",
      "609:\tlearn: 0.2151546\ttotal: 2.88s\tremaining: 1.84s\n",
      "610:\tlearn: 0.2151467\ttotal: 2.89s\tremaining: 1.84s\n",
      "611:\tlearn: 0.2151393\ttotal: 2.9s\tremaining: 1.84s\n",
      "612:\tlearn: 0.2151348\ttotal: 2.91s\tremaining: 1.83s\n",
      "613:\tlearn: 0.2151299\ttotal: 2.92s\tremaining: 1.83s\n",
      "614:\tlearn: 0.2151254\ttotal: 2.93s\tremaining: 1.83s\n",
      "615:\tlearn: 0.2151151\ttotal: 2.94s\tremaining: 1.83s\n",
      "616:\tlearn: 0.2151073\ttotal: 2.94s\tremaining: 1.83s\n",
      "617:\tlearn: 0.2150945\ttotal: 2.94s\tremaining: 1.82s\n",
      "618:\tlearn: 0.2150835\ttotal: 2.95s\tremaining: 1.82s\n",
      "619:\tlearn: 0.2150755\ttotal: 2.96s\tremaining: 1.81s\n",
      "620:\tlearn: 0.2150637\ttotal: 2.96s\tremaining: 1.81s\n",
      "621:\tlearn: 0.2150526\ttotal: 2.96s\tremaining: 1.8s\n",
      "622:\tlearn: 0.2150358\ttotal: 2.97s\tremaining: 1.8s\n",
      "623:\tlearn: 0.2150271\ttotal: 2.97s\tremaining: 1.79s\n",
      "624:\tlearn: 0.2150153\ttotal: 2.98s\tremaining: 1.79s\n",
      "625:\tlearn: 0.2150084\ttotal: 2.98s\tremaining: 1.78s\n",
      "626:\tlearn: 0.2150015\ttotal: 2.99s\tremaining: 1.78s\n",
      "627:\tlearn: 0.2150012\ttotal: 2.99s\tremaining: 1.77s\n",
      "628:\tlearn: 0.2149950\ttotal: 3s\tremaining: 1.77s\n",
      "629:\tlearn: 0.2149852\ttotal: 3s\tremaining: 1.76s\n",
      "630:\tlearn: 0.2149774\ttotal: 3.01s\tremaining: 1.76s\n",
      "631:\tlearn: 0.2149771\ttotal: 3.01s\tremaining: 1.75s\n",
      "632:\tlearn: 0.2149652\ttotal: 3.02s\tremaining: 1.75s\n",
      "633:\tlearn: 0.2149580\ttotal: 3.02s\tremaining: 1.74s\n",
      "634:\tlearn: 0.2149466\ttotal: 3.02s\tremaining: 1.74s\n",
      "635:\tlearn: 0.2149368\ttotal: 3.03s\tremaining: 1.73s\n",
      "636:\tlearn: 0.2149298\ttotal: 3.03s\tremaining: 1.73s\n",
      "637:\tlearn: 0.2149242\ttotal: 3.04s\tremaining: 1.72s\n",
      "638:\tlearn: 0.2149156\ttotal: 3.04s\tremaining: 1.72s\n",
      "639:\tlearn: 0.2149078\ttotal: 3.05s\tremaining: 1.72s\n",
      "640:\tlearn: 0.2149016\ttotal: 3.05s\tremaining: 1.71s\n",
      "641:\tlearn: 0.2148951\ttotal: 3.06s\tremaining: 1.71s\n",
      "642:\tlearn: 0.2148846\ttotal: 3.06s\tremaining: 1.7s\n",
      "643:\tlearn: 0.2148817\ttotal: 3.07s\tremaining: 1.7s\n",
      "644:\tlearn: 0.2148734\ttotal: 3.07s\tremaining: 1.69s\n",
      "645:\tlearn: 0.2148651\ttotal: 3.08s\tremaining: 1.69s\n",
      "646:\tlearn: 0.2148585\ttotal: 3.08s\tremaining: 1.68s\n",
      "647:\tlearn: 0.2148558\ttotal: 3.09s\tremaining: 1.68s\n",
      "648:\tlearn: 0.2148447\ttotal: 3.1s\tremaining: 1.67s\n",
      "649:\tlearn: 0.2148347\ttotal: 3.1s\tremaining: 1.67s\n",
      "650:\tlearn: 0.2148269\ttotal: 3.1s\tremaining: 1.66s\n",
      "651:\tlearn: 0.2148192\ttotal: 3.11s\tremaining: 1.66s\n",
      "652:\tlearn: 0.2148128\ttotal: 3.12s\tremaining: 1.66s\n",
      "653:\tlearn: 0.2148064\ttotal: 3.12s\tremaining: 1.65s\n",
      "654:\tlearn: 0.2148028\ttotal: 3.13s\tremaining: 1.65s\n",
      "655:\tlearn: 0.2147990\ttotal: 3.13s\tremaining: 1.64s\n",
      "656:\tlearn: 0.2147909\ttotal: 3.14s\tremaining: 1.64s\n",
      "657:\tlearn: 0.2147802\ttotal: 3.14s\tremaining: 1.63s\n",
      "658:\tlearn: 0.2147699\ttotal: 3.15s\tremaining: 1.63s\n",
      "659:\tlearn: 0.2147638\ttotal: 3.15s\tremaining: 1.62s\n",
      "660:\tlearn: 0.2147560\ttotal: 3.16s\tremaining: 1.62s\n",
      "661:\tlearn: 0.2147480\ttotal: 3.16s\tremaining: 1.61s\n",
      "662:\tlearn: 0.2147477\ttotal: 3.17s\tremaining: 1.61s\n",
      "663:\tlearn: 0.2147364\ttotal: 3.17s\tremaining: 1.6s\n",
      "664:\tlearn: 0.2147270\ttotal: 3.17s\tremaining: 1.6s\n",
      "665:\tlearn: 0.2147206\ttotal: 3.18s\tremaining: 1.6s\n",
      "666:\tlearn: 0.2147143\ttotal: 3.19s\tremaining: 1.59s\n",
      "667:\tlearn: 0.2147062\ttotal: 3.19s\tremaining: 1.59s\n",
      "668:\tlearn: 0.2147035\ttotal: 3.2s\tremaining: 1.58s\n",
      "669:\tlearn: 0.2146972\ttotal: 3.2s\tremaining: 1.58s\n",
      "670:\tlearn: 0.2146854\ttotal: 3.21s\tremaining: 1.57s\n",
      "671:\tlearn: 0.2146765\ttotal: 3.21s\tremaining: 1.57s\n",
      "672:\tlearn: 0.2146701\ttotal: 3.22s\tremaining: 1.56s\n",
      "673:\tlearn: 0.2146538\ttotal: 3.22s\tremaining: 1.56s\n",
      "674:\tlearn: 0.2146462\ttotal: 3.23s\tremaining: 1.55s\n",
      "675:\tlearn: 0.2146345\ttotal: 3.23s\tremaining: 1.55s\n",
      "676:\tlearn: 0.2146266\ttotal: 3.23s\tremaining: 1.54s\n",
      "677:\tlearn: 0.2146140\ttotal: 3.24s\tremaining: 1.54s\n",
      "678:\tlearn: 0.2146088\ttotal: 3.25s\tremaining: 1.53s\n",
      "679:\tlearn: 0.2146044\ttotal: 3.25s\tremaining: 1.53s\n",
      "680:\tlearn: 0.2146011\ttotal: 3.25s\tremaining: 1.52s\n",
      "681:\tlearn: 0.2145929\ttotal: 3.26s\tremaining: 1.52s\n",
      "682:\tlearn: 0.2145879\ttotal: 3.26s\tremaining: 1.51s\n",
      "683:\tlearn: 0.2145780\ttotal: 3.27s\tremaining: 1.51s\n",
      "684:\tlearn: 0.2145745\ttotal: 3.27s\tremaining: 1.5s\n",
      "685:\tlearn: 0.2145650\ttotal: 3.27s\tremaining: 1.5s\n",
      "686:\tlearn: 0.2145576\ttotal: 3.28s\tremaining: 1.49s\n",
      "687:\tlearn: 0.2145529\ttotal: 3.28s\tremaining: 1.49s\n",
      "688:\tlearn: 0.2145492\ttotal: 3.29s\tremaining: 1.48s\n",
      "689:\tlearn: 0.2145395\ttotal: 3.29s\tremaining: 1.48s\n",
      "690:\tlearn: 0.2145392\ttotal: 3.3s\tremaining: 1.47s\n",
      "691:\tlearn: 0.2145335\ttotal: 3.3s\tremaining: 1.47s\n",
      "692:\tlearn: 0.2145267\ttotal: 3.31s\tremaining: 1.47s\n",
      "693:\tlearn: 0.2145209\ttotal: 3.31s\tremaining: 1.46s\n",
      "694:\tlearn: 0.2145163\ttotal: 3.32s\tremaining: 1.46s\n",
      "695:\tlearn: 0.2145064\ttotal: 3.32s\tremaining: 1.45s\n",
      "696:\tlearn: 0.2144991\ttotal: 3.33s\tremaining: 1.45s\n",
      "697:\tlearn: 0.2144917\ttotal: 3.33s\tremaining: 1.44s\n"
     ]
    },
    {
     "name": "stdout",
     "output_type": "stream",
     "text": [
      "698:\tlearn: 0.2144806\ttotal: 3.34s\tremaining: 1.44s\n",
      "699:\tlearn: 0.2144772\ttotal: 3.34s\tremaining: 1.43s\n",
      "700:\tlearn: 0.2144726\ttotal: 3.35s\tremaining: 1.43s\n",
      "701:\tlearn: 0.2144664\ttotal: 3.35s\tremaining: 1.42s\n",
      "702:\tlearn: 0.2144596\ttotal: 3.36s\tremaining: 1.42s\n",
      "703:\tlearn: 0.2144549\ttotal: 3.37s\tremaining: 1.42s\n",
      "704:\tlearn: 0.2144500\ttotal: 3.38s\tremaining: 1.41s\n",
      "705:\tlearn: 0.2144466\ttotal: 3.39s\tremaining: 1.41s\n",
      "706:\tlearn: 0.2144401\ttotal: 3.4s\tremaining: 1.41s\n",
      "707:\tlearn: 0.2144356\ttotal: 3.41s\tremaining: 1.41s\n",
      "708:\tlearn: 0.2144293\ttotal: 3.42s\tremaining: 1.4s\n",
      "709:\tlearn: 0.2144197\ttotal: 3.42s\tremaining: 1.4s\n",
      "710:\tlearn: 0.2144133\ttotal: 3.43s\tremaining: 1.39s\n",
      "711:\tlearn: 0.2144051\ttotal: 3.44s\tremaining: 1.39s\n",
      "712:\tlearn: 0.2143986\ttotal: 3.44s\tremaining: 1.39s\n",
      "713:\tlearn: 0.2143954\ttotal: 3.45s\tremaining: 1.38s\n",
      "714:\tlearn: 0.2143861\ttotal: 3.46s\tremaining: 1.38s\n",
      "715:\tlearn: 0.2143788\ttotal: 3.46s\tremaining: 1.37s\n",
      "716:\tlearn: 0.2143759\ttotal: 3.46s\tremaining: 1.37s\n",
      "717:\tlearn: 0.2143694\ttotal: 3.47s\tremaining: 1.36s\n",
      "718:\tlearn: 0.2143597\ttotal: 3.47s\tremaining: 1.36s\n",
      "719:\tlearn: 0.2143570\ttotal: 3.48s\tremaining: 1.35s\n",
      "720:\tlearn: 0.2143522\ttotal: 3.48s\tremaining: 1.35s\n",
      "721:\tlearn: 0.2143461\ttotal: 3.49s\tremaining: 1.34s\n",
      "722:\tlearn: 0.2143424\ttotal: 3.49s\tremaining: 1.34s\n",
      "723:\tlearn: 0.2143347\ttotal: 3.5s\tremaining: 1.33s\n",
      "724:\tlearn: 0.2143234\ttotal: 3.5s\tremaining: 1.33s\n",
      "725:\tlearn: 0.2143161\ttotal: 3.5s\tremaining: 1.32s\n",
      "726:\tlearn: 0.2143148\ttotal: 3.51s\tremaining: 1.32s\n",
      "727:\tlearn: 0.2143147\ttotal: 3.51s\tremaining: 1.31s\n",
      "728:\tlearn: 0.2143077\ttotal: 3.52s\tremaining: 1.31s\n",
      "729:\tlearn: 0.2142995\ttotal: 3.52s\tremaining: 1.3s\n",
      "730:\tlearn: 0.2142930\ttotal: 3.52s\tremaining: 1.3s\n",
      "731:\tlearn: 0.2142845\ttotal: 3.53s\tremaining: 1.29s\n",
      "732:\tlearn: 0.2142759\ttotal: 3.54s\tremaining: 1.29s\n",
      "733:\tlearn: 0.2142726\ttotal: 3.54s\tremaining: 1.28s\n",
      "734:\tlearn: 0.2142600\ttotal: 3.55s\tremaining: 1.28s\n",
      "735:\tlearn: 0.2142560\ttotal: 3.55s\tremaining: 1.27s\n",
      "736:\tlearn: 0.2142531\ttotal: 3.56s\tremaining: 1.27s\n",
      "737:\tlearn: 0.2142386\ttotal: 3.56s\tremaining: 1.26s\n",
      "738:\tlearn: 0.2142298\ttotal: 3.56s\tremaining: 1.26s\n",
      "739:\tlearn: 0.2142228\ttotal: 3.57s\tremaining: 1.25s\n",
      "740:\tlearn: 0.2142171\ttotal: 3.57s\tremaining: 1.25s\n",
      "741:\tlearn: 0.2142106\ttotal: 3.58s\tremaining: 1.24s\n",
      "742:\tlearn: 0.2142022\ttotal: 3.58s\tremaining: 1.24s\n",
      "743:\tlearn: 0.2142021\ttotal: 3.59s\tremaining: 1.23s\n",
      "744:\tlearn: 0.2141957\ttotal: 3.59s\tremaining: 1.23s\n",
      "745:\tlearn: 0.2141869\ttotal: 3.6s\tremaining: 1.22s\n",
      "746:\tlearn: 0.2141765\ttotal: 3.6s\tremaining: 1.22s\n",
      "747:\tlearn: 0.2141680\ttotal: 3.6s\tremaining: 1.21s\n",
      "748:\tlearn: 0.2141653\ttotal: 3.61s\tremaining: 1.21s\n",
      "749:\tlearn: 0.2141571\ttotal: 3.62s\tremaining: 1.21s\n",
      "750:\tlearn: 0.2141519\ttotal: 3.62s\tremaining: 1.2s\n",
      "751:\tlearn: 0.2141453\ttotal: 3.63s\tremaining: 1.2s\n",
      "752:\tlearn: 0.2141393\ttotal: 3.63s\tremaining: 1.19s\n",
      "753:\tlearn: 0.2141324\ttotal: 3.63s\tremaining: 1.19s\n",
      "754:\tlearn: 0.2141235\ttotal: 3.64s\tremaining: 1.18s\n",
      "755:\tlearn: 0.2141130\ttotal: 3.64s\tremaining: 1.18s\n",
      "756:\tlearn: 0.2141087\ttotal: 3.65s\tremaining: 1.17s\n",
      "757:\tlearn: 0.2141073\ttotal: 3.65s\tremaining: 1.17s\n",
      "758:\tlearn: 0.2140996\ttotal: 3.65s\tremaining: 1.16s\n",
      "759:\tlearn: 0.2140925\ttotal: 3.66s\tremaining: 1.16s\n",
      "760:\tlearn: 0.2140924\ttotal: 3.67s\tremaining: 1.15s\n",
      "761:\tlearn: 0.2140820\ttotal: 3.67s\tremaining: 1.15s\n",
      "762:\tlearn: 0.2140689\ttotal: 3.67s\tremaining: 1.14s\n",
      "763:\tlearn: 0.2140634\ttotal: 3.68s\tremaining: 1.14s\n",
      "764:\tlearn: 0.2140541\ttotal: 3.68s\tremaining: 1.13s\n",
      "765:\tlearn: 0.2140487\ttotal: 3.69s\tremaining: 1.13s\n",
      "766:\tlearn: 0.2140411\ttotal: 3.69s\tremaining: 1.12s\n",
      "767:\tlearn: 0.2140349\ttotal: 3.69s\tremaining: 1.12s\n",
      "768:\tlearn: 0.2140337\ttotal: 3.7s\tremaining: 1.11s\n",
      "769:\tlearn: 0.2140275\ttotal: 3.71s\tremaining: 1.11s\n",
      "770:\tlearn: 0.2140209\ttotal: 3.71s\tremaining: 1.1s\n",
      "771:\tlearn: 0.2140209\ttotal: 3.71s\tremaining: 1.1s\n",
      "772:\tlearn: 0.2140129\ttotal: 3.72s\tremaining: 1.09s\n",
      "773:\tlearn: 0.2140055\ttotal: 3.73s\tremaining: 1.09s\n",
      "774:\tlearn: 0.2139994\ttotal: 3.73s\tremaining: 1.08s\n",
      "775:\tlearn: 0.2139941\ttotal: 3.74s\tremaining: 1.08s\n",
      "776:\tlearn: 0.2139902\ttotal: 3.74s\tremaining: 1.07s\n",
      "777:\tlearn: 0.2139849\ttotal: 3.75s\tremaining: 1.07s\n",
      "778:\tlearn: 0.2139765\ttotal: 3.75s\tremaining: 1.06s\n",
      "779:\tlearn: 0.2139708\ttotal: 3.76s\tremaining: 1.06s\n",
      "780:\tlearn: 0.2139648\ttotal: 3.76s\tremaining: 1.05s\n",
      "781:\tlearn: 0.2139592\ttotal: 3.77s\tremaining: 1.05s\n",
      "782:\tlearn: 0.2139498\ttotal: 3.77s\tremaining: 1.04s\n",
      "783:\tlearn: 0.2139483\ttotal: 3.77s\tremaining: 1.04s\n",
      "784:\tlearn: 0.2139447\ttotal: 3.78s\tremaining: 1.03s\n",
      "785:\tlearn: 0.2139345\ttotal: 3.79s\tremaining: 1.03s\n",
      "786:\tlearn: 0.2139345\ttotal: 3.79s\tremaining: 1.02s\n",
      "787:\tlearn: 0.2139270\ttotal: 3.79s\tremaining: 1.02s\n",
      "788:\tlearn: 0.2139231\ttotal: 3.8s\tremaining: 1.02s\n",
      "789:\tlearn: 0.2139145\ttotal: 3.8s\tremaining: 1.01s\n",
      "790:\tlearn: 0.2139087\ttotal: 3.81s\tremaining: 1.01s\n",
      "791:\tlearn: 0.2139029\ttotal: 3.81s\tremaining: 1s\n",
      "792:\tlearn: 0.2138992\ttotal: 3.82s\tremaining: 997ms\n",
      "793:\tlearn: 0.2138932\ttotal: 3.82s\tremaining: 992ms\n",
      "794:\tlearn: 0.2138861\ttotal: 3.83s\tremaining: 988ms\n",
      "795:\tlearn: 0.2138792\ttotal: 3.83s\tremaining: 983ms\n",
      "796:\tlearn: 0.2138733\ttotal: 3.84s\tremaining: 978ms\n",
      "797:\tlearn: 0.2138673\ttotal: 3.84s\tremaining: 973ms\n",
      "798:\tlearn: 0.2138596\ttotal: 3.85s\tremaining: 969ms\n",
      "799:\tlearn: 0.2138502\ttotal: 3.85s\tremaining: 964ms\n",
      "800:\tlearn: 0.2138390\ttotal: 3.86s\tremaining: 959ms\n",
      "801:\tlearn: 0.2138309\ttotal: 3.87s\tremaining: 954ms\n",
      "802:\tlearn: 0.2138295\ttotal: 3.87s\tremaining: 950ms\n",
      "803:\tlearn: 0.2138240\ttotal: 3.88s\tremaining: 945ms\n",
      "804:\tlearn: 0.2138230\ttotal: 3.88s\tremaining: 940ms\n",
      "805:\tlearn: 0.2138135\ttotal: 3.89s\tremaining: 936ms\n",
      "806:\tlearn: 0.2138077\ttotal: 3.9s\tremaining: 932ms\n",
      "807:\tlearn: 0.2138036\ttotal: 3.9s\tremaining: 928ms\n",
      "808:\tlearn: 0.2137990\ttotal: 3.91s\tremaining: 924ms\n",
      "809:\tlearn: 0.2137977\ttotal: 3.92s\tremaining: 921ms\n",
      "810:\tlearn: 0.2137897\ttotal: 3.93s\tremaining: 917ms\n",
      "811:\tlearn: 0.2137826\ttotal: 3.94s\tremaining: 913ms\n",
      "812:\tlearn: 0.2137723\ttotal: 3.95s\tremaining: 908ms\n",
      "813:\tlearn: 0.2137638\ttotal: 3.95s\tremaining: 903ms\n",
      "814:\tlearn: 0.2137524\ttotal: 3.96s\tremaining: 899ms\n",
      "815:\tlearn: 0.2137467\ttotal: 3.97s\tremaining: 896ms\n",
      "816:\tlearn: 0.2137395\ttotal: 3.98s\tremaining: 892ms\n",
      "817:\tlearn: 0.2137380\ttotal: 3.99s\tremaining: 887ms\n",
      "818:\tlearn: 0.2137366\ttotal: 4s\tremaining: 884ms\n",
      "819:\tlearn: 0.2137365\ttotal: 4.01s\tremaining: 880ms\n",
      "820:\tlearn: 0.2137326\ttotal: 4.02s\tremaining: 877ms\n",
      "821:\tlearn: 0.2137191\ttotal: 4.03s\tremaining: 873ms\n",
      "822:\tlearn: 0.2137144\ttotal: 4.04s\tremaining: 869ms\n",
      "823:\tlearn: 0.2137061\ttotal: 4.05s\tremaining: 864ms\n",
      "824:\tlearn: 0.2136926\ttotal: 4.05s\tremaining: 860ms\n",
      "825:\tlearn: 0.2136853\ttotal: 4.06s\tremaining: 856ms\n",
      "826:\tlearn: 0.2136757\ttotal: 4.07s\tremaining: 852ms\n",
      "827:\tlearn: 0.2136673\ttotal: 4.08s\tremaining: 848ms\n",
      "828:\tlearn: 0.2136592\ttotal: 4.09s\tremaining: 844ms\n",
      "829:\tlearn: 0.2136457\ttotal: 4.1s\tremaining: 841ms\n",
      "830:\tlearn: 0.2136449\ttotal: 4.11s\tremaining: 837ms\n",
      "831:\tlearn: 0.2136355\ttotal: 4.13s\tremaining: 834ms\n",
      "832:\tlearn: 0.2136288\ttotal: 4.14s\tremaining: 830ms\n",
      "833:\tlearn: 0.2136262\ttotal: 4.14s\tremaining: 825ms\n",
      "834:\tlearn: 0.2136161\ttotal: 4.15s\tremaining: 821ms\n",
      "835:\tlearn: 0.2136076\ttotal: 4.16s\tremaining: 817ms\n",
      "836:\tlearn: 0.2135949\ttotal: 4.17s\tremaining: 813ms\n",
      "837:\tlearn: 0.2135903\ttotal: 4.18s\tremaining: 809ms\n",
      "838:\tlearn: 0.2135866\ttotal: 4.19s\tremaining: 804ms\n",
      "839:\tlearn: 0.2135817\ttotal: 4.19s\tremaining: 799ms\n",
      "840:\tlearn: 0.2135727\ttotal: 4.2s\tremaining: 794ms\n",
      "841:\tlearn: 0.2135609\ttotal: 4.2s\tremaining: 789ms\n",
      "842:\tlearn: 0.2135521\ttotal: 4.21s\tremaining: 784ms\n",
      "843:\tlearn: 0.2135490\ttotal: 4.21s\tremaining: 779ms\n",
      "844:\tlearn: 0.2135438\ttotal: 4.22s\tremaining: 774ms\n",
      "845:\tlearn: 0.2135299\ttotal: 4.22s\tremaining: 769ms\n",
      "846:\tlearn: 0.2135228\ttotal: 4.23s\tremaining: 763ms\n",
      "847:\tlearn: 0.2135169\ttotal: 4.23s\tremaining: 759ms\n",
      "848:\tlearn: 0.2135111\ttotal: 4.24s\tremaining: 753ms\n",
      "849:\tlearn: 0.2135029\ttotal: 4.24s\tremaining: 748ms\n",
      "850:\tlearn: 0.2134968\ttotal: 4.25s\tremaining: 743ms\n",
      "851:\tlearn: 0.2134886\ttotal: 4.25s\tremaining: 738ms\n",
      "852:\tlearn: 0.2134814\ttotal: 4.25s\tremaining: 733ms\n",
      "853:\tlearn: 0.2134769\ttotal: 4.26s\tremaining: 728ms\n",
      "854:\tlearn: 0.2134713\ttotal: 4.26s\tremaining: 723ms\n",
      "855:\tlearn: 0.2134615\ttotal: 4.27s\tremaining: 718ms\n",
      "856:\tlearn: 0.2134531\ttotal: 4.27s\tremaining: 713ms\n",
      "857:\tlearn: 0.2134466\ttotal: 4.28s\tremaining: 708ms\n",
      "858:\tlearn: 0.2134412\ttotal: 4.28s\tremaining: 703ms\n",
      "859:\tlearn: 0.2134385\ttotal: 4.29s\tremaining: 698ms\n",
      "860:\tlearn: 0.2134300\ttotal: 4.29s\tremaining: 693ms\n",
      "861:\tlearn: 0.2134239\ttotal: 4.3s\tremaining: 688ms\n",
      "862:\tlearn: 0.2134191\ttotal: 4.3s\tremaining: 683ms\n",
      "863:\tlearn: 0.2134085\ttotal: 4.31s\tremaining: 678ms\n",
      "864:\tlearn: 0.2134029\ttotal: 4.31s\tremaining: 673ms\n",
      "865:\tlearn: 0.2133986\ttotal: 4.32s\tremaining: 668ms\n"
     ]
    },
    {
     "name": "stdout",
     "output_type": "stream",
     "text": [
      "866:\tlearn: 0.2133919\ttotal: 4.32s\tremaining: 663ms\n",
      "867:\tlearn: 0.2133791\ttotal: 4.33s\tremaining: 658ms\n",
      "868:\tlearn: 0.2133674\ttotal: 4.33s\tremaining: 653ms\n",
      "869:\tlearn: 0.2133626\ttotal: 4.34s\tremaining: 648ms\n",
      "870:\tlearn: 0.2133572\ttotal: 4.35s\tremaining: 644ms\n",
      "871:\tlearn: 0.2133454\ttotal: 4.35s\tremaining: 639ms\n",
      "872:\tlearn: 0.2133397\ttotal: 4.36s\tremaining: 634ms\n",
      "873:\tlearn: 0.2133355\ttotal: 4.36s\tremaining: 629ms\n",
      "874:\tlearn: 0.2133232\ttotal: 4.37s\tremaining: 624ms\n",
      "875:\tlearn: 0.2133146\ttotal: 4.37s\tremaining: 619ms\n",
      "876:\tlearn: 0.2133070\ttotal: 4.38s\tremaining: 614ms\n",
      "877:\tlearn: 0.2133003\ttotal: 4.38s\tremaining: 609ms\n",
      "878:\tlearn: 0.2132937\ttotal: 4.38s\tremaining: 604ms\n",
      "879:\tlearn: 0.2132858\ttotal: 4.39s\tremaining: 599ms\n",
      "880:\tlearn: 0.2132832\ttotal: 4.39s\tremaining: 594ms\n",
      "881:\tlearn: 0.2132775\ttotal: 4.4s\tremaining: 589ms\n",
      "882:\tlearn: 0.2132701\ttotal: 4.41s\tremaining: 585ms\n",
      "883:\tlearn: 0.2132634\ttotal: 4.42s\tremaining: 579ms\n",
      "884:\tlearn: 0.2132615\ttotal: 4.42s\tremaining: 575ms\n",
      "885:\tlearn: 0.2132521\ttotal: 4.43s\tremaining: 570ms\n",
      "886:\tlearn: 0.2132459\ttotal: 4.43s\tremaining: 564ms\n",
      "887:\tlearn: 0.2132385\ttotal: 4.44s\tremaining: 560ms\n",
      "888:\tlearn: 0.2132341\ttotal: 4.44s\tremaining: 555ms\n",
      "889:\tlearn: 0.2132246\ttotal: 4.45s\tremaining: 550ms\n",
      "890:\tlearn: 0.2132179\ttotal: 4.45s\tremaining: 545ms\n",
      "891:\tlearn: 0.2132111\ttotal: 4.46s\tremaining: 540ms\n",
      "892:\tlearn: 0.2132058\ttotal: 4.46s\tremaining: 535ms\n",
      "893:\tlearn: 0.2131978\ttotal: 4.47s\tremaining: 530ms\n",
      "894:\tlearn: 0.2131931\ttotal: 4.47s\tremaining: 525ms\n",
      "895:\tlearn: 0.2131874\ttotal: 4.48s\tremaining: 520ms\n",
      "896:\tlearn: 0.2131801\ttotal: 4.48s\tremaining: 515ms\n",
      "897:\tlearn: 0.2131742\ttotal: 4.49s\tremaining: 510ms\n",
      "898:\tlearn: 0.2131676\ttotal: 4.5s\tremaining: 505ms\n",
      "899:\tlearn: 0.2131618\ttotal: 4.5s\tremaining: 501ms\n",
      "900:\tlearn: 0.2131574\ttotal: 4.51s\tremaining: 495ms\n",
      "901:\tlearn: 0.2131501\ttotal: 4.51s\tremaining: 491ms\n",
      "902:\tlearn: 0.2131419\ttotal: 4.52s\tremaining: 486ms\n",
      "903:\tlearn: 0.2131329\ttotal: 4.53s\tremaining: 481ms\n",
      "904:\tlearn: 0.2131286\ttotal: 4.53s\tremaining: 476ms\n",
      "905:\tlearn: 0.2131201\ttotal: 4.54s\tremaining: 471ms\n",
      "906:\tlearn: 0.2131161\ttotal: 4.54s\tremaining: 466ms\n",
      "907:\tlearn: 0.2131098\ttotal: 4.55s\tremaining: 461ms\n",
      "908:\tlearn: 0.2131031\ttotal: 4.55s\tremaining: 456ms\n",
      "909:\tlearn: 0.2130977\ttotal: 4.56s\tremaining: 451ms\n",
      "910:\tlearn: 0.2130934\ttotal: 4.56s\tremaining: 446ms\n",
      "911:\tlearn: 0.2130861\ttotal: 4.57s\tremaining: 441ms\n",
      "912:\tlearn: 0.2130828\ttotal: 4.57s\tremaining: 436ms\n",
      "913:\tlearn: 0.2130770\ttotal: 4.58s\tremaining: 431ms\n",
      "914:\tlearn: 0.2130684\ttotal: 4.58s\tremaining: 426ms\n",
      "915:\tlearn: 0.2130613\ttotal: 4.59s\tremaining: 421ms\n",
      "916:\tlearn: 0.2130558\ttotal: 4.59s\tremaining: 416ms\n",
      "917:\tlearn: 0.2130451\ttotal: 4.6s\tremaining: 411ms\n",
      "918:\tlearn: 0.2130380\ttotal: 4.6s\tremaining: 406ms\n",
      "919:\tlearn: 0.2130317\ttotal: 4.61s\tremaining: 401ms\n",
      "920:\tlearn: 0.2130220\ttotal: 4.61s\tremaining: 396ms\n",
      "921:\tlearn: 0.2130178\ttotal: 4.62s\tremaining: 391ms\n",
      "922:\tlearn: 0.2130134\ttotal: 4.62s\tremaining: 386ms\n",
      "923:\tlearn: 0.2130022\ttotal: 4.63s\tremaining: 381ms\n",
      "924:\tlearn: 0.2129984\ttotal: 4.63s\tremaining: 376ms\n",
      "925:\tlearn: 0.2129903\ttotal: 4.64s\tremaining: 371ms\n",
      "926:\tlearn: 0.2129827\ttotal: 4.64s\tremaining: 366ms\n",
      "927:\tlearn: 0.2129754\ttotal: 4.65s\tremaining: 361ms\n",
      "928:\tlearn: 0.2129663\ttotal: 4.65s\tremaining: 356ms\n",
      "929:\tlearn: 0.2129599\ttotal: 4.66s\tremaining: 351ms\n",
      "930:\tlearn: 0.2129558\ttotal: 4.66s\tremaining: 345ms\n",
      "931:\tlearn: 0.2129480\ttotal: 4.67s\tremaining: 340ms\n",
      "932:\tlearn: 0.2129453\ttotal: 4.67s\tremaining: 336ms\n",
      "933:\tlearn: 0.2129376\ttotal: 4.68s\tremaining: 331ms\n",
      "934:\tlearn: 0.2129284\ttotal: 4.68s\tremaining: 325ms\n",
      "935:\tlearn: 0.2129248\ttotal: 4.68s\tremaining: 320ms\n",
      "936:\tlearn: 0.2129215\ttotal: 4.69s\tremaining: 316ms\n",
      "937:\tlearn: 0.2129123\ttotal: 4.7s\tremaining: 311ms\n",
      "938:\tlearn: 0.2129082\ttotal: 4.7s\tremaining: 306ms\n",
      "939:\tlearn: 0.2129045\ttotal: 4.71s\tremaining: 301ms\n",
      "940:\tlearn: 0.2128997\ttotal: 4.71s\tremaining: 296ms\n",
      "941:\tlearn: 0.2128931\ttotal: 4.72s\tremaining: 291ms\n",
      "942:\tlearn: 0.2128886\ttotal: 4.73s\tremaining: 286ms\n",
      "943:\tlearn: 0.2128849\ttotal: 4.73s\tremaining: 281ms\n",
      "944:\tlearn: 0.2128759\ttotal: 4.74s\tremaining: 276ms\n",
      "945:\tlearn: 0.2128715\ttotal: 4.74s\tremaining: 271ms\n",
      "946:\tlearn: 0.2128645\ttotal: 4.75s\tremaining: 266ms\n",
      "947:\tlearn: 0.2128581\ttotal: 4.75s\tremaining: 261ms\n",
      "948:\tlearn: 0.2128555\ttotal: 4.76s\tremaining: 256ms\n",
      "949:\tlearn: 0.2128504\ttotal: 4.77s\tremaining: 251ms\n",
      "950:\tlearn: 0.2128460\ttotal: 4.78s\tremaining: 246ms\n",
      "951:\tlearn: 0.2128352\ttotal: 4.79s\tremaining: 241ms\n",
      "952:\tlearn: 0.2128307\ttotal: 4.79s\tremaining: 236ms\n",
      "953:\tlearn: 0.2128199\ttotal: 4.8s\tremaining: 232ms\n",
      "954:\tlearn: 0.2128110\ttotal: 4.82s\tremaining: 227ms\n",
      "955:\tlearn: 0.2128037\ttotal: 4.83s\tremaining: 222ms\n",
      "956:\tlearn: 0.2127974\ttotal: 4.84s\tremaining: 217ms\n",
      "957:\tlearn: 0.2127961\ttotal: 4.85s\tremaining: 213ms\n",
      "958:\tlearn: 0.2127949\ttotal: 4.86s\tremaining: 208ms\n",
      "959:\tlearn: 0.2127894\ttotal: 4.87s\tremaining: 203ms\n",
      "960:\tlearn: 0.2127843\ttotal: 4.88s\tremaining: 198ms\n",
      "961:\tlearn: 0.2127768\ttotal: 4.89s\tremaining: 193ms\n",
      "962:\tlearn: 0.2127722\ttotal: 4.9s\tremaining: 188ms\n",
      "963:\tlearn: 0.2127714\ttotal: 4.92s\tremaining: 184ms\n",
      "964:\tlearn: 0.2127706\ttotal: 4.92s\tremaining: 179ms\n",
      "965:\tlearn: 0.2127695\ttotal: 4.94s\tremaining: 174ms\n",
      "966:\tlearn: 0.2127594\ttotal: 4.95s\tremaining: 169ms\n",
      "967:\tlearn: 0.2127583\ttotal: 4.96s\tremaining: 164ms\n",
      "968:\tlearn: 0.2127498\ttotal: 4.97s\tremaining: 159ms\n",
      "969:\tlearn: 0.2127389\ttotal: 4.98s\tremaining: 154ms\n",
      "970:\tlearn: 0.2127339\ttotal: 4.99s\tremaining: 149ms\n",
      "971:\tlearn: 0.2127311\ttotal: 5s\tremaining: 144ms\n",
      "972:\tlearn: 0.2127226\ttotal: 5.01s\tremaining: 139ms\n",
      "973:\tlearn: 0.2127215\ttotal: 5.02s\tremaining: 134ms\n",
      "974:\tlearn: 0.2127176\ttotal: 5.03s\tremaining: 129ms\n",
      "975:\tlearn: 0.2127062\ttotal: 5.03s\tremaining: 124ms\n",
      "976:\tlearn: 0.2127036\ttotal: 5.04s\tremaining: 119ms\n",
      "977:\tlearn: 0.2127008\ttotal: 5.04s\tremaining: 113ms\n",
      "978:\tlearn: 0.2126935\ttotal: 5.05s\tremaining: 108ms\n",
      "979:\tlearn: 0.2126929\ttotal: 5.05s\tremaining: 103ms\n",
      "980:\tlearn: 0.2126910\ttotal: 5.06s\tremaining: 98ms\n",
      "981:\tlearn: 0.2126793\ttotal: 5.07s\tremaining: 92.9ms\n",
      "982:\tlearn: 0.2126740\ttotal: 5.07s\tremaining: 87.7ms\n",
      "983:\tlearn: 0.2126635\ttotal: 5.08s\tremaining: 82.6ms\n",
      "984:\tlearn: 0.2126608\ttotal: 5.08s\tremaining: 77.4ms\n",
      "985:\tlearn: 0.2126552\ttotal: 5.09s\tremaining: 72.2ms\n",
      "986:\tlearn: 0.2126533\ttotal: 5.09s\tremaining: 67.1ms\n",
      "987:\tlearn: 0.2126522\ttotal: 5.1s\tremaining: 61.9ms\n",
      "988:\tlearn: 0.2126454\ttotal: 5.1s\tremaining: 56.8ms\n",
      "989:\tlearn: 0.2126442\ttotal: 5.11s\tremaining: 51.6ms\n",
      "990:\tlearn: 0.2126364\ttotal: 5.11s\tremaining: 46.4ms\n",
      "991:\tlearn: 0.2126240\ttotal: 5.12s\tremaining: 41.3ms\n",
      "992:\tlearn: 0.2126199\ttotal: 5.12s\tremaining: 36.1ms\n",
      "993:\tlearn: 0.2126143\ttotal: 5.13s\tremaining: 31ms\n",
      "994:\tlearn: 0.2126036\ttotal: 5.14s\tremaining: 25.8ms\n",
      "995:\tlearn: 0.2125962\ttotal: 5.14s\tremaining: 20.7ms\n",
      "996:\tlearn: 0.2125869\ttotal: 5.15s\tremaining: 15.5ms\n",
      "997:\tlearn: 0.2125804\ttotal: 5.16s\tremaining: 10.3ms\n",
      "998:\tlearn: 0.2125738\ttotal: 5.17s\tremaining: 5.17ms\n",
      "999:\tlearn: 0.2125712\ttotal: 5.17s\tremaining: 0us\n"
     ]
    },
    {
     "data": {
      "text/plain": [
       "<catboost.core.CatBoostRegressor at 0x12c956150>"
      ]
     },
     "execution_count": 87,
     "metadata": {},
     "output_type": "execute_result"
    }
   ],
   "source": [
    "cbr.fit(x_train, y_train)"
   ]
  },
  {
   "cell_type": "code",
   "execution_count": 88,
   "metadata": {},
   "outputs": [],
   "source": [
    "prediction = cbr.predict(x_val)"
   ]
  },
  {
   "cell_type": "code",
   "execution_count": 89,
   "metadata": {},
   "outputs": [
    {
     "data": {
      "text/plain": [
       "0.1343670330957683"
      ]
     },
     "execution_count": 89,
     "metadata": {},
     "output_type": "execute_result"
    }
   ],
   "source": [
    "rmse(y_val, prediction)"
   ]
  },
  {
   "cell_type": "code",
   "execution_count": 90,
   "metadata": {},
   "outputs": [],
   "source": [
    "pred = cbr.predict(X_test)"
   ]
  },
  {
   "cell_type": "code",
   "execution_count": 91,
   "metadata": {},
   "outputs": [],
   "source": [
    "submission = pd.DataFrame()"
   ]
  },
  {
   "cell_type": "code",
   "execution_count": 92,
   "metadata": {},
   "outputs": [],
   "source": [
    "submission['id'] = test['id']\n",
    "submission['target'] = pred"
   ]
  },
  {
   "cell_type": "code",
   "execution_count": 93,
   "metadata": {},
   "outputs": [],
   "source": [
    "submission.to_csv('submission-CatBoost.csv', index = False)"
   ]
  },
  {
   "cell_type": "markdown",
   "metadata": {},
   "source": [
    "### XGBoost"
   ]
  },
  {
   "cell_type": "code",
   "execution_count": 94,
   "metadata": {},
   "outputs": [],
   "source": [
    "import xgboost as xgb"
   ]
  },
  {
   "cell_type": "code",
   "execution_count": 95,
   "metadata": {},
   "outputs": [],
   "source": [
    "xgc = xgb.XGBClassifier()"
   ]
  },
  {
   "cell_type": "code",
   "execution_count": 96,
   "metadata": {},
   "outputs": [
    {
     "data": {
      "text/plain": [
       "XGBClassifier(base_score=None, booster=None, colsample_bylevel=None,\n",
       "              colsample_bynode=None, colsample_bytree=0.7, eta=0.03, gamma=0.7,\n",
       "              gpu_id=None, importance_type='gain', interaction_constraints=None,\n",
       "              learning_rate=None, max_delta_step=None, max_depth=2,\n",
       "              min_child_weight=1, missing=nan, monotone_constraints=None,\n",
       "              n_estimators=250, n_jobs=None, num_parallel_tree=None,\n",
       "              objective='binary:logistic', random_state=None, reg_alpha=None,\n",
       "              reg_lambda=None, scale_pos_weight=None, subsample=0.85,\n",
       "              tree_method=None, validate_parameters=False, verbosity=None)"
      ]
     },
     "execution_count": 96,
     "metadata": {},
     "output_type": "execute_result"
    }
   ],
   "source": [
    "xgc.set_params( **{'colsample_bytree': 0.7,\n",
    " 'eta': 0.03,\n",
    " 'gamma': 0.7,\n",
    " 'max_depth': 2,\n",
    " 'min_child_weight': 1,\n",
    " 'n_estimators': 250,\n",
    " 'subsample': 0.85})"
   ]
  },
  {
   "cell_type": "code",
   "execution_count": 97,
   "metadata": {},
   "outputs": [
    {
     "data": {
      "text/plain": [
       "XGBClassifier(base_score=0.5, booster=None, colsample_bylevel=1,\n",
       "              colsample_bynode=1, colsample_bytree=0.7, eta=0.03, gamma=0.7,\n",
       "              gpu_id=-1, importance_type='gain', interaction_constraints=None,\n",
       "              learning_rate=0.0299999993, max_delta_step=0, max_depth=2,\n",
       "              min_child_weight=1, missing=nan, monotone_constraints=None,\n",
       "              n_estimators=250, n_jobs=0, num_parallel_tree=1,\n",
       "              objective='binary:logistic', random_state=0, reg_alpha=0,\n",
       "              reg_lambda=1, scale_pos_weight=1, subsample=0.85,\n",
       "              tree_method=None, validate_parameters=False, verbosity=None)"
      ]
     },
     "execution_count": 97,
     "metadata": {},
     "output_type": "execute_result"
    }
   ],
   "source": [
    "xgc.fit(x_train, y_train)"
   ]
  },
  {
   "cell_type": "code",
   "execution_count": 98,
   "metadata": {},
   "outputs": [],
   "source": [
    "pred_Y = xgc.predict_proba(x_val)"
   ]
  },
  {
   "cell_type": "code",
   "execution_count": 99,
   "metadata": {},
   "outputs": [
    {
     "data": {
      "text/plain": [
       "0.13386315105998514"
      ]
     },
     "execution_count": 99,
     "metadata": {},
     "output_type": "execute_result"
    }
   ],
   "source": [
    "rmse(y_val, pred_Y[:,1])"
   ]
  },
  {
   "cell_type": "markdown",
   "metadata": {},
   "source": [
    "### Using entire train set on XGBoost"
   ]
  },
  {
   "cell_type": "code",
   "execution_count": 100,
   "metadata": {},
   "outputs": [],
   "source": [
    "xgc = xgb.XGBClassifier()"
   ]
  },
  {
   "cell_type": "code",
   "execution_count": 101,
   "metadata": {},
   "outputs": [
    {
     "data": {
      "text/plain": [
       "XGBClassifier(base_score=None, booster=None, colsample_bylevel=None,\n",
       "              colsample_bynode=None, colsample_bytree=0.7, eta=0.03, gamma=0.7,\n",
       "              gpu_id=None, importance_type='gain', interaction_constraints=None,\n",
       "              learning_rate=None, max_delta_step=None, max_depth=2,\n",
       "              min_child_weight=1, missing=nan, monotone_constraints=None,\n",
       "              n_estimators=250, n_jobs=None, num_parallel_tree=None,\n",
       "              objective='binary:logistic', random_state=None, reg_alpha=None,\n",
       "              reg_lambda=None, scale_pos_weight=None, subsample=0.85,\n",
       "              tree_method=None, validate_parameters=False, verbosity=None)"
      ]
     },
     "execution_count": 101,
     "metadata": {},
     "output_type": "execute_result"
    }
   ],
   "source": [
    "xgc.set_params( **{'colsample_bytree': 0.7,\n",
    " 'eta': 0.03,\n",
    " 'gamma': 0.7,\n",
    " 'max_depth': 2,\n",
    " 'min_child_weight': 1,\n",
    " 'n_estimators': 250,\n",
    " 'subsample': 0.85})"
   ]
  },
  {
   "cell_type": "code",
   "execution_count": 102,
   "metadata": {},
   "outputs": [
    {
     "data": {
      "text/plain": [
       "XGBClassifier(base_score=0.5, booster=None, colsample_bylevel=1,\n",
       "              colsample_bynode=1, colsample_bytree=0.7, eta=0.03, gamma=0.7,\n",
       "              gpu_id=-1, importance_type='gain', interaction_constraints=None,\n",
       "              learning_rate=0.0299999993, max_delta_step=0, max_depth=2,\n",
       "              min_child_weight=1, missing=nan, monotone_constraints=None,\n",
       "              n_estimators=250, n_jobs=0, num_parallel_tree=1,\n",
       "              objective='binary:logistic', random_state=0, reg_alpha=0,\n",
       "              reg_lambda=1, scale_pos_weight=1, subsample=0.85,\n",
       "              tree_method=None, validate_parameters=False, verbosity=None)"
      ]
     },
     "execution_count": 102,
     "metadata": {},
     "output_type": "execute_result"
    }
   ],
   "source": [
    "xgc.fit(X_train, Y_train)"
   ]
  },
  {
   "cell_type": "code",
   "execution_count": 103,
   "metadata": {},
   "outputs": [],
   "source": [
    "pred = xgc.predict_proba(X_test)"
   ]
  },
  {
   "cell_type": "code",
   "execution_count": 104,
   "metadata": {},
   "outputs": [],
   "source": [
    "submission = pd.DataFrame()"
   ]
  },
  {
   "cell_type": "code",
   "execution_count": 105,
   "metadata": {},
   "outputs": [],
   "source": [
    "submission['id'] = test['id']\n",
    "submission['target'] = pred[:,1]"
   ]
  },
  {
   "cell_type": "code",
   "execution_count": 106,
   "metadata": {},
   "outputs": [],
   "source": [
    "submission.to_csv('submission-XGBoost.csv', index = False)"
   ]
  }
 ],
 "metadata": {
  "kernelspec": {
   "display_name": "Python 3",
   "language": "python",
   "name": "python3"
  },
  "language_info": {
   "codemirror_mode": {
    "name": "ipython",
    "version": 3
   },
   "file_extension": ".py",
   "mimetype": "text/x-python",
   "name": "python",
   "nbconvert_exporter": "python",
   "pygments_lexer": "ipython3",
   "version": "3.7.5"
  }
 },
 "nbformat": 4,
 "nbformat_minor": 4
}

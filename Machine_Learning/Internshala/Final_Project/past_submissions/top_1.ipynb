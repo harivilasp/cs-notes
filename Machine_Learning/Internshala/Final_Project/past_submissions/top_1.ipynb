{
 "cells": [
  {
   "cell_type": "code",
   "execution_count": 1,
   "metadata": {},
   "outputs": [],
   "source": [
    "# importing libraries\n",
    "import pandas as pd\n",
    "import numpy as np\n",
    "import matplotlib.pyplot as plt\n",
    "%matplotlib inline\n",
    "from catboost import CatBoostRegressor"
   ]
  },
  {
   "cell_type": "code",
   "execution_count": 2,
   "metadata": {},
   "outputs": [],
   "source": [
    "# loadind the data\n",
    "train= pd.read_csv(\"../data/train.csv\")\n",
    "test= pd.read_csv(\"../data/test.csv\")"
   ]
  },
  {
   "cell_type": "code",
   "execution_count": 3,
   "metadata": {},
   "outputs": [
    {
     "data": {
      "text/plain": [
       "((79853, 12), (34224, 11))"
      ]
     },
     "execution_count": 3,
     "metadata": {},
     "output_type": "execute_result"
    }
   ],
   "source": [
    "# shape of training and testing data\n",
    "train.shape, test.shape"
   ]
  },
  {
   "cell_type": "code",
   "execution_count": 4,
   "metadata": {},
   "outputs": [
    {
     "data": {
      "text/html": [
       "<div>\n",
       "<style scoped>\n",
       "    .dataframe tbody tr th:only-of-type {\n",
       "        vertical-align: middle;\n",
       "    }\n",
       "\n",
       "    .dataframe tbody tr th {\n",
       "        vertical-align: top;\n",
       "    }\n",
       "\n",
       "    .dataframe thead th {\n",
       "        text-align: right;\n",
       "    }\n",
       "</style>\n",
       "<table border=\"1\" class=\"dataframe\">\n",
       "  <thead>\n",
       "    <tr style=\"text-align: right;\">\n",
       "      <th></th>\n",
       "      <th>id</th>\n",
       "      <th>perc_premium_paid_by_cash_credit</th>\n",
       "      <th>age_in_days</th>\n",
       "      <th>Income</th>\n",
       "      <th>Count_3-6_months_late</th>\n",
       "      <th>Count_6-12_months_late</th>\n",
       "      <th>Count_more_than_12_months_late</th>\n",
       "      <th>application_underwriting_score</th>\n",
       "      <th>no_of_premiums_paid</th>\n",
       "      <th>sourcing_channel</th>\n",
       "      <th>residence_area_type</th>\n",
       "      <th>target</th>\n",
       "    </tr>\n",
       "  </thead>\n",
       "  <tbody>\n",
       "    <tr>\n",
       "      <th>0</th>\n",
       "      <td>110936</td>\n",
       "      <td>0.429</td>\n",
       "      <td>12058</td>\n",
       "      <td>355060</td>\n",
       "      <td>0.0</td>\n",
       "      <td>0.0</td>\n",
       "      <td>0.0</td>\n",
       "      <td>99.02</td>\n",
       "      <td>13</td>\n",
       "      <td>C</td>\n",
       "      <td>Urban</td>\n",
       "      <td>1</td>\n",
       "    </tr>\n",
       "    <tr>\n",
       "      <th>1</th>\n",
       "      <td>41492</td>\n",
       "      <td>0.010</td>\n",
       "      <td>21546</td>\n",
       "      <td>315150</td>\n",
       "      <td>0.0</td>\n",
       "      <td>0.0</td>\n",
       "      <td>0.0</td>\n",
       "      <td>99.89</td>\n",
       "      <td>21</td>\n",
       "      <td>A</td>\n",
       "      <td>Urban</td>\n",
       "      <td>1</td>\n",
       "    </tr>\n",
       "    <tr>\n",
       "      <th>2</th>\n",
       "      <td>31300</td>\n",
       "      <td>0.917</td>\n",
       "      <td>17531</td>\n",
       "      <td>84140</td>\n",
       "      <td>2.0</td>\n",
       "      <td>3.0</td>\n",
       "      <td>1.0</td>\n",
       "      <td>98.69</td>\n",
       "      <td>7</td>\n",
       "      <td>C</td>\n",
       "      <td>Rural</td>\n",
       "      <td>0</td>\n",
       "    </tr>\n",
       "    <tr>\n",
       "      <th>3</th>\n",
       "      <td>19415</td>\n",
       "      <td>0.049</td>\n",
       "      <td>15341</td>\n",
       "      <td>250510</td>\n",
       "      <td>0.0</td>\n",
       "      <td>0.0</td>\n",
       "      <td>0.0</td>\n",
       "      <td>99.57</td>\n",
       "      <td>9</td>\n",
       "      <td>A</td>\n",
       "      <td>Urban</td>\n",
       "      <td>1</td>\n",
       "    </tr>\n",
       "    <tr>\n",
       "      <th>4</th>\n",
       "      <td>99379</td>\n",
       "      <td>0.052</td>\n",
       "      <td>31400</td>\n",
       "      <td>198680</td>\n",
       "      <td>0.0</td>\n",
       "      <td>0.0</td>\n",
       "      <td>0.0</td>\n",
       "      <td>99.87</td>\n",
       "      <td>12</td>\n",
       "      <td>B</td>\n",
       "      <td>Urban</td>\n",
       "      <td>1</td>\n",
       "    </tr>\n",
       "  </tbody>\n",
       "</table>\n",
       "</div>"
      ],
      "text/plain": [
       "       id  perc_premium_paid_by_cash_credit  age_in_days  Income  \\\n",
       "0  110936                             0.429        12058  355060   \n",
       "1   41492                             0.010        21546  315150   \n",
       "2   31300                             0.917        17531   84140   \n",
       "3   19415                             0.049        15341  250510   \n",
       "4   99379                             0.052        31400  198680   \n",
       "\n",
       "   Count_3-6_months_late  Count_6-12_months_late  \\\n",
       "0                    0.0                     0.0   \n",
       "1                    0.0                     0.0   \n",
       "2                    2.0                     3.0   \n",
       "3                    0.0                     0.0   \n",
       "4                    0.0                     0.0   \n",
       "\n",
       "   Count_more_than_12_months_late  application_underwriting_score  \\\n",
       "0                             0.0                           99.02   \n",
       "1                             0.0                           99.89   \n",
       "2                             1.0                           98.69   \n",
       "3                             0.0                           99.57   \n",
       "4                             0.0                           99.87   \n",
       "\n",
       "   no_of_premiums_paid sourcing_channel residence_area_type  target  \n",
       "0                   13                C               Urban       1  \n",
       "1                   21                A               Urban       1  \n",
       "2                    7                C               Rural       0  \n",
       "3                    9                A               Urban       1  \n",
       "4                   12                B               Urban       1  "
      ]
     },
     "execution_count": 4,
     "metadata": {},
     "output_type": "execute_result"
    }
   ],
   "source": [
    "# printing first five rows\n",
    "train.head()"
   ]
  },
  {
   "cell_type": "code",
   "execution_count": 5,
   "metadata": {},
   "outputs": [
    {
     "data": {
      "text/html": [
       "<div>\n",
       "<style scoped>\n",
       "    .dataframe tbody tr th:only-of-type {\n",
       "        vertical-align: middle;\n",
       "    }\n",
       "\n",
       "    .dataframe tbody tr th {\n",
       "        vertical-align: top;\n",
       "    }\n",
       "\n",
       "    .dataframe thead th {\n",
       "        text-align: right;\n",
       "    }\n",
       "</style>\n",
       "<table border=\"1\" class=\"dataframe\">\n",
       "  <thead>\n",
       "    <tr style=\"text-align: right;\">\n",
       "      <th></th>\n",
       "      <th>id</th>\n",
       "      <th>perc_premium_paid_by_cash_credit</th>\n",
       "      <th>age_in_days</th>\n",
       "      <th>Income</th>\n",
       "      <th>Count_3-6_months_late</th>\n",
       "      <th>Count_6-12_months_late</th>\n",
       "      <th>Count_more_than_12_months_late</th>\n",
       "      <th>application_underwriting_score</th>\n",
       "      <th>no_of_premiums_paid</th>\n",
       "      <th>sourcing_channel</th>\n",
       "      <th>residence_area_type</th>\n",
       "    </tr>\n",
       "  </thead>\n",
       "  <tbody>\n",
       "    <tr>\n",
       "      <th>0</th>\n",
       "      <td>649</td>\n",
       "      <td>0.001</td>\n",
       "      <td>27384</td>\n",
       "      <td>51150</td>\n",
       "      <td>0.0</td>\n",
       "      <td>0.0</td>\n",
       "      <td>0.0</td>\n",
       "      <td>99.89</td>\n",
       "      <td>7</td>\n",
       "      <td>A</td>\n",
       "      <td>Rural</td>\n",
       "    </tr>\n",
       "    <tr>\n",
       "      <th>1</th>\n",
       "      <td>81136</td>\n",
       "      <td>0.124</td>\n",
       "      <td>23735</td>\n",
       "      <td>285140</td>\n",
       "      <td>0.0</td>\n",
       "      <td>0.0</td>\n",
       "      <td>0.0</td>\n",
       "      <td>98.93</td>\n",
       "      <td>19</td>\n",
       "      <td>A</td>\n",
       "      <td>Urban</td>\n",
       "    </tr>\n",
       "    <tr>\n",
       "      <th>2</th>\n",
       "      <td>70762</td>\n",
       "      <td>1.000</td>\n",
       "      <td>17170</td>\n",
       "      <td>186030</td>\n",
       "      <td>0.0</td>\n",
       "      <td>0.0</td>\n",
       "      <td>0.0</td>\n",
       "      <td>NaN</td>\n",
       "      <td>2</td>\n",
       "      <td>B</td>\n",
       "      <td>Urban</td>\n",
       "    </tr>\n",
       "    <tr>\n",
       "      <th>3</th>\n",
       "      <td>53935</td>\n",
       "      <td>0.198</td>\n",
       "      <td>16068</td>\n",
       "      <td>123540</td>\n",
       "      <td>0.0</td>\n",
       "      <td>0.0</td>\n",
       "      <td>0.0</td>\n",
       "      <td>99.00</td>\n",
       "      <td>11</td>\n",
       "      <td>B</td>\n",
       "      <td>Rural</td>\n",
       "    </tr>\n",
       "    <tr>\n",
       "      <th>4</th>\n",
       "      <td>15476</td>\n",
       "      <td>0.041</td>\n",
       "      <td>10591</td>\n",
       "      <td>200020</td>\n",
       "      <td>1.0</td>\n",
       "      <td>0.0</td>\n",
       "      <td>0.0</td>\n",
       "      <td>99.17</td>\n",
       "      <td>14</td>\n",
       "      <td>A</td>\n",
       "      <td>Rural</td>\n",
       "    </tr>\n",
       "  </tbody>\n",
       "</table>\n",
       "</div>"
      ],
      "text/plain": [
       "      id  perc_premium_paid_by_cash_credit  age_in_days  Income  \\\n",
       "0    649                             0.001        27384   51150   \n",
       "1  81136                             0.124        23735  285140   \n",
       "2  70762                             1.000        17170  186030   \n",
       "3  53935                             0.198        16068  123540   \n",
       "4  15476                             0.041        10591  200020   \n",
       "\n",
       "   Count_3-6_months_late  Count_6-12_months_late  \\\n",
       "0                    0.0                     0.0   \n",
       "1                    0.0                     0.0   \n",
       "2                    0.0                     0.0   \n",
       "3                    0.0                     0.0   \n",
       "4                    1.0                     0.0   \n",
       "\n",
       "   Count_more_than_12_months_late  application_underwriting_score  \\\n",
       "0                             0.0                           99.89   \n",
       "1                             0.0                           98.93   \n",
       "2                             0.0                             NaN   \n",
       "3                             0.0                           99.00   \n",
       "4                             0.0                           99.17   \n",
       "\n",
       "   no_of_premiums_paid sourcing_channel residence_area_type  \n",
       "0                    7                A               Rural  \n",
       "1                   19                A               Urban  \n",
       "2                    2                B               Urban  \n",
       "3                   11                B               Rural  \n",
       "4                   14                A               Rural  "
      ]
     },
     "execution_count": 5,
     "metadata": {},
     "output_type": "execute_result"
    }
   ],
   "source": [
    "test.head()"
   ]
  },
  {
   "cell_type": "code",
   "execution_count": 6,
   "metadata": {},
   "outputs": [
    {
     "data": {
      "text/plain": [
       "(Index(['id', 'perc_premium_paid_by_cash_credit', 'age_in_days', 'Income',\n",
       "        'Count_3-6_months_late', 'Count_6-12_months_late',\n",
       "        'Count_more_than_12_months_late', 'application_underwriting_score',\n",
       "        'no_of_premiums_paid', 'sourcing_channel', 'residence_area_type',\n",
       "        'target'],\n",
       "       dtype='object'),\n",
       " Index(['id', 'perc_premium_paid_by_cash_credit', 'age_in_days', 'Income',\n",
       "        'Count_3-6_months_late', 'Count_6-12_months_late',\n",
       "        'Count_more_than_12_months_late', 'application_underwriting_score',\n",
       "        'no_of_premiums_paid', 'sourcing_channel', 'residence_area_type'],\n",
       "       dtype='object'))"
      ]
     },
     "execution_count": 6,
     "metadata": {},
     "output_type": "execute_result"
    }
   ],
   "source": [
    "# columns in the dataset\n",
    "train.columns, test.columns"
   ]
  },
  {
   "cell_type": "code",
   "execution_count": 7,
   "metadata": {},
   "outputs": [
    {
     "data": {
      "text/plain": [
       "id                                    int64\n",
       "perc_premium_paid_by_cash_credit    float64\n",
       "age_in_days                           int64\n",
       "Income                                int64\n",
       "Count_3-6_months_late               float64\n",
       "Count_6-12_months_late              float64\n",
       "Count_more_than_12_months_late      float64\n",
       "application_underwriting_score      float64\n",
       "no_of_premiums_paid                   int64\n",
       "sourcing_channel                     object\n",
       "residence_area_type                  object\n",
       "target                                int64\n",
       "dtype: object"
      ]
     },
     "execution_count": 7,
     "metadata": {},
     "output_type": "execute_result"
    }
   ],
   "source": [
    "# Data type of the columns\n",
    "train.dtypes"
   ]
  },
  {
   "cell_type": "code",
   "execution_count": 8,
   "metadata": {},
   "outputs": [],
   "source": [
    "# Removing the unneccesary columns from train and test sata set\n",
    "train = train.drop(['sourcing_channel','residence_area_type'],axis=1)\n",
    "test = test.drop(['residence_area_type','sourcing_channel'], axis=1)"
   ]
  },
  {
   "cell_type": "code",
   "execution_count": 9,
   "metadata": {},
   "outputs": [
    {
     "data": {
      "text/plain": [
       "<matplotlib.axes._subplots.AxesSubplot at 0x112917d50>"
      ]
     },
     "execution_count": 9,
     "metadata": {},
     "output_type": "execute_result"
    },
    {
     "data": {
      "image/png": "[encoded data removed]",
      "text/plain": [
       "<Figure size 432x288 with 1 Axes>"
      ]
     },
     "metadata": {
      "needs_background": "light"
     },
     "output_type": "display_data"
    }
   ],
   "source": [
    "# distribution of target variable\n",
    "train['target'].plot.hist()"
   ]
  },
  {
   "cell_type": "code",
   "execution_count": 10,
   "metadata": {},
   "outputs": [],
   "source": [
    "# looking at the correlation between variables\n",
    "corr= train.corr()"
   ]
  },
  {
   "cell_type": "code",
   "execution_count": 11,
   "metadata": {},
   "outputs": [
    {
     "data": {
      "text/html": [
       "<div>\n",
       "<style scoped>\n",
       "    .dataframe tbody tr th:only-of-type {\n",
       "        vertical-align: middle;\n",
       "    }\n",
       "\n",
       "    .dataframe tbody tr th {\n",
       "        vertical-align: top;\n",
       "    }\n",
       "\n",
       "    .dataframe thead th {\n",
       "        text-align: right;\n",
       "    }\n",
       "</style>\n",
       "<table border=\"1\" class=\"dataframe\">\n",
       "  <thead>\n",
       "    <tr style=\"text-align: right;\">\n",
       "      <th></th>\n",
       "      <th>id</th>\n",
       "      <th>perc_premium_paid_by_cash_credit</th>\n",
       "      <th>age_in_days</th>\n",
       "      <th>Income</th>\n",
       "      <th>Count_3-6_months_late</th>\n",
       "      <th>Count_6-12_months_late</th>\n",
       "      <th>Count_more_than_12_months_late</th>\n",
       "      <th>application_underwriting_score</th>\n",
       "      <th>no_of_premiums_paid</th>\n",
       "      <th>target</th>\n",
       "    </tr>\n",
       "  </thead>\n",
       "  <tbody>\n",
       "    <tr>\n",
       "      <th>id</th>\n",
       "      <td>1.000000</td>\n",
       "      <td>-0.004833</td>\n",
       "      <td>0.005184</td>\n",
       "      <td>-0.001798</td>\n",
       "      <td>-0.005660</td>\n",
       "      <td>-0.002125</td>\n",
       "      <td>0.003424</td>\n",
       "      <td>-0.002124</td>\n",
       "      <td>-0.003328</td>\n",
       "      <td>-0.005064</td>\n",
       "    </tr>\n",
       "    <tr>\n",
       "      <th>perc_premium_paid_by_cash_credit</th>\n",
       "      <td>-0.004833</td>\n",
       "      <td>1.000000</td>\n",
       "      <td>-0.259131</td>\n",
       "      <td>-0.031868</td>\n",
       "      <td>0.214470</td>\n",
       "      <td>0.214951</td>\n",
       "      <td>0.168125</td>\n",
       "      <td>-0.142670</td>\n",
       "      <td>-0.152837</td>\n",
       "      <td>-0.240980</td>\n",
       "    </tr>\n",
       "    <tr>\n",
       "      <th>age_in_days</th>\n",
       "      <td>0.005184</td>\n",
       "      <td>-0.259131</td>\n",
       "      <td>1.000000</td>\n",
       "      <td>0.029308</td>\n",
       "      <td>-0.058366</td>\n",
       "      <td>-0.072731</td>\n",
       "      <td>-0.059407</td>\n",
       "      <td>0.049888</td>\n",
       "      <td>0.176544</td>\n",
       "      <td>0.095103</td>\n",
       "    </tr>\n",
       "    <tr>\n",
       "      <th>Income</th>\n",
       "      <td>-0.001798</td>\n",
       "      <td>-0.031868</td>\n",
       "      <td>0.029308</td>\n",
       "      <td>1.000000</td>\n",
       "      <td>-0.001403</td>\n",
       "      <td>-0.017347</td>\n",
       "      <td>-0.012399</td>\n",
       "      <td>0.085746</td>\n",
       "      <td>0.079078</td>\n",
       "      <td>0.016541</td>\n",
       "    </tr>\n",
       "    <tr>\n",
       "      <th>Count_3-6_months_late</th>\n",
       "      <td>-0.005660</td>\n",
       "      <td>0.214470</td>\n",
       "      <td>-0.058366</td>\n",
       "      <td>-0.001403</td>\n",
       "      <td>1.000000</td>\n",
       "      <td>0.204228</td>\n",
       "      <td>0.296085</td>\n",
       "      <td>-0.082781</td>\n",
       "      <td>0.075828</td>\n",
       "      <td>-0.248900</td>\n",
       "    </tr>\n",
       "    <tr>\n",
       "      <th>Count_6-12_months_late</th>\n",
       "      <td>-0.002125</td>\n",
       "      <td>0.214951</td>\n",
       "      <td>-0.072731</td>\n",
       "      <td>-0.017347</td>\n",
       "      <td>0.204228</td>\n",
       "      <td>1.000000</td>\n",
       "      <td>0.266306</td>\n",
       "      <td>0.004785</td>\n",
       "      <td>-0.093133</td>\n",
       "      <td>-0.286159</td>\n",
       "    </tr>\n",
       "    <tr>\n",
       "      <th>Count_more_than_12_months_late</th>\n",
       "      <td>0.003424</td>\n",
       "      <td>0.168125</td>\n",
       "      <td>-0.059407</td>\n",
       "      <td>-0.012399</td>\n",
       "      <td>0.296085</td>\n",
       "      <td>0.266306</td>\n",
       "      <td>1.000000</td>\n",
       "      <td>-0.031726</td>\n",
       "      <td>-0.021848</td>\n",
       "      <td>-0.240385</td>\n",
       "    </tr>\n",
       "    <tr>\n",
       "      <th>application_underwriting_score</th>\n",
       "      <td>-0.002124</td>\n",
       "      <td>-0.142670</td>\n",
       "      <td>0.049888</td>\n",
       "      <td>0.085746</td>\n",
       "      <td>-0.082781</td>\n",
       "      <td>0.004785</td>\n",
       "      <td>-0.031726</td>\n",
       "      <td>1.000000</td>\n",
       "      <td>-0.270864</td>\n",
       "      <td>0.068715</td>\n",
       "    </tr>\n",
       "    <tr>\n",
       "      <th>no_of_premiums_paid</th>\n",
       "      <td>-0.003328</td>\n",
       "      <td>-0.152837</td>\n",
       "      <td>0.176544</td>\n",
       "      <td>0.079078</td>\n",
       "      <td>0.075828</td>\n",
       "      <td>-0.093133</td>\n",
       "      <td>-0.021848</td>\n",
       "      <td>-0.270864</td>\n",
       "      <td>1.000000</td>\n",
       "      <td>0.022664</td>\n",
       "    </tr>\n",
       "    <tr>\n",
       "      <th>target</th>\n",
       "      <td>-0.005064</td>\n",
       "      <td>-0.240980</td>\n",
       "      <td>0.095103</td>\n",
       "      <td>0.016541</td>\n",
       "      <td>-0.248900</td>\n",
       "      <td>-0.286159</td>\n",
       "      <td>-0.240385</td>\n",
       "      <td>0.068715</td>\n",
       "      <td>0.022664</td>\n",
       "      <td>1.000000</td>\n",
       "    </tr>\n",
       "  </tbody>\n",
       "</table>\n",
       "</div>"
      ],
      "text/plain": [
       "                                        id  perc_premium_paid_by_cash_credit  \\\n",
       "id                                1.000000                         -0.004833   \n",
       "perc_premium_paid_by_cash_credit -0.004833                          1.000000   \n",
       "age_in_days                       0.005184                         -0.259131   \n",
       "Income                           -0.001798                         -0.031868   \n",
       "Count_3-6_months_late            -0.005660                          0.214470   \n",
       "Count_6-12_months_late           -0.002125                          0.214951   \n",
       "Count_more_than_12_months_late    0.003424                          0.168125   \n",
       "application_underwriting_score   -0.002124                         -0.142670   \n",
       "no_of_premiums_paid              -0.003328                         -0.152837   \n",
       "target                           -0.005064                         -0.240980   \n",
       "\n",
       "                                  age_in_days    Income  \\\n",
       "id                                   0.005184 -0.001798   \n",
       "perc_premium_paid_by_cash_credit    -0.259131 -0.031868   \n",
       "age_in_days                          1.000000  0.029308   \n",
       "Income                               0.029308  1.000000   \n",
       "Count_3-6_months_late               -0.058366 -0.001403   \n",
       "Count_6-12_months_late              -0.072731 -0.017347   \n",
       "Count_more_than_12_months_late      -0.059407 -0.012399   \n",
       "application_underwriting_score       0.049888  0.085746   \n",
       "no_of_premiums_paid                  0.176544  0.079078   \n",
       "target                               0.095103  0.016541   \n",
       "\n",
       "                                  Count_3-6_months_late  \\\n",
       "id                                            -0.005660   \n",
       "perc_premium_paid_by_cash_credit               0.214470   \n",
       "age_in_days                                   -0.058366   \n",
       "Income                                        -0.001403   \n",
       "Count_3-6_months_late                          1.000000   \n",
       "Count_6-12_months_late                         0.204228   \n",
       "Count_more_than_12_months_late                 0.296085   \n",
       "application_underwriting_score                -0.082781   \n",
       "no_of_premiums_paid                            0.075828   \n",
       "target                                        -0.248900   \n",
       "\n",
       "                                  Count_6-12_months_late  \\\n",
       "id                                             -0.002125   \n",
       "perc_premium_paid_by_cash_credit                0.214951   \n",
       "age_in_days                                    -0.072731   \n",
       "Income                                         -0.017347   \n",
       "Count_3-6_months_late                           0.204228   \n",
       "Count_6-12_months_late                          1.000000   \n",
       "Count_more_than_12_months_late                  0.266306   \n",
       "application_underwriting_score                  0.004785   \n",
       "no_of_premiums_paid                            -0.093133   \n",
       "target                                         -0.286159   \n",
       "\n",
       "                                  Count_more_than_12_months_late  \\\n",
       "id                                                      0.003424   \n",
       "perc_premium_paid_by_cash_credit                        0.168125   \n",
       "age_in_days                                            -0.059407   \n",
       "Income                                                 -0.012399   \n",
       "Count_3-6_months_late                                   0.296085   \n",
       "Count_6-12_months_late                                  0.266306   \n",
       "Count_more_than_12_months_late                          1.000000   \n",
       "application_underwriting_score                         -0.031726   \n",
       "no_of_premiums_paid                                    -0.021848   \n",
       "target                                                 -0.240385   \n",
       "\n",
       "                                  application_underwriting_score  \\\n",
       "id                                                     -0.002124   \n",
       "perc_premium_paid_by_cash_credit                       -0.142670   \n",
       "age_in_days                                             0.049888   \n",
       "Income                                                  0.085746   \n",
       "Count_3-6_months_late                                  -0.082781   \n",
       "Count_6-12_months_late                                  0.004785   \n",
       "Count_more_than_12_months_late                         -0.031726   \n",
       "application_underwriting_score                          1.000000   \n",
       "no_of_premiums_paid                                    -0.270864   \n",
       "target                                                  0.068715   \n",
       "\n",
       "                                  no_of_premiums_paid    target  \n",
       "id                                          -0.003328 -0.005064  \n",
       "perc_premium_paid_by_cash_credit            -0.152837 -0.240980  \n",
       "age_in_days                                  0.176544  0.095103  \n",
       "Income                                       0.079078  0.016541  \n",
       "Count_3-6_months_late                        0.075828 -0.248900  \n",
       "Count_6-12_months_late                      -0.093133 -0.286159  \n",
       "Count_more_than_12_months_late              -0.021848 -0.240385  \n",
       "application_underwriting_score              -0.270864  0.068715  \n",
       "no_of_premiums_paid                          1.000000  0.022664  \n",
       "target                                       0.022664  1.000000  "
      ]
     },
     "execution_count": 11,
     "metadata": {},
     "output_type": "execute_result"
    }
   ],
   "source": [
    "corr"
   ]
  },
  {
   "cell_type": "code",
   "execution_count": 12,
   "metadata": {},
   "outputs": [
    {
     "data": {
      "text/plain": [
       "id                                     0\n",
       "perc_premium_paid_by_cash_credit       0\n",
       "age_in_days                            0\n",
       "Income                                 0\n",
       "Count_3-6_months_late                 97\n",
       "Count_6-12_months_late                97\n",
       "Count_more_than_12_months_late        97\n",
       "application_underwriting_score      2974\n",
       "no_of_premiums_paid                    0\n",
       "target                                 0\n",
       "dtype: int64"
      ]
     },
     "execution_count": 12,
     "metadata": {},
     "output_type": "execute_result"
    }
   ],
   "source": [
    "# looking for missing values in the datasaet\n",
    "train.isnull().sum()"
   ]
  },
  {
   "cell_type": "code",
   "execution_count": 13,
   "metadata": {},
   "outputs": [
    {
     "data": {
      "text/plain": [
       "id                                     0\n",
       "perc_premium_paid_by_cash_credit       0\n",
       "age_in_days                            0\n",
       "Income                                 0\n",
       "Count_3-6_months_late                 31\n",
       "Count_6-12_months_late                31\n",
       "Count_more_than_12_months_late        31\n",
       "application_underwriting_score      1323\n",
       "no_of_premiums_paid                    0\n",
       "dtype: int64"
      ]
     },
     "execution_count": 13,
     "metadata": {},
     "output_type": "execute_result"
    }
   ],
   "source": [
    "test.isnull().sum()"
   ]
  },
  {
   "cell_type": "code",
   "execution_count": 14,
   "metadata": {},
   "outputs": [
    {
     "data": {
      "text/html": [
       "<div>\n",
       "<style scoped>\n",
       "    .dataframe tbody tr th:only-of-type {\n",
       "        vertical-align: middle;\n",
       "    }\n",
       "\n",
       "    .dataframe tbody tr th {\n",
       "        vertical-align: top;\n",
       "    }\n",
       "\n",
       "    .dataframe thead th {\n",
       "        text-align: right;\n",
       "    }\n",
       "</style>\n",
       "<table border=\"1\" class=\"dataframe\">\n",
       "  <thead>\n",
       "    <tr style=\"text-align: right;\">\n",
       "      <th></th>\n",
       "      <th>id</th>\n",
       "      <th>perc_premium_paid_by_cash_credit</th>\n",
       "      <th>age_in_days</th>\n",
       "      <th>Income</th>\n",
       "      <th>Count_3-6_months_late</th>\n",
       "      <th>Count_6-12_months_late</th>\n",
       "      <th>Count_more_than_12_months_late</th>\n",
       "      <th>application_underwriting_score</th>\n",
       "      <th>no_of_premiums_paid</th>\n",
       "      <th>target</th>\n",
       "    </tr>\n",
       "  </thead>\n",
       "  <tbody>\n",
       "    <tr>\n",
       "      <th>count</th>\n",
       "      <td>79853.000000</td>\n",
       "      <td>79853.000000</td>\n",
       "      <td>79853.000000</td>\n",
       "      <td>7.985300e+04</td>\n",
       "      <td>79756.000000</td>\n",
       "      <td>79756.000000</td>\n",
       "      <td>79756.000000</td>\n",
       "      <td>76879.000000</td>\n",
       "      <td>79853.000000</td>\n",
       "      <td>79853.000000</td>\n",
       "    </tr>\n",
       "    <tr>\n",
       "      <th>mean</th>\n",
       "      <td>57167.166368</td>\n",
       "      <td>0.314288</td>\n",
       "      <td>18846.696906</td>\n",
       "      <td>2.088472e+05</td>\n",
       "      <td>0.248671</td>\n",
       "      <td>0.078188</td>\n",
       "      <td>0.060008</td>\n",
       "      <td>99.067291</td>\n",
       "      <td>10.863887</td>\n",
       "      <td>0.937410</td>\n",
       "    </tr>\n",
       "    <tr>\n",
       "      <th>std</th>\n",
       "      <td>32928.970160</td>\n",
       "      <td>0.334915</td>\n",
       "      <td>5208.719136</td>\n",
       "      <td>4.965826e+05</td>\n",
       "      <td>0.691468</td>\n",
       "      <td>0.436507</td>\n",
       "      <td>0.312023</td>\n",
       "      <td>0.739799</td>\n",
       "      <td>5.170687</td>\n",
       "      <td>0.242226</td>\n",
       "    </tr>\n",
       "    <tr>\n",
       "      <th>min</th>\n",
       "      <td>2.000000</td>\n",
       "      <td>0.000000</td>\n",
       "      <td>7670.000000</td>\n",
       "      <td>2.403000e+04</td>\n",
       "      <td>0.000000</td>\n",
       "      <td>0.000000</td>\n",
       "      <td>0.000000</td>\n",
       "      <td>91.900000</td>\n",
       "      <td>2.000000</td>\n",
       "      <td>0.000000</td>\n",
       "    </tr>\n",
       "    <tr>\n",
       "      <th>25%</th>\n",
       "      <td>28640.000000</td>\n",
       "      <td>0.034000</td>\n",
       "      <td>14974.000000</td>\n",
       "      <td>1.080100e+05</td>\n",
       "      <td>0.000000</td>\n",
       "      <td>0.000000</td>\n",
       "      <td>0.000000</td>\n",
       "      <td>98.810000</td>\n",
       "      <td>7.000000</td>\n",
       "      <td>1.000000</td>\n",
       "    </tr>\n",
       "    <tr>\n",
       "      <th>50%</th>\n",
       "      <td>57262.000000</td>\n",
       "      <td>0.167000</td>\n",
       "      <td>18625.000000</td>\n",
       "      <td>1.665600e+05</td>\n",
       "      <td>0.000000</td>\n",
       "      <td>0.000000</td>\n",
       "      <td>0.000000</td>\n",
       "      <td>99.210000</td>\n",
       "      <td>10.000000</td>\n",
       "      <td>1.000000</td>\n",
       "    </tr>\n",
       "    <tr>\n",
       "      <th>75%</th>\n",
       "      <td>85632.000000</td>\n",
       "      <td>0.538000</td>\n",
       "      <td>22636.000000</td>\n",
       "      <td>2.520900e+05</td>\n",
       "      <td>0.000000</td>\n",
       "      <td>0.000000</td>\n",
       "      <td>0.000000</td>\n",
       "      <td>99.540000</td>\n",
       "      <td>14.000000</td>\n",
       "      <td>1.000000</td>\n",
       "    </tr>\n",
       "    <tr>\n",
       "      <th>max</th>\n",
       "      <td>114076.000000</td>\n",
       "      <td>1.000000</td>\n",
       "      <td>37602.000000</td>\n",
       "      <td>9.026260e+07</td>\n",
       "      <td>13.000000</td>\n",
       "      <td>17.000000</td>\n",
       "      <td>11.000000</td>\n",
       "      <td>99.890000</td>\n",
       "      <td>60.000000</td>\n",
       "      <td>1.000000</td>\n",
       "    </tr>\n",
       "  </tbody>\n",
       "</table>\n",
       "</div>"
      ],
      "text/plain": [
       "                  id  perc_premium_paid_by_cash_credit   age_in_days  \\\n",
       "count   79853.000000                      79853.000000  79853.000000   \n",
       "mean    57167.166368                          0.314288  18846.696906   \n",
       "std     32928.970160                          0.334915   5208.719136   \n",
       "min         2.000000                          0.000000   7670.000000   \n",
       "25%     28640.000000                          0.034000  14974.000000   \n",
       "50%     57262.000000                          0.167000  18625.000000   \n",
       "75%     85632.000000                          0.538000  22636.000000   \n",
       "max    114076.000000                          1.000000  37602.000000   \n",
       "\n",
       "             Income  Count_3-6_months_late  Count_6-12_months_late  \\\n",
       "count  7.985300e+04           79756.000000            79756.000000   \n",
       "mean   2.088472e+05               0.248671                0.078188   \n",
       "std    4.965826e+05               0.691468                0.436507   \n",
       "min    2.403000e+04               0.000000                0.000000   \n",
       "25%    1.080100e+05               0.000000                0.000000   \n",
       "50%    1.665600e+05               0.000000                0.000000   \n",
       "75%    2.520900e+05               0.000000                0.000000   \n",
       "max    9.026260e+07              13.000000               17.000000   \n",
       "\n",
       "       Count_more_than_12_months_late  application_underwriting_score  \\\n",
       "count                    79756.000000                    76879.000000   \n",
       "mean                         0.060008                       99.067291   \n",
       "std                          0.312023                        0.739799   \n",
       "min                          0.000000                       91.900000   \n",
       "25%                          0.000000                       98.810000   \n",
       "50%                          0.000000                       99.210000   \n",
       "75%                          0.000000                       99.540000   \n",
       "max                         11.000000                       99.890000   \n",
       "\n",
       "       no_of_premiums_paid        target  \n",
       "count         79853.000000  79853.000000  \n",
       "mean             10.863887      0.937410  \n",
       "std               5.170687      0.242226  \n",
       "min               2.000000      0.000000  \n",
       "25%               7.000000      1.000000  \n",
       "50%              10.000000      1.000000  \n",
       "75%              14.000000      1.000000  \n",
       "max              60.000000      1.000000  "
      ]
     },
     "execution_count": 14,
     "metadata": {},
     "output_type": "execute_result"
    }
   ],
   "source": [
    "# checking for central statistics\n",
    "train.describe()"
   ]
  },
  {
   "cell_type": "code",
   "execution_count": 15,
   "metadata": {},
   "outputs": [],
   "source": [
    "# treating the missing values\n",
    "train['Count_3-6_months_late'].fillna(0, inplace=True)\n",
    "train['Count_6-12_months_late'].fillna(0, inplace=True)\n",
    "train['Count_more_than_12_months_late'].fillna(0, inplace=True)"
   ]
  },
  {
   "cell_type": "code",
   "execution_count": 16,
   "metadata": {},
   "outputs": [],
   "source": [
    "test['Count_3-6_months_late'].fillna(0, inplace=True)\n",
    "test['Count_6-12_months_late'].fillna(0, inplace=True)\n",
    "test['Count_more_than_12_months_late'].fillna(0, inplace=True)"
   ]
  },
  {
   "cell_type": "code",
   "execution_count": 17,
   "metadata": {},
   "outputs": [],
   "source": [
    "train['application_underwriting_score'].fillna(train['application_underwriting_score'].mean(), inplace=True)\n",
    "test['application_underwriting_score'].fillna(test['application_underwriting_score'].mean(), inplace=True)"
   ]
  },
  {
   "cell_type": "code",
   "execution_count": 18,
   "metadata": {},
   "outputs": [
    {
     "data": {
      "text/plain": [
       "id                                  0\n",
       "perc_premium_paid_by_cash_credit    0\n",
       "age_in_days                         0\n",
       "Income                              0\n",
       "Count_3-6_months_late               0\n",
       "Count_6-12_months_late              0\n",
       "Count_more_than_12_months_late      0\n",
       "application_underwriting_score      0\n",
       "no_of_premiums_paid                 0\n",
       "dtype: int64"
      ]
     },
     "execution_count": 18,
     "metadata": {},
     "output_type": "execute_result"
    }
   ],
   "source": [
    "# looking for missing values in the datasaet\n",
    "test.isnull().sum()"
   ]
  },
  {
   "cell_type": "code",
   "execution_count": 19,
   "metadata": {},
   "outputs": [
    {
     "data": {
      "text/plain": [
       "id                                  0\n",
       "perc_premium_paid_by_cash_credit    0\n",
       "age_in_days                         0\n",
       "Income                              0\n",
       "Count_3-6_months_late               0\n",
       "Count_6-12_months_late              0\n",
       "Count_more_than_12_months_late      0\n",
       "application_underwriting_score      0\n",
       "no_of_premiums_paid                 0\n",
       "target                              0\n",
       "dtype: int64"
      ]
     },
     "execution_count": 19,
     "metadata": {},
     "output_type": "execute_result"
    }
   ],
   "source": [
    "train.isnull().sum()"
   ]
  },
  {
   "cell_type": "code",
   "execution_count": 20,
   "metadata": {},
   "outputs": [],
   "source": [
    "# breaking the training set into two to check the model\n",
    "training= train[:60000]\n",
    "validation= train[60000:]"
   ]
  },
  {
   "cell_type": "code",
   "execution_count": 21,
   "metadata": {},
   "outputs": [],
   "source": [
    "x_train= training.drop('target', axis=1)\n",
    "y_train= training['target']\n",
    "x_val= validation.drop('target', axis=1)\n",
    "y_val= validation['target']"
   ]
  },
  {
   "cell_type": "code",
   "execution_count": 22,
   "metadata": {},
   "outputs": [],
   "source": [
    "from sklearn.linear_model import LogisticRegression"
   ]
  },
  {
   "cell_type": "code",
   "execution_count": 23,
   "metadata": {},
   "outputs": [],
   "source": [
    "# initialize the logistic regression model\n",
    "logreg= LogisticRegression()"
   ]
  },
  {
   "cell_type": "code",
   "execution_count": 24,
   "metadata": {},
   "outputs": [
    {
     "data": {
      "text/plain": [
       "LogisticRegression(C=1.0, class_weight=None, dual=False, fit_intercept=True,\n",
       "                   intercept_scaling=1, l1_ratio=None, max_iter=100,\n",
       "                   multi_class='auto', n_jobs=None, penalty='l2',\n",
       "                   random_state=None, solver='lbfgs', tol=0.0001, verbose=0,\n",
       "                   warm_start=False)"
      ]
     },
     "execution_count": 24,
     "metadata": {},
     "output_type": "execute_result"
    }
   ],
   "source": [
    "# fitting the model on x_train and y_train\n",
    "logreg.fit(x_train, y_train)"
   ]
  },
  {
   "cell_type": "code",
   "execution_count": 25,
   "metadata": {},
   "outputs": [
    {
     "data": {
      "text/plain": [
       "((60000, 9), (60000,), (19853, 9), (19853,))"
      ]
     },
     "execution_count": 25,
     "metadata": {},
     "output_type": "execute_result"
    }
   ],
   "source": [
    "# checking the shape of x_train, y_train, x_val and y_val\n",
    "x_train.shape,y_train.shape,x_val.shape,y_val.shape"
   ]
  },
  {
   "cell_type": "code",
   "execution_count": 26,
   "metadata": {},
   "outputs": [],
   "source": [
    "# making prediction on validation set\n",
    "pred= logreg.predict(x_val)"
   ]
  },
  {
   "cell_type": "code",
   "execution_count": 27,
   "metadata": {},
   "outputs": [],
   "source": [
    "# defining a function which will return the rmse score\n",
    "def rmse(y, y_):\n",
    "    y = np.exp(y),   \n",
    "    y_ = np.exp(y_)\n",
    "    log1 = np.nan_to_num(np.array([np.log(v + 1) for v in y]))\n",
    "    log2 = np.nan_to_num(np.array([np.log(v + 1) for v in y_]))\n",
    "    calc = (log1 - log2) ** 2\n",
    "    return np.sqrt(np.mean(calc))"
   ]
  },
  {
   "cell_type": "code",
   "execution_count": 28,
   "metadata": {},
   "outputs": [
    {
     "data": {
      "text/plain": [
       "0.15271161270238282"
      ]
     },
     "execution_count": 28,
     "metadata": {},
     "output_type": "execute_result"
    }
   ],
   "source": [
    "# calculating rmse of the predicted values\n",
    "rmse(y_val,pred)"
   ]
  },
  {
   "cell_type": "code",
   "execution_count": 29,
   "metadata": {},
   "outputs": [
    {
     "data": {
      "text/plain": [
       "0.939354253765174"
      ]
     },
     "execution_count": 29,
     "metadata": {},
     "output_type": "execute_result"
    }
   ],
   "source": [
    "logreg.score(x_val,y_val)"
   ]
  },
  {
   "cell_type": "code",
   "execution_count": 30,
   "metadata": {},
   "outputs": [],
   "source": [
    " from catboost import CatBoostRegressor"
   ]
  },
  {
   "cell_type": "code",
   "execution_count": 31,
   "metadata": {},
   "outputs": [],
   "source": [
    "# initialize the catboost regressor model\n",
    "cbr= CatBoostRegressor(iterations=300, depth=4, learning_rate=0.069, loss_function='RMSE' )"
   ]
  },
  {
   "cell_type": "code",
   "execution_count": 32,
   "metadata": {},
   "outputs": [
    {
     "name": "stdout",
     "output_type": "stream",
     "text": [
      "0:\tlearn: 0.2408952\ttotal: 58.7ms\tremaining: 17.6s\n",
      "1:\tlearn: 0.2387221\ttotal: 62.6ms\tremaining: 9.33s\n",
      "2:\tlearn: 0.2367960\ttotal: 66.1ms\tremaining: 6.55s\n",
      "3:\tlearn: 0.2352266\ttotal: 69.8ms\tremaining: 5.17s\n",
      "4:\tlearn: 0.2337186\ttotal: 73.5ms\tremaining: 4.33s\n",
      "5:\tlearn: 0.2323925\ttotal: 77.2ms\tremaining: 3.78s\n",
      "6:\tlearn: 0.2313320\ttotal: 81ms\tremaining: 3.39s\n",
      "7:\tlearn: 0.2302932\ttotal: 84.8ms\tremaining: 3.1s\n",
      "8:\tlearn: 0.2294175\ttotal: 88.6ms\tremaining: 2.87s\n",
      "9:\tlearn: 0.2285657\ttotal: 92.2ms\tremaining: 2.67s\n",
      "10:\tlearn: 0.2278665\ttotal: 95.9ms\tremaining: 2.52s\n",
      "11:\tlearn: 0.2272177\ttotal: 99.7ms\tremaining: 2.39s\n",
      "12:\tlearn: 0.2266202\ttotal: 103ms\tremaining: 2.28s\n",
      "13:\tlearn: 0.2260735\ttotal: 107ms\tremaining: 2.18s\n",
      "14:\tlearn: 0.2256072\ttotal: 111ms\tremaining: 2.1s\n",
      "15:\tlearn: 0.2251657\ttotal: 114ms\tremaining: 2.03s\n",
      "16:\tlearn: 0.2247667\ttotal: 118ms\tremaining: 1.96s\n",
      "17:\tlearn: 0.2244324\ttotal: 121ms\tremaining: 1.9s\n",
      "18:\tlearn: 0.2241273\ttotal: 125ms\tremaining: 1.85s\n",
      "19:\tlearn: 0.2238153\ttotal: 129ms\tremaining: 1.8s\n",
      "20:\tlearn: 0.2235785\ttotal: 133ms\tremaining: 1.76s\n",
      "21:\tlearn: 0.2233086\ttotal: 136ms\tremaining: 1.72s\n",
      "22:\tlearn: 0.2230828\ttotal: 140ms\tremaining: 1.69s\n",
      "23:\tlearn: 0.2228850\ttotal: 144ms\tremaining: 1.65s\n",
      "24:\tlearn: 0.2227037\ttotal: 147ms\tremaining: 1.61s\n",
      "25:\tlearn: 0.2225359\ttotal: 150ms\tremaining: 1.58s\n",
      "26:\tlearn: 0.2223556\ttotal: 153ms\tremaining: 1.54s\n",
      "27:\tlearn: 0.2222071\ttotal: 155ms\tremaining: 1.51s\n",
      "28:\tlearn: 0.2220784\ttotal: 158ms\tremaining: 1.48s\n",
      "29:\tlearn: 0.2219686\ttotal: 161ms\tremaining: 1.45s\n",
      "30:\tlearn: 0.2218515\ttotal: 164ms\tremaining: 1.43s\n",
      "31:\tlearn: 0.2217364\ttotal: 167ms\tremaining: 1.4s\n",
      "32:\tlearn: 0.2216404\ttotal: 171ms\tremaining: 1.38s\n",
      "33:\tlearn: 0.2215551\ttotal: 175ms\tremaining: 1.37s\n",
      "34:\tlearn: 0.2214755\ttotal: 178ms\tremaining: 1.35s\n",
      "35:\tlearn: 0.2213982\ttotal: 181ms\tremaining: 1.32s\n",
      "36:\tlearn: 0.2213190\ttotal: 183ms\tremaining: 1.3s\n",
      "37:\tlearn: 0.2212460\ttotal: 186ms\tremaining: 1.28s\n",
      "38:\tlearn: 0.2211714\ttotal: 190ms\tremaining: 1.27s\n",
      "39:\tlearn: 0.2211122\ttotal: 193ms\tremaining: 1.25s\n",
      "40:\tlearn: 0.2210481\ttotal: 196ms\tremaining: 1.24s\n",
      "41:\tlearn: 0.2209921\ttotal: 199ms\tremaining: 1.22s\n",
      "42:\tlearn: 0.2209258\ttotal: 202ms\tremaining: 1.2s\n",
      "43:\tlearn: 0.2208694\ttotal: 204ms\tremaining: 1.19s\n",
      "44:\tlearn: 0.2208075\ttotal: 207ms\tremaining: 1.17s\n",
      "45:\tlearn: 0.2207713\ttotal: 210ms\tremaining: 1.16s\n",
      "46:\tlearn: 0.2207218\ttotal: 213ms\tremaining: 1.14s\n",
      "47:\tlearn: 0.2206608\ttotal: 215ms\tremaining: 1.13s\n",
      "48:\tlearn: 0.2206125\ttotal: 218ms\tremaining: 1.12s\n",
      "49:\tlearn: 0.2205640\ttotal: 221ms\tremaining: 1.1s\n",
      "50:\tlearn: 0.2205137\ttotal: 224ms\tremaining: 1.09s\n",
      "51:\tlearn: 0.2204680\ttotal: 226ms\tremaining: 1.08s\n",
      "52:\tlearn: 0.2204332\ttotal: 229ms\tremaining: 1.07s\n",
      "53:\tlearn: 0.2203990\ttotal: 232ms\tremaining: 1.06s\n",
      "54:\tlearn: 0.2203550\ttotal: 235ms\tremaining: 1.04s\n",
      "55:\tlearn: 0.2203203\ttotal: 237ms\tremaining: 1.03s\n",
      "56:\tlearn: 0.2202895\ttotal: 240ms\tremaining: 1.02s\n",
      "57:\tlearn: 0.2202431\ttotal: 243ms\tremaining: 1.01s\n",
      "58:\tlearn: 0.2202220\ttotal: 247ms\tremaining: 1.01s\n",
      "59:\tlearn: 0.2202050\ttotal: 253ms\tremaining: 1.01s\n",
      "60:\tlearn: 0.2201569\ttotal: 259ms\tremaining: 1.02s\n",
      "61:\tlearn: 0.2201209\ttotal: 266ms\tremaining: 1.02s\n",
      "62:\tlearn: 0.2200861\ttotal: 273ms\tremaining: 1.03s\n",
      "63:\tlearn: 0.2200509\ttotal: 279ms\tremaining: 1.03s\n",
      "64:\tlearn: 0.2200169\ttotal: 284ms\tremaining: 1.02s\n",
      "65:\tlearn: 0.2199806\ttotal: 287ms\tremaining: 1.02s\n",
      "66:\tlearn: 0.2199513\ttotal: 290ms\tremaining: 1.01s\n",
      "67:\tlearn: 0.2199328\ttotal: 293ms\tremaining: 999ms\n",
      "68:\tlearn: 0.2199063\ttotal: 296ms\tremaining: 990ms\n",
      "69:\tlearn: 0.2198796\ttotal: 301ms\tremaining: 988ms\n",
      "70:\tlearn: 0.2198559\ttotal: 303ms\tremaining: 979ms\n",
      "71:\tlearn: 0.2198399\ttotal: 306ms\tremaining: 970ms\n",
      "72:\tlearn: 0.2198227\ttotal: 309ms\tremaining: 961ms\n",
      "73:\tlearn: 0.2198026\ttotal: 312ms\tremaining: 953ms\n",
      "74:\tlearn: 0.2197856\ttotal: 315ms\tremaining: 944ms\n",
      "75:\tlearn: 0.2197628\ttotal: 318ms\tremaining: 937ms\n",
      "76:\tlearn: 0.2197342\ttotal: 320ms\tremaining: 928ms\n",
      "77:\tlearn: 0.2197096\ttotal: 323ms\tremaining: 920ms\n",
      "78:\tlearn: 0.2196837\ttotal: 326ms\tremaining: 912ms\n",
      "79:\tlearn: 0.2196561\ttotal: 329ms\tremaining: 904ms\n",
      "80:\tlearn: 0.2196391\ttotal: 331ms\tremaining: 896ms\n",
      "81:\tlearn: 0.2196097\ttotal: 334ms\tremaining: 888ms\n",
      "82:\tlearn: 0.2195826\ttotal: 337ms\tremaining: 881ms\n",
      "83:\tlearn: 0.2195720\ttotal: 340ms\tremaining: 873ms\n",
      "84:\tlearn: 0.2195447\ttotal: 342ms\tremaining: 866ms\n",
      "85:\tlearn: 0.2195176\ttotal: 345ms\tremaining: 859ms\n",
      "86:\tlearn: 0.2194921\ttotal: 348ms\tremaining: 853ms\n",
      "87:\tlearn: 0.2194830\ttotal: 351ms\tremaining: 846ms\n",
      "88:\tlearn: 0.2194758\ttotal: 354ms\tremaining: 839ms\n",
      "89:\tlearn: 0.2194640\ttotal: 357ms\tremaining: 832ms\n",
      "90:\tlearn: 0.2194442\ttotal: 359ms\tremaining: 826ms\n",
      "91:\tlearn: 0.2194280\ttotal: 362ms\tremaining: 819ms\n",
      "92:\tlearn: 0.2194097\ttotal: 365ms\tremaining: 813ms\n",
      "93:\tlearn: 0.2193933\ttotal: 368ms\tremaining: 807ms\n",
      "94:\tlearn: 0.2193695\ttotal: 371ms\tremaining: 801ms\n",
      "95:\tlearn: 0.2193447\ttotal: 374ms\tremaining: 795ms\n",
      "96:\tlearn: 0.2193409\ttotal: 377ms\tremaining: 789ms\n",
      "97:\tlearn: 0.2193335\ttotal: 380ms\tremaining: 783ms\n",
      "98:\tlearn: 0.2193111\ttotal: 383ms\tremaining: 777ms\n",
      "99:\tlearn: 0.2192907\ttotal: 386ms\tremaining: 771ms\n",
      "100:\tlearn: 0.2192660\ttotal: 388ms\tremaining: 765ms\n",
      "101:\tlearn: 0.2192573\ttotal: 391ms\tremaining: 759ms\n",
      "102:\tlearn: 0.2192503\ttotal: 394ms\tremaining: 754ms\n",
      "103:\tlearn: 0.2192460\ttotal: 397ms\tremaining: 748ms\n",
      "104:\tlearn: 0.2192323\ttotal: 400ms\tremaining: 742ms\n",
      "105:\tlearn: 0.2192155\ttotal: 403ms\tremaining: 737ms\n",
      "106:\tlearn: 0.2192060\ttotal: 405ms\tremaining: 731ms\n",
      "107:\tlearn: 0.2192008\ttotal: 408ms\tremaining: 726ms\n",
      "108:\tlearn: 0.2191751\ttotal: 411ms\tremaining: 720ms\n",
      "109:\tlearn: 0.2191586\ttotal: 414ms\tremaining: 715ms\n",
      "110:\tlearn: 0.2191263\ttotal: 416ms\tremaining: 709ms\n",
      "111:\tlearn: 0.2191090\ttotal: 419ms\tremaining: 704ms\n",
      "112:\tlearn: 0.2190916\ttotal: 422ms\tremaining: 699ms\n",
      "113:\tlearn: 0.2190632\ttotal: 425ms\tremaining: 693ms\n",
      "114:\tlearn: 0.2190526\ttotal: 428ms\tremaining: 688ms\n",
      "115:\tlearn: 0.2190457\ttotal: 431ms\tremaining: 683ms\n",
      "116:\tlearn: 0.2190162\ttotal: 434ms\tremaining: 678ms\n",
      "117:\tlearn: 0.2190013\ttotal: 440ms\tremaining: 679ms\n",
      "118:\tlearn: 0.2189871\ttotal: 447ms\tremaining: 680ms\n",
      "119:\tlearn: 0.2189816\ttotal: 454ms\tremaining: 681ms\n",
      "120:\tlearn: 0.2189789\ttotal: 461ms\tremaining: 682ms\n",
      "121:\tlearn: 0.2189644\ttotal: 468ms\tremaining: 683ms\n",
      "122:\tlearn: 0.2189458\ttotal: 473ms\tremaining: 681ms\n",
      "123:\tlearn: 0.2189323\ttotal: 480ms\tremaining: 681ms\n",
      "124:\tlearn: 0.2189174\ttotal: 485ms\tremaining: 679ms\n",
      "125:\tlearn: 0.2189128\ttotal: 491ms\tremaining: 678ms\n",
      "126:\tlearn: 0.2188981\ttotal: 496ms\tremaining: 676ms\n",
      "127:\tlearn: 0.2188751\ttotal: 500ms\tremaining: 672ms\n",
      "128:\tlearn: 0.2188619\ttotal: 504ms\tremaining: 668ms\n",
      "129:\tlearn: 0.2188475\ttotal: 507ms\tremaining: 663ms\n",
      "130:\tlearn: 0.2188263\ttotal: 510ms\tremaining: 658ms\n",
      "131:\tlearn: 0.2188100\ttotal: 513ms\tremaining: 653ms\n",
      "132:\tlearn: 0.2187985\ttotal: 516ms\tremaining: 647ms\n",
      "133:\tlearn: 0.2187931\ttotal: 518ms\tremaining: 642ms\n",
      "134:\tlearn: 0.2187748\ttotal: 521ms\tremaining: 637ms\n",
      "135:\tlearn: 0.2187664\ttotal: 524ms\tremaining: 632ms\n",
      "136:\tlearn: 0.2187446\ttotal: 527ms\tremaining: 627ms\n",
      "137:\tlearn: 0.2187346\ttotal: 530ms\tremaining: 622ms\n",
      "138:\tlearn: 0.2187231\ttotal: 533ms\tremaining: 617ms\n",
      "139:\tlearn: 0.2187052\ttotal: 536ms\tremaining: 612ms\n",
      "140:\tlearn: 0.2186983\ttotal: 539ms\tremaining: 607ms\n",
      "141:\tlearn: 0.2186931\ttotal: 541ms\tremaining: 602ms\n",
      "142:\tlearn: 0.2186819\ttotal: 544ms\tremaining: 597ms\n",
      "143:\tlearn: 0.2186690\ttotal: 547ms\tremaining: 592ms\n",
      "144:\tlearn: 0.2186529\ttotal: 550ms\tremaining: 588ms\n",
      "145:\tlearn: 0.2186262\ttotal: 553ms\tremaining: 583ms\n",
      "146:\tlearn: 0.2186221\ttotal: 556ms\tremaining: 578ms\n",
      "147:\tlearn: 0.2186058\ttotal: 558ms\tremaining: 573ms\n",
      "148:\tlearn: 0.2186002\ttotal: 561ms\tremaining: 569ms\n",
      "149:\tlearn: 0.2185906\ttotal: 564ms\tremaining: 564ms\n",
      "150:\tlearn: 0.2185728\ttotal: 567ms\tremaining: 560ms\n",
      "151:\tlearn: 0.2185521\ttotal: 570ms\tremaining: 555ms\n",
      "152:\tlearn: 0.2185417\ttotal: 573ms\tremaining: 551ms\n",
      "153:\tlearn: 0.2185288\ttotal: 576ms\tremaining: 546ms\n",
      "154:\tlearn: 0.2185234\ttotal: 578ms\tremaining: 541ms\n",
      "155:\tlearn: 0.2185082\ttotal: 581ms\tremaining: 537ms\n",
      "156:\tlearn: 0.2184905\ttotal: 584ms\tremaining: 532ms\n",
      "157:\tlearn: 0.2184783\ttotal: 587ms\tremaining: 528ms\n",
      "158:\tlearn: 0.2184557\ttotal: 590ms\tremaining: 523ms\n",
      "159:\tlearn: 0.2184520\ttotal: 592ms\tremaining: 518ms\n",
      "160:\tlearn: 0.2184256\ttotal: 595ms\tremaining: 514ms\n",
      "161:\tlearn: 0.2184169\ttotal: 598ms\tremaining: 509ms\n",
      "162:\tlearn: 0.2184037\ttotal: 601ms\tremaining: 505ms\n",
      "163:\tlearn: 0.2183913\ttotal: 604ms\tremaining: 501ms\n",
      "164:\tlearn: 0.2183684\ttotal: 606ms\tremaining: 496ms\n",
      "165:\tlearn: 0.2183478\ttotal: 610ms\tremaining: 492ms\n",
      "166:\tlearn: 0.2183335\ttotal: 612ms\tremaining: 488ms\n",
      "167:\tlearn: 0.2183225\ttotal: 615ms\tremaining: 483ms\n",
      "168:\tlearn: 0.2183195\ttotal: 618ms\tremaining: 479ms\n"
     ]
    },
    {
     "name": "stdout",
     "output_type": "stream",
     "text": [
      "169:\tlearn: 0.2183086\ttotal: 620ms\tremaining: 474ms\n",
      "170:\tlearn: 0.2182897\ttotal: 626ms\tremaining: 472ms\n",
      "171:\tlearn: 0.2182802\ttotal: 634ms\tremaining: 472ms\n",
      "172:\tlearn: 0.2182666\ttotal: 640ms\tremaining: 470ms\n",
      "173:\tlearn: 0.2182659\ttotal: 645ms\tremaining: 467ms\n",
      "174:\tlearn: 0.2182433\ttotal: 648ms\tremaining: 463ms\n",
      "175:\tlearn: 0.2182298\ttotal: 651ms\tremaining: 459ms\n",
      "176:\tlearn: 0.2182128\ttotal: 655ms\tremaining: 455ms\n",
      "177:\tlearn: 0.2181966\ttotal: 659ms\tremaining: 451ms\n",
      "178:\tlearn: 0.2181763\ttotal: 661ms\tremaining: 447ms\n",
      "179:\tlearn: 0.2181551\ttotal: 664ms\tremaining: 443ms\n",
      "180:\tlearn: 0.2181478\ttotal: 667ms\tremaining: 439ms\n",
      "181:\tlearn: 0.2181250\ttotal: 670ms\tremaining: 434ms\n",
      "182:\tlearn: 0.2181118\ttotal: 673ms\tremaining: 430ms\n",
      "183:\tlearn: 0.2180970\ttotal: 675ms\tremaining: 426ms\n",
      "184:\tlearn: 0.2180785\ttotal: 678ms\tremaining: 422ms\n",
      "185:\tlearn: 0.2180759\ttotal: 681ms\tremaining: 417ms\n",
      "186:\tlearn: 0.2180649\ttotal: 684ms\tremaining: 413ms\n",
      "187:\tlearn: 0.2180548\ttotal: 687ms\tremaining: 409ms\n",
      "188:\tlearn: 0.2180366\ttotal: 690ms\tremaining: 405ms\n",
      "189:\tlearn: 0.2180268\ttotal: 692ms\tremaining: 401ms\n",
      "190:\tlearn: 0.2180067\ttotal: 695ms\tremaining: 397ms\n",
      "191:\tlearn: 0.2179931\ttotal: 698ms\tremaining: 393ms\n",
      "192:\tlearn: 0.2179774\ttotal: 701ms\tremaining: 389ms\n",
      "193:\tlearn: 0.2179668\ttotal: 704ms\tremaining: 385ms\n",
      "194:\tlearn: 0.2179549\ttotal: 707ms\tremaining: 380ms\n",
      "195:\tlearn: 0.2179431\ttotal: 709ms\tremaining: 376ms\n",
      "196:\tlearn: 0.2179261\ttotal: 712ms\tremaining: 372ms\n",
      "197:\tlearn: 0.2179142\ttotal: 715ms\tremaining: 368ms\n",
      "198:\tlearn: 0.2178947\ttotal: 717ms\tremaining: 364ms\n",
      "199:\tlearn: 0.2178817\ttotal: 721ms\tremaining: 360ms\n",
      "200:\tlearn: 0.2178719\ttotal: 724ms\tremaining: 356ms\n",
      "201:\tlearn: 0.2178576\ttotal: 726ms\tremaining: 352ms\n",
      "202:\tlearn: 0.2178498\ttotal: 729ms\tremaining: 348ms\n",
      "203:\tlearn: 0.2178422\ttotal: 732ms\tremaining: 344ms\n",
      "204:\tlearn: 0.2178342\ttotal: 735ms\tremaining: 340ms\n",
      "205:\tlearn: 0.2178284\ttotal: 737ms\tremaining: 336ms\n",
      "206:\tlearn: 0.2178169\ttotal: 740ms\tremaining: 333ms\n",
      "207:\tlearn: 0.2178067\ttotal: 743ms\tremaining: 329ms\n",
      "208:\tlearn: 0.2178030\ttotal: 746ms\tremaining: 325ms\n",
      "209:\tlearn: 0.2177966\ttotal: 749ms\tremaining: 321ms\n",
      "210:\tlearn: 0.2177799\ttotal: 752ms\tremaining: 317ms\n",
      "211:\tlearn: 0.2177735\ttotal: 755ms\tremaining: 313ms\n",
      "212:\tlearn: 0.2177538\ttotal: 758ms\tremaining: 309ms\n",
      "213:\tlearn: 0.2177437\ttotal: 761ms\tremaining: 306ms\n",
      "214:\tlearn: 0.2177404\ttotal: 763ms\tremaining: 302ms\n",
      "215:\tlearn: 0.2177310\ttotal: 766ms\tremaining: 298ms\n",
      "216:\tlearn: 0.2177166\ttotal: 769ms\tremaining: 294ms\n",
      "217:\tlearn: 0.2177139\ttotal: 772ms\tremaining: 290ms\n",
      "218:\tlearn: 0.2177054\ttotal: 775ms\tremaining: 286ms\n",
      "219:\tlearn: 0.2177023\ttotal: 778ms\tremaining: 283ms\n",
      "220:\tlearn: 0.2176835\ttotal: 781ms\tremaining: 279ms\n",
      "221:\tlearn: 0.2176699\ttotal: 783ms\tremaining: 275ms\n",
      "222:\tlearn: 0.2176643\ttotal: 786ms\tremaining: 271ms\n",
      "223:\tlearn: 0.2176641\ttotal: 789ms\tremaining: 268ms\n",
      "224:\tlearn: 0.2176542\ttotal: 793ms\tremaining: 264ms\n",
      "225:\tlearn: 0.2176427\ttotal: 796ms\tremaining: 261ms\n",
      "226:\tlearn: 0.2176303\ttotal: 799ms\tremaining: 257ms\n",
      "227:\tlearn: 0.2176111\ttotal: 801ms\tremaining: 253ms\n",
      "228:\tlearn: 0.2175962\ttotal: 804ms\tremaining: 249ms\n",
      "229:\tlearn: 0.2175871\ttotal: 810ms\tremaining: 247ms\n",
      "230:\tlearn: 0.2175693\ttotal: 816ms\tremaining: 244ms\n",
      "231:\tlearn: 0.2175498\ttotal: 822ms\tremaining: 241ms\n",
      "232:\tlearn: 0.2175331\ttotal: 825ms\tremaining: 237ms\n",
      "233:\tlearn: 0.2175328\ttotal: 828ms\tremaining: 233ms\n",
      "234:\tlearn: 0.2175213\ttotal: 830ms\tremaining: 230ms\n",
      "235:\tlearn: 0.2175016\ttotal: 833ms\tremaining: 226ms\n",
      "236:\tlearn: 0.2174977\ttotal: 836ms\tremaining: 222ms\n",
      "237:\tlearn: 0.2174895\ttotal: 840ms\tremaining: 219ms\n",
      "238:\tlearn: 0.2174721\ttotal: 843ms\tremaining: 215ms\n",
      "239:\tlearn: 0.2174603\ttotal: 845ms\tremaining: 211ms\n",
      "240:\tlearn: 0.2174440\ttotal: 848ms\tremaining: 208ms\n",
      "241:\tlearn: 0.2174288\ttotal: 851ms\tremaining: 204ms\n",
      "242:\tlearn: 0.2174174\ttotal: 854ms\tremaining: 200ms\n",
      "243:\tlearn: 0.2174034\ttotal: 857ms\tremaining: 197ms\n",
      "244:\tlearn: 0.2173910\ttotal: 859ms\tremaining: 193ms\n",
      "245:\tlearn: 0.2173737\ttotal: 862ms\tremaining: 189ms\n",
      "246:\tlearn: 0.2173613\ttotal: 865ms\tremaining: 186ms\n",
      "247:\tlearn: 0.2173396\ttotal: 868ms\tremaining: 182ms\n",
      "248:\tlearn: 0.2173237\ttotal: 871ms\tremaining: 178ms\n",
      "249:\tlearn: 0.2173122\ttotal: 873ms\tremaining: 175ms\n",
      "250:\tlearn: 0.2172984\ttotal: 876ms\tremaining: 171ms\n",
      "251:\tlearn: 0.2172832\ttotal: 879ms\tremaining: 167ms\n",
      "252:\tlearn: 0.2172716\ttotal: 882ms\tremaining: 164ms\n",
      "253:\tlearn: 0.2172714\ttotal: 885ms\tremaining: 160ms\n",
      "254:\tlearn: 0.2172605\ttotal: 888ms\tremaining: 157ms\n",
      "255:\tlearn: 0.2172424\ttotal: 891ms\tremaining: 153ms\n",
      "256:\tlearn: 0.2172328\ttotal: 893ms\tremaining: 149ms\n",
      "257:\tlearn: 0.2172193\ttotal: 896ms\tremaining: 146ms\n",
      "258:\tlearn: 0.2172106\ttotal: 899ms\tremaining: 142ms\n",
      "259:\tlearn: 0.2171915\ttotal: 902ms\tremaining: 139ms\n",
      "260:\tlearn: 0.2171738\ttotal: 905ms\tremaining: 135ms\n",
      "261:\tlearn: 0.2171642\ttotal: 908ms\tremaining: 132ms\n",
      "262:\tlearn: 0.2171508\ttotal: 910ms\tremaining: 128ms\n",
      "263:\tlearn: 0.2171393\ttotal: 913ms\tremaining: 125ms\n",
      "264:\tlearn: 0.2171324\ttotal: 916ms\tremaining: 121ms\n",
      "265:\tlearn: 0.2171211\ttotal: 920ms\tremaining: 118ms\n",
      "266:\tlearn: 0.2171023\ttotal: 927ms\tremaining: 115ms\n",
      "267:\tlearn: 0.2170903\ttotal: 930ms\tremaining: 111ms\n",
      "268:\tlearn: 0.2170762\ttotal: 933ms\tremaining: 107ms\n",
      "269:\tlearn: 0.2170760\ttotal: 936ms\tremaining: 104ms\n",
      "270:\tlearn: 0.2170633\ttotal: 939ms\tremaining: 100ms\n",
      "271:\tlearn: 0.2170568\ttotal: 941ms\tremaining: 96.9ms\n",
      "272:\tlearn: 0.2170479\ttotal: 944ms\tremaining: 93.4ms\n",
      "273:\tlearn: 0.2170350\ttotal: 947ms\tremaining: 89.9ms\n",
      "274:\tlearn: 0.2170222\ttotal: 950ms\tremaining: 86.3ms\n",
      "275:\tlearn: 0.2170100\ttotal: 953ms\tremaining: 82.8ms\n",
      "276:\tlearn: 0.2169964\ttotal: 955ms\tremaining: 79.3ms\n",
      "277:\tlearn: 0.2169864\ttotal: 958ms\tremaining: 75.8ms\n",
      "278:\tlearn: 0.2169780\ttotal: 961ms\tremaining: 72.3ms\n",
      "279:\tlearn: 0.2169644\ttotal: 964ms\tremaining: 68.9ms\n",
      "280:\tlearn: 0.2169469\ttotal: 967ms\tremaining: 65.4ms\n",
      "281:\tlearn: 0.2169418\ttotal: 970ms\tremaining: 61.9ms\n",
      "282:\tlearn: 0.2169308\ttotal: 972ms\tremaining: 58.4ms\n",
      "283:\tlearn: 0.2169193\ttotal: 976ms\tremaining: 55ms\n",
      "284:\tlearn: 0.2169034\ttotal: 978ms\tremaining: 51.5ms\n",
      "285:\tlearn: 0.2168987\ttotal: 981ms\tremaining: 48ms\n",
      "286:\tlearn: 0.2168903\ttotal: 984ms\tremaining: 44.6ms\n",
      "287:\tlearn: 0.2168700\ttotal: 987ms\tremaining: 41.1ms\n",
      "288:\tlearn: 0.2168566\ttotal: 990ms\tremaining: 37.7ms\n",
      "289:\tlearn: 0.2168470\ttotal: 993ms\tremaining: 34.2ms\n",
      "290:\tlearn: 0.2168366\ttotal: 997ms\tremaining: 30.8ms\n",
      "291:\tlearn: 0.2168235\ttotal: 1s\tremaining: 27.5ms\n",
      "292:\tlearn: 0.2168064\ttotal: 1.01s\tremaining: 24.1ms\n",
      "293:\tlearn: 0.2167995\ttotal: 1.01s\tremaining: 20.7ms\n",
      "294:\tlearn: 0.2167930\ttotal: 1.02s\tremaining: 17.2ms\n",
      "295:\tlearn: 0.2167828\ttotal: 1.02s\tremaining: 13.8ms\n",
      "296:\tlearn: 0.2167755\ttotal: 1.02s\tremaining: 10.3ms\n",
      "297:\tlearn: 0.2167657\ttotal: 1.03s\tremaining: 6.89ms\n",
      "298:\tlearn: 0.2167576\ttotal: 1.03s\tremaining: 3.44ms\n",
      "299:\tlearn: 0.2167409\ttotal: 1.03s\tremaining: 0us\n"
     ]
    },
    {
     "data": {
      "text/plain": [
       "<catboost.core.CatBoostRegressor at 0x12649e350>"
      ]
     },
     "execution_count": 32,
     "metadata": {},
     "output_type": "execute_result"
    }
   ],
   "source": [
    "# fitting the model on x_train and y_train\n",
    "cbr.fit(x_train, y_train)"
   ]
  },
  {
   "cell_type": "code",
   "execution_count": 33,
   "metadata": {},
   "outputs": [],
   "source": [
    "# making prediction on validation set\n",
    "prediction= cbr.predict(x_val)"
   ]
  },
  {
   "cell_type": "code",
   "execution_count": 34,
   "metadata": {},
   "outputs": [
    {
     "data": {
      "text/plain": [
       "0.1361584371068718"
      ]
     },
     "execution_count": 34,
     "metadata": {},
     "output_type": "execute_result"
    }
   ],
   "source": [
    "# calculating rmse of the predicted values\n",
    "rmse(y_val,prediction)"
   ]
  },
  {
   "cell_type": "code",
   "execution_count": 35,
   "metadata": {},
   "outputs": [],
   "source": [
    "# applying the better model on testing data \n",
    "final_prediction= cbr.predict(test)"
   ]
  },
  {
   "cell_type": "code",
   "execution_count": 36,
   "metadata": {},
   "outputs": [
    {
     "data": {
      "text/plain": [
       "(34224,)"
      ]
     },
     "execution_count": 36,
     "metadata": {},
     "output_type": "execute_result"
    }
   ],
   "source": [
    "# checking the shape of final prediction\n",
    "final_prediction.shape"
   ]
  },
  {
   "cell_type": "code",
   "execution_count": 37,
   "metadata": {},
   "outputs": [],
   "source": [
    "submission= pd.DataFrame()"
   ]
  },
  {
   "cell_type": "code",
   "execution_count": 38,
   "metadata": {},
   "outputs": [],
   "source": [
    "# creating a id column\n",
    "submission['id'] = test['id']"
   ]
  },
  {
   "cell_type": "code",
   "execution_count": 39,
   "metadata": {},
   "outputs": [],
   "source": [
    "# creating a target column and saving the predictions in it\n",
    "submission['target'] = final_prediction"
   ]
  },
  {
   "cell_type": "code",
   "execution_count": 43,
   "metadata": {},
   "outputs": [],
   "source": [
    "submission.to_csv('submissions.csv', header=True, index=False)"
   ]
  },
  {
   "cell_type": "code",
   "execution_count": 44,
   "metadata": {},
   "outputs": [],
   "source": [
    "sub= pd.read_csv('submissions.csv')"
   ]
  },
  {
   "cell_type": "code",
   "execution_count": 45,
   "metadata": {},
   "outputs": [
    {
     "data": {
      "text/html": [
       "<div>\n",
       "<style scoped>\n",
       "    .dataframe tbody tr th:only-of-type {\n",
       "        vertical-align: middle;\n",
       "    }\n",
       "\n",
       "    .dataframe tbody tr th {\n",
       "        vertical-align: top;\n",
       "    }\n",
       "\n",
       "    .dataframe thead th {\n",
       "        text-align: right;\n",
       "    }\n",
       "</style>\n",
       "<table border=\"1\" class=\"dataframe\">\n",
       "  <thead>\n",
       "    <tr style=\"text-align: right;\">\n",
       "      <th></th>\n",
       "      <th>id</th>\n",
       "      <th>target</th>\n",
       "    </tr>\n",
       "  </thead>\n",
       "  <tbody>\n",
       "    <tr>\n",
       "      <th>0</th>\n",
       "      <td>649</td>\n",
       "      <td>0.993492</td>\n",
       "    </tr>\n",
       "    <tr>\n",
       "      <th>1</th>\n",
       "      <td>81136</td>\n",
       "      <td>0.989060</td>\n",
       "    </tr>\n",
       "    <tr>\n",
       "      <th>2</th>\n",
       "      <td>70762</td>\n",
       "      <td>0.817351</td>\n",
       "    </tr>\n",
       "    <tr>\n",
       "      <th>3</th>\n",
       "      <td>53935</td>\n",
       "      <td>0.980965</td>\n",
       "    </tr>\n",
       "    <tr>\n",
       "      <th>4</th>\n",
       "      <td>15476</td>\n",
       "      <td>0.949232</td>\n",
       "    </tr>\n",
       "  </tbody>\n",
       "</table>\n",
       "</div>"
      ],
      "text/plain": [
       "      id    target\n",
       "0    649  0.993492\n",
       "1  81136  0.989060\n",
       "2  70762  0.817351\n",
       "3  53935  0.980965\n",
       "4  15476  0.949232"
      ]
     },
     "execution_count": 45,
     "metadata": {},
     "output_type": "execute_result"
    }
   ],
   "source": [
    "sub.head()"
   ]
  }
 ],
 "metadata": {
  "kernelspec": {
   "display_name": "Python 3",
   "language": "python",
   "name": "python3"
  },
  "language_info": {
   "codemirror_mode": {
    "name": "ipython",
    "version": 3
   },
   "file_extension": ".py",
   "mimetype": "text/x-python",
   "name": "python",
   "nbconvert_exporter": "python",
   "pygments_lexer": "ipython3",
   "version": "3.7.7"
  }
 },
 "nbformat": 4,
 "nbformat_minor": 2
}
